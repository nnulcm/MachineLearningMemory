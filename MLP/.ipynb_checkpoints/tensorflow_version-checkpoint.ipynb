{
 "cells": [
  {
   "cell_type": "markdown",
   "metadata": {},
   "source": [
    "# Multilayer Perceptron in Tensorflow\n",
    "\n",
    "### author: qhduan@memect.co"
   ]
  },
  {
   "cell_type": "code",
   "execution_count": 1,
   "metadata": {
    "collapsed": true
   },
   "outputs": [],
   "source": [
    "# 图表库\n",
    "%matplotlib inline\n",
    "import matplotlib.pyplot as plt\n",
    "# 深度学习\n",
    "import tensorflow as tf\n",
    "# 矩阵\n",
    "import numpy as np\n",
    "# sklearn的各种辅助小工具\n",
    "from sklearn.datasets import load_boston\n",
    "from sklearn.model_selection import train_test_split\n",
    "from sklearn.metrics import mean_squared_error\n",
    "from sklearn.preprocessing import Normalizer"
   ]
  },
  {
   "cell_type": "code",
   "execution_count": 2,
   "metadata": {
    "collapsed": true
   },
   "outputs": [],
   "source": [
    "# 设置随机种子，这样每次得到的随机数结果都一样了\n",
    "tf.set_random_seed(0)"
   ]
  },
  {
   "cell_type": "code",
   "execution_count": 3,
   "metadata": {
    "collapsed": true
   },
   "outputs": [],
   "source": [
    "# 读取数据集\n",
    "X, y = load_boston(True)"
   ]
  },
  {
   "cell_type": "code",
   "execution_count": 4,
   "metadata": {
    "collapsed": true
   },
   "outputs": [],
   "source": [
    "# 把目标变量改变形状，相当于把一个一维向量转化为一个1xn维矩阵（当然还是向量）\n",
    "y = y.reshape([len(y), 1])"
   ]
  },
  {
   "cell_type": "code",
   "execution_count": 5,
   "metadata": {
    "collapsed": true
   },
   "outputs": [],
   "source": [
    "# 分割测试集与训练集\n",
    "X_train, X_test, y_train, y_test = train_test_split(\n",
    "    X, y, test_size=0.2, random_state=0)"
   ]
  },
  {
   "cell_type": "code",
   "execution_count": 6,
   "metadata": {
    "collapsed": true
   },
   "outputs": [],
   "source": [
    "# 计算训练集的平均值和标准差\n",
    "# 很必要，否则可能就无法拟合（当然也许可以修改参数初始化，减小学习率等方法解决）\n",
    "mu = np.mean(X_train, axis=0)\n",
    "sigma = np.std(X_train, axis=0)\n",
    "# 把训练集标准化\n",
    "X_train = (X_train - mu) / sigma"
   ]
  },
  {
   "cell_type": "code",
   "execution_count": 7,
   "metadata": {
    "collapsed": true
   },
   "outputs": [],
   "source": [
    "# 用训练集的参数标准化测试集（尽量不看测试集数据）\n",
    "X_test = (X_test - mu) / sigma"
   ]
  },
  {
   "cell_type": "code",
   "execution_count": 8,
   "metadata": {
    "collapsed": false
   },
   "outputs": [
    {
     "name": "stdout",
     "output_type": "stream",
     "text": [
      "(404, 13) (102, 13) (404, 1) (102, 1)\n"
     ]
    }
   ],
   "source": [
    "# 训练集有404条数据，每条数据由13个变量组成，目标变量是一维的\n",
    "print(X_train.shape, X_test.shape, y_train.shape, y_test.shape)"
   ]
  },
  {
   "cell_type": "code",
   "execution_count": 9,
   "metadata": {
    "collapsed": true
   },
   "outputs": [],
   "source": [
    "# 输入层大小（变量数）\n",
    "input_size = 13\n",
    "# 输出层大小（变量数）\n",
    "target_size = 1\n",
    "# 隐藏层大小\n",
    "hidden_size = 32"
   ]
  },
  {
   "cell_type": "code",
   "execution_count": 10,
   "metadata": {
    "collapsed": true
   },
   "outputs": [],
   "source": [
    "# 训练集input的占位\n",
    "X = tf.placeholder(tf.float32, [None, input_size], name='X')\n",
    "# 训练集target的占位\n",
    "y = tf.placeholder(tf.float32, [None, target_size], name='y')\n",
    "\n",
    "# 要训练的参数\n",
    "W_1 = tf.Variable(tf.random_normal([input_size, hidden_size]), name='weight_1')\n",
    "b_1 = tf.Variable(tf.random_normal([hidden_size]), name='bias_1')\n",
    "W_2 = tf.Variable(tf.random_normal([hidden_size, target_size]), name='weight_2')\n",
    "b_2 = tf.Variable(tf.random_normal([target_size]), name='bias_2')"
   ]
  },
  {
   "cell_type": "markdown",
   "metadata": {},
   "source": [
    "# Multilayer Perceptron\n",
    "\n",
    "神经网络有很多名字～～最早有了线性Perceptron，解决不了XOR问题，然后发明了Multilayer Perceptron可以解决这个问题，后来又发明了Backpropagation算法可以更好的计算神经网络……然后到20十几90年代，它更为人熟知的名字可能是Artificial Nerual Network，大概觉得Perceptron这个名字不够高大上（不好骗钱？）。后来大家习惯把Artificial去掉……不知道理由。\n",
    "\n",
    "一个简单的多层感知机（神经网络）有两层（算输入层的话有三层），有一个中间层，激活函数一般用sigmoid或者tanh\n",
    "\n",
    "下面公式写法参考[UFLDL](http://ufldl.stanford.edu/wiki/index.php/UFLDL_Tutorial)\n",
    "\n",
    "$z_{1} = XW_{1} + b_{1}$\n",
    "\n",
    "$a_{1} = sigmoid(z_{1})$\n",
    "\n",
    "$z_{2} = a_{1}W_{2} + b_{2}$\n",
    "\n",
    "$a_{2} = sigmoid(z_{2})$ 实际代码我在这一层省略了sigmoid\n",
    "\n",
    "$\\hat{y} = a_{2}$\n",
    "\n",
    "损失函数是：\n",
    "\n",
    "$cost = \\frac{1}{2}\\sum({\\hat{y} - y)^{2}}$"
   ]
  },
  {
   "cell_type": "code",
   "execution_count": 11,
   "metadata": {
    "collapsed": true
   },
   "outputs": [],
   "source": [
    "z_1 = tf.add(tf.matmul(X, W_1), b_1)"
   ]
  },
  {
   "cell_type": "code",
   "execution_count": 13,
   "metadata": {
    "collapsed": false
   },
   "outputs": [],
   "source": [
    "a_1 = tf.sigmoid(z_1)"
   ]
  },
  {
   "cell_type": "code",
   "execution_count": 14,
   "metadata": {
    "collapsed": true
   },
   "outputs": [],
   "source": [
    "z_2 = tf.add(tf.matmul(a_1, W_2), b_2)"
   ]
  },
  {
   "cell_type": "code",
   "execution_count": 15,
   "metadata": {
    "collapsed": true
   },
   "outputs": [],
   "source": [
    "a_2 = z_2"
   ]
  },
  {
   "cell_type": "code",
   "execution_count": 16,
   "metadata": {
    "collapsed": true
   },
   "outputs": [],
   "source": [
    "pred = a_2"
   ]
  },
  {
   "cell_type": "code",
   "execution_count": 17,
   "metadata": {
    "collapsed": true
   },
   "outputs": [],
   "source": [
    "# 损失函数\n",
    "cost = tf.reduce_mean(tf.square(pred - y))"
   ]
  },
  {
   "cell_type": "code",
   "execution_count": 18,
   "metadata": {
    "collapsed": true
   },
   "outputs": [],
   "source": [
    "# 学习率，有时候也写作 alpha\n",
    "learning_rate = 0.01\n",
    "# 迭代次数\n",
    "n_epoch = 400"
   ]
  },
  {
   "cell_type": "code",
   "execution_count": 19,
   "metadata": {
    "collapsed": true
   },
   "outputs": [],
   "source": [
    "# 定义一个tensorflow的优化算子（这应该叫啥？）\n",
    "opt = tf.train.GradientDescentOptimizer(learning_rate).minimize(cost)"
   ]
  },
  {
   "cell_type": "code",
   "execution_count": 20,
   "metadata": {
    "collapsed": true
   },
   "outputs": [],
   "source": [
    "# 初始化所有变量\n",
    "init = tf.initialize_all_variables()"
   ]
  },
  {
   "cell_type": "code",
   "execution_count": 21,
   "metadata": {
    "collapsed": true
   },
   "outputs": [],
   "source": [
    "# disable GPU 关闭GPU支持，用不到……显存读写速度比内存慢得多，小数据反而慢\n",
    "config = tf.ConfigProto(\n",
    "    device_count = {'GPU': 0}\n",
    ")"
   ]
  },
  {
   "cell_type": "code",
   "execution_count": 22,
   "metadata": {
    "collapsed": false
   },
   "outputs": [
    {
     "name": "stdout",
     "output_type": "stream",
     "text": [
      "Epoch: 0, cost: 368.9953918457031\n",
      "Epoch: 50, cost: 29.39244842529297\n",
      "Epoch: 100, cost: 22.245052337646484\n",
      "Epoch: 150, cost: 19.144710540771484\n",
      "Epoch: 200, cost: 17.008602142333984\n",
      "Epoch: 250, cost: 15.318697929382324\n",
      "Epoch: 300, cost: 13.999876976013184\n",
      "Epoch: 350, cost: 12.942314147949219\n",
      "Epoch: 400, cost: 12.073736190795898\n"
     ]
    }
   ],
   "source": [
    "# 保存每次迭代的损失\n",
    "costs = []\n",
    "# 开一个tensorflow的session\n",
    "with tf.Session(config=config) as sess:\n",
    "    sess.run(init)\n",
    "    # 开始迭代\n",
    "    for epoch in range(n_epoch + 1):\n",
    "        # feed_dict是我们要喂给tensorflow的数据，这条是训练梯度下降，应用opt算子\n",
    "        sess.run(opt, feed_dict={X: X_train, y: y_train})\n",
    "        # 这条是计算损失函数，应用cost算子\n",
    "        c = sess.run(cost, feed_dict={X: X_train, y: y_train})\n",
    "        # 保存历史损失\n",
    "        costs.append(c)\n",
    "        if epoch % 50 == 0:\n",
    "            print('Epoch: {}, cost: {}'.format(epoch, c))\n",
    "    # 计算训练集结果和测试集结果\n",
    "    pred_train = sess.run(pred, feed_dict={X: X_train, y: y_train})\n",
    "    pred_test = sess.run(pred, feed_dict={X: X_test, y: y_test})"
   ]
  },
  {
   "cell_type": "code",
   "execution_count": 23,
   "metadata": {
    "collapsed": false
   },
   "outputs": [
    {
     "name": "stdout",
     "output_type": "stream",
     "text": [
      "mse of train: 12.073737123\n"
     ]
    }
   ],
   "source": [
    "# 训练集 Mean Squared Error\n",
    "print('mse of train:', mean_squared_error(y_train, pred_train))"
   ]
  },
  {
   "cell_type": "code",
   "execution_count": 24,
   "metadata": {
    "collapsed": false
   },
   "outputs": [
    {
     "name": "stdout",
     "output_type": "stream",
     "text": [
      "mse of test: 27.97115725\n"
     ]
    }
   ],
   "source": [
    "# 测试集平均平方错误\n",
    "print('mse of test:', mean_squared_error(y_test, pred_test))"
   ]
  },
  {
   "cell_type": "code",
   "execution_count": 25,
   "metadata": {
    "collapsed": false
   },
   "outputs": [
    {
     "data": {
      "text/plain": [
       "[<matplotlib.lines.Line2D at 0x7fb5a03be9e8>]"
      ]
     },
     "execution_count": 25,
     "metadata": {},
     "output_type": "execute_result"
    },
    {
     "data": {
      "image/png": "[encoded data removed]",
      "text/plain": [
       "<matplotlib.figure.Figure at 0x7fb5a1c58048>"
      ]
     },
     "metadata": {},
     "output_type": "display_data"
    }
   ],
   "source": [
    "# 这张图是损失函数随着训练轮次增加而下降的图\n",
    "plt.plot(list(range(len(costs))), costs)"
   ]
  },
  {
   "cell_type": "code",
   "execution_count": null,
   "metadata": {
    "collapsed": true
   },
   "outputs": [],
   "source": []
  }
 ],
 "metadata": {
  "kernelspec": {
   "display_name": "Python 3",
   "language": "python",
   "name": "python3"
  },
  "language_info": {
   "codemirror_mode": {
    "name": "ipython",
    "version": 3
   },
   "file_extension": ".py",
   "mimetype": "text/x-python",
   "name": "python",
   "nbconvert_exporter": "python",
   "pygments_lexer": "ipython3",
   "version": "3.5.1+"
  }
 },
 "nbformat": 4,
 "nbformat_minor": 0
}
