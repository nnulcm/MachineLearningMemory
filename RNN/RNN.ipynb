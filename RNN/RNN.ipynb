{
 "cells": [
  {
   "cell_type": "code",
   "execution_count": 1,
   "metadata": {
    "collapsed": true
   },
   "outputs": [],
   "source": [
    "# 图表库\n",
    "%matplotlib inline\n",
    "import matplotlib.pyplot as plt\n",
    "# 深度学习\n",
    "import tensorflow as tf\n",
    "# 矩阵\n",
    "import numpy as np\n",
    "# sklearn的各种辅助小工具\n",
    "from sklearn.datasets import load_boston\n",
    "from sklearn.model_selection import train_test_split\n",
    "from sklearn.metrics import mean_squared_error\n",
    "from sklearn.preprocessing import Normalizer"
   ]
  },
  {
   "cell_type": "code",
   "execution_count": 2,
   "metadata": {
    "collapsed": true
   },
   "outputs": [],
   "source": [
    "# 设置随机种子，这样每次得到的随机数结果都一样了\n",
    "tf.set_random_seed(0)"
   ]
  },
  {
   "cell_type": "code",
   "execution_count": 3,
   "metadata": {
    "collapsed": true
   },
   "outputs": [],
   "source": [
    "# 读取数据集\n",
    "X, y = load_boston(True)"
   ]
  },
  {
   "cell_type": "code",
   "execution_count": 4,
   "metadata": {
    "collapsed": true
   },
   "outputs": [],
   "source": [
    "# 把目标变量改变形状，相当于把一个一维向量转化为一个1xn维矩阵（当然还是向量）\n",
    "y = y.reshape([len(y), 1])"
   ]
  },
  {
   "cell_type": "code",
   "execution_count": 5,
   "metadata": {
    "collapsed": true
   },
   "outputs": [],
   "source": [
    "# 分割测试集与训练集\n",
    "X_train, X_test, y_train, y_test = train_test_split(\n",
    "    X, y, test_size=0.2, random_state=0)"
   ]
  },
  {
   "cell_type": "code",
   "execution_count": 6,
   "metadata": {
    "collapsed": true
   },
   "outputs": [],
   "source": [
    "# 计算训练集的平均值和标准差\n",
    "# 很必要，否则可能就无法拟合（当然也许可以修改参数初始化，减小学习率等方法解决）\n",
    "mu = np.mean(X_train, axis=0)\n",
    "sigma = np.std(X_train, axis=0)\n",
    "# 把训练集标准化\n",
    "X_train = (X_train - mu) / sigma"
   ]
  },
  {
   "cell_type": "code",
   "execution_count": 7,
   "metadata": {
    "collapsed": true
   },
   "outputs": [],
   "source": [
    "# 用训练集的参数标准化测试集（尽量不看测试集数据）\n",
    "X_test = (X_test - mu) / sigma"
   ]
  },
  {
   "cell_type": "code",
   "execution_count": 8,
   "metadata": {
    "collapsed": false
   },
   "outputs": [
    {
     "name": "stdout",
     "output_type": "stream",
     "text": [
      "(404, 13) (102, 13) (404, 1) (102, 1)\n"
     ]
    }
   ],
   "source": [
    "# 训练集有404条数据，每条数据由13个变量组成，目标变量是一维的\n",
    "print(X_train.shape, X_test.shape, y_train.shape, y_test.shape)"
   ]
  },
  {
   "cell_type": "code",
   "execution_count": 9,
   "metadata": {
    "collapsed": true
   },
   "outputs": [],
   "source": [
    "# 训练集input的占位\n",
    "X = tf.placeholder(tf.float32, [None, 13], name='X')\n",
    "# 训练集target的占位\n",
    "y = tf.placeholder(tf.float32, [None, 1], name='y')"
   ]
  },
  {
   "cell_type": "code",
   "execution_count": 10,
   "metadata": {
    "collapsed": true
   },
   "outputs": [],
   "source": [
    "# 输入层大小（变量数）\n",
    "input_size = 13\n",
    "# 输出层大小（变量数）\n",
    "target_size = 1\n",
    "# 隐藏层大小\n",
    "hidden_size = 32"
   ]
  },
  {
   "cell_type": "markdown",
   "metadata": {},
   "source": [
    "# RNN\n",
    "\n",
    "这算是一种 Elman Network 参考[wiki](https://en.wikipedia.org/wiki/Recurrent_neural_network)\n",
    "\n",
    "相当于下面的公式（改编自wiki）\n",
    "\n",
    "$h_{t-1}$就是上一轮的隐藏状态$h$，对于第一轮来说就是全零\n",
    "\n",
    "$h_{t} = tanh(h_{t-1}W_{h} + b_{h} + XW_{x} + b_{x})$\n",
    "\n",
    "$y_{t} = h_{t}W_{y} + b_{y}$\n"
   ]
  },
  {
   "cell_type": "code",
   "execution_count": 11,
   "metadata": {
    "collapsed": true
   },
   "outputs": [],
   "source": [
    "# 与 X 相关的参数\n",
    "Wx = tf.Variable(tf.random_normal([input_size, hidden_size]), name='weight_x')\n",
    "bx = tf.Variable(tf.zeros([hidden_size]), name='bias_x')\n",
    "# 与上一轮状态 h 相关的参数\n",
    "Wh = tf.Variable(tf.random_normal([hidden_size, hidden_size]), name='weight_h')\n",
    "bh = tf.Variable(tf.zeros([hidden_size]), name='bias_h')\n",
    "# 与输出 y 相关的参数\n",
    "Wy = tf.Variable(tf.random_normal([hidden_size, target_size]), name='weight_y')\n",
    "by = tf.Variable(tf.zeros([target_size]), name='bias_y')\n",
    "# 上一轮状态 h\n",
    "h = tf.Variable(tf.zeros([target_size, hidden_size]), name='hidden')"
   ]
  },
  {
   "cell_type": "code",
   "execution_count": 12,
   "metadata": {
    "collapsed": false
   },
   "outputs": [],
   "source": [
    "h_ = tf.tanh(tf.add(\n",
    "    tf.add(tf.matmul(h, Wh, name='mul_h_Wh'), bh, name='add_mul_h_Wh_bh'),\n",
    "    tf.add(tf.matmul(X, Wx, name='mul_X_Wx'), bx, name='add_mul_X_Wx_bx'),\n",
    "    name='add_h_x'\n",
    "), name='tanh_h')"
   ]
  },
  {
   "cell_type": "code",
   "execution_count": 13,
   "metadata": {
    "collapsed": true
   },
   "outputs": [],
   "source": [
    "pred = tf.add(\n",
    "    tf.matmul(h_, Wy, name='mul_h_Wy'),\n",
    "    by,\n",
    "    name='add_mul_h_Wy'\n",
    ")"
   ]
  },
  {
   "cell_type": "code",
   "execution_count": 14,
   "metadata": {
    "collapsed": true
   },
   "outputs": [],
   "source": [
    "# 损失函数\n",
    "cost = tf.reduce_mean(tf.square(tf.sub(pred, y, name='sub_pred_y'), name='square'), name='reduce_mean')"
   ]
  },
  {
   "cell_type": "code",
   "execution_count": 15,
   "metadata": {
    "collapsed": true
   },
   "outputs": [],
   "source": [
    "# 学习率，有时候也写作 alpha\n",
    "learning_rate = 0.01\n",
    "# 迭代次数\n",
    "n_epoch = 400"
   ]
  },
  {
   "cell_type": "code",
   "execution_count": 16,
   "metadata": {
    "collapsed": true
   },
   "outputs": [],
   "source": [
    "# 定义一个tensorflow的优化算子（这应该叫啥？）\n",
    "opt = tf.train.GradientDescentOptimizer(learning_rate).minimize(cost)"
   ]
  },
  {
   "cell_type": "code",
   "execution_count": 17,
   "metadata": {
    "collapsed": true
   },
   "outputs": [],
   "source": [
    "# 初始化所有变量\n",
    "init = tf.initialize_all_variables()"
   ]
  },
  {
   "cell_type": "code",
   "execution_count": 18,
   "metadata": {
    "collapsed": true
   },
   "outputs": [],
   "source": [
    "# disable GPU 关闭GPU支持，用不到……显存读写速度比内存慢得多，小数据反而慢\n",
    "config = tf.ConfigProto(\n",
    "    device_count = {'GPU': 0}\n",
    ")"
   ]
  },
  {
   "cell_type": "code",
   "execution_count": 19,
   "metadata": {
    "collapsed": false,
    "scrolled": false
   },
   "outputs": [
    {
     "name": "stdout",
     "output_type": "stream",
     "text": [
      "Epoch: 0, cost: 157.44117736816406\n"
     ]
    }
   ],
   "source": [
    "# 保存每次迭代的损失\n",
    "costs = []\n",
    "# 开一个tensorflow的session\n",
    "with tf.Session(config=config) as sess:\n",
    "    sess.run(init)\n",
    "    # 开始迭代\n",
    "    for epoch in range(n_epoch + 1):\n",
    "        # feed_dict是我们要喂给tensorflow的数据，这条是训练梯度下降，应用opt算子\n",
    "        sess.run(opt, feed_dict={X: X_train, y: y_train})\n",
    "        # 这条是计算损失函数，应用cost算子\n",
    "        c = sess.run(cost, feed_dict={X: X_train, y: y_train})\n",
    "        # 保存历史损失\n",
    "        costs.append(c)\n",
    "        if epoch % 500 == 0:\n",
    "            print('Epoch: {}, cost: {}'.format(epoch, c))\n",
    "    # 计算训练集结果和测试集结果\n",
    "    pred_train = sess.run(pred, feed_dict={X: X_train, y: y_train})\n",
    "    pred_test = sess.run(pred, feed_dict={X: X_test, y: y_test})"
   ]
  },
  {
   "cell_type": "code",
   "execution_count": 20,
   "metadata": {
    "collapsed": false
   },
   "outputs": [
    {
     "name": "stdout",
     "output_type": "stream",
     "text": [
      "mse of train: 6.98397517045\n"
     ]
    }
   ],
   "source": [
    "# 训练集 Mean Squared Error\n",
    "print('mse of train:', mean_squared_error(y_train, pred_train))"
   ]
  },
  {
   "cell_type": "code",
   "execution_count": 21,
   "metadata": {
    "collapsed": false
   },
   "outputs": [
    {
     "name": "stdout",
     "output_type": "stream",
     "text": [
      "mse of test: 23.8843873354\n"
     ]
    }
   ],
   "source": [
    "# 测试集平均平方错误\n",
    "print('mse of test:', mean_squared_error(y_test, pred_test))"
   ]
  },
  {
   "cell_type": "code",
   "execution_count": 22,
   "metadata": {
    "collapsed": false
   },
   "outputs": [
    {
     "data": {
      "text/plain": [
       "[<matplotlib.lines.Line2D at 0x7f69c838fa58>]"
      ]
     },
     "execution_count": 22,
     "metadata": {},
     "output_type": "execute_result"
    },
    {
     "data": {
      "image/png": "[encoded data removed]",
      "text/plain": [
       "<matplotlib.figure.Figure at 0x7f6a081b9550>"
      ]
     },
     "metadata": {},
     "output_type": "display_data"
    }
   ],
   "source": [
    "# 这张图是损失函数随着训练轮次增加而下降的图\n",
    "plt.plot(list(range(len(costs))), costs)"
   ]
  },
  {
   "cell_type": "code",
   "execution_count": null,
   "metadata": {
    "collapsed": true
   },
   "outputs": [],
   "source": []
  }
 ],
 "metadata": {
  "kernelspec": {
   "display_name": "Python 3",
   "language": "python",
   "name": "python3"
  },
  "language_info": {
   "codemirror_mode": {
    "name": "ipython",
    "version": 3
   },
   "file_extension": ".py",
   "mimetype": "text/x-python",
   "name": "python",
   "nbconvert_exporter": "python",
   "pygments_lexer": "ipython3",
   "version": "3.5.1+"
  }
 },
 "nbformat": 4,
 "nbformat_minor": 0
}
