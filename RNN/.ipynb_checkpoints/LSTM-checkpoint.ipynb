{
 "cells": [
  {
   "cell_type": "code",
   "execution_count": 1,
   "metadata": {
    "collapsed": true
   },
   "outputs": [],
   "source": [
    "# 图表库\n",
    "%matplotlib inline\n",
    "import matplotlib.pyplot as plt\n",
    "# 深度学习\n",
    "import tensorflow as tf\n",
    "# 矩阵\n",
    "import numpy as np\n",
    "# sklearn的各种辅助小工具\n",
    "from sklearn.datasets import load_boston\n",
    "from sklearn.model_selection import train_test_split\n",
    "from sklearn.metrics import mean_squared_error"
   ]
  },
  {
   "cell_type": "code",
   "execution_count": 2,
   "metadata": {
    "collapsed": true
   },
   "outputs": [],
   "source": [
    "# 设置随机种子，这样每次得到的随机数结果都一样了\n",
    "tf.set_random_seed(0)"
   ]
  },
  {
   "cell_type": "code",
   "execution_count": 3,
   "metadata": {
    "collapsed": true
   },
   "outputs": [],
   "source": [
    "# 读取数据集\n",
    "X, y = load_boston(True)"
   ]
  },
  {
   "cell_type": "code",
   "execution_count": 4,
   "metadata": {
    "collapsed": true
   },
   "outputs": [],
   "source": [
    "# 把目标变量改变形状，相当于把一个一维向量转化为一个1xn维矩阵（当然还是向量）\n",
    "y = y.reshape([len(y), 1])"
   ]
  },
  {
   "cell_type": "code",
   "execution_count": 5,
   "metadata": {
    "collapsed": true
   },
   "outputs": [],
   "source": [
    "# 分割测试集与训练集\n",
    "X_train, X_test, y_train, y_test = train_test_split(\n",
    "    X, y, test_size=0.2, random_state=0)"
   ]
  },
  {
   "cell_type": "code",
   "execution_count": 6,
   "metadata": {
    "collapsed": true
   },
   "outputs": [],
   "source": [
    "# 计算训练集的平均值和标准差\n",
    "# 很必要，否则可能就无法拟合（当然也许可以修改参数初始化，减小学习率等方法解决）\n",
    "mu = np.mean(X_train, axis=0)\n",
    "sigma = np.std(X_train, axis=0)\n",
    "# 把训练集标准化\n",
    "X_train = (X_train - mu) / sigma"
   ]
  },
  {
   "cell_type": "code",
   "execution_count": 7,
   "metadata": {
    "collapsed": true
   },
   "outputs": [],
   "source": [
    "# 用训练集的参数标准化测试集（尽量不看测试集数据）\n",
    "X_test = (X_test - mu) / sigma"
   ]
  },
  {
   "cell_type": "code",
   "execution_count": 8,
   "metadata": {
    "collapsed": false
   },
   "outputs": [
    {
     "name": "stdout",
     "output_type": "stream",
     "text": [
      "(404, 13) (102, 13) (404, 1) (102, 1)\n"
     ]
    }
   ],
   "source": [
    "# 训练集有404条数据，每条数据由13个变量组成，目标变量是一维的\n",
    "print(X_train.shape, X_test.shape, y_train.shape, y_test.shape)"
   ]
  },
  {
   "cell_type": "code",
   "execution_count": 9,
   "metadata": {
    "collapsed": true
   },
   "outputs": [],
   "source": [
    "# 输入层大小（变量数）\n",
    "input_size = 13\n",
    "# 输出层大小（变量数）\n",
    "target_size = 1\n",
    "# 隐藏层大小\n",
    "hidden_size = 32"
   ]
  },
  {
   "cell_type": "code",
   "execution_count": 10,
   "metadata": {
    "collapsed": true
   },
   "outputs": [],
   "source": [
    "# 训练集input的占位\n",
    "X = tf.placeholder(tf.float32, [None, input_size], name='X')\n",
    "# 训练集target的占位\n",
    "y = tf.placeholder(tf.float32, [None, target_size], name='y')"
   ]
  },
  {
   "cell_type": "markdown",
   "metadata": {},
   "source": [
    "# LSTM\n",
    "\n",
    "Tranditional LSTM 参考[wiki](https://en.wikipedia.org/wiki/Long_short-term_memory)\n",
    "\n",
    "相当于下面的公式（改编自wiki）\n",
    "\n",
    "$h_{t-1}$就是上一轮的输出，输出不是$y$了～～和简单RNN的符号有区别了～～\n",
    "\n",
    "$f_{t} = sigmoid(XW_{f} + U_{f}h_{t-1} + b_{f})$\n",
    "\n",
    "$i_{t} = sigmoid(XW_{i} + U_{i}h_{t-1} + b_{i})$\n",
    "\n",
    "$o_{t} = sigmoid(XW_{o} + U_{o}h_{t-1} + b_{o})$\n",
    "\n",
    "$c_{t} = f_{t} * c_{t-1} + i_{t} * tanh(XW_{c} + h_{t-1}U_{c} + b_{c})$\n",
    "\n",
    "$h_{t} = o_{t} * \\sigma_{h}(c_{t})$\n",
    "\n",
    "$*$号是element-wised乘法，就是一对一乘，不是矩阵乘法\n",
    "\n",
    "其他的乘法都是矩阵乘法，例如$XW_{o}$就是矩阵$X$乘矩阵$W_{o}$\n",
    "\n",
    "最后计算$h_{t}$的$\\sigma_{h}$可以是$tanh$，也可以省略（wiki中有提peephole LSTM paper suggests $\\sigma_{h}(x)=x$ ）"
   ]
  },
  {
   "cell_type": "code",
   "execution_count": 11,
   "metadata": {
    "collapsed": false
   },
   "outputs": [],
   "source": [
    "# 遗忘门，控制上一轮的内部状态 $c_{t-1}$ 是否该保留，相当于一个针对上轮状态的一个0～1的权值\n",
    "Wf = tf.Variable(tf.random_normal([input_size, target_size]), name='W_f')\n",
    "Uf = tf.Variable(tf.random_normal([target_size, target_size]), name='U_f')\n",
    "bf = tf.Variable(tf.zeros([target_size]), name='b_x')\n",
    "\n",
    "# 输入门，控制有多少输入应该留下来（输入是上次输出$h_{t-1}$和X，没有内部状态 c ）\n",
    "Wi = tf.Variable(tf.random_normal([input_size, target_size]), name='W_i')\n",
    "Ui = tf.Variable(tf.random_normal([target_size, target_size]), name='U_i')\n",
    "bi = tf.Variable(tf.zeros([target_size]), name='b_i')\n",
    "\n",
    "# 输出门，控制有哪些内容应该输出，相当于一个0~1的权值\n",
    "Wo = tf.Variable(tf.random_normal([input_size, target_size]), name='W_o')\n",
    "Uo = tf.Variable(tf.random_normal([target_size, target_size]), name='U_o')\n",
    "bo = tf.Variable(tf.zeros([target_size]), name='b_o')\n",
    "\n",
    "# 计算新一轮内部状态 $c_{t}$ 的参数\n",
    "Wc = tf.Variable(tf.random_normal([input_size, target_size]), name='W_c')\n",
    "Uc = tf.Variable(tf.random_normal([target_size, target_size]), name='U_c')\n",
    "bc = tf.Variable(tf.zeros([target_size]), name='b_c')\n",
    "\n",
    "# 内部状态\n",
    "c = tf.Variable(tf.zeros([target_size, target_size]), name='hidden_c')\n",
    "# 输出，h是输出\n",
    "h = tf.Variable(tf.zeros([1, target_size]), name='hidden_h')"
   ]
  },
  {
   "cell_type": "code",
   "execution_count": 12,
   "metadata": {
    "collapsed": false
   },
   "outputs": [],
   "source": [
    "f_ = tf.sigmoid(\n",
    "    tf.add(\n",
    "        tf.add(\n",
    "            tf.matmul(X, Wf, name='mul_X_Wf'),\n",
    "            tf.matmul(h, Uf, name='mul_h_Uf'),\n",
    "            name='f_add'\n",
    "        ),\n",
    "        bf,\n",
    "        name='f_add_b'\n",
    "    ),\n",
    "    name='f_sigmoid'\n",
    ")"
   ]
  },
  {
   "cell_type": "code",
   "execution_count": 13,
   "metadata": {
    "collapsed": true
   },
   "outputs": [],
   "source": [
    "i_ = tf.sigmoid(\n",
    "    tf.add(\n",
    "        tf.add(\n",
    "            tf.matmul(X, Wi, name='mul_X_Wi'),\n",
    "            tf.matmul(h, Ui, name='mul_X_Ui'),\n",
    "            name='i_add'\n",
    "        ),\n",
    "        bi,\n",
    "        name='i_add_b'\n",
    "    ),\n",
    "    name='i_sigmoid'\n",
    ")"
   ]
  },
  {
   "cell_type": "code",
   "execution_count": 14,
   "metadata": {
    "collapsed": false
   },
   "outputs": [],
   "source": [
    "o_ = tf.sigmoid(\n",
    "    tf.add(\n",
    "        tf.add(\n",
    "            tf.matmul(X, Wo, name='mul_X_Wo'),\n",
    "            tf.matmul(h, Uo, name='mul_X_Uo'),\n",
    "            name='o_add'\n",
    "        ),\n",
    "        bo,\n",
    "        name='o_add_b'\n",
    "    ),\n",
    "    name='o_sigmoid'\n",
    ")"
   ]
  },
  {
   "cell_type": "code",
   "execution_count": 15,
   "metadata": {
    "collapsed": true
   },
   "outputs": [],
   "source": [
    "c_ = tf.add(\n",
    "    tf.mul(\n",
    "        f_,\n",
    "        c,\n",
    "        name='mul_f_c'\n",
    "    ),\n",
    "    tf.mul(\n",
    "        i_,\n",
    "        tf.tanh(\n",
    "            tf.add(\n",
    "                tf.add(\n",
    "                    tf.matmul(X, Wc, name='mul_X_Wc'),\n",
    "                    tf.matmul(h, Uc, name='mul_h_Uc')\n",
    "                ),\n",
    "                bc,\n",
    "                name='c_add_b'\n",
    "            ),\n",
    "            name='c_tanh'\n",
    "        ),\n",
    "        name='mul_i_tanh'\n",
    "    ),\n",
    "    name='c_add'\n",
    ")"
   ]
  },
  {
   "cell_type": "code",
   "execution_count": 16,
   "metadata": {
    "collapsed": false
   },
   "outputs": [],
   "source": [
    "h_ = tf.mul(o_, c_, name='mul_o_c_')\n",
    "\n",
    "# Another try:\n",
    "# h_ = tf.mul(o_, tf.tanh(c_))"
   ]
  },
  {
   "cell_type": "code",
   "execution_count": 17,
   "metadata": {
    "collapsed": true
   },
   "outputs": [],
   "source": [
    "pred = h_"
   ]
  },
  {
   "cell_type": "code",
   "execution_count": 18,
   "metadata": {
    "collapsed": true
   },
   "outputs": [],
   "source": [
    "# 损失函数\n",
    "cost = tf.reduce_mean(\n",
    "    tf.square(\n",
    "        tf.sub(pred, y, name='sub_pred_y'),\n",
    "        name='square'\n",
    "    ),\n",
    "    name='reduce_mean'\n",
    ")"
   ]
  },
  {
   "cell_type": "code",
   "execution_count": 19,
   "metadata": {
    "collapsed": true
   },
   "outputs": [],
   "source": [
    "# 学习率，有时候也写作 alpha\n",
    "learning_rate = 0.01\n",
    "# 迭代次数\n",
    "n_epoch = 800"
   ]
  },
  {
   "cell_type": "code",
   "execution_count": 20,
   "metadata": {
    "collapsed": true
   },
   "outputs": [],
   "source": [
    "# 定义一个tensorflow的优化算子（这应该叫啥？）\n",
    "opt = tf.train.GradientDescentOptimizer(learning_rate).minimize(cost)"
   ]
  },
  {
   "cell_type": "code",
   "execution_count": 21,
   "metadata": {
    "collapsed": true
   },
   "outputs": [],
   "source": [
    "# 初始化所有变量\n",
    "init = tf.initialize_all_variables()"
   ]
  },
  {
   "cell_type": "code",
   "execution_count": 22,
   "metadata": {
    "collapsed": true
   },
   "outputs": [],
   "source": [
    "# disable GPU 关闭GPU支持，用不到……显存读写速度比内存慢得多，小数据反而慢\n",
    "config = tf.ConfigProto(\n",
    "    device_count = {'GPU': 0}\n",
    ")"
   ]
  },
  {
   "cell_type": "code",
   "execution_count": 23,
   "metadata": {
    "collapsed": false,
    "scrolled": false
   },
   "outputs": [
    {
     "name": "stdout",
     "output_type": "stream",
     "text": [
      "Epoch: 0, cost: 582.4356079101562\n",
      "Epoch: 50, cost: 163.14947509765625\n",
      "Epoch: 100, cost: 86.09244537353516\n",
      "Epoch: 150, cost: 62.94994354248047\n",
      "Epoch: 200, cost: 57.556671142578125\n",
      "Epoch: 250, cost: 51.101348876953125\n",
      "Epoch: 300, cost: 46.4376335144043\n",
      "Epoch: 350, cost: 43.7011833190918\n",
      "Epoch: 400, cost: 41.39855194091797\n",
      "Epoch: 450, cost: 39.55011749267578\n",
      "Epoch: 500, cost: 38.381805419921875\n",
      "Epoch: 550, cost: 37.645103454589844\n",
      "Epoch: 600, cost: 36.84686279296875\n",
      "Epoch: 650, cost: 35.81147384643555\n",
      "Epoch: 700, cost: 34.7761116027832\n",
      "Epoch: 750, cost: 33.80378723144531\n",
      "Epoch: 800, cost: 32.95622253417969\n"
     ]
    }
   ],
   "source": [
    "# 保存每次迭代的损失\n",
    "costs = []\n",
    "# 开一个tensorflow的session\n",
    "with tf.Session(config=config) as sess:\n",
    "    sess.run(init)\n",
    "    # 开始迭代\n",
    "    for epoch in range(n_epoch + 1):\n",
    "        # feed_dict是我们要喂给tensorflow的数据，这条是训练梯度下降，应用opt算子\n",
    "        sess.run(opt, feed_dict={X: X_train, y: y_train})\n",
    "        # 这条是计算损失函数，应用cost算子\n",
    "        c = sess.run(cost, feed_dict={X: X_train, y: y_train})\n",
    "        # 保存历史损失\n",
    "        costs.append(c)\n",
    "        if epoch % 50 == 0:\n",
    "            print('Epoch: {}, cost: {}'.format(epoch, c))\n",
    "    # 计算训练集结果和测试集结果\n",
    "    pred_train = sess.run(pred, feed_dict={X: X_train, y: y_train})\n",
    "    pred_test = sess.run(pred, feed_dict={X: X_test, y: y_test})"
   ]
  },
  {
   "cell_type": "code",
   "execution_count": 24,
   "metadata": {
    "collapsed": false
   },
   "outputs": [
    {
     "name": "stdout",
     "output_type": "stream",
     "text": [
      "mse of train: 32.9562261329\n"
     ]
    }
   ],
   "source": [
    "# 训练集 Mean Squared Error\n",
    "print('mse of train:', mean_squared_error(y_train, pred_train))"
   ]
  },
  {
   "cell_type": "code",
   "execution_count": 25,
   "metadata": {
    "collapsed": false
   },
   "outputs": [
    {
     "name": "stdout",
     "output_type": "stream",
     "text": [
      "mse of test: 40.774188325\n"
     ]
    }
   ],
   "source": [
    "# 测试集平均平方错误\n",
    "print('mse of test:', mean_squared_error(y_test, pred_test))"
   ]
  },
  {
   "cell_type": "code",
   "execution_count": 26,
   "metadata": {
    "collapsed": false
   },
   "outputs": [
    {
     "data": {
      "text/plain": [
       "[<matplotlib.lines.Line2D at 0x7fa6ac10aeb8>]"
      ]
     },
     "execution_count": 26,
     "metadata": {},
     "output_type": "execute_result"
    },
    {
     "data": {
      "image/png": "[encoded data removed]",
      "text/plain": [
       "<matplotlib.figure.Figure at 0x7fa6b11d9e80>"
      ]
     },
     "metadata": {},
     "output_type": "display_data"
    }
   ],
   "source": [
    "# 这张图是损失函数随着训练轮次增加而下降的图\n",
    "plt.plot(list(range(len(costs))), costs)"
   ]
  },
  {
   "cell_type": "code",
   "execution_count": null,
   "metadata": {
    "collapsed": true
   },
   "outputs": [],
   "source": []
  }
 ],
 "metadata": {
  "kernelspec": {
   "display_name": "Python 3",
   "language": "python",
   "name": "python3"
  },
  "language_info": {
   "codemirror_mode": {
    "name": "ipython",
    "version": 3
   },
   "file_extension": ".py",
   "mimetype": "text/x-python",
   "name": "python",
   "nbconvert_exporter": "python",
   "pygments_lexer": "ipython3",
   "version": "3.5.1+"
  }
 },
 "nbformat": 4,
 "nbformat_minor": 0
}
