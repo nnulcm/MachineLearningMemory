{
 "cells": [
  {
   "cell_type": "code",
   "execution_count": 1,
   "metadata": {
    "collapsed": true
   },
   "outputs": [],
   "source": [
    "# 图表库\n",
    "%matplotlib inline\n",
    "import matplotlib.pyplot as plt\n",
    "# 深度学习\n",
    "import tensorflow as tf\n",
    "# 矩阵\n",
    "import numpy as np\n",
    "# sklearn的各种辅助小工具\n",
    "from sklearn.datasets import load_iris\n",
    "from sklearn.model_selection import train_test_split\n",
    "from sklearn.metrics import accuracy_score\n",
    "from sklearn.preprocessing import OneHotEncoder"
   ]
  },
  {
   "cell_type": "code",
   "execution_count": 2,
   "metadata": {
    "collapsed": false
   },
   "outputs": [],
   "source": [
    "# 设置随机种子，这样每次得到的随机数结果都一样了\n",
    "tf.set_random_seed(0)"
   ]
  },
  {
   "cell_type": "code",
   "execution_count": 3,
   "metadata": {
    "collapsed": true
   },
   "outputs": [],
   "source": [
    "# 读取数据集\n",
    "X, y = load_iris(True)"
   ]
  },
  {
   "cell_type": "code",
   "execution_count": 4,
   "metadata": {
    "collapsed": true
   },
   "outputs": [],
   "source": [
    "# 把目标变量改变形状，相当于把一个一维向量转化为一个1xn维矩阵（当然还是向量）\n",
    "y = y.reshape([len(y), 1])"
   ]
  },
  {
   "cell_type": "code",
   "execution_count": 5,
   "metadata": {
    "collapsed": true
   },
   "outputs": [],
   "source": [
    "# one hot编码器，例如数据的分类数是3，可以吧把 0 编码为[0 0 1]，1 编码为 [0 1 0]， 2 编码为[1 0 0]\n",
    "enc = OneHotEncoder()"
   ]
  },
  {
   "cell_type": "code",
   "execution_count": 6,
   "metadata": {
    "collapsed": false
   },
   "outputs": [],
   "source": [
    "y = enc.fit_transform(y).toarray()"
   ]
  },
  {
   "cell_type": "code",
   "execution_count": 7,
   "metadata": {
    "collapsed": false
   },
   "outputs": [],
   "source": [
    "# 分割测试集与训练集\n",
    "X_train, X_test, y_train, y_test = train_test_split(\n",
    "    X, y, test_size=0.2, random_state=0)"
   ]
  },
  {
   "cell_type": "code",
   "execution_count": 8,
   "metadata": {
    "collapsed": false
   },
   "outputs": [
    {
     "name": "stdout",
     "output_type": "stream",
     "text": [
      "(120, 4) (30, 4) (120, 3) (30, 3)\n"
     ]
    }
   ],
   "source": [
    "# 训练集有120条数据，测试集30条数据，输入有4个变量，输出有3个变量（多分类）\n",
    "print(X_train.shape, X_test.shape, y_train.shape, y_test.shape)"
   ]
  },
  {
   "cell_type": "code",
   "execution_count": 9,
   "metadata": {
    "collapsed": true
   },
   "outputs": [],
   "source": [
    "# 输入变量数\n",
    "input_size = 4\n",
    "# 输出变量数\n",
    "target_size = 3"
   ]
  },
  {
   "cell_type": "code",
   "execution_count": 10,
   "metadata": {
    "collapsed": true
   },
   "outputs": [],
   "source": [
    "# input的占位\n",
    "X = tf.placeholder(tf.float32, [None, input_size])\n",
    "y = tf.placeholder(tf.float32, [None, target_size])"
   ]
  },
  {
   "cell_type": "code",
   "execution_count": 11,
   "metadata": {
    "collapsed": true
   },
   "outputs": [],
   "source": [
    "# 要训练的参数\n",
    "W = tf.Variable(tf.random_normal([input_size, target_size]))\n",
    "b = tf.Variable(tf.random_normal([target_size]))"
   ]
  },
  {
   "cell_type": "markdown",
   "metadata": {},
   "source": [
    "$pred = softmax(XW + b)$\n",
    "\n",
    "X和W都是矩阵，b是向量\n",
    "\n",
    "$pred$就是一般公式的$\\hat{y}$"
   ]
  },
  {
   "cell_type": "code",
   "execution_count": 12,
   "metadata": {
    "collapsed": true
   },
   "outputs": [],
   "source": [
    "# 输出结果\n",
    "pred = tf.nn.softmax(tf.add(tf.matmul(X, W), b))"
   ]
  },
  {
   "cell_type": "code",
   "execution_count": 13,
   "metadata": {
    "collapsed": true
   },
   "outputs": [],
   "source": [
    "# 定义损失函数，这个是标准softmax损失\n",
    "cost = tf.reduce_mean(\n",
    "    -tf.reduce_sum(y * tf.log(pred),\n",
    "    reduction_indices=1)\n",
    ")"
   ]
  },
  {
   "cell_type": "code",
   "execution_count": 14,
   "metadata": {
    "collapsed": true
   },
   "outputs": [],
   "source": [
    "# 学习率\n",
    "learning_rate = 0.01\n",
    "# 迭代次数\n",
    "n_epoch = 1200"
   ]
  },
  {
   "cell_type": "code",
   "execution_count": 15,
   "metadata": {
    "collapsed": true
   },
   "outputs": [],
   "source": [
    "# 梯度下降算子\n",
    "opt = tf.train.GradientDescentOptimizer(learning_rate).minimize(cost)"
   ]
  },
  {
   "cell_type": "code",
   "execution_count": 16,
   "metadata": {
    "collapsed": true
   },
   "outputs": [],
   "source": [
    "# 初始化所有变量\n",
    "init = tf.initialize_all_variables()"
   ]
  },
  {
   "cell_type": "code",
   "execution_count": 17,
   "metadata": {
    "collapsed": true
   },
   "outputs": [],
   "source": [
    "# disable GPU，关闭GPU支持\n",
    "config = tf.ConfigProto(\n",
    "    device_count = {'GPU': 0}\n",
    ")"
   ]
  },
  {
   "cell_type": "code",
   "execution_count": 18,
   "metadata": {
    "collapsed": false
   },
   "outputs": [
    {
     "name": "stdout",
     "output_type": "stream",
     "text": [
      "Epoch: 0, cost: 2.81131911277771\n",
      "Epoch: 50, cost: 0.8226200342178345\n",
      "Epoch: 100, cost: 0.7223557829856873\n",
      "Epoch: 150, cost: 0.6575696468353271\n",
      "Epoch: 200, cost: 0.6116611361503601\n",
      "Epoch: 250, cost: 0.5769749879837036\n",
      "Epoch: 300, cost: 0.5495023131370544\n",
      "Epoch: 350, cost: 0.5269352197647095\n",
      "Epoch: 400, cost: 0.5078521370887756\n",
      "Epoch: 450, cost: 0.49133339524269104\n",
      "Epoch: 500, cost: 0.47676119208335876\n",
      "Epoch: 550, cost: 0.4637070298194885\n",
      "Epoch: 600, cost: 0.4518659710884094\n",
      "Epoch: 650, cost: 0.44101566076278687\n",
      "Epoch: 700, cost: 0.4309900403022766\n",
      "Epoch: 750, cost: 0.42166298627853394\n",
      "Epoch: 800, cost: 0.41293659806251526\n",
      "Epoch: 850, cost: 0.4047338366508484\n",
      "Epoch: 900, cost: 0.396992564201355\n",
      "Epoch: 950, cost: 0.38966235518455505\n",
      "Epoch: 1000, cost: 0.3827018141746521\n",
      "Epoch: 1050, cost: 0.37607595324516296\n",
      "Epoch: 1100, cost: 0.369755357503891\n",
      "Epoch: 1150, cost: 0.3637147545814514\n",
      "Epoch: 1200, cost: 0.35793235898017883\n"
     ]
    }
   ],
   "source": [
    "# 保存历史损失\n",
    "costs = []\n",
    "with tf.Session(config=config) as sess:\n",
    "    sess.run(init)\n",
    "    # 开始迭代\n",
    "    for epoch in range(n_epoch + 1):\n",
    "        # 反向传播，梯度下降\n",
    "        sess.run(opt, feed_dict={X: X_train, y: y_train})\n",
    "        # 计算损失\n",
    "        c = sess.run(cost, feed_dict={X: X_train, y: y_train})\n",
    "        # 记录损失\n",
    "        costs.append(c)\n",
    "        if epoch % 50 == 0:\n",
    "            print('Epoch: {}, cost: {}'.format(epoch, c))\n",
    "    # 计算训练集与测试集结果\n",
    "    pred_train = sess.run(pred, feed_dict={X: X_train, y: y_train})\n",
    "    pred_test = sess.run(pred, feed_dict={X: X_test, y: y_test})"
   ]
  },
  {
   "cell_type": "code",
   "execution_count": 19,
   "metadata": {
    "collapsed": false
   },
   "outputs": [
    {
     "name": "stdout",
     "output_type": "stream",
     "text": [
      "train accuracy: 0.925\n"
     ]
    }
   ],
   "source": [
    "# 训练集准确率\n",
    "acc = accuracy_score(y_train.argmax(axis=1), pred_train.argmax(axis=1))\n",
    "print('train accuracy: {}'.format(acc))"
   ]
  },
  {
   "cell_type": "code",
   "execution_count": 20,
   "metadata": {
    "collapsed": false
   },
   "outputs": [
    {
     "name": "stdout",
     "output_type": "stream",
     "text": [
      "test accuracy: 0.8666666666666667\n"
     ]
    }
   ],
   "source": [
    "# 测试集准确率\n",
    "acc = accuracy_score(y_test.argmax(axis=1), pred_test.argmax(axis=1))\n",
    "print('test accuracy: {}'.format(acc))"
   ]
  },
  {
   "cell_type": "code",
   "execution_count": null,
   "metadata": {
    "collapsed": true
   },
   "outputs": [],
   "source": []
  }
 ],
 "metadata": {
  "kernelspec": {
   "display_name": "Python 3",
   "language": "python",
   "name": "python3"
  },
  "language_info": {
   "codemirror_mode": {
    "name": "ipython",
    "version": 3
   },
   "file_extension": ".py",
   "mimetype": "text/x-python",
   "name": "python",
   "nbconvert_exporter": "python",
   "pygments_lexer": "ipython3",
   "version": "3.5.1+"
  }
 },
 "nbformat": 4,
 "nbformat_minor": 0
}
