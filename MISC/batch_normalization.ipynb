{
 "cells": [
  {
   "cell_type": "markdown",
   "metadata": {},
   "source": [
    "# Batch Normalization in Tensorflow\n",
    "\n",
    "### author: qhduan@memect.co"
   ]
  },
  {
   "cell_type": "code",
   "execution_count": 1,
   "metadata": {
    "collapsed": true
   },
   "outputs": [],
   "source": [
    "# 图表库\n",
    "%matplotlib inline\n",
    "import matplotlib.pyplot as plt\n",
    "# 深度学习\n",
    "import tensorflow as tf\n",
    "# 矩阵\n",
    "import numpy as np\n",
    "# sklearn的各种辅助小工具\n",
    "from sklearn.datasets import load_breast_cancer\n",
    "from sklearn.model_selection import train_test_split\n",
    "from sklearn.metrics import accuracy_score\n",
    "from sklearn.preprocessing import OneHotEncoder\n",
    "from sklearn.preprocessing import Normalizer"
   ]
  },
  {
   "cell_type": "code",
   "execution_count": 2,
   "metadata": {
    "collapsed": true
   },
   "outputs": [],
   "source": [
    "# 学习率\n",
    "learning_rate = 0.01\n",
    "# 迭代次数\n",
    "n_epoch = 2000"
   ]
  },
  {
   "cell_type": "code",
   "execution_count": 3,
   "metadata": {
    "collapsed": false
   },
   "outputs": [],
   "source": [
    "# 设置随机种子，这样每次得到的随机数结果都一样了\n",
    "tf.set_random_seed(0)"
   ]
  },
  {
   "cell_type": "code",
   "execution_count": 4,
   "metadata": {
    "collapsed": false
   },
   "outputs": [],
   "source": [
    "# 读取数据集\n",
    "X, y = load_breast_cancer(return_X_y=True)"
   ]
  },
  {
   "cell_type": "code",
   "execution_count": 5,
   "metadata": {
    "collapsed": true
   },
   "outputs": [],
   "source": [
    "# 把目标变量改变形状，相当于把一个一维向量转化为一个1xn维矩阵（当然还是向量）\n",
    "y = y.reshape([len(y), 1])"
   ]
  },
  {
   "cell_type": "code",
   "execution_count": 6,
   "metadata": {
    "collapsed": true
   },
   "outputs": [],
   "source": [
    "# one hot编码器，例如数据的分类数是3，可以吧把 0 编码为[0 0 1]，1 编码为 [0 1 0]， 2 编码为[1 0 0]\n",
    "enc = OneHotEncoder()"
   ]
  },
  {
   "cell_type": "code",
   "execution_count": 7,
   "metadata": {
    "collapsed": false
   },
   "outputs": [],
   "source": [
    "y = enc.fit_transform(y).toarray()"
   ]
  },
  {
   "cell_type": "code",
   "execution_count": 8,
   "metadata": {
    "collapsed": false
   },
   "outputs": [],
   "source": [
    "# 分割测试集与训练集\n",
    "X_train, X_test, y_train, y_test = train_test_split(\n",
    "    X, y, test_size=0.2, random_state=0)"
   ]
  },
  {
   "cell_type": "code",
   "execution_count": 9,
   "metadata": {
    "collapsed": false
   },
   "outputs": [
    {
     "name": "stdout",
     "output_type": "stream",
     "text": [
      "(455, 30) (114, 30) (455, 2) (114, 2)\n"
     ]
    }
   ],
   "source": [
    "# 训练集有120条数据，测试集30条数据，输入有4个变量，输出有3个变量（多分类）\n",
    "print(X_train.shape, X_test.shape, y_train.shape, y_test.shape)"
   ]
  },
  {
   "cell_type": "code",
   "execution_count": 10,
   "metadata": {
    "collapsed": false
   },
   "outputs": [],
   "source": [
    "normalizer = Normalizer()\n",
    "X_train = normalizer.fit_transform(X_train)\n",
    "X_test = normalizer.transform(X_train)"
   ]
  },
  {
   "cell_type": "code",
   "execution_count": 11,
   "metadata": {
    "collapsed": false
   },
   "outputs": [
    {
     "name": "stdout",
     "output_type": "stream",
     "text": [
      "input_size is 30\n",
      "target_size is 2\n"
     ]
    }
   ],
   "source": [
    "# 输入变量数\n",
    "input_size = X_train.shape[1]\n",
    "print('input_size is {}'.format(input_size))\n",
    "# 输出变量数\n",
    "target_size = y_train.shape[1]\n",
    "print('target_size is {}'.format(target_size))"
   ]
  },
  {
   "cell_type": "markdown",
   "metadata": {},
   "source": [
    "## 下面是不带 BN 的栗子"
   ]
  },
  {
   "cell_type": "code",
   "execution_count": 12,
   "metadata": {
    "collapsed": true
   },
   "outputs": [],
   "source": [
    "# input的占位\n",
    "X = tf.placeholder(tf.float32, [None, input_size])\n",
    "y = tf.placeholder(tf.float32, [None, target_size])"
   ]
  },
  {
   "cell_type": "code",
   "execution_count": 13,
   "metadata": {
    "collapsed": true
   },
   "outputs": [],
   "source": [
    "# 要训练的参数\n",
    "W = tf.Variable(tf.random_normal([input_size, target_size]), name='weight')\n",
    "b = tf.Variable(tf.zeros([target_size]), name='bias')"
   ]
  },
  {
   "cell_type": "markdown",
   "metadata": {},
   "source": [
    "$pred = softmax(XW + b)$\n",
    "\n",
    "X和W都是矩阵，b是向量\n",
    "\n",
    "$pred$就是一般公式的$\\hat{y}$"
   ]
  },
  {
   "cell_type": "code",
   "execution_count": 14,
   "metadata": {
    "collapsed": true
   },
   "outputs": [],
   "source": [
    "# 输出结果\n",
    "pred = tf.nn.softmax(tf.add(tf.matmul(X, W), b))"
   ]
  },
  {
   "cell_type": "code",
   "execution_count": 15,
   "metadata": {
    "collapsed": true
   },
   "outputs": [],
   "source": [
    "# 定义损失函数，这个是标准softmax损失\n",
    "cost = tf.reduce_mean(\n",
    "    -tf.reduce_sum(y * tf.log(pred),\n",
    "    reduction_indices=1)\n",
    ")"
   ]
  },
  {
   "cell_type": "code",
   "execution_count": 16,
   "metadata": {
    "collapsed": true
   },
   "outputs": [],
   "source": [
    "# 梯度下降算子\n",
    "train_without_bn = tf.train.GradientDescentOptimizer(learning_rate).minimize(cost)"
   ]
  },
  {
   "cell_type": "markdown",
   "metadata": {},
   "source": [
    "## 下面开始是带 BN 的栗子"
   ]
  },
  {
   "cell_type": "code",
   "execution_count": 17,
   "metadata": {
    "collapsed": true
   },
   "outputs": [],
   "source": [
    "# Batch Normalization 变量\n",
    "W_bn = tf.Variable(tf.random_normal([input_size, target_size]), name='weight_bn')\n",
    "scale = tf.Variable(tf.ones([target_size]), name='scale_bn')\n",
    "beta = tf.Variable(tf.zeros([target_size]), name='beta_bn')"
   ]
  },
  {
   "cell_type": "markdown",
   "metadata": {},
   "source": [
    "Batch Noramlization 可以把某一层标准化，公式：\n",
    "\n",
    "$\\frac{\\gamma(x-\\mu)}{\\sigma}+\\beta$"
   ]
  },
  {
   "cell_type": "code",
   "execution_count": 18,
   "metadata": {
    "collapsed": true
   },
   "outputs": [],
   "source": [
    "# Batch Normalization 输出结果\n",
    "z = tf.matmul(X, W_bn)\n",
    "# 一个很小的数，避免可能的除0错\n",
    "epsilon = 1e-08\n",
    "# 计算mean和variance\n",
    "batch_mean, batch_var = tf.nn.moments(z, [0])\n",
    "# 这是 tensorflow自带的方法\n",
    "# pred_bn = tf.nn.softmax(\n",
    "#     tf.nn.batch_normalization(z, batch_mean, batch_var, beta, scale, epsilon)\n",
    "# )\n",
    "# 这是原始实现公式实现，这两者是等价的\n",
    "z_hat = (z - batch_mean) / tf.sqrt(batch_var + epsilon)\n",
    "pred_bn = tf.nn.softmax(\n",
    "    scale * z_hat + beta\n",
    ")"
   ]
  },
  {
   "cell_type": "code",
   "execution_count": 19,
   "metadata": {
    "collapsed": true
   },
   "outputs": [],
   "source": [
    "# Batch Normalization 损失函数\n",
    "cost_bn = tf.reduce_mean(\n",
    "    -tf.reduce_sum(y * tf.log(pred_bn),\n",
    "    reduction_indices=1)\n",
    ")"
   ]
  },
  {
   "cell_type": "code",
   "execution_count": 20,
   "metadata": {
    "collapsed": false
   },
   "outputs": [],
   "source": [
    "# 梯度下降算子\n",
    "train_bn = tf.train.GradientDescentOptimizer(learning_rate).minimize(cost_bn)"
   ]
  },
  {
   "cell_type": "code",
   "execution_count": 21,
   "metadata": {
    "collapsed": false
   },
   "outputs": [],
   "source": [
    "# 初始化所有变量\n",
    "init = tf.global_variables_initializer()"
   ]
  },
  {
   "cell_type": "code",
   "execution_count": 22,
   "metadata": {
    "collapsed": true
   },
   "outputs": [],
   "source": [
    "# disable GPU，关闭GPU支持\n",
    "config = tf.ConfigProto(\n",
    "    device_count = {'GPU': 0}\n",
    ")"
   ]
  },
  {
   "cell_type": "code",
   "execution_count": 23,
   "metadata": {
    "collapsed": false
   },
   "outputs": [
    {
     "name": "stdout",
     "output_type": "stream",
     "text": [
      "Epoch: 0, cost: 0.7950537800788879, cost_bn: 0.35051071643829346\n",
      "Epoch: 50, cost: 0.7164947986602783, cost_bn: 0.3347257971763611\n",
      "Epoch: 100, cost: 0.6871000528335571, cost_bn: 0.32254186272621155\n",
      "Epoch: 150, cost: 0.6758583784103394, cost_bn: 0.31279999017715454\n",
      "Epoch: 200, cost: 0.6712700128555298, cost_bn: 0.3049889802932739\n",
      "Epoch: 250, cost: 0.6691638231277466, cost_bn: 0.29844239354133606\n",
      "Epoch: 300, cost: 0.6680012345314026, cost_bn: 0.2929050028324127\n",
      "Epoch: 350, cost: 0.6672029495239258, cost_bn: 0.2881503999233246\n",
      "Epoch: 400, cost: 0.6665470600128174, cost_bn: 0.28391873836517334\n",
      "Epoch: 450, cost: 0.665947675704956, cost_bn: 0.28020206093788147\n",
      "Epoch: 500, cost: 0.6653710603713989, cost_bn: 0.2767980694770813\n",
      "Epoch: 550, cost: 0.6648041009902954, cost_bn: 0.27366116642951965\n",
      "Epoch: 600, cost: 0.6642416715621948, cost_bn: 0.2707943320274353\n",
      "Epoch: 650, cost: 0.6636817455291748, cost_bn: 0.26812025904655457\n",
      "Epoch: 700, cost: 0.663123369216919, cost_bn: 0.2656155228614807\n",
      "Epoch: 750, cost: 0.662566065788269, cost_bn: 0.2631871998310089\n",
      "Epoch: 800, cost: 0.6620102524757385, cost_bn: 0.26089656352996826\n",
      "Epoch: 850, cost: 0.6614552736282349, cost_bn: 0.2587021291255951\n",
      "Epoch: 900, cost: 0.6609014868736267, cost_bn: 0.25661420822143555\n",
      "Epoch: 950, cost: 0.6603488922119141, cost_bn: 0.254620224237442\n",
      "Epoch: 1000, cost: 0.6597970724105835, cost_bn: 0.25266072154045105\n",
      "Epoch: 1050, cost: 0.6592465043067932, cost_bn: 0.2508007287979126\n",
      "Epoch: 1100, cost: 0.6586968898773193, cost_bn: 0.24896855652332306\n",
      "Epoch: 1150, cost: 0.6581482887268066, cost_bn: 0.24722811579704285\n",
      "Epoch: 1200, cost: 0.6576009392738342, cost_bn: 0.2455235868692398\n",
      "Epoch: 1250, cost: 0.6570544838905334, cost_bn: 0.2438197135925293\n",
      "Epoch: 1300, cost: 0.6565093398094177, cost_bn: 0.24219593405723572\n",
      "Epoch: 1350, cost: 0.6559650301933289, cost_bn: 0.2406163364648819\n",
      "Epoch: 1400, cost: 0.6554216146469116, cost_bn: 0.23906774818897247\n",
      "Epoch: 1450, cost: 0.6548795700073242, cost_bn: 0.2375745326280594\n",
      "Epoch: 1500, cost: 0.6543384194374084, cost_bn: 0.2360658198595047\n",
      "Epoch: 1550, cost: 0.6537981033325195, cost_bn: 0.23465155065059662\n",
      "Epoch: 1600, cost: 0.6532592177391052, cost_bn: 0.2332267314195633\n",
      "Epoch: 1650, cost: 0.6527211666107178, cost_bn: 0.23187170922756195\n",
      "Epoch: 1700, cost: 0.6521841883659363, cost_bn: 0.2304580807685852\n",
      "Epoch: 1750, cost: 0.651648223400116, cost_bn: 0.2291899025440216\n",
      "Epoch: 1800, cost: 0.6511133909225464, cost_bn: 0.22793374955654144\n",
      "Epoch: 1850, cost: 0.6505794525146484, cost_bn: 0.22659151256084442\n",
      "Epoch: 1900, cost: 0.6500465869903564, cost_bn: 0.22539030015468597\n",
      "Epoch: 1950, cost: 0.6495147943496704, cost_bn: 0.22414322197437286\n",
      "Epoch: 2000, cost: 0.6489840149879456, cost_bn: 0.2229614108800888\n"
     ]
    }
   ],
   "source": [
    "# 保存历史损失\n",
    "costs = []\n",
    "costs_bn = []\n",
    "with tf.Session(config=config) as sess:\n",
    "    sess.run(init)\n",
    "    # 开始迭代\n",
    "    for epoch in range(n_epoch + 1):\n",
    "        # 不带 BN 的模型\n",
    "        # 反向传播，梯度下降\n",
    "        sess.run(train_without_bn, feed_dict={X: X_train, y: y_train})\n",
    "        # 计算损失\n",
    "        c = sess.run(cost, feed_dict={X: X_train, y: y_train})\n",
    "        #\n",
    "        # 带 BN 的模型\n",
    "        # Batch Normalization 反向传播，梯度下降\n",
    "        sess.run(train_bn, feed_dict={X: X_train, y: y_train})\n",
    "        # Batch Normalization 计算损失\n",
    "        c_bn = sess.run(cost_bn, feed_dict={X: X_train, y: y_train})\n",
    "        # \n",
    "        # 记录损失\n",
    "        costs.append(c)\n",
    "        costs_bn.append(c_bn)\n",
    "        if epoch % 50 == 0:\n",
    "            print('Epoch: {}, cost: {}, cost_bn: {}'.format(epoch, c, c_bn))"
   ]
  },
  {
   "cell_type": "code",
   "execution_count": 24,
   "metadata": {
    "collapsed": false
   },
   "outputs": [
    {
     "data": {
      "text/plain": [
       "<matplotlib.legend.Legend at 0x7ff020550240>"
      ]
     },
     "execution_count": 24,
     "metadata": {},
     "output_type": "execute_result"
    },
    {
     "data": {
      "image/png": "[encoded data removed]",
      "text/plain": [
       "<matplotlib.figure.Figure at 0x7ff024d93278>"
      ]
     },
     "metadata": {},
     "output_type": "display_data"
    }
   ],
   "source": [
    "# 这张图是损失函数随着训练轮次增加而下降的图\n",
    "plt.plot(list(range(len(costs))), costs)\n",
    "plt.plot(list(range(len(costs))), costs_bn)\n",
    "plt.legend(['without BN', 'BN'])"
   ]
  },
  {
   "cell_type": "markdown",
   "metadata": {},
   "source": [
    "注意：Batch Normalization并不是万能药，可能在高维度大数据集上更有效，否则可能反效果"
   ]
  },
  {
   "cell_type": "code",
   "execution_count": null,
   "metadata": {
    "collapsed": true
   },
   "outputs": [],
   "source": []
  }
 ],
 "metadata": {
  "kernelspec": {
   "display_name": "Python 3",
   "language": "python",
   "name": "python3"
  },
  "language_info": {
   "codemirror_mode": {
    "name": "ipython",
    "version": 3
   },
   "file_extension": ".py",
   "mimetype": "text/x-python",
   "name": "python",
   "nbconvert_exporter": "python",
   "pygments_lexer": "ipython3",
   "version": "3.5.2"
  }
 },
 "nbformat": 4,
 "nbformat_minor": 0
}
