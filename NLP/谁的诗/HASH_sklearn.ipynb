{
 "cells": [
  {
   "cell_type": "markdown",
   "metadata": {},
   "source": [
    "# HASH scikit-learn\n",
    "\n",
    "### author qhduan@memect.co"
   ]
  },
  {
   "cell_type": "code",
   "execution_count": 1,
   "metadata": {
    "collapsed": false
   },
   "outputs": [],
   "source": [
    "import pickle\n",
    "from sklearn.model_selection import train_test_split\n",
    "from sklearn.metrics import precision_score, recall_score, f1_score, make_scorer\n",
    "from sklearn.feature_extraction.text import HashingVectorizer\n",
    "from sklearn.svm import LinearSVC\n",
    "from sklearn.ensemble import RandomForestClassifier\n",
    "from sklearn.neighbors import KNeighborsClassifier\n",
    "from sklearn.naive_bayes import GaussianNB\n",
    "from sklearn.neural_network import MLPClassifier"
   ]
  },
  {
   "cell_type": "code",
   "execution_count": 2,
   "metadata": {
    "collapsed": true
   },
   "outputs": [],
   "source": [
    "data = pickle.load(open('诗句.dat', 'rb'))"
   ]
  },
  {
   "cell_type": "code",
   "execution_count": 3,
   "metadata": {
    "collapsed": true
   },
   "outputs": [],
   "source": [
    "X_train, X_test, y_train, y_test = train_test_split(\n",
    "    data['X'], data['y'],\n",
    "    test_size=0.2, random_state=0\n",
    ")"
   ]
  },
  {
   "cell_type": "code",
   "execution_count": 4,
   "metadata": {
    "collapsed": false
   },
   "outputs": [],
   "source": [
    "vectorizer = HashingVectorizer(\n",
    "    n_features=256, analyzer='char',\n",
    "    lowercase=False, ngram_range=(1, 2)\n",
    ")\n",
    "X_train_vec = vectorizer.fit_transform(X_train)"
   ]
  },
  {
   "cell_type": "code",
   "execution_count": 5,
   "metadata": {
    "collapsed": true
   },
   "outputs": [],
   "source": [
    "X_test_vec = vectorizer.transform(X_test)"
   ]
  },
  {
   "cell_type": "code",
   "execution_count": 6,
   "metadata": {
    "collapsed": false
   },
   "outputs": [
    {
     "name": "stdout",
     "output_type": "stream",
     "text": [
      "(12126, 256) (3032, 256) (12126,) (3032,)\n"
     ]
    }
   ],
   "source": [
    "print(X_train_vec.shape, X_test_vec.shape, y_train.shape, y_test.shape)"
   ]
  },
  {
   "cell_type": "code",
   "execution_count": 7,
   "metadata": {
    "collapsed": true
   },
   "outputs": [],
   "source": [
    "def fit(clf, name=None):\n",
    "    clf.fit(X_train_vec.toarray(), y_train)\n",
    "    pred_train = clf.predict(X_train_vec.toarray())\n",
    "    if name is not None:\n",
    "        print(name)\n",
    "    print('train precision: {}'.format(precision_score(y_train, pred_train)))\n",
    "    print('train recall: {}'.format(recall_score(y_train, pred_train)))\n",
    "    print('train f1: {}'.format(f1_score(y_train, pred_train)))\n",
    "    pred_test = clf.predict(X_test_vec.toarray())\n",
    "    print('test precision: {}'.format(precision_score(y_test, pred_test)))\n",
    "    print('test recall: {}'.format(recall_score(y_test, pred_test)))\n",
    "    print('test f1: {}'.format(f1_score(y_test, pred_test)))"
   ]
  },
  {
   "cell_type": "code",
   "execution_count": 8,
   "metadata": {
    "collapsed": false
   },
   "outputs": [
    {
     "name": "stdout",
     "output_type": "stream",
     "text": [
      "LinearSVC\n",
      "train precision: 0.6686092121483805\n",
      "train recall: 0.8267738359201774\n",
      "train f1: 0.7393270958547618\n",
      "test precision: 0.6665188470066519\n",
      "test recall: 0.8146341463414634\n",
      "test f1: 0.7331707317073172\n"
     ]
    }
   ],
   "source": [
    "fit(LinearSVC(random_state=0), name='LinearSVC')"
   ]
  },
  {
   "cell_type": "code",
   "execution_count": 9,
   "metadata": {
    "collapsed": false
   },
   "outputs": [
    {
     "name": "stdout",
     "output_type": "stream",
     "text": [
      "RandomForestClassifier\n",
      "train precision: 0.9920745272525028\n",
      "train recall: 0.9887749445676275\n",
      "train f1: 0.9904219877845641\n",
      "test precision: 0.6688668866886689\n",
      "test recall: 0.6590785907859079\n",
      "test f1: 0.6639366639366638\n"
     ]
    }
   ],
   "source": [
    "fit(RandomForestClassifier(random_state=0, n_jobs=-1), name='RandomForestClassifier')"
   ]
  },
  {
   "cell_type": "code",
   "execution_count": 10,
   "metadata": {
    "collapsed": false
   },
   "outputs": [
    {
     "name": "stdout",
     "output_type": "stream",
     "text": [
      "KNeighborsClassifier\n",
      "train precision: 0.8077030033370411\n",
      "train recall: 0.8050166297117517\n",
      "train f1: 0.8063575791227097\n",
      "test precision: 0.6836065573770492\n",
      "test recall: 0.6780487804878049\n",
      "test f1: 0.6808163265306123\n"
     ]
    }
   ],
   "source": [
    "fit(KNeighborsClassifier(), name='KNeighborsClassifier')"
   ]
  },
  {
   "cell_type": "code",
   "execution_count": 11,
   "metadata": {
    "collapsed": false
   },
   "outputs": [
    {
     "name": "stdout",
     "output_type": "stream",
     "text": [
      "GaussianNB\n",
      "train precision: 0.715600415615259\n",
      "train recall: 0.6680986696230599\n",
      "train f1: 0.6910341861965169\n",
      "test precision: 0.7080856123662307\n",
      "test recall: 0.6455284552845528\n",
      "test f1: 0.6753614970229657\n"
     ]
    }
   ],
   "source": [
    "fit(GaussianNB(), name='GaussianNB')"
   ]
  },
  {
   "cell_type": "code",
   "execution_count": null,
   "metadata": {
    "collapsed": true
   },
   "outputs": [],
   "source": []
  }
 ],
 "metadata": {
  "kernelspec": {
   "display_name": "Python 3",
   "language": "python",
   "name": "python3"
  },
  "language_info": {
   "codemirror_mode": {
    "name": "ipython",
    "version": 3
   },
   "file_extension": ".py",
   "mimetype": "text/x-python",
   "name": "python",
   "nbconvert_exporter": "python",
   "pygments_lexer": "ipython3",
   "version": "3.5.2"
  }
 },
 "nbformat": 4,
 "nbformat_minor": 0
}
