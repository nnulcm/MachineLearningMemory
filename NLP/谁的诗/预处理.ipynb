{
 "cells": [
  {
   "cell_type": "code",
   "execution_count": 1,
   "metadata": {
    "collapsed": true
   },
   "outputs": [],
   "source": [
    "import re\n",
    "import pickle\n",
    "import numpy as np"
   ]
  },
  {
   "cell_type": "code",
   "execution_count": 2,
   "metadata": {
    "collapsed": true
   },
   "outputs": [],
   "source": [
    "李白 = open('李白.txt', 'r').read()"
   ]
  },
  {
   "cell_type": "code",
   "execution_count": 3,
   "metadata": {
    "collapsed": true
   },
   "outputs": [],
   "source": [
    "杜甫 = open('杜甫.txt', 'r').read()"
   ]
  },
  {
   "cell_type": "code",
   "execution_count": 4,
   "metadata": {
    "collapsed": false
   },
   "outputs": [],
   "source": [
    "李白诗句 = re.findall('.{5}，.{5}。|.{7}，.{7}。', 李白)\n",
    "李白诗句 = [re.sub('，|。', '', x) for x in 李白诗句]"
   ]
  },
  {
   "cell_type": "code",
   "execution_count": 5,
   "metadata": {
    "collapsed": true
   },
   "outputs": [],
   "source": [
    "杜甫诗句 = re.findall('.{5}，.{5}。|.{7}，.{7}。', 杜甫)\n",
    "杜甫诗句 = [re.sub('，|。', '', x) for x in 杜甫诗句]"
   ]
  },
  {
   "cell_type": "code",
   "execution_count": 6,
   "metadata": {
    "collapsed": false
   },
   "outputs": [
    {
     "name": "stdout",
     "output_type": "stream",
     "text": [
      "6097\n"
     ]
    }
   ],
   "source": [
    "print(len(李白诗句))"
   ]
  },
  {
   "cell_type": "code",
   "execution_count": 7,
   "metadata": {
    "collapsed": false
   },
   "outputs": [
    {
     "name": "stdout",
     "output_type": "stream",
     "text": [
      "9061\n"
     ]
    }
   ],
   "source": [
    "print(len(杜甫诗句))"
   ]
  },
  {
   "cell_type": "code",
   "execution_count": 8,
   "metadata": {
    "collapsed": false
   },
   "outputs": [
    {
     "data": {
      "text/plain": [
       "['大雅久不作吾衰竟谁陈',\n",
       " '王风委蔓草战国多荆榛',\n",
       " '龙虎相啖食兵戈逮狂秦',\n",
       " '正声何微茫哀怨起骚人',\n",
       " '扬马激颓波开流荡无垠',\n",
       " '废兴虽万变宪章亦已沦',\n",
       " '自从建安来绮丽不足珍',\n",
       " '圣代复元古垂衣贵清真',\n",
       " '群才属休明乘运共跃鳞',\n",
       " '我志在删述垂辉映千春']"
      ]
     },
     "execution_count": 8,
     "metadata": {},
     "output_type": "execute_result"
    }
   ],
   "source": [
    "李白诗句[:10]"
   ]
  },
  {
   "cell_type": "code",
   "execution_count": 9,
   "metadata": {
    "collapsed": false
   },
   "outputs": [
    {
     "data": {
      "text/plain": [
       "['纨袴不饿死儒冠多误身',\n",
       " '丈人试静听贱子请具陈',\n",
       " '甫昔少年日早充观国宾',\n",
       " '读书破万卷下笔如有神',\n",
       " '赋料扬雄敌诗看子建亲',\n",
       " '李邕求识面王翰愿卜邻',\n",
       " '自谓颇挺出立登要路津',\n",
       " '致君尧舜上再使风俗淳',\n",
       " '此意竟萧条行歌非隐沦',\n",
       " '骑驴三十载旅食京华春']"
      ]
     },
     "execution_count": 9,
     "metadata": {},
     "output_type": "execute_result"
    }
   ],
   "source": [
    "杜甫诗句[:10]"
   ]
  },
  {
   "cell_type": "code",
   "execution_count": 10,
   "metadata": {
    "collapsed": true
   },
   "outputs": [],
   "source": [
    "X_data = 李白诗句 + 杜甫诗句"
   ]
  },
  {
   "cell_type": "code",
   "execution_count": 11,
   "metadata": {
    "collapsed": false
   },
   "outputs": [],
   "source": [
    "y_data = [0] * len(李白诗句) + [1] * len(杜甫诗句)"
   ]
  },
  {
   "cell_type": "code",
   "execution_count": 12,
   "metadata": {
    "collapsed": true
   },
   "outputs": [],
   "source": [
    "data = {\n",
    "    'X': X_data,\n",
    "    'y': np.array(y_data)\n",
    "}"
   ]
  },
  {
   "cell_type": "code",
   "execution_count": 13,
   "metadata": {
    "collapsed": true
   },
   "outputs": [],
   "source": [
    "pickle.dump(data, open('诗句.dat', 'wb'))"
   ]
  },
  {
   "cell_type": "code",
   "execution_count": null,
   "metadata": {
    "collapsed": true
   },
   "outputs": [],
   "source": []
  }
 ],
 "metadata": {
  "kernelspec": {
   "display_name": "Python 3",
   "language": "python",
   "name": "python3"
  },
  "language_info": {
   "codemirror_mode": {
    "name": "ipython",
    "version": 3
   },
   "file_extension": ".py",
   "mimetype": "text/x-python",
   "name": "python",
   "nbconvert_exporter": "python",
   "pygments_lexer": "ipython3",
   "version": "3.5.1+"
  }
 },
 "nbformat": 4,
 "nbformat_minor": 0
}
