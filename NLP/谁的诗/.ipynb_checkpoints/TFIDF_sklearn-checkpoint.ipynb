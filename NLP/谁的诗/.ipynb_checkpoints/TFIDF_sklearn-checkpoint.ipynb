{
 "cells": [
  {
   "cell_type": "markdown",
   "metadata": {},
   "source": [
    "# TFIDF scikit-learn\n",
    "\n",
    "### author qhduan@memect.co"
   ]
  },
  {
   "cell_type": "code",
   "execution_count": 1,
   "metadata": {
    "collapsed": false
   },
   "outputs": [],
   "source": [
    "import pickle\n",
    "from sklearn.model_selection import train_test_split\n",
    "from sklearn.metrics import accuracy_score, recall_score, f1_score, make_scorer\n",
    "from sklearn.feature_extraction.text import TfidfVectorizer\n",
    "from sklearn.svm import LinearSVC\n",
    "from sklearn.ensemble import RandomForestClassifier\n",
    "from sklearn.neighbors import KNeighborsClassifier\n",
    "from sklearn.naive_bayes import GaussianNB\n",
    "from sklearn.neural_network import MLPClassifier"
   ]
  },
  {
   "cell_type": "code",
   "execution_count": 2,
   "metadata": {
    "collapsed": true
   },
   "outputs": [],
   "source": [
    "data = pickle.load(open('诗句.dat', 'rb'))"
   ]
  },
  {
   "cell_type": "code",
   "execution_count": 3,
   "metadata": {
    "collapsed": true
   },
   "outputs": [],
   "source": [
    "X_train, X_test, y_train, y_test = train_test_split(\n",
    "    data['X'], data['y'],\n",
    "    test_size=0.2, random_state=0\n",
    ")"
   ]
  },
  {
   "cell_type": "code",
   "execution_count": 4,
   "metadata": {
    "collapsed": false
   },
   "outputs": [
    {
     "name": "stdout",
     "output_type": "stream",
     "text": [
      "TFIDF dim: 4941\n"
     ]
    }
   ],
   "source": [
    "vectorizer = TfidfVectorizer(analyzer='char', lowercase=False, min_df=5, ngram_range=(1, 2))\n",
    "X_train_vec = vectorizer.fit_transform(X_train)\n",
    "print('TFIDF dim: {}'.format(len(vectorizer.get_feature_names())))"
   ]
  },
  {
   "cell_type": "code",
   "execution_count": 5,
   "metadata": {
    "collapsed": true
   },
   "outputs": [],
   "source": [
    "X_test_vec = vectorizer.transform(X_test)"
   ]
  },
  {
   "cell_type": "code",
   "execution_count": 6,
   "metadata": {
    "collapsed": false
   },
   "outputs": [
    {
     "name": "stdout",
     "output_type": "stream",
     "text": [
      "(12126, 4941) (3032, 4941) (12126,) (3032,)\n"
     ]
    }
   ],
   "source": [
    "print(X_train_vec.shape, X_test_vec.shape, y_train.shape, y_test.shape)"
   ]
  },
  {
   "cell_type": "code",
   "execution_count": 7,
   "metadata": {
    "collapsed": true
   },
   "outputs": [],
   "source": [
    "def fit(clf, name=None):\n",
    "    clf.fit(X_train_vec.toarray(), y_train)\n",
    "    pred_train = clf.predict(X_train_vec.toarray())\n",
    "    if name is not None:\n",
    "        print(name)\n",
    "    print('train accuracy: {}'.format(accuracy_score(y_train, pred_train)))\n",
    "    print('train recall: {}'.format(recall_score(y_train, pred_train)))\n",
    "    print('train f1: {}'.format(f1_score(y_train, pred_train)))\n",
    "    pred_test = clf.predict(X_test_vec.toarray())\n",
    "    print('test accuracy: {}'.format(accuracy_score(y_test, pred_test)))\n",
    "    print('test recall: {}'.format(recall_score(y_test, pred_test)))\n",
    "    print('test f1: {}'.format(f1_score(y_test, pred_test)))"
   ]
  },
  {
   "cell_type": "code",
   "execution_count": 8,
   "metadata": {
    "collapsed": false
   },
   "outputs": [
    {
     "name": "stdout",
     "output_type": "stream",
     "text": [
      "LinearSVC\n",
      "train accuracy: 0.9352630710869206\n",
      "train recall: 0.9563470066518847\n",
      "train f1: 0.9461849592102557\n",
      "test accuracy: 0.8037598944591029\n",
      "test recall: 0.8417344173441734\n",
      "test f1: 0.8392326398270737\n"
     ]
    }
   ],
   "source": [
    "fit(LinearSVC(random_state=0), name='LinearSVC')"
   ]
  },
  {
   "cell_type": "code",
   "execution_count": 9,
   "metadata": {
    "collapsed": false
   },
   "outputs": [
    {
     "name": "stdout",
     "output_type": "stream",
     "text": [
      "RandomForestClassifier\n",
      "train accuracy: 0.9904337786574303\n",
      "train recall: 0.9898835920177383\n",
      "train f1: 0.9919455631162339\n",
      "test accuracy: 0.7097625329815304\n",
      "test recall: 0.7457994579945799\n",
      "test f1: 0.7577092511013215\n"
     ]
    }
   ],
   "source": [
    "fit(RandomForestClassifier(random_state=0, n_jobs=-1), name='RandomForestClassifier')"
   ]
  },
  {
   "cell_type": "code",
   "execution_count": 10,
   "metadata": {
    "collapsed": false
   },
   "outputs": [
    {
     "name": "stdout",
     "output_type": "stream",
     "text": [
      "KNeighborsClassifier\n",
      "train accuracy: 0.8329209962064984\n",
      "train recall: 0.8562915742793792\n",
      "train f1: 0.8591490545050056\n",
      "test accuracy: 0.7226253298153035\n",
      "test recall: 0.7642276422764228\n",
      "test f1: 0.7702813438951105\n"
     ]
    }
   ],
   "source": [
    "fit(KNeighborsClassifier(), name='KNeighborsClassifier')"
   ]
  },
  {
   "cell_type": "code",
   "execution_count": 11,
   "metadata": {
    "collapsed": false
   },
   "outputs": [
    {
     "name": "stdout",
     "output_type": "stream",
     "text": [
      "GaussianNB\n",
      "train accuracy: 0.7291769750948376\n",
      "train recall: 0.5507206208425721\n",
      "train f1: 0.7076210826210826\n",
      "test accuracy: 0.6220316622691293\n",
      "test recall: 0.44119241192411923\n",
      "test f1: 0.5868781542898341\n"
     ]
    }
   ],
   "source": [
    "fit(GaussianNB(), name='GaussianNB')"
   ]
  },
  {
   "cell_type": "code",
   "execution_count": null,
   "metadata": {
    "collapsed": true
   },
   "outputs": [],
   "source": []
  }
 ],
 "metadata": {
  "kernelspec": {
   "display_name": "Python 3",
   "language": "python",
   "name": "python3"
  },
  "language_info": {
   "codemirror_mode": {
    "name": "ipython",
    "version": 3
   },
   "file_extension": ".py",
   "mimetype": "text/x-python",
   "name": "python",
   "nbconvert_exporter": "python",
   "pygments_lexer": "ipython3",
   "version": "3.5.1+"
  }
 },
 "nbformat": 4,
 "nbformat_minor": 0
}
