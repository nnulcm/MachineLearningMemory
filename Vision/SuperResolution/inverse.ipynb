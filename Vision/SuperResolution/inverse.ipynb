{
 "cells": [
  {
   "cell_type": "code",
   "execution_count": 1,
   "metadata": {
    "collapsed": true
   },
   "outputs": [],
   "source": [
    "import io\n",
    "import re\n",
    "import zipfile\n",
    "from collections import OrderedDict\n",
    "\n",
    "from PIL import Image\n",
    "from tqdm import tqdm\n",
    "import numpy as np\n",
    "from IPython.display import display"
   ]
  },
  {
   "cell_type": "code",
   "execution_count": 2,
   "metadata": {
    "collapsed": true
   },
   "outputs": [],
   "source": [
    "def extract_images_bytes(path_64='train_64.zip', path='../CatDog/train.zip'):\n",
    "    labels_images = OrderedDict()\n",
    "    # load 64\n",
    "    z = zipfile.ZipFile(path_64, 'r')\n",
    "    for file in z.filelist:\n",
    "        m = re.match('.*(cat|dog).*', file.filename)\n",
    "        if m:\n",
    "            category = m.groups()[0]\n",
    "            if category != 'cat': continue\n",
    "            img = Image.open(io.BytesIO((z.open(file.filename).read())))\n",
    "            label = re.sub('[^/]+/', '', file.filename)\n",
    "            labels_images[label] = [img]\n",
    "    # load origin\n",
    "    z = zipfile.ZipFile(path, 'r')\n",
    "    for file in z.filelist:\n",
    "        m = re.match('.*(cat|dog).*', file.filename)\n",
    "        if m:\n",
    "            category = m.groups()[0]\n",
    "            if category != 'cat': continue\n",
    "            label = re.sub('[^/]+/', '', file.filename)\n",
    "            if label not in labels_images: continue\n",
    "            img = Image.open(io.BytesIO((z.open(file.filename).read())))\n",
    "            labels_images[label].append(img)\n",
    "    return labels_images"
   ]
  },
  {
   "cell_type": "code",
   "execution_count": 3,
   "metadata": {
    "collapsed": false
   },
   "outputs": [],
   "source": [
    "train = extract_images_bytes()"
   ]
  },
  {
   "cell_type": "code",
   "execution_count": 4,
   "metadata": {
    "collapsed": false
   },
   "outputs": [],
   "source": [
    "X_train = np.array([np.array(x[0]) for x in train.values()])\n",
    "y_train = np.array([np.array(x[1]) for x in train.values()])"
   ]
  },
  {
   "cell_type": "code",
   "execution_count": 5,
   "metadata": {
    "collapsed": true
   },
   "outputs": [],
   "source": [
    "test = extract_images_bytes('test_64.zip', '../CatDog/test.zip')"
   ]
  },
  {
   "cell_type": "code",
   "execution_count": 6,
   "metadata": {
    "collapsed": true
   },
   "outputs": [],
   "source": [
    "X_test = np.array([np.array(x[0]) for x in test.values()])\n",
    "y_test = np.array([np.array(x[1]) for x in test.values()])"
   ]
  },
  {
   "cell_type": "code",
   "execution_count": 7,
   "metadata": {
    "collapsed": false
   },
   "outputs": [],
   "source": [
    "# X_train = X_train / 255.0\n",
    "# y_train = y_train / 255.0\n",
    "# X_test = X_test / 255.0\n",
    "# y_test = y_test / 255.0"
   ]
  },
  {
   "cell_type": "code",
   "execution_count": 8,
   "metadata": {
    "collapsed": false
   },
   "outputs": [
    {
     "name": "stdout",
     "output_type": "stream",
     "text": [
      "(10000, 64, 64, 3) (10000, 128, 128, 3) (2500, 64, 64, 3) (2500, 128, 128, 3)\n"
     ]
    }
   ],
   "source": [
    "print(X_train.shape, y_train.shape, X_test.shape, y_test.shape)"
   ]
  },
  {
   "cell_type": "code",
   "execution_count": 9,
   "metadata": {
    "collapsed": true
   },
   "outputs": [],
   "source": [
    "import tensorflow as tf"
   ]
  },
  {
   "cell_type": "code",
   "execution_count": 10,
   "metadata": {
    "collapsed": true
   },
   "outputs": [],
   "source": [
    "batch_size = 32\n",
    "learning_rate = 0.01"
   ]
  },
  {
   "cell_type": "code",
   "execution_count": 11,
   "metadata": {
    "collapsed": true
   },
   "outputs": [],
   "source": [
    "X = tf.placeholder(tf.float32, [batch_size, 64, 64, 3], name='X')\n",
    "y = tf.placeholder(tf.float32, [batch_size, 128, 128, 3], name='y')"
   ]
  },
  {
   "cell_type": "code",
   "execution_count": 12,
   "metadata": {
    "collapsed": false
   },
   "outputs": [],
   "source": [
    "pitch_1 = tf.Variable(tf.random_normal([1, 1, 3, 3], stddev=1e-1), name='pitch_1')\n",
    "pitch_1_bias = tf.Variable(tf.random_normal([3], stddev=1e-1), name='pitch_1_bias')"
   ]
  },
  {
   "cell_type": "code",
   "execution_count": 13,
   "metadata": {
    "collapsed": false
   },
   "outputs": [],
   "source": [
    "dconv = tf.nn.bias_add(\n",
    "    tf.nn.conv2d_transpose(\n",
    "        X, pitch_1,\n",
    "        (batch_size, 128, 128, 3),\n",
    "        (1, 2, 2, 1),\n",
    "        padding='SAME',\n",
    "        data_format='NHWC'\n",
    "    ),\n",
    "    pitch_1_bias,\n",
    "    name='bias_add_1'\n",
    ")"
   ]
  },
  {
   "cell_type": "code",
   "execution_count": 14,
   "metadata": {
    "collapsed": false
   },
   "outputs": [
    {
     "data": {
      "text/plain": [
       "TensorShape([Dimension(32), Dimension(128), Dimension(128), Dimension(3)])"
      ]
     },
     "execution_count": 14,
     "metadata": {},
     "output_type": "execute_result"
    }
   ],
   "source": [
    "dconv.get_shape()"
   ]
  },
  {
   "cell_type": "code",
   "execution_count": 15,
   "metadata": {
    "collapsed": true
   },
   "outputs": [],
   "source": [
    "pitch_2 = tf.Variable(tf.random_normal([9, 9, 3, 32], stddev=1e-1), name='pitch_2')\n",
    "pitch_2_bias = tf.Variable(tf.random_normal([32], stddev=1e-1), name='pitch_2_bias')"
   ]
  },
  {
   "cell_type": "code",
   "execution_count": 16,
   "metadata": {
    "collapsed": false
   },
   "outputs": [],
   "source": [
    "conv_1 = tf.nn.relu(\n",
    "    tf.nn.bias_add(\n",
    "        tf.nn.conv2d(\n",
    "            dconv, pitch_2, strides=[1, 1, 1, 1], padding='SAME'\n",
    "        ),\n",
    "        pitch_2_bias,\n",
    "        name='bias_add_2'\n",
    "    ),\n",
    "    name='relu_2'\n",
    ")"
   ]
  },
  {
   "cell_type": "code",
   "execution_count": 17,
   "metadata": {
    "collapsed": false
   },
   "outputs": [
    {
     "data": {
      "text/plain": [
       "TensorShape([Dimension(32), Dimension(128), Dimension(128), Dimension(32)])"
      ]
     },
     "execution_count": 17,
     "metadata": {},
     "output_type": "execute_result"
    }
   ],
   "source": [
    "conv_1.get_shape()"
   ]
  },
  {
   "cell_type": "code",
   "execution_count": 18,
   "metadata": {
    "collapsed": false
   },
   "outputs": [],
   "source": [
    "pitch_3 = tf.Variable(tf.random_normal([1, 1, 32, 32], stddev=1e-1), name='pitch_3')\n",
    "pitch_3_bias = tf.Variable(tf.random_normal([32], stddev=1e-1), name='pitch_3_bias')"
   ]
  },
  {
   "cell_type": "code",
   "execution_count": 19,
   "metadata": {
    "collapsed": false
   },
   "outputs": [],
   "source": [
    "conv_2 = tf.nn.relu(\n",
    "    tf.nn.bias_add(\n",
    "        tf.nn.conv2d(\n",
    "            conv_1, pitch_3, strides=[1, 1, 1, 1], padding='SAME'\n",
    "        ),\n",
    "        pitch_3_bias,\n",
    "        name='bias_add_3'\n",
    "    )\n",
    ")"
   ]
  },
  {
   "cell_type": "code",
   "execution_count": 20,
   "metadata": {
    "collapsed": false
   },
   "outputs": [
    {
     "data": {
      "text/plain": [
       "TensorShape([Dimension(32), Dimension(128), Dimension(128), Dimension(32)])"
      ]
     },
     "execution_count": 20,
     "metadata": {},
     "output_type": "execute_result"
    }
   ],
   "source": [
    "conv_2.get_shape()"
   ]
  },
  {
   "cell_type": "code",
   "execution_count": 61,
   "metadata": {
    "collapsed": true
   },
   "outputs": [],
   "source": [
    "pitch_4 = tf.Variable(tf.random_normal([5, 5, 32, 3], stddev=1e-1), name='pitch_3')\n",
    "pitch_4_bias = tf.Variable(tf.random_normal([3], stddev=1e-1), name='pitch_3_bias')"
   ]
  },
  {
   "cell_type": "code",
   "execution_count": 62,
   "metadata": {
    "collapsed": true
   },
   "outputs": [],
   "source": [
    "conv_3 = tf.nn.bias_add(\n",
    "    tf.nn.conv2d(\n",
    "        conv_2, pitch_4, strides=[1, 1, 1, 1], padding='SAME'\n",
    "    ),\n",
    "    pitch_4_bias,\n",
    "    name='bias_add_4'\n",
    ")"
   ]
  },
  {
   "cell_type": "code",
   "execution_count": 63,
   "metadata": {
    "collapsed": false
   },
   "outputs": [
    {
     "data": {
      "text/plain": [
       "TensorShape([Dimension(32), Dimension(128), Dimension(128), Dimension(3)])"
      ]
     },
     "execution_count": 63,
     "metadata": {},
     "output_type": "execute_result"
    }
   ],
   "source": [
    "conv_3.get_shape()"
   ]
  },
  {
   "cell_type": "code",
   "execution_count": 64,
   "metadata": {
    "collapsed": true
   },
   "outputs": [],
   "source": [
    "pred = conv_3"
   ]
  },
  {
   "cell_type": "code",
   "execution_count": 65,
   "metadata": {
    "collapsed": false
   },
   "outputs": [],
   "source": [
    "cost = tf.reduce_mean(tf.pow(tf.sub(dconv, y), 2.0))"
   ]
  },
  {
   "cell_type": "code",
   "execution_count": 66,
   "metadata": {
    "collapsed": false,
    "scrolled": false
   },
   "outputs": [],
   "source": [
    "opt = tf.train.AdamOptimizer(learning_rate=learning_rate).minimize(cost)"
   ]
  },
  {
   "cell_type": "code",
   "execution_count": 67,
   "metadata": {
    "collapsed": false
   },
   "outputs": [],
   "source": [
    "init = tf.global_variables_initializer()"
   ]
  },
  {
   "cell_type": "code",
   "execution_count": 68,
   "metadata": {
    "collapsed": true
   },
   "outputs": [],
   "source": [
    "def batch_flow(inputs, targets, batch_size):\n",
    "    \"\"\"流动数据流\"\"\"\n",
    "    flowed = 0\n",
    "    total = len(inputs)\n",
    "    while True:\n",
    "        X_ret = []\n",
    "        y_ret = []\n",
    "        for i in range(total):\n",
    "            X_ret.append(inputs[i])\n",
    "            y_ret.append(targets[i])\n",
    "            if len(X_ret) == batch_size:\n",
    "                flowed += batch_size\n",
    "                X, y = np.array(X_ret), np.array(y_ret)\n",
    "                yield X, y\n",
    "                X_ret = []\n",
    "                y_ret = []\n",
    "            if flowed >= total:\n",
    "                break\n",
    "        if flowed >= total:\n",
    "            break"
   ]
  },
  {
   "cell_type": "code",
   "execution_count": 69,
   "metadata": {
    "collapsed": false
   },
   "outputs": [
    {
     "name": "stdout",
     "output_type": "stream",
     "text": [
      "(32, 64, 64, 3) (32, 128, 128, 3)\n"
     ]
    }
   ],
   "source": [
    "for batch_x, batch_y in batch_flow(X_train, y_train, batch_size):\n",
    "    print(batch_x.shape, batch_y.shape)\n",
    "    break"
   ]
  },
  {
   "cell_type": "code",
   "execution_count": 74,
   "metadata": {
    "collapsed": true
   },
   "outputs": [],
   "source": [
    "n_epoch = 100"
   ]
  },
  {
   "cell_type": "code",
   "execution_count": 75,
   "metadata": {
    "collapsed": false,
    "scrolled": false
   },
   "outputs": [
    {
     "name": "stderr",
     "output_type": "stream",
     "text": [
      "313it [00:09, 32.96it/s]0:00, 19.91it/s]\n",
      "  1%|▏         | 4/313 [00:00<00:10, 30.45it/s]"
     ]
    },
    {
     "name": "stdout",
     "output_type": "stream",
     "text": [
      "epoch: 0, loss: 13363.4668\n"
     ]
    },
    {
     "name": "stderr",
     "output_type": "stream",
     "text": [
      "100%|██████████| 313/313 [00:09<00:00, 33.68it/s]4%|▎         | 11/313 [00:00<00:09, 31.21it/s]\n",
      "  1%|▏         | 4/313 [00:00<00:08, 35.85it/s]"
     ]
    },
    {
     "name": "stdout",
     "output_type": "stream",
     "text": [
      "epoch: 1, loss: 12509.5625\n"
     ]
    },
    {
     "name": "stderr",
     "output_type": "stream",
     "text": [
      "100%|██████████| 313/313 [00:09<00:00, 34.07it/s]4%|▍         | 12/313 [00:00<00:08, 35.61it/s]\n",
      "  1%|▏         | 4/313 [00:00<00:08, 36.17it/s]"
     ]
    },
    {
     "name": "stdout",
     "output_type": "stream",
     "text": [
      "epoch: 2, loss: 12007.7334\n"
     ]
    },
    {
     "name": "stderr",
     "output_type": "stream",
     "text": [
      "100%|██████████| 313/313 [00:08<00:00, 35.52it/s]4%|▍         | 12/313 [00:00<00:08, 35.66it/s]\n",
      "  1%|▏         | 4/313 [00:00<00:08, 36.17it/s]"
     ]
    },
    {
     "name": "stdout",
     "output_type": "stream",
     "text": [
      "epoch: 3, loss: 11530.8262\n"
     ]
    },
    {
     "name": "stderr",
     "output_type": "stream",
     "text": [
      "100%|██████████| 313/313 [00:08<00:00, 35.62it/s]4%|▍         | 12/313 [00:00<00:08, 36.01it/s]\n",
      "  1%|▏         | 4/313 [00:00<00:08, 35.95it/s]"
     ]
    },
    {
     "name": "stdout",
     "output_type": "stream",
     "text": [
      "epoch: 4, loss: 11075.9619\n"
     ]
    },
    {
     "name": "stderr",
     "output_type": "stream",
     "text": [
      "100%|██████████| 313/313 [00:08<00:00, 35.54it/s]4%|▍         | 12/313 [00:00<00:08, 35.97it/s]\n",
      "  1%|▏         | 4/313 [00:00<00:08, 35.61it/s]"
     ]
    },
    {
     "name": "stdout",
     "output_type": "stream",
     "text": [
      "epoch: 5, loss: 10640.3818\n"
     ]
    },
    {
     "name": "stderr",
     "output_type": "stream",
     "text": [
      "100%|██████████| 313/313 [00:08<00:00, 35.56it/s]4%|▍         | 12/313 [00:00<00:08, 35.70it/s]\n",
      "  1%|▏         | 4/313 [00:00<00:08, 34.64it/s]"
     ]
    },
    {
     "name": "stdout",
     "output_type": "stream",
     "text": [
      "epoch: 6, loss: 10222.6553\n"
     ]
    },
    {
     "name": "stderr",
     "output_type": "stream",
     "text": [
      "100%|██████████| 313/313 [00:08<00:00, 35.51it/s]4%|▍         | 12/313 [00:00<00:08, 35.04it/s]\n",
      "  1%|▏         | 4/313 [00:00<00:08, 36.02it/s]"
     ]
    },
    {
     "name": "stdout",
     "output_type": "stream",
     "text": [
      "epoch: 7, loss: 9821.9707\n"
     ]
    },
    {
     "name": "stderr",
     "output_type": "stream",
     "text": [
      "100%|██████████| 313/313 [00:08<00:00, 35.52it/s]4%|▍         | 12/313 [00:00<00:08, 35.57it/s]\n",
      "  1%|▏         | 4/313 [00:00<00:08, 36.38it/s]"
     ]
    },
    {
     "name": "stdout",
     "output_type": "stream",
     "text": [
      "epoch: 8, loss: 9437.7217\n"
     ]
    },
    {
     "name": "stderr",
     "output_type": "stream",
     "text": [
      "100%|██████████| 313/313 [00:08<00:00, 35.40it/s]4%|▍         | 12/313 [00:00<00:08, 36.02it/s]\n",
      "  1%|▏         | 4/313 [00:00<00:08, 35.93it/s]"
     ]
    },
    {
     "name": "stdout",
     "output_type": "stream",
     "text": [
      "epoch: 9, loss: 9069.4023\n"
     ]
    },
    {
     "name": "stderr",
     "output_type": "stream",
     "text": [
      "100%|██████████| 313/313 [00:08<00:00, 35.61it/s]4%|▍         | 12/313 [00:00<00:08, 35.87it/s]\n",
      "  1%|▏         | 4/313 [00:00<00:08, 35.07it/s]"
     ]
    },
    {
     "name": "stdout",
     "output_type": "stream",
     "text": [
      "epoch: 10, loss: 8716.5732\n"
     ]
    },
    {
     "name": "stderr",
     "output_type": "stream",
     "text": [
      "100%|██████████| 313/313 [00:08<00:00, 35.52it/s]4%|▍         | 12/313 [00:00<00:08, 35.48it/s]\n",
      "  1%|▏         | 4/313 [00:00<00:08, 35.82it/s]"
     ]
    },
    {
     "name": "stdout",
     "output_type": "stream",
     "text": [
      "epoch: 11, loss: 8378.8613\n"
     ]
    },
    {
     "name": "stderr",
     "output_type": "stream",
     "text": [
      "100%|██████████| 313/313 [00:08<00:00, 35.51it/s]4%|▍         | 12/313 [00:00<00:08, 35.48it/s]\n",
      "  1%|▏         | 4/313 [00:00<00:08, 35.58it/s]"
     ]
    },
    {
     "name": "stdout",
     "output_type": "stream",
     "text": [
      "epoch: 12, loss: 8055.9360\n"
     ]
    },
    {
     "name": "stderr",
     "output_type": "stream",
     "text": [
      "100%|██████████| 313/313 [00:08<00:00, 35.54it/s]4%|▍         | 12/313 [00:00<00:08, 35.35it/s]\n",
      "  1%|▏         | 4/313 [00:00<00:08, 35.87it/s]"
     ]
    },
    {
     "name": "stdout",
     "output_type": "stream",
     "text": [
      "epoch: 13, loss: 7747.5098\n"
     ]
    },
    {
     "name": "stderr",
     "output_type": "stream",
     "text": [
      "100%|██████████| 313/313 [00:08<00:00, 35.49it/s]4%|▍         | 12/313 [00:00<00:08, 35.76it/s]\n",
      "  1%|▏         | 4/313 [00:00<00:08, 35.97it/s]"
     ]
    },
    {
     "name": "stdout",
     "output_type": "stream",
     "text": [
      "epoch: 14, loss: 7453.3276\n"
     ]
    },
    {
     "name": "stderr",
     "output_type": "stream",
     "text": [
      "100%|██████████| 313/313 [00:08<00:00, 35.53it/s]4%|▍         | 12/313 [00:00<00:08, 35.73it/s]\n",
      "  1%|▏         | 4/313 [00:00<00:08, 35.94it/s]"
     ]
    },
    {
     "name": "stdout",
     "output_type": "stream",
     "text": [
      "epoch: 15, loss: 7173.1631\n"
     ]
    },
    {
     "name": "stderr",
     "output_type": "stream",
     "text": [
      "100%|██████████| 313/313 [00:08<00:00, 35.49it/s]4%|▍         | 12/313 [00:00<00:08, 35.74it/s]\n",
      "  1%|▏         | 4/313 [00:00<00:08, 35.96it/s]"
     ]
    },
    {
     "name": "stdout",
     "output_type": "stream",
     "text": [
      "epoch: 16, loss: 6906.8081\n"
     ]
    },
    {
     "name": "stderr",
     "output_type": "stream",
     "text": [
      "100%|██████████| 313/313 [00:08<00:00, 35.42it/s]4%|▍         | 12/313 [00:00<00:08, 35.81it/s]\n",
      "  1%|▏         | 4/313 [00:00<00:08, 36.11it/s]"
     ]
    },
    {
     "name": "stdout",
     "output_type": "stream",
     "text": [
      "epoch: 17, loss: 6654.0713\n"
     ]
    },
    {
     "name": "stderr",
     "output_type": "stream",
     "text": [
      "100%|██████████| 313/313 [00:08<00:00, 35.47it/s]4%|▍         | 12/313 [00:00<00:08, 35.77it/s]\n",
      "  1%|▏         | 4/313 [00:00<00:08, 35.99it/s]"
     ]
    },
    {
     "name": "stdout",
     "output_type": "stream",
     "text": [
      "epoch: 18, loss: 6414.7725\n"
     ]
    },
    {
     "name": "stderr",
     "output_type": "stream",
     "text": [
      "100%|██████████| 313/313 [00:09<00:00, 34.63it/s]4%|▍         | 12/313 [00:00<00:08, 35.23it/s]\n",
      "  1%|▏         | 4/313 [00:00<00:09, 34.06it/s]"
     ]
    },
    {
     "name": "stdout",
     "output_type": "stream",
     "text": [
      "epoch: 19, loss: 6188.7349\n"
     ]
    },
    {
     "name": "stderr",
     "output_type": "stream",
     "text": [
      "100%|██████████| 313/313 [00:09<00:00, 33.55it/s]4%|▍         | 12/313 [00:00<00:08, 34.22it/s]\n",
      "  1%|▏         | 4/313 [00:00<00:08, 34.74it/s]"
     ]
    },
    {
     "name": "stdout",
     "output_type": "stream",
     "text": [
      "epoch: 20, loss: 5975.7837\n"
     ]
    },
    {
     "name": "stderr",
     "output_type": "stream",
     "text": [
      "100%|██████████| 313/313 [00:08<00:00, 34.81it/s]4%|▍         | 12/313 [00:00<00:08, 34.50it/s]\n",
      "  1%|▏         | 4/313 [00:00<00:08, 34.53it/s]"
     ]
    },
    {
     "name": "stdout",
     "output_type": "stream",
     "text": [
      "epoch: 21, loss: 5775.7451\n"
     ]
    },
    {
     "name": "stderr",
     "output_type": "stream",
     "text": [
      "100%|██████████| 313/313 [00:08<00:00, 34.79it/s]4%|▍         | 12/313 [00:00<00:08, 34.63it/s]\n",
      "  1%|▏         | 4/313 [00:00<00:08, 34.58it/s]"
     ]
    },
    {
     "name": "stdout",
     "output_type": "stream",
     "text": [
      "epoch: 22, loss: 5588.4429\n"
     ]
    },
    {
     "name": "stderr",
     "output_type": "stream",
     "text": [
      "100%|██████████| 313/313 [00:08<00:00, 34.78it/s]4%|▍         | 12/313 [00:00<00:08, 34.31it/s]\n",
      "  1%|▏         | 4/313 [00:00<00:08, 35.12it/s]"
     ]
    },
    {
     "name": "stdout",
     "output_type": "stream",
     "text": [
      "epoch: 23, loss: 5413.6909\n"
     ]
    },
    {
     "name": "stderr",
     "output_type": "stream",
     "text": [
      "100%|██████████| 313/313 [00:08<00:00, 34.82it/s]4%|▍         | 12/313 [00:00<00:08, 34.52it/s]\n",
      "  1%|▏         | 4/313 [00:00<00:08, 34.84it/s]"
     ]
    },
    {
     "name": "stdout",
     "output_type": "stream",
     "text": [
      "epoch: 24, loss: 5251.2915\n"
     ]
    },
    {
     "name": "stderr",
     "output_type": "stream",
     "text": [
      "100%|██████████| 313/313 [00:08<00:00, 34.80it/s]4%|▍         | 12/313 [00:00<00:08, 34.38it/s]\n",
      "  1%|▏         | 4/313 [00:00<00:08, 34.39it/s]"
     ]
    },
    {
     "name": "stdout",
     "output_type": "stream",
     "text": [
      "epoch: 25, loss: 5101.0332\n"
     ]
    },
    {
     "name": "stderr",
     "output_type": "stream",
     "text": [
      "100%|██████████| 313/313 [00:08<00:00, 34.83it/s]4%|▍         | 12/313 [00:00<00:08, 34.36it/s]\n",
      "  1%|▏         | 4/313 [00:00<00:08, 34.87it/s]"
     ]
    },
    {
     "name": "stdout",
     "output_type": "stream",
     "text": [
      "epoch: 26, loss: 4962.6836\n"
     ]
    },
    {
     "name": "stderr",
     "output_type": "stream",
     "text": [
      "100%|██████████| 313/313 [00:08<00:00, 34.79it/s]4%|▍         | 12/313 [00:00<00:08, 34.48it/s]\n",
      "  1%|▏         | 4/313 [00:00<00:08, 34.72it/s]"
     ]
    },
    {
     "name": "stdout",
     "output_type": "stream",
     "text": [
      "epoch: 27, loss: 4835.9902\n"
     ]
    },
    {
     "name": "stderr",
     "output_type": "stream",
     "text": [
      "100%|██████████| 313/313 [00:08<00:00, 34.87it/s]4%|▍         | 12/313 [00:00<00:08, 34.57it/s]\n",
      "  1%|▏         | 4/313 [00:00<00:08, 34.66it/s]"
     ]
    },
    {
     "name": "stdout",
     "output_type": "stream",
     "text": [
      "epoch: 28, loss: 4720.6743\n"
     ]
    },
    {
     "name": "stderr",
     "output_type": "stream",
     "text": [
      "100%|██████████| 313/313 [00:08<00:00, 34.82it/s]4%|▍         | 12/313 [00:00<00:08, 34.62it/s]\n",
      "  1%|▏         | 4/313 [00:00<00:08, 35.01it/s]"
     ]
    },
    {
     "name": "stdout",
     "output_type": "stream",
     "text": [
      "epoch: 29, loss: 4616.4287\n"
     ]
    },
    {
     "name": "stderr",
     "output_type": "stream",
     "text": [
      "100%|██████████| 313/313 [00:08<00:00, 34.86it/s]4%|▍         | 12/313 [00:00<00:08, 34.88it/s]\n",
      "  1%|▏         | 4/313 [00:00<00:08, 35.57it/s]"
     ]
    },
    {
     "name": "stdout",
     "output_type": "stream",
     "text": [
      "epoch: 30, loss: 4522.9111\n"
     ]
    },
    {
     "name": "stderr",
     "output_type": "stream",
     "text": [
      "100%|██████████| 313/313 [00:08<00:00, 34.91it/s]4%|▍         | 12/313 [00:00<00:08, 35.14it/s]\n",
      "  1%|▏         | 4/313 [00:00<00:08, 35.27it/s]"
     ]
    },
    {
     "name": "stdout",
     "output_type": "stream",
     "text": [
      "epoch: 31, loss: 4439.7461\n"
     ]
    },
    {
     "name": "stderr",
     "output_type": "stream",
     "text": [
      "100%|██████████| 313/313 [00:08<00:00, 34.89it/s]4%|▍         | 12/313 [00:00<00:08, 34.83it/s]\n",
      "  1%|▏         | 4/313 [00:00<00:09, 33.55it/s]"
     ]
    },
    {
     "name": "stdout",
     "output_type": "stream",
     "text": [
      "epoch: 32, loss: 4366.5122\n"
     ]
    },
    {
     "name": "stderr",
     "output_type": "stream",
     "text": [
      "100%|██████████| 313/313 [00:08<00:00, 34.86it/s]4%|▍         | 12/313 [00:00<00:08, 34.17it/s]\n",
      "  1%|▏         | 4/313 [00:00<00:08, 34.43it/s]"
     ]
    },
    {
     "name": "stdout",
     "output_type": "stream",
     "text": [
      "epoch: 33, loss: 4302.7412\n"
     ]
    },
    {
     "name": "stderr",
     "output_type": "stream",
     "text": [
      "100%|██████████| 313/313 [00:08<00:00, 34.89it/s]4%|▍         | 12/313 [00:00<00:08, 34.50it/s]\n",
      "  1%|▏         | 4/313 [00:00<00:08, 34.97it/s]"
     ]
    },
    {
     "name": "stdout",
     "output_type": "stream",
     "text": [
      "epoch: 34, loss: 4247.9146\n"
     ]
    },
    {
     "name": "stderr",
     "output_type": "stream",
     "text": [
      "100%|██████████| 313/313 [00:08<00:00, 34.82it/s]4%|▍         | 12/313 [00:00<00:08, 34.33it/s]\n",
      "  1%|▏         | 4/313 [00:00<00:08, 34.96it/s]"
     ]
    },
    {
     "name": "stdout",
     "output_type": "stream",
     "text": [
      "epoch: 35, loss: 4201.4546\n"
     ]
    },
    {
     "name": "stderr",
     "output_type": "stream",
     "text": [
      "100%|██████████| 313/313 [00:08<00:00, 34.81it/s]4%|▍         | 12/313 [00:00<00:08, 34.82it/s]\n",
      "  1%|▏         | 4/313 [00:00<00:08, 35.30it/s]"
     ]
    },
    {
     "name": "stdout",
     "output_type": "stream",
     "text": [
      "epoch: 36, loss: 4162.7275\n"
     ]
    },
    {
     "name": "stderr",
     "output_type": "stream",
     "text": [
      "100%|██████████| 313/313 [00:08<00:00, 34.81it/s]4%|▍         | 12/313 [00:00<00:08, 35.01it/s]\n",
      "  1%|▏         | 4/313 [00:00<00:08, 35.04it/s]"
     ]
    },
    {
     "name": "stdout",
     "output_type": "stream",
     "text": [
      "epoch: 37, loss: 4131.0444\n"
     ]
    },
    {
     "name": "stderr",
     "output_type": "stream",
     "text": [
      "100%|██████████| 313/313 [00:08<00:00, 34.93it/s]4%|▍         | 12/313 [00:00<00:08, 34.72it/s]\n",
      "  1%|▏         | 4/313 [00:00<00:08, 34.49it/s]"
     ]
    },
    {
     "name": "stdout",
     "output_type": "stream",
     "text": [
      "epoch: 38, loss: 4105.6631\n"
     ]
    },
    {
     "name": "stderr",
     "output_type": "stream",
     "text": [
      "100%|██████████| 313/313 [00:08<00:00, 34.83it/s]4%|▍         | 12/313 [00:00<00:08, 34.40it/s]\n",
      "  1%|▏         | 4/313 [00:00<00:08, 35.52it/s]"
     ]
    },
    {
     "name": "stdout",
     "output_type": "stream",
     "text": [
      "epoch: 39, loss: 4085.8042\n"
     ]
    },
    {
     "name": "stderr",
     "output_type": "stream",
     "text": [
      "100%|██████████| 313/313 [00:08<00:00, 34.80it/s]4%|▍         | 12/313 [00:00<00:08, 35.02it/s]\n",
      "  1%|▏         | 4/313 [00:00<00:08, 34.97it/s]"
     ]
    },
    {
     "name": "stdout",
     "output_type": "stream",
     "text": [
      "epoch: 40, loss: 4070.6694\n"
     ]
    },
    {
     "name": "stderr",
     "output_type": "stream",
     "text": [
      "100%|██████████| 313/313 [00:08<00:00, 34.84it/s]4%|▍         | 12/313 [00:00<00:08, 34.67it/s]\n",
      "  1%|▏         | 4/313 [00:00<00:08, 35.41it/s]"
     ]
    },
    {
     "name": "stdout",
     "output_type": "stream",
     "text": [
      "epoch: 41, loss: 4059.4666\n"
     ]
    },
    {
     "name": "stderr",
     "output_type": "stream",
     "text": [
      "100%|██████████| 313/313 [00:08<00:00, 34.83it/s]4%|▍         | 12/313 [00:00<00:08, 34.95it/s]\n",
      "  1%|▏         | 4/313 [00:00<00:08, 34.71it/s]"
     ]
    },
    {
     "name": "stdout",
     "output_type": "stream",
     "text": [
      "epoch: 42, loss: 4051.4380\n"
     ]
    },
    {
     "name": "stderr",
     "output_type": "stream",
     "text": [
      "100%|██████████| 313/313 [00:08<00:00, 34.81it/s]4%|▍         | 12/313 [00:00<00:08, 34.62it/s]\n",
      "  1%|▏         | 4/313 [00:00<00:08, 35.39it/s]"
     ]
    },
    {
     "name": "stdout",
     "output_type": "stream",
     "text": [
      "epoch: 43, loss: 4045.8877\n"
     ]
    },
    {
     "name": "stderr",
     "output_type": "stream",
     "text": [
      "100%|██████████| 313/313 [00:09<00:00, 34.01it/s]4%|▍         | 12/313 [00:00<00:08, 34.77it/s]\n",
      "  1%|▏         | 4/313 [00:00<00:09, 33.89it/s]"
     ]
    },
    {
     "name": "stdout",
     "output_type": "stream",
     "text": [
      "epoch: 44, loss: 4042.2017\n"
     ]
    },
    {
     "name": "stderr",
     "output_type": "stream",
     "text": [
      "100%|██████████| 313/313 [00:09<00:00, 33.95it/s]4%|▍         | 12/313 [00:00<00:08, 34.18it/s]\n",
      "  1%|▏         | 4/313 [00:00<00:09, 32.33it/s]"
     ]
    },
    {
     "name": "stdout",
     "output_type": "stream",
     "text": [
      "epoch: 45, loss: 4039.8601\n"
     ]
    },
    {
     "name": "stderr",
     "output_type": "stream",
     "text": [
      "100%|██████████| 313/313 [00:09<00:00, 34.28it/s]4%|▍         | 12/313 [00:00<00:09, 32.34it/s]\n",
      "  1%|▏         | 4/313 [00:00<00:09, 31.96it/s]"
     ]
    },
    {
     "name": "stdout",
     "output_type": "stream",
     "text": [
      "epoch: 46, loss: 4038.4453\n"
     ]
    },
    {
     "name": "stderr",
     "output_type": "stream",
     "text": [
      "100%|██████████| 313/313 [00:09<00:00, 33.99it/s]4%|▍         | 12/313 [00:00<00:09, 32.68it/s]\n",
      "  1%|▏         | 4/313 [00:00<00:08, 35.91it/s]"
     ]
    },
    {
     "name": "stdout",
     "output_type": "stream",
     "text": [
      "epoch: 47, loss: 4037.6357\n"
     ]
    },
    {
     "name": "stderr",
     "output_type": "stream",
     "text": [
      "100%|██████████| 313/313 [00:09<00:00, 33.66it/s]4%|▍         | 12/313 [00:00<00:08, 35.71it/s]\n",
      "  1%|▏         | 4/313 [00:00<00:08, 35.71it/s]"
     ]
    },
    {
     "name": "stdout",
     "output_type": "stream",
     "text": [
      "epoch: 48, loss: 4037.1978\n"
     ]
    },
    {
     "name": "stderr",
     "output_type": "stream",
     "text": [
      "100%|██████████| 313/313 [00:09<00:00, 34.74it/s]4%|▍         | 12/313 [00:00<00:08, 35.43it/s]\n",
      "  1%|▏         | 4/313 [00:00<00:08, 36.00it/s]"
     ]
    },
    {
     "name": "stdout",
     "output_type": "stream",
     "text": [
      "epoch: 49, loss: 4036.9753\n"
     ]
    },
    {
     "name": "stderr",
     "output_type": "stream",
     "text": [
      "100%|██████████| 313/313 [00:08<00:00, 35.42it/s]4%|▍         | 12/313 [00:00<00:08, 35.77it/s]\n",
      "  1%|▏         | 4/313 [00:00<00:08, 36.07it/s]"
     ]
    },
    {
     "name": "stdout",
     "output_type": "stream",
     "text": [
      "epoch: 50, loss: 4036.8674\n"
     ]
    },
    {
     "name": "stderr",
     "output_type": "stream",
     "text": [
      "100%|██████████| 313/313 [00:09<00:00, 34.34it/s]4%|▍         | 12/313 [00:00<00:08, 35.75it/s]\n",
      "  1%|▏         | 4/313 [00:00<00:09, 33.04it/s]"
     ]
    },
    {
     "name": "stdout",
     "output_type": "stream",
     "text": [
      "epoch: 51, loss: 4036.8186\n"
     ]
    },
    {
     "name": "stderr",
     "output_type": "stream",
     "text": [
      "100%|██████████| 313/313 [00:08<00:00, 34.88it/s]4%|▍         | 12/313 [00:00<00:09, 31.83it/s]\n",
      "  1%|▏         | 4/313 [00:00<00:08, 36.21it/s]"
     ]
    },
    {
     "name": "stdout",
     "output_type": "stream",
     "text": [
      "epoch: 52, loss: 4036.7971\n"
     ]
    },
    {
     "name": "stderr",
     "output_type": "stream",
     "text": [
      "100%|██████████| 313/313 [00:08<00:00, 34.91it/s]4%|▍         | 12/313 [00:00<00:08, 34.42it/s]\n",
      "  1%|▏         | 4/313 [00:00<00:08, 35.83it/s]"
     ]
    },
    {
     "name": "stdout",
     "output_type": "stream",
     "text": [
      "epoch: 53, loss: 4036.7871\n"
     ]
    },
    {
     "name": "stderr",
     "output_type": "stream",
     "text": [
      "100%|██████████| 313/313 [00:09<00:00, 34.56it/s]4%|▍         | 12/313 [00:00<00:08, 35.25it/s]\n",
      "  1%|▏         | 4/313 [00:00<00:09, 33.13it/s]"
     ]
    },
    {
     "name": "stdout",
     "output_type": "stream",
     "text": [
      "epoch: 54, loss: 4036.7834\n"
     ]
    },
    {
     "name": "stderr",
     "output_type": "stream",
     "text": [
      "100%|██████████| 313/313 [00:08<00:00, 34.82it/s]4%|▍         | 12/313 [00:00<00:09, 33.08it/s]\n",
      "  1%|▏         | 4/313 [00:00<00:08, 35.20it/s]"
     ]
    },
    {
     "name": "stdout",
     "output_type": "stream",
     "text": [
      "epoch: 55, loss: 4036.7820\n"
     ]
    },
    {
     "name": "stderr",
     "output_type": "stream",
     "text": [
      "100%|██████████| 313/313 [00:08<00:00, 35.41it/s]4%|▍         | 12/313 [00:00<00:08, 35.09it/s]\n",
      "  1%|▏         | 4/313 [00:00<00:08, 35.66it/s]"
     ]
    },
    {
     "name": "stdout",
     "output_type": "stream",
     "text": [
      "epoch: 56, loss: 4036.7808\n"
     ]
    },
    {
     "name": "stderr",
     "output_type": "stream",
     "text": [
      "100%|██████████| 313/313 [00:08<00:00, 35.43it/s]4%|▍         | 12/313 [00:00<00:08, 35.76it/s]\n",
      "  1%|▏         | 4/313 [00:00<00:08, 35.36it/s]"
     ]
    },
    {
     "name": "stdout",
     "output_type": "stream",
     "text": [
      "epoch: 57, loss: 4036.7803\n"
     ]
    },
    {
     "name": "stderr",
     "output_type": "stream",
     "text": [
      "100%|██████████| 313/313 [00:08<00:00, 35.42it/s]4%|▍         | 12/313 [00:00<00:08, 35.52it/s]\n",
      "  1%|▏         | 4/313 [00:00<00:08, 35.24it/s]"
     ]
    },
    {
     "name": "stdout",
     "output_type": "stream",
     "text": [
      "epoch: 58, loss: 4036.7803\n"
     ]
    },
    {
     "name": "stderr",
     "output_type": "stream",
     "text": [
      "100%|██████████| 313/313 [00:08<00:00, 35.40it/s]4%|▍         | 12/313 [00:00<00:08, 35.28it/s]\n",
      "  1%|▏         | 4/313 [00:00<00:08, 35.03it/s]"
     ]
    },
    {
     "name": "stdout",
     "output_type": "stream",
     "text": [
      "epoch: 59, loss: 4036.7803\n"
     ]
    },
    {
     "name": "stderr",
     "output_type": "stream",
     "text": [
      "100%|██████████| 313/313 [00:09<00:00, 34.54it/s]4%|▍         | 12/313 [00:00<00:08, 35.30it/s]\n",
      "  1%|▏         | 4/313 [00:00<00:08, 35.36it/s]"
     ]
    },
    {
     "name": "stdout",
     "output_type": "stream",
     "text": [
      "epoch: 60, loss: 4036.7800\n"
     ]
    },
    {
     "name": "stderr",
     "output_type": "stream",
     "text": [
      "100%|██████████| 313/313 [00:08<00:00, 35.23it/s]4%|▍         | 12/313 [00:00<00:08, 35.29it/s]\n",
      "  1%|▏         | 4/313 [00:00<00:08, 35.93it/s]"
     ]
    },
    {
     "name": "stdout",
     "output_type": "stream",
     "text": [
      "epoch: 61, loss: 4036.7803\n"
     ]
    },
    {
     "name": "stderr",
     "output_type": "stream",
     "text": [
      "100%|██████████| 313/313 [00:09<00:00, 34.42it/s]4%|▍         | 12/313 [00:00<00:08, 35.71it/s]\n",
      "  1%|▏         | 4/313 [00:00<00:08, 34.83it/s]"
     ]
    },
    {
     "name": "stdout",
     "output_type": "stream",
     "text": [
      "epoch: 62, loss: 4036.7803\n"
     ]
    },
    {
     "name": "stderr",
     "output_type": "stream",
     "text": [
      "100%|██████████| 313/313 [00:09<00:00, 34.13it/s]4%|▍         | 12/313 [00:00<00:09, 33.36it/s]\n",
      "  1%|▏         | 4/313 [00:00<00:08, 36.14it/s]"
     ]
    },
    {
     "name": "stdout",
     "output_type": "stream",
     "text": [
      "epoch: 63, loss: 4036.7803\n"
     ]
    },
    {
     "name": "stderr",
     "output_type": "stream",
     "text": [
      "100%|██████████| 313/313 [00:09<00:00, 34.16it/s]4%|▍         | 12/313 [00:00<00:08, 35.62it/s]\n",
      "  1%|▏         | 4/313 [00:00<00:09, 33.74it/s]"
     ]
    },
    {
     "name": "stdout",
     "output_type": "stream",
     "text": [
      "epoch: 64, loss: 4036.7795\n"
     ]
    },
    {
     "name": "stderr",
     "output_type": "stream",
     "text": [
      "100%|██████████| 313/313 [00:09<00:00, 34.28it/s]4%|▍         | 12/313 [00:00<00:09, 32.47it/s]\n",
      "  1%|▏         | 4/313 [00:00<00:09, 33.58it/s]"
     ]
    },
    {
     "name": "stdout",
     "output_type": "stream",
     "text": [
      "epoch: 65, loss: 4036.7803\n"
     ]
    },
    {
     "name": "stderr",
     "output_type": "stream",
     "text": [
      "100%|██████████| 313/313 [00:09<00:00, 33.64it/s]4%|▍         | 12/313 [00:00<00:08, 33.94it/s]\n",
      "  1%|▏         | 4/313 [00:00<00:09, 32.68it/s]"
     ]
    },
    {
     "name": "stdout",
     "output_type": "stream",
     "text": [
      "epoch: 66, loss: 4036.7803\n"
     ]
    },
    {
     "name": "stderr",
     "output_type": "stream",
     "text": [
      "100%|██████████| 313/313 [00:09<00:00, 34.56it/s]4%|▍         | 12/313 [00:00<00:09, 33.37it/s]\n",
      "  1%|▏         | 4/313 [00:00<00:08, 34.78it/s]"
     ]
    },
    {
     "name": "stdout",
     "output_type": "stream",
     "text": [
      "epoch: 67, loss: 4036.7803\n"
     ]
    },
    {
     "name": "stderr",
     "output_type": "stream",
     "text": [
      "100%|██████████| 313/313 [00:09<00:00, 34.61it/s]4%|▍         | 12/313 [00:00<00:08, 34.29it/s]\n",
      "  1%|▏         | 4/313 [00:00<00:09, 33.53it/s]"
     ]
    },
    {
     "name": "stdout",
     "output_type": "stream",
     "text": [
      "epoch: 68, loss: 4036.7803\n"
     ]
    },
    {
     "name": "stderr",
     "output_type": "stream",
     "text": [
      "100%|██████████| 313/313 [00:09<00:00, 34.46it/s]4%|▍         | 12/313 [00:00<00:09, 33.35it/s]\n",
      "  1%|▏         | 4/313 [00:00<00:08, 36.22it/s]"
     ]
    },
    {
     "name": "stdout",
     "output_type": "stream",
     "text": [
      "epoch: 69, loss: 4036.7800\n"
     ]
    },
    {
     "name": "stderr",
     "output_type": "stream",
     "text": [
      "100%|██████████| 313/313 [00:09<00:00, 34.48it/s]4%|▍         | 12/313 [00:00<00:08, 35.95it/s]\n",
      "  1%|▏         | 4/313 [00:00<00:09, 33.83it/s]"
     ]
    },
    {
     "name": "stdout",
     "output_type": "stream",
     "text": [
      "epoch: 70, loss: 4036.7800\n"
     ]
    },
    {
     "name": "stderr",
     "output_type": "stream",
     "text": [
      "100%|██████████| 313/313 [00:09<00:00, 34.32it/s]4%|▍         | 12/313 [00:00<00:08, 33.91it/s]\n",
      "  1%|▏         | 4/313 [00:00<00:08, 35.41it/s]"
     ]
    },
    {
     "name": "stdout",
     "output_type": "stream",
     "text": [
      "epoch: 71, loss: 4036.7803\n"
     ]
    },
    {
     "name": "stderr",
     "output_type": "stream",
     "text": [
      "100%|██████████| 313/313 [00:09<00:00, 34.03it/s]4%|▍         | 12/313 [00:00<00:08, 35.48it/s]\n",
      "  1%|▏         | 4/313 [00:00<00:08, 35.38it/s]"
     ]
    },
    {
     "name": "stdout",
     "output_type": "stream",
     "text": [
      "epoch: 72, loss: 4036.7803\n"
     ]
    },
    {
     "name": "stderr",
     "output_type": "stream",
     "text": [
      "100%|██████████| 313/313 [00:08<00:00, 34.88it/s]4%|▍         | 12/313 [00:00<00:08, 35.45it/s]\n",
      "  1%|▏         | 4/313 [00:00<00:08, 35.53it/s]"
     ]
    },
    {
     "name": "stdout",
     "output_type": "stream",
     "text": [
      "epoch: 73, loss: 4036.7800\n"
     ]
    },
    {
     "name": "stderr",
     "output_type": "stream",
     "text": [
      "100%|██████████| 313/313 [00:08<00:00, 34.98it/s]4%|▍         | 12/313 [00:00<00:08, 35.61it/s]\n",
      "  1%|▏         | 4/313 [00:00<00:08, 35.53it/s]"
     ]
    },
    {
     "name": "stdout",
     "output_type": "stream",
     "text": [
      "epoch: 74, loss: 4036.7803\n"
     ]
    },
    {
     "name": "stderr",
     "output_type": "stream",
     "text": [
      "100%|██████████| 313/313 [00:08<00:00, 35.23it/s]4%|▍         | 12/313 [00:00<00:08, 35.59it/s]\n",
      "  1%|▏         | 4/313 [00:00<00:08, 36.11it/s]"
     ]
    },
    {
     "name": "stdout",
     "output_type": "stream",
     "text": [
      "epoch: 75, loss: 4036.7803\n"
     ]
    },
    {
     "name": "stderr",
     "output_type": "stream",
     "text": [
      "100%|██████████| 313/313 [00:08<00:00, 35.31it/s]4%|▍         | 12/313 [00:00<00:08, 35.37it/s]\n",
      "  1%|▏         | 4/313 [00:00<00:08, 35.87it/s]"
     ]
    },
    {
     "name": "stdout",
     "output_type": "stream",
     "text": [
      "epoch: 76, loss: 4036.7803\n"
     ]
    },
    {
     "name": "stderr",
     "output_type": "stream",
     "text": [
      "100%|██████████| 313/313 [00:08<00:00, 35.27it/s]4%|▍         | 12/313 [00:00<00:08, 35.82it/s]\n",
      "  1%|▏         | 4/313 [00:00<00:08, 35.16it/s]"
     ]
    },
    {
     "name": "stdout",
     "output_type": "stream",
     "text": [
      "epoch: 77, loss: 4036.7803\n"
     ]
    },
    {
     "name": "stderr",
     "output_type": "stream",
     "text": [
      "100%|██████████| 313/313 [00:08<00:00, 35.32it/s]4%|▍         | 12/313 [00:00<00:08, 35.31it/s]\n",
      "  1%|▏         | 4/313 [00:00<00:08, 35.48it/s]"
     ]
    },
    {
     "name": "stdout",
     "output_type": "stream",
     "text": [
      "epoch: 78, loss: 4036.7803\n"
     ]
    },
    {
     "name": "stderr",
     "output_type": "stream",
     "text": [
      "100%|██████████| 313/313 [00:08<00:00, 35.33it/s]4%|▍         | 12/313 [00:00<00:08, 35.26it/s]\n",
      "  1%|▏         | 4/313 [00:00<00:08, 34.53it/s]"
     ]
    },
    {
     "name": "stdout",
     "output_type": "stream",
     "text": [
      "epoch: 79, loss: 4036.7803\n"
     ]
    },
    {
     "name": "stderr",
     "output_type": "stream",
     "text": [
      "100%|██████████| 313/313 [00:08<00:00, 35.36it/s]4%|▍         | 12/313 [00:00<00:08, 35.02it/s]\n",
      "  1%|▏         | 4/313 [00:00<00:08, 35.96it/s]"
     ]
    },
    {
     "name": "stdout",
     "output_type": "stream",
     "text": [
      "epoch: 80, loss: 4036.7803\n"
     ]
    },
    {
     "name": "stderr",
     "output_type": "stream",
     "text": [
      "100%|██████████| 313/313 [00:08<00:00, 35.30it/s]4%|▍         | 12/313 [00:00<00:08, 35.39it/s]\n",
      "  1%|▏         | 4/313 [00:00<00:08, 36.15it/s]"
     ]
    },
    {
     "name": "stdout",
     "output_type": "stream",
     "text": [
      "epoch: 81, loss: 4036.7803\n"
     ]
    },
    {
     "name": "stderr",
     "output_type": "stream",
     "text": [
      "100%|██████████| 313/313 [00:08<00:00, 35.30it/s]4%|▍         | 12/313 [00:00<00:08, 35.70it/s]\n",
      "  1%|▏         | 4/313 [00:00<00:08, 35.58it/s]"
     ]
    },
    {
     "name": "stdout",
     "output_type": "stream",
     "text": [
      "epoch: 82, loss: 4036.7803\n"
     ]
    },
    {
     "name": "stderr",
     "output_type": "stream",
     "text": [
      "100%|██████████| 313/313 [00:08<00:00, 35.25it/s]4%|▍         | 12/313 [00:00<00:08, 35.62it/s]\n",
      "  1%|▏         | 4/313 [00:00<00:08, 35.78it/s]"
     ]
    },
    {
     "name": "stdout",
     "output_type": "stream",
     "text": [
      "epoch: 83, loss: 4036.7800\n"
     ]
    },
    {
     "name": "stderr",
     "output_type": "stream",
     "text": [
      "100%|██████████| 313/313 [00:09<00:00, 34.72it/s]4%|▍         | 12/313 [00:00<00:08, 35.62it/s]\n",
      "  1%|▏         | 4/313 [00:00<00:08, 36.06it/s]"
     ]
    },
    {
     "name": "stdout",
     "output_type": "stream",
     "text": [
      "epoch: 84, loss: 4036.7800\n"
     ]
    },
    {
     "name": "stderr",
     "output_type": "stream",
     "text": [
      "100%|██████████| 313/313 [00:09<00:00, 34.40it/s]4%|▍         | 12/313 [00:00<00:08, 35.94it/s]\n",
      "  1%|▏         | 4/313 [00:00<00:08, 35.02it/s]"
     ]
    },
    {
     "name": "stdout",
     "output_type": "stream",
     "text": [
      "epoch: 85, loss: 4036.7800\n"
     ]
    },
    {
     "name": "stderr",
     "output_type": "stream",
     "text": [
      "100%|██████████| 313/313 [00:08<00:00, 34.84it/s]4%|▍         | 12/313 [00:00<00:08, 34.77it/s]\n",
      "  1%|▏         | 4/313 [00:00<00:08, 34.68it/s]"
     ]
    },
    {
     "name": "stdout",
     "output_type": "stream",
     "text": [
      "epoch: 86, loss: 4036.7803\n"
     ]
    },
    {
     "name": "stderr",
     "output_type": "stream",
     "text": [
      "100%|██████████| 313/313 [00:08<00:00, 34.85it/s]4%|▍         | 12/313 [00:00<00:08, 34.50it/s]\n",
      "  1%|▏         | 4/313 [00:00<00:09, 34.23it/s]"
     ]
    },
    {
     "name": "stdout",
     "output_type": "stream",
     "text": [
      "epoch: 87, loss: 4036.7803\n"
     ]
    },
    {
     "name": "stderr",
     "output_type": "stream",
     "text": [
      "100%|██████████| 313/313 [00:08<00:00, 34.80it/s]4%|▍         | 12/313 [00:00<00:08, 34.23it/s]\n",
      "  1%|▏         | 4/313 [00:00<00:08, 34.72it/s]"
     ]
    },
    {
     "name": "stdout",
     "output_type": "stream",
     "text": [
      "epoch: 88, loss: 4036.7800\n"
     ]
    },
    {
     "name": "stderr",
     "output_type": "stream",
     "text": [
      "100%|██████████| 313/313 [00:08<00:00, 34.85it/s]4%|▍         | 12/313 [00:00<00:08, 34.42it/s]\n",
      "  1%|▏         | 4/313 [00:00<00:09, 34.19it/s]"
     ]
    },
    {
     "name": "stdout",
     "output_type": "stream",
     "text": [
      "epoch: 89, loss: 4036.7800\n"
     ]
    },
    {
     "name": "stderr",
     "output_type": "stream",
     "text": [
      "100%|██████████| 313/313 [00:08<00:00, 34.80it/s]4%|▍         | 12/313 [00:00<00:08, 34.17it/s]\n",
      "  1%|▏         | 4/313 [00:00<00:08, 34.49it/s]"
     ]
    },
    {
     "name": "stdout",
     "output_type": "stream",
     "text": [
      "epoch: 90, loss: 4036.7800\n"
     ]
    },
    {
     "name": "stderr",
     "output_type": "stream",
     "text": [
      "100%|██████████| 313/313 [00:08<00:00, 34.84it/s]4%|▍         | 12/313 [00:00<00:08, 34.33it/s]\n",
      "  1%|▏         | 4/313 [00:00<00:08, 34.43it/s]"
     ]
    },
    {
     "name": "stdout",
     "output_type": "stream",
     "text": [
      "epoch: 91, loss: 4036.7803\n"
     ]
    },
    {
     "name": "stderr",
     "output_type": "stream",
     "text": [
      "100%|██████████| 313/313 [00:08<00:00, 34.86it/s]4%|▍         | 12/313 [00:00<00:08, 34.19it/s]\n",
      "  1%|▏         | 4/313 [00:00<00:08, 34.59it/s]"
     ]
    },
    {
     "name": "stdout",
     "output_type": "stream",
     "text": [
      "epoch: 92, loss: 4036.7803\n"
     ]
    },
    {
     "name": "stderr",
     "output_type": "stream",
     "text": [
      "100%|██████████| 313/313 [00:09<00:00, 34.45it/s]4%|▍         | 12/313 [00:00<00:08, 34.45it/s]\n",
      "  1%|▏         | 4/313 [00:00<00:08, 34.86it/s]"
     ]
    },
    {
     "name": "stdout",
     "output_type": "stream",
     "text": [
      "epoch: 93, loss: 4036.7800\n"
     ]
    },
    {
     "name": "stderr",
     "output_type": "stream",
     "text": [
      "100%|██████████| 313/313 [00:08<00:00, 34.85it/s]4%|▍         | 12/313 [00:00<00:08, 34.49it/s]\n",
      "  1%|▏         | 4/313 [00:00<00:09, 33.83it/s]"
     ]
    },
    {
     "name": "stdout",
     "output_type": "stream",
     "text": [
      "epoch: 94, loss: 4036.7803\n"
     ]
    },
    {
     "name": "stderr",
     "output_type": "stream",
     "text": [
      "100%|██████████| 313/313 [00:09<00:00, 34.71it/s]4%|▍         | 12/313 [00:00<00:09, 33.37it/s]\n",
      "  1%|▏         | 4/313 [00:00<00:09, 34.29it/s]"
     ]
    },
    {
     "name": "stdout",
     "output_type": "stream",
     "text": [
      "epoch: 95, loss: 4036.7800\n"
     ]
    },
    {
     "name": "stderr",
     "output_type": "stream",
     "text": [
      "100%|██████████| 313/313 [00:08<00:00, 34.82it/s]4%|▍         | 12/313 [00:00<00:08, 34.41it/s]\n",
      "  1%|▏         | 4/313 [00:00<00:08, 34.36it/s]"
     ]
    },
    {
     "name": "stdout",
     "output_type": "stream",
     "text": [
      "epoch: 96, loss: 4036.7803\n"
     ]
    },
    {
     "name": "stderr",
     "output_type": "stream",
     "text": [
      "100%|██████████| 313/313 [00:08<00:00, 34.79it/s]4%|▍         | 12/313 [00:00<00:08, 34.32it/s]\n",
      "  1%|▏         | 4/313 [00:00<00:08, 34.77it/s]"
     ]
    },
    {
     "name": "stdout",
     "output_type": "stream",
     "text": [
      "epoch: 97, loss: 4036.7800\n"
     ]
    },
    {
     "name": "stderr",
     "output_type": "stream",
     "text": [
      "100%|██████████| 313/313 [00:08<00:00, 34.85it/s]4%|▍         | 12/313 [00:00<00:08, 34.26it/s]\n",
      "  1%|▏         | 4/313 [00:00<00:08, 34.59it/s]"
     ]
    },
    {
     "name": "stdout",
     "output_type": "stream",
     "text": [
      "epoch: 98, loss: 4036.7800\n"
     ]
    },
    {
     "name": "stderr",
     "output_type": "stream",
     "text": [
      "100%|██████████| 313/313 [00:08<00:00, 34.86it/s]4%|▍         | 12/313 [00:00<00:08, 34.34it/s]\n",
      "2it [00:00, 15.76it/s]"
     ]
    },
    {
     "name": "stdout",
     "output_type": "stream",
     "text": [
      "epoch: 99, loss: 4036.7803\n",
      "calculate train accuracy\n"
     ]
    },
    {
     "name": "stderr",
     "output_type": "stream",
     "text": [
      "313it [00:18, 16.54it/s]t [00:00, 16.06it/s]\n",
      "2it [00:00, 16.17it/s]"
     ]
    },
    {
     "name": "stdout",
     "output_type": "stream",
     "text": [
      "test loss: 4035.7788\n",
      "calculate test accuracy\n"
     ]
    },
    {
     "name": "stderr",
     "output_type": "stream",
     "text": [
      "79it [00:04, 16.47it/s]it [00:00, 16.09it/s]"
     ]
    },
    {
     "name": "stdout",
     "output_type": "stream",
     "text": [
      "test loss: 4117.8384\n",
      "Done\n"
     ]
    },
    {
     "name": "stderr",
     "output_type": "stream",
     "text": [
      "\n"
     ]
    }
   ],
   "source": [
    "with tf.Session() as sess:\n",
    "    sess.run(init)\n",
    "    total = None\n",
    "    for epoch in range(n_epoch):\n",
    "        costs = []\n",
    "        for batch_x, batch_y in tqdm(batch_flow(X_train, y_train, batch_size), total=total):\n",
    "            _, c = sess.run([opt, cost], feed_dict={X: batch_x, y: batch_y})\n",
    "            costs.append(c)\n",
    "        print('epoch: {}, loss: {:.4f}'.format(epoch, np.mean(costs)))\n",
    "        if total is None:\n",
    "            total = len(costs)\n",
    "    print('calculate train accuracy')\n",
    "    costs = []\n",
    "    train_result = []\n",
    "    for batch_x, batch_y in tqdm(batch_flow(X_train, y_train, batch_size)):\n",
    "        c, p = sess.run([cost, pred], feed_dict={X: batch_x, y: batch_y})\n",
    "        costs.append(c)\n",
    "        train_result += list(p)\n",
    "    print('test loss: {:.4f}'.format(np.mean(costs)))\n",
    "    print('calculate test accuracy')\n",
    "    costs = []\n",
    "    test_result = []\n",
    "    for batch_x, batch_y in tqdm(batch_flow(X_test, y_test, batch_size)):\n",
    "        c, p = sess.run([cost, pred], feed_dict={X: batch_x, y: batch_y})\n",
    "        costs.append(c)\n",
    "        test_result += list(p)\n",
    "    print('test loss: {:.4f}'.format(np.mean(costs)))\n",
    "    print('Done')"
   ]
  },
  {
   "cell_type": "code",
   "execution_count": 76,
   "metadata": {
    "collapsed": false
   },
   "outputs": [],
   "source": [
    "def disp(n, times=255.0):\n",
    "    display(\n",
    "        Image.fromarray(np.uint8(X_train[n] * times)).resize((128, 128), Image.ANTIALIAS),\n",
    "        Image.fromarray(np.uint8(train_result[n] * times)),\n",
    "        Image.fromarray(np.uint8(y_train[n] * times))\n",
    "    )"
   ]
  },
  {
   "cell_type": "code",
   "execution_count": 77,
   "metadata": {
    "collapsed": false
   },
   "outputs": [
    {
     "data": {
      "image/png": "[encoded data removed]",
      "text/plain": [
       "<PIL.Image.Image image mode=RGB size=128x128 at 0x7FD9884C36A0>"
      ]
     },
     "metadata": {},
     "output_type": "display_data"
    },
    {
     "data": {
      "image/png": "[encoded data removed]",
      "text/plain": [
       "<PIL.Image.Image image mode=RGB size=128x128 at 0x7FD9884C3198>"
      ]
     },
     "metadata": {},
     "output_type": "display_data"
    },
    {
     "data": {
      "image/png": "[encoded data removed]",
      "text/plain": [
       "<PIL.Image.Image image mode=RGB size=128x128 at 0x7FD9884C36D8>"
      ]
     },
     "metadata": {},
     "output_type": "display_data"
    }
   ],
   "source": [
    "disp(0, 1.0)"
   ]
  },
  {
   "cell_type": "code",
   "execution_count": null,
   "metadata": {
    "collapsed": true
   },
   "outputs": [],
   "source": []
  }
 ],
 "metadata": {
  "kernelspec": {
   "display_name": "Python 3",
   "language": "python",
   "name": "python3"
  },
  "language_info": {
   "codemirror_mode": {
    "name": "ipython",
    "version": 3
   },
   "file_extension": ".py",
   "mimetype": "text/x-python",
   "name": "python",
   "nbconvert_exporter": "python",
   "pygments_lexer": "ipython3",
   "version": "3.5.2"
  }
 },
 "nbformat": 4,
 "nbformat_minor": 2
}
