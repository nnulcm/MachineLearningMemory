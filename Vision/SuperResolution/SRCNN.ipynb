{
 "cells": [
  {
   "cell_type": "markdown",
   "metadata": {},
   "source": [
    "\n",
    "## Super Resolution CNN 的实验\n",
    "\n",
    "部分代码来自repo https://github.com/tegg89/SRCNN-Tensorflow\n",
    "\n",
    "论文 http://mmlab.ie.cuhk.edu.hk/projects/SRCNN.html"
   ]
  },
  {
   "cell_type": "code",
   "execution_count": 1,
   "metadata": {
    "collapsed": true
   },
   "outputs": [],
   "source": [
    "import io\n",
    "import re\n",
    "import math\n",
    "import zipfile\n",
    "from collections import OrderedDict\n",
    "\n",
    "from PIL import Image\n",
    "import tensorflow as tf\n",
    "from tqdm import tqdm\n",
    "import numpy as np\n",
    "from IPython.display import display\n",
    "from scipy.misc import imresize\n",
    "from sklearn.model_selection import train_test_split"
   ]
  },
  {
   "cell_type": "code",
   "execution_count": 2,
   "metadata": {
    "collapsed": false
   },
   "outputs": [
    {
     "name": "stdout",
     "output_type": "stream",
     "text": [
      "0.12.0\n"
     ]
    }
   ],
   "source": [
    "print(tf.__version__)"
   ]
  },
  {
   "cell_type": "code",
   "execution_count": 3,
   "metadata": {
    "collapsed": true
   },
   "outputs": [],
   "source": [
    "tf.set_random_seed(0)"
   ]
  },
  {
   "cell_type": "code",
   "execution_count": 4,
   "metadata": {
    "collapsed": true
   },
   "outputs": [],
   "source": [
    "def extract_images_bytes(path='../CatDog/train.zip', scale=0.5):\n",
    "    X_data, y_data = [], []\n",
    "    # load origin\n",
    "    z = zipfile.ZipFile(path, 'r')\n",
    "    for file in z.filelist:\n",
    "        m = re.match('.*(cat|dog).*', file.filename)\n",
    "        if m:\n",
    "            category = m.groups()[0]\n",
    "            if category != 'cat': continue\n",
    "            label = re.sub('[^/]+/', '', file.filename)\n",
    "            img = Image.open(io.BytesIO((z.open(file.filename).read())))\n",
    "            img_label = np.array(img)\n",
    "            # 先缩小，再扩大，相当于把图片有损了\n",
    "            img_64 = imresize(img_label, scale, interp='bicubic')\n",
    "            img_128 = imresize(img_64, 1.0 / scale, interp='bicubic')\n",
    "            # 计算后的图\n",
    "            X_data.append(img_128)\n",
    "            y_data.append(img_label)\n",
    "            if len(X_data) >= 128: break\n",
    "    return np.array(X_data), np.array(y_data)"
   ]
  },
  {
   "cell_type": "code",
   "execution_count": 5,
   "metadata": {
    "collapsed": false
   },
   "outputs": [],
   "source": [
    "X_data, y_data = extract_images_bytes()"
   ]
  },
  {
   "cell_type": "code",
   "execution_count": 6,
   "metadata": {
    "collapsed": false
   },
   "outputs": [
    {
     "name": "stdout",
     "output_type": "stream",
     "text": [
      "(128, 128, 128, 3) (128, 128, 128, 3)\n"
     ]
    }
   ],
   "source": [
    "print(X_data.shape, y_data.shape)"
   ]
  },
  {
   "cell_type": "code",
   "execution_count": 7,
   "metadata": {
    "collapsed": false
   },
   "outputs": [],
   "source": [
    "X_train, X_test, y_train, y_test = train_test_split(X_data, y_data, test_size=0.5, random_state=0)"
   ]
  },
  {
   "cell_type": "code",
   "execution_count": 8,
   "metadata": {
    "collapsed": true
   },
   "outputs": [],
   "source": [
    "def psnr(img1, img2):\n",
    "    \"\"\"Peak Signal to Noise Ratio 计算图片的噪音\"\"\"\n",
    "    mse = np.mean((img1 - img2) ** 2)\n",
    "    if mse == 0:\n",
    "        return 100\n",
    "    PIXEL_MAX = 255.\n",
    "    return 20 * math.log10(PIXEL_MAX / math.sqrt(mse))"
   ]
  },
  {
   "cell_type": "code",
   "execution_count": 9,
   "metadata": {
    "collapsed": false
   },
   "outputs": [
    {
     "name": "stdout",
     "output_type": "stream",
     "text": [
      "33.3014045611457\n"
     ]
    }
   ],
   "source": [
    "# 输入和输出的噪音\n",
    "print(psnr(X_train[0], y_train[0]))"
   ]
  },
  {
   "cell_type": "code",
   "execution_count": 10,
   "metadata": {
    "collapsed": false
   },
   "outputs": [
    {
     "name": "stdout",
     "output_type": "stream",
     "text": [
      "100\n"
     ]
    }
   ],
   "source": [
    "# 图片自己和自己的噪音\n",
    "print(psnr(y_train[0], y_train[0]))"
   ]
  },
  {
   "cell_type": "code",
   "execution_count": 11,
   "metadata": {
    "collapsed": false
   },
   "outputs": [
    {
     "name": "stdout",
     "output_type": "stream",
     "text": [
      "111.27829965 66.2621584746\n"
     ]
    }
   ],
   "source": [
    "mean_of_train = np.mean(X_train)\n",
    "std_of_train = np.std(X_train)\n",
    "print(mean_of_train, std_of_train)"
   ]
  },
  {
   "cell_type": "code",
   "execution_count": 12,
   "metadata": {
    "collapsed": false
   },
   "outputs": [],
   "source": [
    "X_train = (X_train - mean_of_train) / std_of_train\n",
    "X_test = (X_test - mean_of_train) / std_of_train\n",
    "y_train = (y_train - mean_of_train) / std_of_train\n",
    "y_test = (y_test - mean_of_train) / std_of_train"
   ]
  },
  {
   "cell_type": "code",
   "execution_count": 13,
   "metadata": {
    "collapsed": false
   },
   "outputs": [
    {
     "name": "stdout",
     "output_type": "stream",
     "text": [
      "(64, 128, 128, 3) (64, 128, 128, 3) (64, 128, 128, 3) (64, 128, 128, 3)\n"
     ]
    }
   ],
   "source": [
    "print(X_train.shape, y_train.shape, X_test.shape, y_test.shape)"
   ]
  },
  {
   "cell_type": "code",
   "execution_count": 14,
   "metadata": {
    "collapsed": true
   },
   "outputs": [],
   "source": [
    "batch_size = 64\n",
    "learning_rate = 0.0001\n",
    "leakiness = 0.0"
   ]
  },
  {
   "cell_type": "code",
   "execution_count": 15,
   "metadata": {
    "collapsed": true
   },
   "outputs": [],
   "source": [
    "tf.set_random_seed(0)"
   ]
  },
  {
   "cell_type": "code",
   "execution_count": 16,
   "metadata": {
    "collapsed": true
   },
   "outputs": [],
   "source": [
    "X = tf.placeholder(tf.float32, [batch_size, X_train.shape[1], X_train.shape[2], 3], name='X')\n",
    "y = tf.placeholder(tf.float32, [batch_size, y_train.shape[1], y_train.shape[2], 3], name='y')"
   ]
  },
  {
   "cell_type": "code",
   "execution_count": 17,
   "metadata": {
    "collapsed": true
   },
   "outputs": [],
   "source": [
    "def conv(input_layer, output_size, pitch_shape, name, strides=[1, 1, 1, 1], padding='VALID'):\n",
    "    with tf.variable_scope(name):\n",
    "        shape = [\n",
    "            pitch_shape[0],\n",
    "            pitch_shape[1],\n",
    "            int(input_layer.get_shape()[-1]),\n",
    "            output_size\n",
    "        ]\n",
    "        kernel = tf.Variable(tf.random_normal(shape, stddev=np.sqrt(2.0 / (shape[0] + shape[1] + shape[3]))))\n",
    "        bias = tf.Variable(tf.zeros([shape[-1]]))\n",
    "        conv = tf.nn.conv2d(input_layer, kernel, strides=strides, padding=padding)\n",
    "        conv = tf.nn.bias_add(conv, bias)\n",
    "        print(name, conv.get_shape())\n",
    "        return conv"
   ]
  },
  {
   "cell_type": "code",
   "execution_count": 18,
   "metadata": {
    "collapsed": true
   },
   "outputs": [],
   "source": [
    "def conv_with_bn(input_layer, output_size, pitch_shape, name, strides=[1, 1, 1, 1], padding='VALID', epsilon=1e-3):\n",
    "    with tf.variable_scope(name):\n",
    "        shape = [\n",
    "            pitch_shape[0],\n",
    "            pitch_shape[1],\n",
    "            int(input_layer.get_shape()[-1]),\n",
    "            output_size\n",
    "        ]\n",
    "        kernel = tf.Variable(tf.random_normal(shape, stddev=np.sqrt(2.0 / (shape[0] + shape[1] + shape[3]))))\n",
    "        beta = tf.Variable(tf.zeros([shape[-1]]))\n",
    "        scale = tf.Variable(tf.zeros([shape[-1]]))\n",
    "        z = tf.nn.conv2d(\n",
    "            input_layer, kernel, strides=strides, padding=padding\n",
    "        )\n",
    "        batch_mean, batch_var = tf.nn.moments(z, [0])\n",
    "        conv_bn = tf.nn.batch_normalization(\n",
    "            z,\n",
    "            batch_mean, batch_var,\n",
    "            beta, scale,\n",
    "            epsilon\n",
    "        )\n",
    "        print(name, conv_bn.get_shape())\n",
    "        return conv_bn"
   ]
  },
  {
   "cell_type": "code",
   "execution_count": 19,
   "metadata": {
    "collapsed": true
   },
   "outputs": [],
   "source": [
    "def relu(x, leakiness=0.0):\n",
    "    \"\"\"Relu, with optional leaky support.\n",
    "    borrow from https://github.com/tensorflow/models/blob/master/resnet/resnet_main.py\n",
    "    \"\"\"\n",
    "    return tf.select(tf.less(x, 0.0), leakiness * x, x, name='leaky_relu')"
   ]
  },
  {
   "cell_type": "code",
   "execution_count": 20,
   "metadata": {
    "collapsed": false
   },
   "outputs": [
    {
     "name": "stdout",
     "output_type": "stream",
     "text": [
      "(64, 128, 128, 3)\n"
     ]
    }
   ],
   "source": [
    "model = X\n",
    "print(model.get_shape())"
   ]
  },
  {
   "cell_type": "code",
   "execution_count": 21,
   "metadata": {
    "collapsed": false
   },
   "outputs": [
    {
     "name": "stdout",
     "output_type": "stream",
     "text": [
      "(64, 140, 140, 3)\n"
     ]
    }
   ],
   "source": [
    "# 输入图片填充 0 ，使得经过三次卷积之后回复128x128大小\n",
    "model = tf.pad(model, [[0, 0], [6, 6], [6, 6], [0, 0]])\n",
    "print(model.get_shape())"
   ]
  },
  {
   "cell_type": "code",
   "execution_count": 22,
   "metadata": {
    "collapsed": false
   },
   "outputs": [
    {
     "name": "stdout",
     "output_type": "stream",
     "text": [
      "conv_1 (64, 132, 132, 64)\n"
     ]
    }
   ],
   "source": [
    "model = relu(conv(model, 64, (9, 9), 'conv_1', padding='VALID'), leakiness=leakiness)"
   ]
  },
  {
   "cell_type": "code",
   "execution_count": 23,
   "metadata": {
    "collapsed": false
   },
   "outputs": [
    {
     "name": "stdout",
     "output_type": "stream",
     "text": [
      "conv_2 (64, 132, 132, 32)\n"
     ]
    }
   ],
   "source": [
    "model = relu(conv(model, 32, (1, 1), 'conv_2', padding='VALID'), leakiness=leakiness)"
   ]
  },
  {
   "cell_type": "code",
   "execution_count": 24,
   "metadata": {
    "collapsed": false
   },
   "outputs": [
    {
     "name": "stdout",
     "output_type": "stream",
     "text": [
      "conv_3 (64, 128, 128, 3)\n"
     ]
    }
   ],
   "source": [
    "model = conv(model, 3, (5, 5), 'conv_3', padding='VALID')"
   ]
  },
  {
   "cell_type": "code",
   "execution_count": 25,
   "metadata": {
    "collapsed": false
   },
   "outputs": [],
   "source": [
    "pred = model"
   ]
  },
  {
   "cell_type": "code",
   "execution_count": 26,
   "metadata": {
    "collapsed": false
   },
   "outputs": [],
   "source": [
    "cost = tf.reduce_mean(tf.square(y - pred))"
   ]
  },
  {
   "cell_type": "code",
   "execution_count": 27,
   "metadata": {
    "collapsed": false,
    "scrolled": false
   },
   "outputs": [],
   "source": [
    "opt = tf.train.AdamOptimizer(learning_rate=learning_rate)"
   ]
  },
  {
   "cell_type": "code",
   "execution_count": 28,
   "metadata": {
    "collapsed": true
   },
   "outputs": [],
   "source": [
    "params = tf.trainable_variables()"
   ]
  },
  {
   "cell_type": "code",
   "execution_count": 29,
   "metadata": {
    "collapsed": true
   },
   "outputs": [],
   "source": [
    "gradients = tf.gradients(cost, params)"
   ]
  },
  {
   "cell_type": "code",
   "execution_count": 30,
   "metadata": {
    "collapsed": true
   },
   "outputs": [],
   "source": [
    "clipped_gradients, norm = tf.clip_by_global_norm(\n",
    "    gradients,\n",
    "    5.0\n",
    ")"
   ]
  },
  {
   "cell_type": "code",
   "execution_count": 31,
   "metadata": {
    "collapsed": true
   },
   "outputs": [],
   "source": [
    "train_step = opt.apply_gradients(zip(clipped_gradients, params))"
   ]
  },
  {
   "cell_type": "code",
   "execution_count": 32,
   "metadata": {
    "collapsed": false
   },
   "outputs": [],
   "source": [
    "init = tf.global_variables_initializer()"
   ]
  },
  {
   "cell_type": "code",
   "execution_count": 33,
   "metadata": {
    "collapsed": true
   },
   "outputs": [],
   "source": [
    "def batch_flow(inputs, targets, batch_size):\n",
    "    \"\"\"流动数据流\"\"\"\n",
    "    flowed = 0\n",
    "    total = len(inputs)\n",
    "    while True:\n",
    "        X_ret = []\n",
    "        y_ret = []\n",
    "        for i in range(total):\n",
    "            X_ret.append(inputs[i])\n",
    "            y_ret.append(targets[i])\n",
    "            if len(X_ret) == batch_size:\n",
    "                flowed += batch_size\n",
    "                X, y = np.array(X_ret), np.array(y_ret)\n",
    "                yield X, y\n",
    "                X_ret = []\n",
    "                y_ret = []\n",
    "            if flowed >= total:\n",
    "                break\n",
    "        if flowed >= total:\n",
    "            break"
   ]
  },
  {
   "cell_type": "code",
   "execution_count": 34,
   "metadata": {
    "collapsed": false
   },
   "outputs": [
    {
     "name": "stdout",
     "output_type": "stream",
     "text": [
      "(64, 128, 128, 3) (64, 128, 128, 3)\n"
     ]
    }
   ],
   "source": [
    "for batch_x, batch_y in batch_flow(X_train, y_train, batch_size):\n",
    "    print(batch_x.shape, batch_y.shape)\n",
    "    break"
   ]
  },
  {
   "cell_type": "code",
   "execution_count": 35,
   "metadata": {
    "collapsed": true
   },
   "outputs": [],
   "source": [
    "n_epoch = 100000"
   ]
  },
  {
   "cell_type": "code",
   "execution_count": 37,
   "metadata": {
    "collapsed": false,
    "scrolled": false
   },
   "outputs": [
    {
     "name": "stderr",
     "output_type": "stream",
     "text": [
      "  0%|          | 201/100000 [00:50<6:46:45,  4.09it/s]   | 1/100000 [00:01<32:05:25,  1.16s/it]"
     ]
    },
    {
     "name": "stdout",
     "output_type": "stream",
     "text": [
      "epoch: 200, loss: 3.3614\n"
     ]
    },
    {
     "name": "stderr",
     "output_type": "stream",
     "text": [
      "  0%|          | 401/100000 [01:43<7:06:33,  3.89it/s]  0%|          | 203/100000 [00:51<6:50:36,  4.05it/s]"
     ]
    },
    {
     "name": "stdout",
     "output_type": "stream",
     "text": [
      "epoch: 400, loss: 0.8089\n"
     ]
    },
    {
     "name": "stderr",
     "output_type": "stream",
     "text": [
      "  1%|          | 601/100000 [02:33<7:04:09,  3.91it/s]  0%|          | 403/100000 [01:43<7:07:52,  3.88it/s]"
     ]
    },
    {
     "name": "stdout",
     "output_type": "stream",
     "text": [
      "epoch: 600, loss: 0.3866\n"
     ]
    },
    {
     "name": "stderr",
     "output_type": "stream",
     "text": [
      "  1%|          | 801/100000 [03:27<7:17:13,  3.78it/s]  1%|          | 603/100000 [02:34<7:10:06,  3.85it/s]"
     ]
    },
    {
     "name": "stdout",
     "output_type": "stream",
     "text": [
      "epoch: 800, loss: 0.2653\n"
     ]
    },
    {
     "name": "stderr",
     "output_type": "stream",
     "text": [
      "  1%|          | 1001/100000 [04:19<8:08:47,  3.38it/s] 1%|          | 803/100000 [03:27<7:18:24,  3.77it/s]"
     ]
    },
    {
     "name": "stdout",
     "output_type": "stream",
     "text": [
      "epoch: 1000, loss: 0.2077\n",
      "calculate train accuracy\n",
      "test loss: 0.2075\n",
      "calculate test accuracy\n",
      "test loss: 0.2172\n"
     ]
    },
    {
     "name": "stderr",
     "output_type": "stream",
     "text": [
      "  1%|          | 1201/100000 [05:09<6:50:24,  4.01it/s]  1%|          | 1003/100000 [04:19<7:33:15,  3.64it/s]"
     ]
    },
    {
     "name": "stdout",
     "output_type": "stream",
     "text": [
      "epoch: 1200, loss: 0.1733\n"
     ]
    },
    {
     "name": "stderr",
     "output_type": "stream",
     "text": [
      "  1%|▏         | 1401/100000 [05:59<6:51:53,  3.99it/s]  1%|          | 1203/100000 [05:09<6:49:05,  4.03it/s]"
     ]
    },
    {
     "name": "stdout",
     "output_type": "stream",
     "text": [
      "epoch: 1400, loss: 0.1498\n"
     ]
    },
    {
     "name": "stderr",
     "output_type": "stream",
     "text": [
      "  2%|▏         | 1601/100000 [06:48<6:30:28,  4.20it/s]  1%|▏         | 1403/100000 [06:00<7:08:08,  3.84it/s]"
     ]
    },
    {
     "name": "stdout",
     "output_type": "stream",
     "text": [
      "epoch: 1600, loss: 0.1332\n"
     ]
    },
    {
     "name": "stderr",
     "output_type": "stream",
     "text": [
      "  2%|▏         | 1801/100000 [07:35<6:27:19,  4.23it/s]  2%|▏         | 1603/100000 [06:48<6:45:19,  4.05it/s]"
     ]
    },
    {
     "name": "stdout",
     "output_type": "stream",
     "text": [
      "epoch: 1800, loss: 0.1210\n"
     ]
    },
    {
     "name": "stderr",
     "output_type": "stream",
     "text": [
      "  2%|▏         | 2001/100000 [08:23<7:41:09,  3.54it/s]  2%|▏         | 1803/100000 [07:36<6:24:32,  4.26it/s]"
     ]
    },
    {
     "name": "stdout",
     "output_type": "stream",
     "text": [
      "epoch: 2000, loss: 0.1106\n",
      "calculate train accuracy\n",
      "test loss: 0.1106\n",
      "calculate test accuracy\n",
      "test loss: 0.1150\n"
     ]
    },
    {
     "name": "stderr",
     "output_type": "stream",
     "text": [
      "  2%|▏         | 2201/100000 [09:10<6:44:14,  4.03it/s]  2%|▏         | 2003/100000 [08:23<7:11:52,  3.78it/s]"
     ]
    },
    {
     "name": "stdout",
     "output_type": "stream",
     "text": [
      "epoch: 2200, loss: 0.1018\n"
     ]
    },
    {
     "name": "stderr",
     "output_type": "stream",
     "text": [
      "  2%|▏         | 2401/100000 [09:57<6:25:20,  4.22it/s]  2%|▏         | 2203/100000 [09:11<6:31:42,  4.16it/s]"
     ]
    },
    {
     "name": "stdout",
     "output_type": "stream",
     "text": [
      "epoch: 2400, loss: 0.0946\n"
     ]
    },
    {
     "name": "stderr",
     "output_type": "stream",
     "text": [
      "  3%|▎         | 2601/100000 [10:45<6:24:27,  4.22it/s]  2%|▏         | 2403/100000 [09:58<6:22:53,  4.25it/s]"
     ]
    },
    {
     "name": "stdout",
     "output_type": "stream",
     "text": [
      "epoch: 2600, loss: 0.0885\n"
     ]
    },
    {
     "name": "stderr",
     "output_type": "stream",
     "text": [
      "  3%|▎         | 2801/100000 [11:33<6:19:57,  4.26it/s]  3%|▎         | 2603/100000 [10:45<6:21:48,  4.25it/s]"
     ]
    },
    {
     "name": "stdout",
     "output_type": "stream",
     "text": [
      "epoch: 2800, loss: 0.0833\n"
     ]
    },
    {
     "name": "stderr",
     "output_type": "stream",
     "text": [
      "  3%|▎         | 3001/100000 [12:20<7:50:31,  3.44it/s]  3%|▎         | 2803/100000 [11:33<6:46:33,  3.98it/s]"
     ]
    },
    {
     "name": "stdout",
     "output_type": "stream",
     "text": [
      "epoch: 3000, loss: 0.0789\n",
      "calculate train accuracy\n",
      "test loss: 0.0789\n",
      "calculate test accuracy\n",
      "test loss: 0.0830\n"
     ]
    },
    {
     "name": "stderr",
     "output_type": "stream",
     "text": [
      "  3%|▎         | 3201/100000 [13:08<6:24:02,  4.20it/s]  3%|▎         | 3003/100000 [12:21<7:04:33,  3.81it/s]"
     ]
    },
    {
     "name": "stdout",
     "output_type": "stream",
     "text": [
      "epoch: 3200, loss: 0.0750\n"
     ]
    },
    {
     "name": "stderr",
     "output_type": "stream",
     "text": [
      "  3%|▎         | 3401/100000 [13:56<6:34:29,  4.08it/s]  3%|▎         | 3203/100000 [13:09<6:40:08,  4.03it/s]"
     ]
    },
    {
     "name": "stdout",
     "output_type": "stream",
     "text": [
      "epoch: 3400, loss: 0.0714\n"
     ]
    },
    {
     "name": "stderr",
     "output_type": "stream",
     "text": [
      "  4%|▎         | 3601/100000 [14:44<6:29:30,  4.12it/s]  3%|▎         | 3403/100000 [13:57<6:26:27,  4.17it/s]"
     ]
    },
    {
     "name": "stdout",
     "output_type": "stream",
     "text": [
      "epoch: 3600, loss: 0.0681\n"
     ]
    },
    {
     "name": "stderr",
     "output_type": "stream",
     "text": [
      "  4%|▍         | 3801/100000 [15:32<6:14:04,  4.29it/s]  4%|▎         | 3603/100000 [14:44<6:24:03,  4.18it/s]"
     ]
    },
    {
     "name": "stdout",
     "output_type": "stream",
     "text": [
      "epoch: 3800, loss: 0.0652\n"
     ]
    },
    {
     "name": "stderr",
     "output_type": "stream",
     "text": [
      "  4%|▍         | 4001/100000 [16:20<7:18:37,  3.65it/s]  4%|▍         | 3803/100000 [15:32<6:33:26,  4.08it/s]"
     ]
    },
    {
     "name": "stdout",
     "output_type": "stream",
     "text": [
      "epoch: 4000, loss: 0.0623\n",
      "calculate train accuracy\n",
      "test loss: 0.0623\n",
      "calculate test accuracy\n",
      "test loss: 0.0665\n"
     ]
    },
    {
     "name": "stderr",
     "output_type": "stream",
     "text": [
      "  4%|▍         | 4201/100000 [17:07<6:24:53,  4.15it/s]  4%|▍         | 4003/100000 [16:20<6:45:55,  3.94it/s]"
     ]
    },
    {
     "name": "stdout",
     "output_type": "stream",
     "text": [
      "epoch: 4200, loss: 0.0601\n"
     ]
    },
    {
     "name": "stderr",
     "output_type": "stream",
     "text": [
      "  4%|▍         | 4401/100000 [17:55<6:11:01,  4.29it/s]  4%|▍         | 4203/100000 [17:08<6:22:25,  4.18it/s]"
     ]
    },
    {
     "name": "stdout",
     "output_type": "stream",
     "text": [
      "epoch: 4400, loss: 0.0577\n"
     ]
    },
    {
     "name": "stderr",
     "output_type": "stream",
     "text": [
      "  5%|▍         | 4601/100000 [18:43<6:06:09,  4.34it/s]  4%|▍         | 4403/100000 [17:56<6:42:52,  3.95it/s]"
     ]
    },
    {
     "name": "stdout",
     "output_type": "stream",
     "text": [
      "epoch: 4600, loss: 0.0556\n"
     ]
    },
    {
     "name": "stderr",
     "output_type": "stream",
     "text": [
      "  5%|▍         | 4801/100000 [19:31<6:09:28,  4.29it/s]  5%|▍         | 4603/100000 [18:44<6:11:26,  4.28it/s]"
     ]
    },
    {
     "name": "stdout",
     "output_type": "stream",
     "text": [
      "epoch: 4800, loss: 0.0538\n"
     ]
    },
    {
     "name": "stderr",
     "output_type": "stream",
     "text": [
      "  5%|▌         | 5001/100000 [20:19<7:22:26,  3.58it/s]  5%|▍         | 4803/100000 [19:31<6:27:38,  4.09it/s]"
     ]
    },
    {
     "name": "stdout",
     "output_type": "stream",
     "text": [
      "epoch: 5000, loss: 0.0514\n",
      "calculate train accuracy\n",
      "test loss: 0.0514\n",
      "calculate test accuracy\n",
      "test loss: 0.0554\n"
     ]
    },
    {
     "name": "stderr",
     "output_type": "stream",
     "text": [
      "  5%|▌         | 5201/100000 [21:07<6:17:44,  4.18it/s]  5%|▌         | 5003/100000 [20:19<6:57:05,  3.80it/s]"
     ]
    },
    {
     "name": "stdout",
     "output_type": "stream",
     "text": [
      "epoch: 5200, loss: 0.0497\n"
     ]
    },
    {
     "name": "stderr",
     "output_type": "stream",
     "text": [
      "  5%|▌         | 5401/100000 [21:55<6:09:44,  4.26it/s]  5%|▌         | 5203/100000 [21:07<6:14:05,  4.22it/s]"
     ]
    },
    {
     "name": "stdout",
     "output_type": "stream",
     "text": [
      "epoch: 5400, loss: 0.0479\n"
     ]
    },
    {
     "name": "stderr",
     "output_type": "stream",
     "text": [
      "  6%|▌         | 5601/100000 [22:42<6:14:52,  4.20it/s]  5%|▌         | 5403/100000 [21:55<6:39:33,  3.95it/s]"
     ]
    },
    {
     "name": "stdout",
     "output_type": "stream",
     "text": [
      "epoch: 5600, loss: 0.0463\n"
     ]
    },
    {
     "name": "stderr",
     "output_type": "stream",
     "text": [
      "  6%|▌         | 5801/100000 [23:30<6:02:43,  4.33it/s]  6%|▌         | 5603/100000 [22:43<6:35:00,  3.98it/s]"
     ]
    },
    {
     "name": "stdout",
     "output_type": "stream",
     "text": [
      "epoch: 5800, loss: 0.0450\n"
     ]
    },
    {
     "name": "stderr",
     "output_type": "stream",
     "text": [
      "  6%|▌         | 6001/100000 [24:18<7:08:55,  3.65it/s]  6%|▌         | 5803/100000 [23:30<6:04:50,  4.30it/s]"
     ]
    },
    {
     "name": "stdout",
     "output_type": "stream",
     "text": [
      "epoch: 6000, loss: 0.0433\n",
      "calculate train accuracy\n",
      "test loss: 0.0433\n",
      "calculate test accuracy\n",
      "test loss: 0.0470\n"
     ]
    },
    {
     "name": "stderr",
     "output_type": "stream",
     "text": [
      "  6%|▌         | 6201/100000 [25:05<6:10:47,  4.22it/s]  6%|▌         | 6003/100000 [24:18<6:37:01,  3.95it/s]"
     ]
    },
    {
     "name": "stdout",
     "output_type": "stream",
     "text": [
      "epoch: 6200, loss: 0.0419\n"
     ]
    },
    {
     "name": "stderr",
     "output_type": "stream",
     "text": [
      "  6%|▋         | 6401/100000 [25:53<6:20:50,  4.10it/s]  6%|▌         | 6203/100000 [25:06<6:08:33,  4.24it/s]"
     ]
    },
    {
     "name": "stdout",
     "output_type": "stream",
     "text": [
      "epoch: 6400, loss: 0.0406\n"
     ]
    },
    {
     "name": "stderr",
     "output_type": "stream",
     "text": [
      "  7%|▋         | 6601/100000 [26:41<5:58:19,  4.34it/s]  6%|▋         | 6403/100000 [25:54<6:21:08,  4.09it/s]"
     ]
    },
    {
     "name": "stdout",
     "output_type": "stream",
     "text": [
      "epoch: 6600, loss: 0.0395\n"
     ]
    },
    {
     "name": "stderr",
     "output_type": "stream",
     "text": [
      "  7%|▋         | 6801/100000 [27:29<6:10:46,  4.19it/s]  7%|▋         | 6603/100000 [26:42<6:01:53,  4.30it/s]"
     ]
    },
    {
     "name": "stdout",
     "output_type": "stream",
     "text": [
      "epoch: 6800, loss: 0.0381\n"
     ]
    },
    {
     "name": "stderr",
     "output_type": "stream",
     "text": [
      "  7%|▋         | 7001/100000 [28:17<7:29:16,  3.45it/s]  7%|▋         | 6803/100000 [27:29<6:08:00,  4.22it/s]"
     ]
    },
    {
     "name": "stdout",
     "output_type": "stream",
     "text": [
      "epoch: 7000, loss: 0.0369\n",
      "calculate train accuracy\n",
      "test loss: 0.0369\n",
      "calculate test accuracy\n",
      "test loss: 0.0403\n"
     ]
    },
    {
     "name": "stderr",
     "output_type": "stream",
     "text": [
      "  7%|▋         | 7201/100000 [29:05<6:19:15,  4.08it/s]  7%|▋         | 7003/100000 [28:17<6:46:22,  3.81it/s]"
     ]
    },
    {
     "name": "stdout",
     "output_type": "stream",
     "text": [
      "epoch: 7200, loss: 0.0372\n"
     ]
    },
    {
     "name": "stderr",
     "output_type": "stream",
     "text": [
      "  7%|▋         | 7401/100000 [29:53<6:00:06,  4.29it/s]  7%|▋         | 7203/100000 [29:05<6:26:57,  4.00it/s]"
     ]
    },
    {
     "name": "stdout",
     "output_type": "stream",
     "text": [
      "epoch: 7400, loss: 0.0347\n"
     ]
    },
    {
     "name": "stderr",
     "output_type": "stream",
     "text": [
      "  8%|▊         | 7601/100000 [30:41<6:20:12,  4.05it/s]  7%|▋         | 7403/100000 [29:53<5:59:50,  4.29it/s]"
     ]
    },
    {
     "name": "stdout",
     "output_type": "stream",
     "text": [
      "epoch: 7600, loss: 0.0336\n"
     ]
    },
    {
     "name": "stderr",
     "output_type": "stream",
     "text": [
      "  8%|▊         | 7801/100000 [31:29<6:13:10,  4.12it/s]  8%|▊         | 7603/100000 [30:41<6:10:16,  4.16it/s]"
     ]
    },
    {
     "name": "stdout",
     "output_type": "stream",
     "text": [
      "epoch: 7800, loss: 0.0326\n"
     ]
    },
    {
     "name": "stderr",
     "output_type": "stream",
     "text": [
      "  8%|▊         | 8001/100000 [32:16<7:19:25,  3.49it/s]  8%|▊         | 7803/100000 [31:29<6:05:57,  4.20it/s]"
     ]
    },
    {
     "name": "stdout",
     "output_type": "stream",
     "text": [
      "epoch: 8000, loss: 0.0317\n",
      "calculate train accuracy\n",
      "test loss: 0.0317\n",
      "calculate test accuracy\n",
      "test loss: 0.0348\n"
     ]
    },
    {
     "name": "stderr",
     "output_type": "stream",
     "text": [
      "  8%|▊         | 8201/100000 [33:04<6:03:36,  4.21it/s]  8%|▊         | 8003/100000 [32:17<6:40:08,  3.83it/s]"
     ]
    },
    {
     "name": "stdout",
     "output_type": "stream",
     "text": [
      "epoch: 8200, loss: 0.0307\n"
     ]
    },
    {
     "name": "stderr",
     "output_type": "stream",
     "text": [
      "  8%|▊         | 8401/100000 [33:52<6:06:18,  4.17it/s]  8%|▊         | 8203/100000 [33:04<6:09:45,  4.14it/s]"
     ]
    },
    {
     "name": "stdout",
     "output_type": "stream",
     "text": [
      "epoch: 8400, loss: 0.0299\n"
     ]
    },
    {
     "name": "stderr",
     "output_type": "stream",
     "text": [
      "  9%|▊         | 8601/100000 [34:40<6:01:15,  4.22it/s]  8%|▊         | 8403/100000 [33:52<6:01:10,  4.23it/s]"
     ]
    },
    {
     "name": "stdout",
     "output_type": "stream",
     "text": [
      "epoch: 8600, loss: 0.0291\n"
     ]
    },
    {
     "name": "stderr",
     "output_type": "stream",
     "text": [
      "  9%|▉         | 8801/100000 [35:28<5:55:54,  4.27it/s]  9%|▊         | 8603/100000 [34:40<6:09:21,  4.12it/s]"
     ]
    },
    {
     "name": "stdout",
     "output_type": "stream",
     "text": [
      "epoch: 8800, loss: 0.0283\n"
     ]
    },
    {
     "name": "stderr",
     "output_type": "stream",
     "text": [
      "  9%|▉         | 9001/100000 [36:16<6:59:19,  3.62it/s]  9%|▉         | 8803/100000 [35:28<5:54:57,  4.28it/s]"
     ]
    },
    {
     "name": "stdout",
     "output_type": "stream",
     "text": [
      "epoch: 9000, loss: 0.0275\n",
      "calculate train accuracy\n",
      "test loss: 0.0275\n",
      "calculate test accuracy\n",
      "test loss: 0.0301\n"
     ]
    },
    {
     "name": "stderr",
     "output_type": "stream",
     "text": [
      "  9%|▉         | 9201/100000 [37:03<5:59:18,  4.21it/s]  9%|▉         | 9003/100000 [36:16<6:39:24,  3.80it/s]"
     ]
    },
    {
     "name": "stdout",
     "output_type": "stream",
     "text": [
      "epoch: 9200, loss: 0.0268\n"
     ]
    },
    {
     "name": "stderr",
     "output_type": "stream",
     "text": [
      "  9%|▉         | 9401/100000 [37:51<6:10:48,  4.07it/s]  9%|▉         | 9203/100000 [37:04<6:05:29,  4.14it/s]"
     ]
    },
    {
     "name": "stdout",
     "output_type": "stream",
     "text": [
      "epoch: 9400, loss: 0.0262\n"
     ]
    },
    {
     "name": "stderr",
     "output_type": "stream",
     "text": [
      " 10%|▉         | 9601/100000 [38:40<6:02:05,  4.16it/s]  9%|▉         | 9403/100000 [37:52<6:14:57,  4.03it/s]"
     ]
    },
    {
     "name": "stdout",
     "output_type": "stream",
     "text": [
      "epoch: 9600, loss: 0.0256\n"
     ]
    },
    {
     "name": "stderr",
     "output_type": "stream",
     "text": [
      " 10%|▉         | 9801/100000 [39:27<5:48:05,  4.32it/s] 10%|▉         | 9603/100000 [38:40<6:23:21,  3.93it/s]"
     ]
    },
    {
     "name": "stdout",
     "output_type": "stream",
     "text": [
      "epoch: 9800, loss: 0.0250\n"
     ]
    },
    {
     "name": "stderr",
     "output_type": "stream",
     "text": [
      " 10%|█         | 10001/100000 [40:16<6:56:36,  3.60it/s]10%|▉         | 9803/100000 [39:28<5:52:55,  4.26it/s]"
     ]
    },
    {
     "name": "stdout",
     "output_type": "stream",
     "text": [
      "epoch: 10000, loss: 0.0245\n",
      "calculate train accuracy\n",
      "test loss: 0.0245\n",
      "calculate test accuracy\n",
      "test loss: 0.0265\n"
     ]
    },
    {
     "name": "stderr",
     "output_type": "stream",
     "text": [
      " 10%|█         | 10201/100000 [41:03<6:08:47,  4.06it/s] 10%|█         | 10003/100000 [40:16<6:22:55,  3.92it/s]"
     ]
    },
    {
     "name": "stdout",
     "output_type": "stream",
     "text": [
      "epoch: 10200, loss: 0.0240\n"
     ]
    },
    {
     "name": "stderr",
     "output_type": "stream",
     "text": [
      " 10%|█         | 10401/100000 [41:51<6:15:52,  3.97it/s] 10%|█         | 10203/100000 [41:04<6:10:36,  4.04it/s]"
     ]
    },
    {
     "name": "stdout",
     "output_type": "stream",
     "text": [
      "epoch: 10400, loss: 0.0237\n"
     ]
    },
    {
     "name": "stderr",
     "output_type": "stream",
     "text": [
      " 11%|█         | 10601/100000 [42:40<5:44:52,  4.32it/s] 10%|█         | 10403/100000 [41:52<6:28:35,  3.84it/s]"
     ]
    },
    {
     "name": "stdout",
     "output_type": "stream",
     "text": [
      "epoch: 10600, loss: 0.0232\n"
     ]
    },
    {
     "name": "stderr",
     "output_type": "stream",
     "text": [
      " 11%|█         | 10801/100000 [43:27<5:47:58,  4.27it/s] 11%|█         | 10603/100000 [42:40<6:03:49,  4.10it/s]"
     ]
    },
    {
     "name": "stdout",
     "output_type": "stream",
     "text": [
      "epoch: 10800, loss: 0.0228\n"
     ]
    },
    {
     "name": "stderr",
     "output_type": "stream",
     "text": [
      " 11%|█         | 11001/100000 [44:15<6:48:16,  3.63it/s] 11%|█         | 10803/100000 [43:28<5:48:16,  4.27it/s]"
     ]
    },
    {
     "name": "stdout",
     "output_type": "stream",
     "text": [
      "epoch: 11000, loss: 0.0225\n",
      "calculate train accuracy\n",
      "test loss: 0.0225\n",
      "calculate test accuracy\n",
      "test loss: 0.0240\n"
     ]
    },
    {
     "name": "stderr",
     "output_type": "stream",
     "text": [
      " 11%|█         | 11201/100000 [45:03<5:48:18,  4.25it/s] 11%|█         | 11003/100000 [44:15<6:34:32,  3.76it/s]"
     ]
    },
    {
     "name": "stdout",
     "output_type": "stream",
     "text": [
      "epoch: 11200, loss: 0.0221\n"
     ]
    },
    {
     "name": "stderr",
     "output_type": "stream",
     "text": [
      " 11%|█▏        | 11401/100000 [45:50<5:40:27,  4.34it/s] 11%|█         | 11203/100000 [45:03<5:47:59,  4.25it/s]"
     ]
    },
    {
     "name": "stdout",
     "output_type": "stream",
     "text": [
      "epoch: 11400, loss: 0.0219\n"
     ]
    },
    {
     "name": "stderr",
     "output_type": "stream",
     "text": [
      " 12%|█▏        | 11601/100000 [46:38<5:40:44,  4.32it/s] 11%|█▏        | 11403/100000 [45:51<5:44:02,  4.29it/s]"
     ]
    },
    {
     "name": "stdout",
     "output_type": "stream",
     "text": [
      "epoch: 11600, loss: 0.0215\n"
     ]
    },
    {
     "name": "stderr",
     "output_type": "stream",
     "text": [
      " 12%|█▏        | 11801/100000 [47:26<5:39:13,  4.33it/s] 12%|█▏        | 11603/100000 [46:39<5:52:50,  4.18it/s]"
     ]
    },
    {
     "name": "stdout",
     "output_type": "stream",
     "text": [
      "epoch: 11800, loss: 0.0213\n"
     ]
    },
    {
     "name": "stderr",
     "output_type": "stream",
     "text": [
      " 12%|█▏        | 12001/100000 [48:14<6:52:25,  3.56it/s] 12%|█▏        | 11803/100000 [47:26<5:57:28,  4.11it/s]"
     ]
    },
    {
     "name": "stdout",
     "output_type": "stream",
     "text": [
      "epoch: 12000, loss: 0.0208\n",
      "calculate train accuracy\n",
      "test loss: 0.0208\n",
      "calculate test accuracy\n",
      "test loss: 0.0218\n"
     ]
    },
    {
     "name": "stderr",
     "output_type": "stream",
     "text": [
      " 12%|█▏        | 12201/100000 [49:02<6:00:06,  4.06it/s] 12%|█▏        | 12003/100000 [48:15<6:37:33,  3.69it/s]"
     ]
    },
    {
     "name": "stdout",
     "output_type": "stream",
     "text": [
      "epoch: 12200, loss: 0.0203\n"
     ]
    },
    {
     "name": "stderr",
     "output_type": "stream",
     "text": [
      " 12%|█▏        | 12401/100000 [49:50<5:41:19,  4.28it/s] 12%|█▏        | 12203/100000 [49:02<5:52:55,  4.15it/s]"
     ]
    },
    {
     "name": "stdout",
     "output_type": "stream",
     "text": [
      "epoch: 12400, loss: 0.0197\n"
     ]
    },
    {
     "name": "stderr",
     "output_type": "stream",
     "text": [
      " 13%|█▎        | 12601/100000 [50:38<5:37:21,  4.32it/s] 12%|█▏        | 12403/100000 [49:50<5:42:43,  4.26it/s]"
     ]
    },
    {
     "name": "stdout",
     "output_type": "stream",
     "text": [
      "epoch: 12600, loss: 0.0192\n"
     ]
    },
    {
     "name": "stderr",
     "output_type": "stream",
     "text": [
      " 13%|█▎        | 12801/100000 [51:25<5:57:19,  4.07it/s] 13%|█▎        | 12603/100000 [50:38<5:39:02,  4.30it/s]"
     ]
    },
    {
     "name": "stdout",
     "output_type": "stream",
     "text": [
      "epoch: 12800, loss: 0.0188\n"
     ]
    },
    {
     "name": "stderr",
     "output_type": "stream",
     "text": [
      " 13%|█▎        | 13001/100000 [52:14<7:10:57,  3.36it/s] 13%|█▎        | 12803/100000 [51:26<6:05:51,  3.97it/s]"
     ]
    },
    {
     "name": "stdout",
     "output_type": "stream",
     "text": [
      "epoch: 13000, loss: 0.0185\n",
      "calculate train accuracy\n",
      "test loss: 0.0185\n",
      "calculate test accuracy\n",
      "test loss: 0.0189\n"
     ]
    },
    {
     "name": "stderr",
     "output_type": "stream",
     "text": [
      " 13%|█▎        | 13201/100000 [53:01<5:33:04,  4.34it/s] 13%|█▎        | 13003/100000 [52:14<6:31:01,  3.71it/s]"
     ]
    },
    {
     "name": "stdout",
     "output_type": "stream",
     "text": [
      "epoch: 13200, loss: 0.0182\n"
     ]
    },
    {
     "name": "stderr",
     "output_type": "stream",
     "text": [
      " 13%|█▎        | 13401/100000 [53:49<5:34:45,  4.31it/s] 13%|█▎        | 13203/100000 [53:02<5:46:39,  4.17it/s]"
     ]
    },
    {
     "name": "stdout",
     "output_type": "stream",
     "text": [
      "epoch: 13400, loss: 0.0180\n"
     ]
    },
    {
     "name": "stderr",
     "output_type": "stream",
     "text": [
      " 14%|█▎        | 13601/100000 [54:37<5:32:29,  4.33it/s] 13%|█▎        | 13403/100000 [53:50<5:35:57,  4.30it/s]"
     ]
    },
    {
     "name": "stdout",
     "output_type": "stream",
     "text": [
      "epoch: 13600, loss: 0.0178\n"
     ]
    },
    {
     "name": "stderr",
     "output_type": "stream",
     "text": [
      " 14%|█▍        | 13801/100000 [55:25<5:43:22,  4.18it/s] 14%|█▎        | 13603/100000 [54:38<5:34:31,  4.30it/s]"
     ]
    },
    {
     "name": "stdout",
     "output_type": "stream",
     "text": [
      "epoch: 13800, loss: 0.0175\n"
     ]
    },
    {
     "name": "stderr",
     "output_type": "stream",
     "text": [
      " 14%|█▍        | 14001/100000 [56:13<6:58:51,  3.42it/s] 14%|█▍        | 13803/100000 [55:26<5:40:45,  4.22it/s]"
     ]
    },
    {
     "name": "stdout",
     "output_type": "stream",
     "text": [
      "epoch: 14000, loss: 0.0173\n",
      "calculate train accuracy\n",
      "test loss: 0.0174\n",
      "calculate test accuracy\n",
      "test loss: 0.0167\n"
     ]
    },
    {
     "name": "stderr",
     "output_type": "stream",
     "text": [
      " 14%|█▍        | 14201/100000 [57:01<5:32:46,  4.30it/s] 14%|█▍        | 14003/100000 [56:14<6:35:23,  3.63it/s]"
     ]
    },
    {
     "name": "stdout",
     "output_type": "stream",
     "text": [
      "epoch: 14200, loss: 0.0170\n"
     ]
    },
    {
     "name": "stderr",
     "output_type": "stream",
     "text": [
      " 14%|█▍        | 14401/100000 [57:49<5:32:04,  4.30it/s] 14%|█▍        | 14203/100000 [57:02<5:35:14,  4.27it/s]"
     ]
    },
    {
     "name": "stdout",
     "output_type": "stream",
     "text": [
      "epoch: 14400, loss: 0.0168\n"
     ]
    },
    {
     "name": "stderr",
     "output_type": "stream",
     "text": [
      " 15%|█▍        | 14601/100000 [58:37<5:46:17,  4.11it/s] 14%|█▍        | 14403/100000 [57:49<5:33:08,  4.28it/s]"
     ]
    },
    {
     "name": "stdout",
     "output_type": "stream",
     "text": [
      "epoch: 14600, loss: 0.0166\n"
     ]
    },
    {
     "name": "stderr",
     "output_type": "stream",
     "text": [
      " 15%|█▍        | 14801/100000 [59:25<5:48:02,  4.08it/s] 15%|█▍        | 14603/100000 [58:37<6:03:41,  3.91it/s]"
     ]
    },
    {
     "name": "stdout",
     "output_type": "stream",
     "text": [
      "epoch: 14800, loss: 0.0165\n"
     ]
    },
    {
     "name": "stderr",
     "output_type": "stream",
     "text": [
      " 15%|█▌        | 15001/100000 [1:00:13<6:32:52,  3.61it/s]5%|█▍        | 14803/100000 [59:25<5:41:02,  4.16it/s]"
     ]
    },
    {
     "name": "stdout",
     "output_type": "stream",
     "text": [
      "epoch: 15000, loss: 0.0162\n",
      "calculate train accuracy\n",
      "test loss: 0.0162\n",
      "calculate test accuracy\n",
      "test loss: 0.0158\n"
     ]
    },
    {
     "name": "stderr",
     "output_type": "stream",
     "text": [
      " 15%|█▌        | 15201/100000 [1:01:01<5:29:04,  4.29it/s] 15%|█▌        | 15003/100000 [1:00:13<6:02:15,  3.91it/s]"
     ]
    },
    {
     "name": "stdout",
     "output_type": "stream",
     "text": [
      "epoch: 15200, loss: 0.0161\n"
     ]
    },
    {
     "name": "stderr",
     "output_type": "stream",
     "text": [
      " 15%|█▌        | 15401/100000 [1:01:48<5:30:23,  4.27it/s] 15%|█▌        | 15203/100000 [1:01:01<5:29:25,  4.29it/s]"
     ]
    },
    {
     "name": "stdout",
     "output_type": "stream",
     "text": [
      "epoch: 15400, loss: 0.0160\n"
     ]
    },
    {
     "name": "stderr",
     "output_type": "stream",
     "text": [
      " 16%|█▌        | 15601/100000 [1:02:36<5:25:10,  4.33it/s] 15%|█▌        | 15403/100000 [1:01:49<5:29:56,  4.27it/s]"
     ]
    },
    {
     "name": "stdout",
     "output_type": "stream",
     "text": [
      "epoch: 15600, loss: 0.0158\n"
     ]
    },
    {
     "name": "stderr",
     "output_type": "stream",
     "text": [
      " 16%|█▌        | 15801/100000 [1:03:24<5:46:49,  4.05it/s] 16%|█▌        | 15603/100000 [1:02:36<5:32:33,  4.23it/s]"
     ]
    },
    {
     "name": "stdout",
     "output_type": "stream",
     "text": [
      "epoch: 15800, loss: 0.0159\n"
     ]
    },
    {
     "name": "stderr",
     "output_type": "stream",
     "text": [
      " 16%|█▌        | 16001/100000 [1:04:12<6:27:26,  3.61it/s] 16%|█▌        | 15803/100000 [1:03:24<5:42:47,  4.09it/s]"
     ]
    },
    {
     "name": "stdout",
     "output_type": "stream",
     "text": [
      "epoch: 16000, loss: 0.0156\n",
      "calculate train accuracy\n",
      "test loss: 0.0156\n",
      "calculate test accuracy\n",
      "test loss: 0.0151\n"
     ]
    },
    {
     "name": "stderr",
     "output_type": "stream",
     "text": [
      " 16%|█▌        | 16201/100000 [1:05:00<5:38:43,  4.12it/s] 16%|█▌        | 16003/100000 [1:04:12<6:12:53,  3.75it/s]"
     ]
    },
    {
     "name": "stdout",
     "output_type": "stream",
     "text": [
      "epoch: 16200, loss: 0.0155\n"
     ]
    },
    {
     "name": "stderr",
     "output_type": "stream",
     "text": [
      " 16%|█▋        | 16401/100000 [1:05:47<5:37:05,  4.13it/s] 16%|█▌        | 16203/100000 [1:05:00<5:49:47,  3.99it/s]"
     ]
    },
    {
     "name": "stdout",
     "output_type": "stream",
     "text": [
      "epoch: 16400, loss: 0.0154\n"
     ]
    },
    {
     "name": "stderr",
     "output_type": "stream",
     "text": [
      " 17%|█▋        | 16601/100000 [1:06:35<5:39:57,  4.09it/s] 16%|█▋        | 16403/100000 [1:05:48<5:32:24,  4.19it/s]"
     ]
    },
    {
     "name": "stdout",
     "output_type": "stream",
     "text": [
      "epoch: 16600, loss: 0.0153\n"
     ]
    },
    {
     "name": "stderr",
     "output_type": "stream",
     "text": [
      " 17%|█▋        | 16801/100000 [1:07:23<5:21:08,  4.32it/s] 17%|█▋        | 16603/100000 [1:06:35<5:32:51,  4.18it/s]"
     ]
    },
    {
     "name": "stdout",
     "output_type": "stream",
     "text": [
      "epoch: 16800, loss: 0.0153\n"
     ]
    },
    {
     "name": "stderr",
     "output_type": "stream",
     "text": [
      " 17%|█▋        | 17001/100000 [1:08:11<6:21:20,  3.63it/s] 17%|█▋        | 16803/100000 [1:07:23<5:25:21,  4.26it/s]"
     ]
    },
    {
     "name": "stdout",
     "output_type": "stream",
     "text": [
      "epoch: 17000, loss: 0.0151\n",
      "calculate train accuracy\n",
      "test loss: 0.0151\n",
      "calculate test accuracy\n",
      "test loss: 0.0147\n"
     ]
    },
    {
     "name": "stderr",
     "output_type": "stream",
     "text": [
      " 17%|█▋        | 17201/100000 [1:08:59<5:22:44,  4.28it/s] 17%|█▋        | 17003/100000 [1:08:11<6:08:30,  3.75it/s]"
     ]
    },
    {
     "name": "stdout",
     "output_type": "stream",
     "text": [
      "epoch: 17200, loss: 0.0152\n"
     ]
    },
    {
     "name": "stderr",
     "output_type": "stream",
     "text": [
      " 17%|█▋        | 17401/100000 [1:09:46<5:17:45,  4.33it/s] 17%|█▋        | 17203/100000 [1:08:59<5:24:19,  4.25it/s]"
     ]
    },
    {
     "name": "stdout",
     "output_type": "stream",
     "text": [
      "epoch: 17400, loss: 0.0151\n"
     ]
    },
    {
     "name": "stderr",
     "output_type": "stream",
     "text": [
      " 18%|█▊        | 17601/100000 [1:10:34<5:31:11,  4.15it/s] 17%|█▋        | 17403/100000 [1:09:47<5:31:32,  4.15it/s]"
     ]
    },
    {
     "name": "stdout",
     "output_type": "stream",
     "text": [
      "epoch: 17600, loss: 0.0149\n"
     ]
    },
    {
     "name": "stderr",
     "output_type": "stream",
     "text": [
      " 18%|█▊        | 17801/100000 [1:11:22<5:39:43,  4.03it/s] 18%|█▊        | 17603/100000 [1:10:35<5:26:21,  4.21it/s]"
     ]
    },
    {
     "name": "stdout",
     "output_type": "stream",
     "text": [
      "epoch: 17800, loss: 0.0148\n"
     ]
    },
    {
     "name": "stderr",
     "output_type": "stream",
     "text": [
      " 18%|█▊        | 18001/100000 [1:12:10<6:31:50,  3.49it/s] 18%|█▊        | 17803/100000 [1:11:23<5:30:32,  4.14it/s]"
     ]
    },
    {
     "name": "stdout",
     "output_type": "stream",
     "text": [
      "epoch: 18000, loss: 0.0148\n",
      "calculate train accuracy\n",
      "test loss: 0.0148\n",
      "calculate test accuracy\n",
      "test loss: 0.0144\n"
     ]
    },
    {
     "name": "stderr",
     "output_type": "stream",
     "text": [
      " 18%|█▊        | 18201/100000 [1:12:57<5:37:14,  4.04it/s] 18%|█▊        | 18003/100000 [1:12:10<5:55:01,  3.85it/s]"
     ]
    },
    {
     "name": "stdout",
     "output_type": "stream",
     "text": [
      "epoch: 18200, loss: 0.0147\n"
     ]
    },
    {
     "name": "stderr",
     "output_type": "stream",
     "text": [
      " 18%|█▊        | 18401/100000 [1:13:45<5:30:54,  4.11it/s] 18%|█▊        | 18203/100000 [1:12:58<5:28:24,  4.15it/s]"
     ]
    },
    {
     "name": "stdout",
     "output_type": "stream",
     "text": [
      "epoch: 18400, loss: 0.0147\n"
     ]
    },
    {
     "name": "stderr",
     "output_type": "stream",
     "text": [
      " 19%|█▊        | 18601/100000 [1:14:33<5:30:03,  4.11it/s] 18%|█▊        | 18403/100000 [1:13:45<5:25:04,  4.18it/s]"
     ]
    },
    {
     "name": "stdout",
     "output_type": "stream",
     "text": [
      "epoch: 18600, loss: 0.0147\n"
     ]
    },
    {
     "name": "stderr",
     "output_type": "stream",
     "text": [
      " 19%|█▉        | 18801/100000 [1:15:21<5:25:24,  4.16it/s] 19%|█▊        | 18603/100000 [1:14:33<5:38:55,  4.00it/s]"
     ]
    },
    {
     "name": "stdout",
     "output_type": "stream",
     "text": [
      "epoch: 18800, loss: 0.0145\n"
     ]
    },
    {
     "name": "stderr",
     "output_type": "stream",
     "text": [
      " 19%|█▉        | 19001/100000 [1:16:09<6:09:53,  3.65it/s] 19%|█▉        | 18803/100000 [1:15:21<5:21:07,  4.21it/s]"
     ]
    },
    {
     "name": "stdout",
     "output_type": "stream",
     "text": [
      "epoch: 19000, loss: 0.0146\n",
      "calculate train accuracy\n",
      "test loss: 0.0146\n",
      "calculate test accuracy\n",
      "test loss: 0.0143\n"
     ]
    },
    {
     "name": "stderr",
     "output_type": "stream",
     "text": [
      " 19%|█▉        | 19201/100000 [1:16:56<5:17:37,  4.24it/s] 19%|█▉        | 19003/100000 [1:16:09<5:58:10,  3.77it/s]"
     ]
    },
    {
     "name": "stdout",
     "output_type": "stream",
     "text": [
      "epoch: 19200, loss: 0.0144\n"
     ]
    },
    {
     "name": "stderr",
     "output_type": "stream",
     "text": [
      " 19%|█▉        | 19401/100000 [1:17:44<5:46:00,  3.88it/s] 19%|█▉        | 19203/100000 [1:16:57<5:16:17,  4.26it/s]"
     ]
    },
    {
     "name": "stdout",
     "output_type": "stream",
     "text": [
      "epoch: 19400, loss: 0.0143\n"
     ]
    },
    {
     "name": "stderr",
     "output_type": "stream",
     "text": [
      " 20%|█▉        | 19601/100000 [1:18:32<5:10:26,  4.32it/s] 19%|█▉        | 19403/100000 [1:17:45<5:38:21,  3.97it/s]"
     ]
    },
    {
     "name": "stdout",
     "output_type": "stream",
     "text": [
      "epoch: 19600, loss: 0.0143\n"
     ]
    },
    {
     "name": "stderr",
     "output_type": "stream",
     "text": [
      " 20%|█▉        | 19801/100000 [1:19:20<5:10:37,  4.30it/s] 20%|█▉        | 19603/100000 [1:18:33<5:25:10,  4.12it/s]"
     ]
    },
    {
     "name": "stdout",
     "output_type": "stream",
     "text": [
      "epoch: 19800, loss: 0.0142\n"
     ]
    },
    {
     "name": "stderr",
     "output_type": "stream",
     "text": [
      " 20%|██        | 20001/100000 [1:20:08<6:29:06,  3.43it/s] 20%|█▉        | 19803/100000 [1:19:20<5:12:33,  4.28it/s]"
     ]
    },
    {
     "name": "stdout",
     "output_type": "stream",
     "text": [
      "epoch: 20000, loss: 0.0142\n",
      "calculate train accuracy\n",
      "test loss: 0.0142\n",
      "calculate test accuracy\n",
      "test loss: 0.0140\n"
     ]
    },
    {
     "name": "stderr",
     "output_type": "stream",
     "text": [
      " 20%|██        | 20201/100000 [1:20:55<5:11:03,  4.28it/s] 20%|██        | 20003/100000 [1:20:09<5:51:25,  3.79it/s]"
     ]
    },
    {
     "name": "stdout",
     "output_type": "stream",
     "text": [
      "epoch: 20200, loss: 0.0141\n"
     ]
    },
    {
     "name": "stderr",
     "output_type": "stream",
     "text": [
      " 20%|██        | 20401/100000 [1:21:43<5:06:43,  4.33it/s] 20%|██        | 20203/100000 [1:20:56<5:11:04,  4.28it/s]"
     ]
    },
    {
     "name": "stdout",
     "output_type": "stream",
     "text": [
      "epoch: 20400, loss: 0.0141\n"
     ]
    },
    {
     "name": "stderr",
     "output_type": "stream",
     "text": [
      " 21%|██        | 20601/100000 [1:22:31<5:15:44,  4.19it/s] 20%|██        | 20403/100000 [1:21:44<5:17:21,  4.18it/s]"
     ]
    },
    {
     "name": "stdout",
     "output_type": "stream",
     "text": [
      "epoch: 20600, loss: 0.0140\n"
     ]
    },
    {
     "name": "stderr",
     "output_type": "stream",
     "text": [
      " 21%|██        | 20801/100000 [1:23:19<5:07:31,  4.29it/s] 21%|██        | 20603/100000 [1:22:32<5:12:27,  4.23it/s]"
     ]
    },
    {
     "name": "stdout",
     "output_type": "stream",
     "text": [
      "epoch: 20800, loss: 0.0140\n"
     ]
    },
    {
     "name": "stderr",
     "output_type": "stream",
     "text": [
      " 21%|██        | 21001/100000 [1:24:07<6:27:04,  3.40it/s] 21%|██        | 20803/100000 [1:23:19<5:09:13,  4.27it/s]"
     ]
    },
    {
     "name": "stdout",
     "output_type": "stream",
     "text": [
      "epoch: 21000, loss: 0.0139\n",
      "calculate train accuracy\n",
      "test loss: 0.0139\n",
      "calculate test accuracy\n",
      "test loss: 0.0137\n"
     ]
    },
    {
     "name": "stderr",
     "output_type": "stream",
     "text": [
      " 21%|██        | 21201/100000 [1:24:54<5:13:19,  4.19it/s] 21%|██        | 21003/100000 [1:24:07<5:57:13,  3.69it/s]"
     ]
    },
    {
     "name": "stdout",
     "output_type": "stream",
     "text": [
      "epoch: 21200, loss: 0.0140\n"
     ]
    },
    {
     "name": "stderr",
     "output_type": "stream",
     "text": [
      " 21%|██▏       | 21401/100000 [1:25:42<5:02:24,  4.33it/s] 21%|██        | 21203/100000 [1:24:55<5:11:15,  4.22it/s]"
     ]
    },
    {
     "name": "stdout",
     "output_type": "stream",
     "text": [
      "epoch: 21400, loss: 0.0139\n"
     ]
    },
    {
     "name": "stderr",
     "output_type": "stream",
     "text": [
      " 22%|██▏       | 21601/100000 [1:26:30<5:12:53,  4.18it/s] 21%|██▏       | 21403/100000 [1:25:43<5:21:40,  4.07it/s]"
     ]
    },
    {
     "name": "stdout",
     "output_type": "stream",
     "text": [
      "epoch: 21600, loss: 0.0138\n"
     ]
    },
    {
     "name": "stderr",
     "output_type": "stream",
     "text": [
      " 22%|██▏       | 21801/100000 [1:27:18<5:00:47,  4.33it/s] 22%|██▏       | 21603/100000 [1:26:30<5:09:35,  4.22it/s]"
     ]
    },
    {
     "name": "stdout",
     "output_type": "stream",
     "text": [
      "epoch: 21800, loss: 0.0138\n"
     ]
    },
    {
     "name": "stderr",
     "output_type": "stream",
     "text": [
      " 22%|██▏       | 22001/100000 [1:28:06<6:07:58,  3.53it/s] 22%|██▏       | 21803/100000 [1:27:18<5:13:53,  4.15it/s]"
     ]
    },
    {
     "name": "stdout",
     "output_type": "stream",
     "text": [
      "epoch: 22000, loss: 0.0137\n",
      "calculate train accuracy\n",
      "test loss: 0.0137\n",
      "calculate test accuracy\n",
      "test loss: 0.0136\n"
     ]
    },
    {
     "name": "stderr",
     "output_type": "stream",
     "text": [
      " 22%|██▏       | 22201/100000 [1:28:54<5:15:27,  4.11it/s] 22%|██▏       | 22003/100000 [1:28:07<5:36:11,  3.87it/s]"
     ]
    },
    {
     "name": "stdout",
     "output_type": "stream",
     "text": [
      "epoch: 22200, loss: 0.0137\n"
     ]
    },
    {
     "name": "stderr",
     "output_type": "stream",
     "text": [
      " 22%|██▏       | 22401/100000 [1:29:42<5:06:38,  4.22it/s] 22%|██▏       | 22203/100000 [1:28:55<5:10:11,  4.18it/s]"
     ]
    },
    {
     "name": "stdout",
     "output_type": "stream",
     "text": [
      "epoch: 22400, loss: 0.0136\n"
     ]
    },
    {
     "name": "stderr",
     "output_type": "stream",
     "text": [
      " 23%|██▎       | 22601/100000 [1:30:30<5:06:38,  4.21it/s] 22%|██▏       | 22403/100000 [1:29:42<5:04:43,  4.24it/s]"
     ]
    },
    {
     "name": "stdout",
     "output_type": "stream",
     "text": [
      "epoch: 22600, loss: 0.0136\n"
     ]
    },
    {
     "name": "stderr",
     "output_type": "stream",
     "text": [
      " 23%|██▎       | 22801/100000 [1:31:17<5:11:52,  4.13it/s] 23%|██▎       | 22603/100000 [1:30:30<5:04:39,  4.23it/s]"
     ]
    },
    {
     "name": "stdout",
     "output_type": "stream",
     "text": [
      "epoch: 22800, loss: 0.0138\n"
     ]
    },
    {
     "name": "stderr",
     "output_type": "stream",
     "text": [
      " 23%|██▎       | 23001/100000 [1:32:06<6:01:19,  3.55it/s] 23%|██▎       | 22803/100000 [1:31:18<5:06:30,  4.20it/s]"
     ]
    },
    {
     "name": "stdout",
     "output_type": "stream",
     "text": [
      "epoch: 23000, loss: 0.0135\n",
      "calculate train accuracy\n",
      "test loss: 0.0135\n",
      "calculate test accuracy\n",
      "test loss: 0.0135\n"
     ]
    },
    {
     "name": "stderr",
     "output_type": "stream",
     "text": [
      " 23%|██▎       | 23201/100000 [1:32:54<5:26:18,  3.92it/s] 23%|██▎       | 23003/100000 [1:32:06<5:30:40,  3.88it/s]"
     ]
    },
    {
     "name": "stdout",
     "output_type": "stream",
     "text": [
      "epoch: 23200, loss: 0.0135\n"
     ]
    },
    {
     "name": "stderr",
     "output_type": "stream",
     "text": [
      " 23%|██▎       | 23401/100000 [1:33:42<4:57:42,  4.29it/s] 23%|██▎       | 23203/100000 [1:32:54<5:20:38,  3.99it/s]"
     ]
    },
    {
     "name": "stdout",
     "output_type": "stream",
     "text": [
      "epoch: 23400, loss: 0.0136\n"
     ]
    },
    {
     "name": "stderr",
     "output_type": "stream",
     "text": [
      " 24%|██▎       | 23601/100000 [1:34:30<5:08:29,  4.13it/s] 23%|██▎       | 23403/100000 [1:33:42<5:13:38,  4.07it/s]"
     ]
    },
    {
     "name": "stdout",
     "output_type": "stream",
     "text": [
      "epoch: 23600, loss: 0.0134\n"
     ]
    },
    {
     "name": "stderr",
     "output_type": "stream",
     "text": [
      " 24%|██▍       | 23801/100000 [1:35:17<4:53:55,  4.32it/s] 24%|██▎       | 23603/100000 [1:34:30<5:24:47,  3.92it/s]"
     ]
    },
    {
     "name": "stdout",
     "output_type": "stream",
     "text": [
      "epoch: 23800, loss: 0.0135\n"
     ]
    },
    {
     "name": "stderr",
     "output_type": "stream",
     "text": [
      " 24%|██▍       | 24001/100000 [1:36:05<5:50:18,  3.62it/s] 24%|██▍       | 23803/100000 [1:35:18<4:55:46,  4.29it/s]"
     ]
    },
    {
     "name": "stdout",
     "output_type": "stream",
     "text": [
      "epoch: 24000, loss: 0.0134\n",
      "calculate train accuracy\n",
      "test loss: 0.0134\n",
      "calculate test accuracy\n",
      "test loss: 0.0134\n"
     ]
    },
    {
     "name": "stderr",
     "output_type": "stream",
     "text": [
      " 24%|██▍       | 24201/100000 [1:36:53<5:15:49,  4.00it/s] 24%|██▍       | 24003/100000 [1:36:06<5:23:45,  3.91it/s]"
     ]
    },
    {
     "name": "stdout",
     "output_type": "stream",
     "text": [
      "epoch: 24200, loss: 0.0135\n"
     ]
    },
    {
     "name": "stderr",
     "output_type": "stream",
     "text": [
      " 24%|██▍       | 24401/100000 [1:37:41<4:51:46,  4.32it/s] 24%|██▍       | 24203/100000 [1:36:53<5:16:39,  3.99it/s]"
     ]
    },
    {
     "name": "stdout",
     "output_type": "stream",
     "text": [
      "epoch: 24400, loss: 0.0133\n"
     ]
    },
    {
     "name": "stderr",
     "output_type": "stream",
     "text": [
      " 25%|██▍       | 24601/100000 [1:38:28<4:49:27,  4.34it/s] 24%|██▍       | 24403/100000 [1:37:41<5:04:01,  4.14it/s]"
     ]
    },
    {
     "name": "stdout",
     "output_type": "stream",
     "text": [
      "epoch: 24600, loss: 0.0133\n"
     ]
    },
    {
     "name": "stderr",
     "output_type": "stream",
     "text": [
      " 25%|██▍       | 24801/100000 [1:39:16<4:51:37,  4.30it/s] 25%|██▍       | 24603/100000 [1:38:29<4:52:41,  4.29it/s]"
     ]
    },
    {
     "name": "stdout",
     "output_type": "stream",
     "text": [
      "epoch: 24800, loss: 0.0132\n"
     ]
    },
    {
     "name": "stderr",
     "output_type": "stream",
     "text": [
      " 25%|██▌       | 25001/100000 [1:40:04<6:08:24,  3.39it/s] 25%|██▍       | 24803/100000 [1:39:17<4:53:30,  4.27it/s]"
     ]
    },
    {
     "name": "stdout",
     "output_type": "stream",
     "text": [
      "epoch: 25000, loss: 0.0132\n",
      "calculate train accuracy\n",
      "test loss: 0.0132\n",
      "calculate test accuracy\n",
      "test loss: 0.0134\n"
     ]
    },
    {
     "name": "stderr",
     "output_type": "stream",
     "text": [
      " 25%|██▌       | 25201/100000 [1:40:52<4:57:33,  4.19it/s] 25%|██▌       | 25003/100000 [1:40:05<5:40:26,  3.67it/s]"
     ]
    },
    {
     "name": "stdout",
     "output_type": "stream",
     "text": [
      "epoch: 25200, loss: 0.0132\n"
     ]
    },
    {
     "name": "stderr",
     "output_type": "stream",
     "text": [
      " 25%|██▌       | 25401/100000 [1:41:40<4:54:07,  4.23it/s] 25%|██▌       | 25203/100000 [1:40:52<5:05:01,  4.09it/s]"
     ]
    },
    {
     "name": "stdout",
     "output_type": "stream",
     "text": [
      "epoch: 25400, loss: 0.0132\n"
     ]
    },
    {
     "name": "stderr",
     "output_type": "stream",
     "text": [
      " 26%|██▌       | 25601/100000 [1:42:27<5:00:49,  4.12it/s] 25%|██▌       | 25403/100000 [1:41:40<4:53:03,  4.24it/s]"
     ]
    },
    {
     "name": "stdout",
     "output_type": "stream",
     "text": [
      "epoch: 25600, loss: 0.0131\n"
     ]
    },
    {
     "name": "stderr",
     "output_type": "stream",
     "text": [
      " 26%|██▌       | 25801/100000 [1:43:15<4:50:49,  4.25it/s] 26%|██▌       | 25603/100000 [1:42:28<4:55:22,  4.20it/s]"
     ]
    },
    {
     "name": "stdout",
     "output_type": "stream",
     "text": [
      "epoch: 25800, loss: 0.0131\n"
     ]
    },
    {
     "name": "stderr",
     "output_type": "stream",
     "text": [
      " 26%|██▌       | 26001/100000 [1:44:03<5:45:02,  3.57it/s] 26%|██▌       | 25803/100000 [1:43:16<4:58:10,  4.15it/s]"
     ]
    },
    {
     "name": "stdout",
     "output_type": "stream",
     "text": [
      "epoch: 26000, loss: 0.0130\n",
      "calculate train accuracy\n",
      "test loss: 0.0130\n",
      "calculate test accuracy\n",
      "test loss: 0.0135\n"
     ]
    },
    {
     "name": "stderr",
     "output_type": "stream",
     "text": [
      " 26%|██▌       | 26201/100000 [1:44:51<4:50:02,  4.24it/s] 26%|██▌       | 26003/100000 [1:44:04<5:22:50,  3.82it/s]"
     ]
    },
    {
     "name": "stdout",
     "output_type": "stream",
     "text": [
      "epoch: 26200, loss: 0.0130\n"
     ]
    },
    {
     "name": "stderr",
     "output_type": "stream",
     "text": [
      " 26%|██▋       | 26401/100000 [1:45:39<4:56:06,  4.14it/s] 26%|██▌       | 26203/100000 [1:44:52<4:55:32,  4.16it/s]"
     ]
    },
    {
     "name": "stdout",
     "output_type": "stream",
     "text": [
      "epoch: 26400, loss: 0.0130\n"
     ]
    },
    {
     "name": "stderr",
     "output_type": "stream",
     "text": [
      " 27%|██▋       | 26601/100000 [1:46:27<4:48:50,  4.24it/s] 26%|██▋       | 26403/100000 [1:45:39<4:54:20,  4.17it/s]"
     ]
    },
    {
     "name": "stdout",
     "output_type": "stream",
     "text": [
      "epoch: 26600, loss: 0.0129\n"
     ]
    },
    {
     "name": "stderr",
     "output_type": "stream",
     "text": [
      " 27%|██▋       | 26801/100000 [1:47:15<5:00:28,  4.06it/s] 27%|██▋       | 26603/100000 [1:46:28<4:49:03,  4.23it/s]"
     ]
    },
    {
     "name": "stdout",
     "output_type": "stream",
     "text": [
      "epoch: 26800, loss: 0.0131\n"
     ]
    },
    {
     "name": "stderr",
     "output_type": "stream",
     "text": [
      " 27%|██▋       | 27001/100000 [1:48:03<5:41:27,  3.56it/s] 27%|██▋       | 26803/100000 [1:47:16<4:52:55,  4.16it/s]"
     ]
    },
    {
     "name": "stdout",
     "output_type": "stream",
     "text": [
      "epoch: 27000, loss: 0.0129\n",
      "calculate train accuracy\n",
      "test loss: 0.0129\n",
      "calculate test accuracy\n",
      "test loss: 0.0135\n"
     ]
    },
    {
     "name": "stderr",
     "output_type": "stream",
     "text": [
      " 27%|██▋       | 27201/100000 [1:48:52<4:45:14,  4.25it/s] 27%|██▋       | 27003/100000 [1:48:04<5:20:30,  3.80it/s]"
     ]
    },
    {
     "name": "stdout",
     "output_type": "stream",
     "text": [
      "epoch: 27200, loss: 0.0129\n"
     ]
    },
    {
     "name": "stderr",
     "output_type": "stream",
     "text": [
      " 27%|██▋       | 27401/100000 [1:49:40<4:50:08,  4.17it/s] 27%|██▋       | 27203/100000 [1:48:52<4:46:02,  4.24it/s]"
     ]
    },
    {
     "name": "stdout",
     "output_type": "stream",
     "text": [
      "epoch: 27400, loss: 0.0128\n"
     ]
    },
    {
     "name": "stderr",
     "output_type": "stream",
     "text": [
      " 28%|██▊       | 27601/100000 [1:50:28<4:45:36,  4.22it/s] 27%|██▋       | 27403/100000 [1:49:40<4:57:27,  4.07it/s]"
     ]
    },
    {
     "name": "stdout",
     "output_type": "stream",
     "text": [
      "epoch: 27600, loss: 0.0129\n"
     ]
    },
    {
     "name": "stderr",
     "output_type": "stream",
     "text": [
      " 28%|██▊       | 27801/100000 [1:51:16<4:45:55,  4.21it/s] 28%|██▊       | 27603/100000 [1:50:28<4:53:45,  4.11it/s]"
     ]
    },
    {
     "name": "stdout",
     "output_type": "stream",
     "text": [
      "epoch: 27800, loss: 0.0128\n"
     ]
    },
    {
     "name": "stderr",
     "output_type": "stream",
     "text": [
      " 28%|██▊       | 28001/100000 [1:52:04<5:47:32,  3.45it/s] 28%|██▊       | 27803/100000 [1:51:16<4:44:30,  4.23it/s]"
     ]
    },
    {
     "name": "stdout",
     "output_type": "stream",
     "text": [
      "epoch: 28000, loss: 0.0127\n",
      "calculate train accuracy\n",
      "test loss: 0.0127\n",
      "calculate test accuracy\n",
      "test loss: 0.0136\n"
     ]
    },
    {
     "name": "stderr",
     "output_type": "stream",
     "text": [
      " 28%|██▊       | 28201/100000 [1:52:52<4:42:57,  4.23it/s] 28%|██▊       | 28003/100000 [1:52:05<5:14:39,  3.81it/s]"
     ]
    },
    {
     "name": "stdout",
     "output_type": "stream",
     "text": [
      "epoch: 28200, loss: 0.0127\n"
     ]
    },
    {
     "name": "stderr",
     "output_type": "stream",
     "text": [
      " 28%|██▊       | 28401/100000 [1:53:40<4:38:49,  4.28it/s] 28%|██▊       | 28203/100000 [1:52:53<4:41:24,  4.25it/s]"
     ]
    },
    {
     "name": "stdout",
     "output_type": "stream",
     "text": [
      "epoch: 28400, loss: 0.0128\n"
     ]
    },
    {
     "name": "stderr",
     "output_type": "stream",
     "text": [
      " 29%|██▊       | 28601/100000 [1:54:28<4:36:52,  4.30it/s] 28%|██▊       | 28403/100000 [1:53:40<4:39:46,  4.27it/s]"
     ]
    },
    {
     "name": "stdout",
     "output_type": "stream",
     "text": [
      "epoch: 28600, loss: 0.0127\n"
     ]
    },
    {
     "name": "stderr",
     "output_type": "stream",
     "text": [
      " 29%|██▉       | 28801/100000 [1:55:15<4:39:47,  4.24it/s] 29%|██▊       | 28603/100000 [1:54:28<4:38:09,  4.28it/s]"
     ]
    },
    {
     "name": "stdout",
     "output_type": "stream",
     "text": [
      "epoch: 28800, loss: 0.0129\n"
     ]
    },
    {
     "name": "stderr",
     "output_type": "stream",
     "text": [
      " 29%|██▉       | 29001/100000 [1:56:03<5:26:26,  3.62it/s] 29%|██▉       | 28803/100000 [1:55:16<4:39:06,  4.25it/s]"
     ]
    },
    {
     "name": "stdout",
     "output_type": "stream",
     "text": [
      "epoch: 29000, loss: 0.0126\n",
      "calculate train accuracy\n",
      "test loss: 0.0126\n",
      "calculate test accuracy\n",
      "test loss: 0.0135\n"
     ]
    },
    {
     "name": "stderr",
     "output_type": "stream",
     "text": [
      " 29%|██▉       | 29201/100000 [1:56:51<4:33:14,  4.32it/s] 29%|██▉       | 29003/100000 [1:56:04<5:08:42,  3.83it/s]"
     ]
    },
    {
     "name": "stdout",
     "output_type": "stream",
     "text": [
      "epoch: 29200, loss: 0.0126\n"
     ]
    },
    {
     "name": "stderr",
     "output_type": "stream",
     "text": [
      " 29%|██▉       | 29401/100000 [1:57:39<4:35:27,  4.27it/s] 29%|██▉       | 29203/100000 [1:56:52<4:45:26,  4.13it/s]"
     ]
    },
    {
     "name": "stdout",
     "output_type": "stream",
     "text": [
      "epoch: 29400, loss: 0.0126\n"
     ]
    },
    {
     "name": "stderr",
     "output_type": "stream",
     "text": [
      " 30%|██▉       | 29601/100000 [1:58:28<4:42:36,  4.15it/s] 29%|██▉       | 29403/100000 [1:57:40<4:36:39,  4.25it/s]"
     ]
    },
    {
     "name": "stdout",
     "output_type": "stream",
     "text": [
      "epoch: 29600, loss: 0.0126\n"
     ]
    },
    {
     "name": "stderr",
     "output_type": "stream",
     "text": [
      " 30%|██▉       | 29801/100000 [1:59:15<4:37:51,  4.21it/s] 30%|██▉       | 29603/100000 [1:58:28<4:39:32,  4.20it/s]"
     ]
    },
    {
     "name": "stdout",
     "output_type": "stream",
     "text": [
      "epoch: 29800, loss: 0.0127\n"
     ]
    },
    {
     "name": "stderr",
     "output_type": "stream",
     "text": [
      " 30%|███       | 30001/100000 [2:00:03<5:27:13,  3.57it/s] 30%|██▉       | 29803/100000 [1:59:16<4:44:25,  4.11it/s]"
     ]
    },
    {
     "name": "stdout",
     "output_type": "stream",
     "text": [
      "epoch: 30000, loss: 0.0125\n",
      "calculate train accuracy\n",
      "test loss: 0.0125\n",
      "calculate test accuracy\n",
      "test loss: 0.0135\n"
     ]
    },
    {
     "name": "stderr",
     "output_type": "stream",
     "text": [
      " 30%|███       | 30201/100000 [2:00:51<4:34:30,  4.24it/s] 30%|███       | 30003/100000 [2:00:04<5:07:34,  3.79it/s]"
     ]
    },
    {
     "name": "stdout",
     "output_type": "stream",
     "text": [
      "epoch: 30200, loss: 0.0125\n"
     ]
    },
    {
     "name": "stderr",
     "output_type": "stream",
     "text": [
      " 30%|███       | 30401/100000 [2:01:39<4:35:52,  4.20it/s] 30%|███       | 30203/100000 [2:00:51<4:51:06,  4.00it/s]"
     ]
    },
    {
     "name": "stdout",
     "output_type": "stream",
     "text": [
      "epoch: 30400, loss: 0.0125\n"
     ]
    },
    {
     "name": "stderr",
     "output_type": "stream",
     "text": [
      " 31%|███       | 30601/100000 [2:02:27<4:39:43,  4.13it/s] 30%|███       | 30403/100000 [2:01:39<4:44:00,  4.08it/s]"
     ]
    },
    {
     "name": "stdout",
     "output_type": "stream",
     "text": [
      "epoch: 30600, loss: 0.0125\n"
     ]
    },
    {
     "name": "stderr",
     "output_type": "stream",
     "text": [
      " 31%|███       | 30801/100000 [2:03:15<4:34:57,  4.19it/s] 31%|███       | 30603/100000 [2:02:27<4:45:28,  4.05it/s]"
     ]
    },
    {
     "name": "stdout",
     "output_type": "stream",
     "text": [
      "epoch: 30800, loss: 0.0124\n"
     ]
    },
    {
     "name": "stderr",
     "output_type": "stream",
     "text": [
      " 31%|███       | 31001/100000 [2:04:03<5:18:23,  3.61it/s] 31%|███       | 30803/100000 [2:03:15<4:42:29,  4.08it/s]"
     ]
    },
    {
     "name": "stdout",
     "output_type": "stream",
     "text": [
      "epoch: 31000, loss: 0.0124\n",
      "calculate train accuracy\n",
      "test loss: 0.0124\n",
      "calculate test accuracy\n",
      "test loss: 0.0136\n"
     ]
    },
    {
     "name": "stderr",
     "output_type": "stream",
     "text": [
      " 31%|███       | 31201/100000 [2:04:51<4:31:22,  4.23it/s] 31%|███       | 31003/100000 [2:04:03<4:54:19,  3.91it/s]"
     ]
    },
    {
     "name": "stdout",
     "output_type": "stream",
     "text": [
      "epoch: 31200, loss: 0.0124\n"
     ]
    },
    {
     "name": "stderr",
     "output_type": "stream",
     "text": [
      " 31%|███▏      | 31401/100000 [2:05:39<4:34:52,  4.16it/s] 31%|███       | 31203/100000 [2:04:51<4:31:08,  4.23it/s]"
     ]
    },
    {
     "name": "stdout",
     "output_type": "stream",
     "text": [
      "epoch: 31400, loss: 0.0124\n"
     ]
    },
    {
     "name": "stderr",
     "output_type": "stream",
     "text": [
      " 32%|███▏      | 31601/100000 [2:06:27<4:27:30,  4.26it/s] 31%|███▏      | 31403/100000 [2:05:39<4:33:39,  4.18it/s]"
     ]
    },
    {
     "name": "stdout",
     "output_type": "stream",
     "text": [
      "epoch: 31600, loss: 0.0124\n"
     ]
    },
    {
     "name": "stderr",
     "output_type": "stream",
     "text": [
      " 32%|███▏      | 31801/100000 [2:07:14<4:29:30,  4.22it/s] 32%|███▏      | 31603/100000 [2:06:27<4:26:53,  4.27it/s]"
     ]
    },
    {
     "name": "stdout",
     "output_type": "stream",
     "text": [
      "epoch: 31800, loss: 0.0124\n"
     ]
    },
    {
     "name": "stderr",
     "output_type": "stream",
     "text": [
      " 32%|███▏      | 32001/100000 [2:08:02<5:18:18,  3.56it/s] 32%|███▏      | 31803/100000 [2:07:15<4:28:38,  4.23it/s]"
     ]
    },
    {
     "name": "stdout",
     "output_type": "stream",
     "text": [
      "epoch: 32000, loss: 0.0123\n",
      "calculate train accuracy\n",
      "test loss: 0.0123\n",
      "calculate test accuracy\n",
      "test loss: 0.0137\n"
     ]
    },
    {
     "name": "stderr",
     "output_type": "stream",
     "text": [
      " 32%|███▏      | 32201/100000 [2:08:50<4:32:21,  4.15it/s] 32%|███▏      | 32003/100000 [2:08:02<4:51:46,  3.88it/s]"
     ]
    },
    {
     "name": "stdout",
     "output_type": "stream",
     "text": [
      "epoch: 32200, loss: 0.0123\n"
     ]
    },
    {
     "name": "stderr",
     "output_type": "stream",
     "text": [
      " 32%|███▏      | 32401/100000 [2:09:37<4:29:39,  4.18it/s] 32%|███▏      | 32203/100000 [2:08:50<4:28:26,  4.21it/s]"
     ]
    },
    {
     "name": "stdout",
     "output_type": "stream",
     "text": [
      "epoch: 32400, loss: 0.0123\n"
     ]
    },
    {
     "name": "stderr",
     "output_type": "stream",
     "text": [
      " 33%|███▎      | 32601/100000 [2:10:25<4:32:40,  4.12it/s] 32%|███▏      | 32403/100000 [2:09:38<4:26:54,  4.22it/s]"
     ]
    },
    {
     "name": "stdout",
     "output_type": "stream",
     "text": [
      "epoch: 32600, loss: 0.0123\n"
     ]
    },
    {
     "name": "stderr",
     "output_type": "stream",
     "text": [
      " 33%|███▎      | 32801/100000 [2:11:13<4:35:12,  4.07it/s] 33%|███▎      | 32603/100000 [2:10:25<4:34:37,  4.09it/s]"
     ]
    },
    {
     "name": "stdout",
     "output_type": "stream",
     "text": [
      "epoch: 32800, loss: 0.0123\n"
     ]
    },
    {
     "name": "stderr",
     "output_type": "stream",
     "text": [
      " 33%|███▎      | 33001/100000 [2:12:01<5:20:32,  3.48it/s] 33%|███▎      | 32803/100000 [2:11:13<4:29:02,  4.16it/s]"
     ]
    },
    {
     "name": "stdout",
     "output_type": "stream",
     "text": [
      "epoch: 33000, loss: 0.0123\n",
      "calculate train accuracy\n",
      "test loss: 0.0123\n",
      "calculate test accuracy\n",
      "test loss: 0.0138\n"
     ]
    },
    {
     "name": "stderr",
     "output_type": "stream",
     "text": [
      " 33%|███▎      | 33201/100000 [2:12:49<4:23:08,  4.23it/s] 33%|███▎      | 33003/100000 [2:12:01<5:00:37,  3.71it/s]"
     ]
    },
    {
     "name": "stdout",
     "output_type": "stream",
     "text": [
      "epoch: 33200, loss: 0.0123\n"
     ]
    },
    {
     "name": "stderr",
     "output_type": "stream",
     "text": [
      " 33%|███▎      | 33401/100000 [2:13:36<4:24:41,  4.19it/s] 33%|███▎      | 33203/100000 [2:12:49<4:22:58,  4.23it/s]"
     ]
    },
    {
     "name": "stdout",
     "output_type": "stream",
     "text": [
      "epoch: 33400, loss: 0.0122\n"
     ]
    },
    {
     "name": "stderr",
     "output_type": "stream",
     "text": [
      " 34%|███▎      | 33601/100000 [2:14:24<4:26:34,  4.15it/s] 33%|███▎      | 33403/100000 [2:13:37<4:23:42,  4.21it/s]"
     ]
    },
    {
     "name": "stdout",
     "output_type": "stream",
     "text": [
      "epoch: 33600, loss: 0.0122\n"
     ]
    },
    {
     "name": "stderr",
     "output_type": "stream",
     "text": [
      " 34%|███▍      | 33801/100000 [2:15:12<4:23:51,  4.18it/s] 34%|███▎      | 33603/100000 [2:14:24<4:24:00,  4.19it/s]"
     ]
    },
    {
     "name": "stdout",
     "output_type": "stream",
     "text": [
      "epoch: 33800, loss: 0.0122\n"
     ]
    },
    {
     "name": "stderr",
     "output_type": "stream",
     "text": [
      " 34%|███▍      | 34001/100000 [2:15:59<5:11:18,  3.53it/s] 34%|███▍      | 33803/100000 [2:15:12<4:21:06,  4.23it/s]"
     ]
    },
    {
     "name": "stdout",
     "output_type": "stream",
     "text": [
      "epoch: 34000, loss: 0.0122\n",
      "calculate train accuracy\n",
      "test loss: 0.0122\n",
      "calculate test accuracy\n",
      "test loss: 0.0139\n"
     ]
    },
    {
     "name": "stderr",
     "output_type": "stream",
     "text": [
      " 34%|███▍      | 34201/100000 [2:16:47<4:26:22,  4.12it/s] 34%|███▍      | 34003/100000 [2:16:00<4:53:38,  3.75it/s]"
     ]
    },
    {
     "name": "stdout",
     "output_type": "stream",
     "text": [
      "epoch: 34200, loss: 0.0122\n"
     ]
    },
    {
     "name": "stderr",
     "output_type": "stream",
     "text": [
      " 34%|███▍      | 34401/100000 [2:17:35<4:14:00,  4.30it/s] 34%|███▍      | 34203/100000 [2:16:48<4:40:04,  3.92it/s]"
     ]
    },
    {
     "name": "stdout",
     "output_type": "stream",
     "text": [
      "epoch: 34400, loss: 0.0122\n"
     ]
    },
    {
     "name": "stderr",
     "output_type": "stream",
     "text": [
      " 35%|███▍      | 34601/100000 [2:18:23<4:16:53,  4.24it/s] 34%|███▍      | 34403/100000 [2:17:36<4:16:13,  4.27it/s]"
     ]
    },
    {
     "name": "stdout",
     "output_type": "stream",
     "text": [
      "epoch: 34600, loss: 0.0122\n"
     ]
    },
    {
     "name": "stderr",
     "output_type": "stream",
     "text": [
      " 35%|███▍      | 34801/100000 [2:19:11<4:12:05,  4.31it/s] 35%|███▍      | 34603/100000 [2:18:23<4:24:04,  4.13it/s]"
     ]
    },
    {
     "name": "stdout",
     "output_type": "stream",
     "text": [
      "epoch: 34800, loss: 0.0122\n"
     ]
    },
    {
     "name": "stderr",
     "output_type": "stream",
     "text": [
      " 35%|███▌      | 35001/100000 [2:19:59<5:03:19,  3.57it/s] 35%|███▍      | 34803/100000 [2:19:12<4:13:25,  4.29it/s]"
     ]
    },
    {
     "name": "stdout",
     "output_type": "stream",
     "text": [
      "epoch: 35000, loss: 0.0121\n",
      "calculate train accuracy\n",
      "test loss: 0.0121\n",
      "calculate test accuracy\n",
      "test loss: 0.0139\n"
     ]
    },
    {
     "name": "stderr",
     "output_type": "stream",
     "text": [
      " 35%|███▌      | 35201/100000 [2:20:47<4:10:26,  4.31it/s] 35%|███▌      | 35003/100000 [2:20:00<4:38:55,  3.88it/s]"
     ]
    },
    {
     "name": "stdout",
     "output_type": "stream",
     "text": [
      "epoch: 35200, loss: 0.0121\n"
     ]
    },
    {
     "name": "stderr",
     "output_type": "stream",
     "text": [
      " 35%|███▌      | 35401/100000 [2:21:35<4:13:31,  4.25it/s] 35%|███▌      | 35203/100000 [2:20:47<4:12:27,  4.28it/s]"
     ]
    },
    {
     "name": "stdout",
     "output_type": "stream",
     "text": [
      "epoch: 35400, loss: 0.0121\n"
     ]
    },
    {
     "name": "stderr",
     "output_type": "stream",
     "text": [
      " 36%|███▌      | 35601/100000 [2:22:22<4:10:02,  4.29it/s] 35%|███▌      | 35403/100000 [2:21:35<4:14:33,  4.23it/s]"
     ]
    },
    {
     "name": "stdout",
     "output_type": "stream",
     "text": [
      "epoch: 35600, loss: 0.0121\n"
     ]
    },
    {
     "name": "stderr",
     "output_type": "stream",
     "text": [
      " 36%|███▌      | 35801/100000 [2:23:10<4:14:00,  4.21it/s] 36%|███▌      | 35603/100000 [2:22:23<4:18:00,  4.16it/s]"
     ]
    },
    {
     "name": "stdout",
     "output_type": "stream",
     "text": [
      "epoch: 35800, loss: 0.0121\n"
     ]
    },
    {
     "name": "stderr",
     "output_type": "stream",
     "text": [
      " 36%|███▌      | 36001/100000 [2:23:59<4:48:59,  3.69it/s] 36%|███▌      | 35803/100000 [2:23:11<4:14:37,  4.20it/s]"
     ]
    },
    {
     "name": "stdout",
     "output_type": "stream",
     "text": [
      "epoch: 36000, loss: 0.0121\n",
      "calculate train accuracy\n",
      "test loss: 0.0121\n",
      "calculate test accuracy\n",
      "test loss: 0.0141\n"
     ]
    },
    {
     "name": "stderr",
     "output_type": "stream",
     "text": [
      " 36%|███▌      | 36201/100000 [2:24:46<4:25:49,  4.00it/s] 36%|███▌      | 36003/100000 [2:23:59<4:35:41,  3.87it/s]"
     ]
    },
    {
     "name": "stdout",
     "output_type": "stream",
     "text": [
      "epoch: 36200, loss: 0.0121\n"
     ]
    },
    {
     "name": "stderr",
     "output_type": "stream",
     "text": [
      " 36%|███▋      | 36401/100000 [2:25:35<4:35:17,  3.85it/s] 36%|███▌      | 36203/100000 [2:24:47<4:26:17,  3.99it/s]"
     ]
    },
    {
     "name": "stdout",
     "output_type": "stream",
     "text": [
      "epoch: 36400, loss: 0.0121\n"
     ]
    },
    {
     "name": "stderr",
     "output_type": "stream",
     "text": [
      " 37%|███▋      | 36601/100000 [2:26:23<4:18:28,  4.09it/s] 36%|███▋      | 36403/100000 [2:25:35<4:21:35,  4.05it/s]"
     ]
    },
    {
     "name": "stdout",
     "output_type": "stream",
     "text": [
      "epoch: 36600, loss: 0.0121\n"
     ]
    },
    {
     "name": "stderr",
     "output_type": "stream",
     "text": [
      " 37%|███▋      | 36801/100000 [2:27:11<4:04:43,  4.30it/s] 37%|███▋      | 36603/100000 [2:26:23<4:13:02,  4.18it/s]"
     ]
    },
    {
     "name": "stdout",
     "output_type": "stream",
     "text": [
      "epoch: 36800, loss: 0.0121\n"
     ]
    },
    {
     "name": "stderr",
     "output_type": "stream",
     "text": [
      " 37%|███▋      | 37001/100000 [2:27:58<4:51:20,  3.60it/s] 37%|███▋      | 36803/100000 [2:27:11<4:07:37,  4.25it/s]"
     ]
    },
    {
     "name": "stdout",
     "output_type": "stream",
     "text": [
      "epoch: 37000, loss: 0.0120\n",
      "calculate train accuracy\n",
      "test loss: 0.0120\n",
      "calculate test accuracy\n",
      "test loss: 0.0143\n"
     ]
    },
    {
     "name": "stderr",
     "output_type": "stream",
     "text": [
      " 37%|███▋      | 37201/100000 [2:28:46<4:13:47,  4.12it/s] 37%|███▋      | 37003/100000 [2:27:59<4:40:33,  3.74it/s]"
     ]
    },
    {
     "name": "stdout",
     "output_type": "stream",
     "text": [
      "epoch: 37200, loss: 0.0120\n"
     ]
    },
    {
     "name": "stderr",
     "output_type": "stream",
     "text": [
      " 37%|███▋      | 37401/100000 [2:29:34<4:07:29,  4.22it/s] 37%|███▋      | 37203/100000 [2:28:46<4:10:32,  4.18it/s]"
     ]
    },
    {
     "name": "stdout",
     "output_type": "stream",
     "text": [
      "epoch: 37400, loss: 0.0121\n"
     ]
    },
    {
     "name": "stderr",
     "output_type": "stream",
     "text": [
      " 38%|███▊      | 37601/100000 [2:30:22<4:06:26,  4.22it/s] 37%|███▋      | 37403/100000 [2:29:34<4:21:19,  3.99it/s]"
     ]
    },
    {
     "name": "stdout",
     "output_type": "stream",
     "text": [
      "epoch: 37600, loss: 0.0120\n"
     ]
    },
    {
     "name": "stderr",
     "output_type": "stream",
     "text": [
      " 38%|███▊      | 37801/100000 [2:31:09<4:10:11,  4.14it/s] 38%|███▊      | 37603/100000 [2:30:22<4:05:45,  4.23it/s]"
     ]
    },
    {
     "name": "stdout",
     "output_type": "stream",
     "text": [
      "epoch: 37800, loss: 0.0121\n"
     ]
    },
    {
     "name": "stderr",
     "output_type": "stream",
     "text": [
      " 38%|███▊      | 38001/100000 [2:31:58<4:42:22,  3.66it/s] 38%|███▊      | 37803/100000 [2:31:10<4:07:52,  4.18it/s]"
     ]
    },
    {
     "name": "stdout",
     "output_type": "stream",
     "text": [
      "epoch: 38000, loss: 0.0120\n",
      "calculate train accuracy\n",
      "test loss: 0.0120\n",
      "calculate test accuracy\n",
      "test loss: 0.0144\n"
     ]
    },
    {
     "name": "stderr",
     "output_type": "stream",
     "text": [
      " 38%|███▊      | 38201/100000 [2:32:46<4:06:55,  4.17it/s] 38%|███▊      | 38003/100000 [2:31:58<4:22:27,  3.94it/s]"
     ]
    },
    {
     "name": "stdout",
     "output_type": "stream",
     "text": [
      "epoch: 38200, loss: 0.0120\n"
     ]
    },
    {
     "name": "stderr",
     "output_type": "stream",
     "text": [
      " 38%|███▊      | 38401/100000 [2:33:33<4:12:07,  4.07it/s] 38%|███▊      | 38203/100000 [2:32:46<4:04:51,  4.21it/s]"
     ]
    },
    {
     "name": "stdout",
     "output_type": "stream",
     "text": [
      "epoch: 38400, loss: 0.0120\n"
     ]
    },
    {
     "name": "stderr",
     "output_type": "stream",
     "text": [
      " 39%|███▊      | 38601/100000 [2:34:21<3:59:31,  4.27it/s] 38%|███▊      | 38403/100000 [2:33:34<4:12:26,  4.07it/s]"
     ]
    },
    {
     "name": "stdout",
     "output_type": "stream",
     "text": [
      "epoch: 38600, loss: 0.0119\n"
     ]
    },
    {
     "name": "stderr",
     "output_type": "stream",
     "text": [
      " 39%|███▉      | 38801/100000 [2:35:09<4:08:30,  4.10it/s] 39%|███▊      | 38603/100000 [2:34:22<4:00:33,  4.25it/s]"
     ]
    },
    {
     "name": "stdout",
     "output_type": "stream",
     "text": [
      "epoch: 38800, loss: 0.0120\n"
     ]
    },
    {
     "name": "stderr",
     "output_type": "stream",
     "text": [
      " 39%|███▉      | 39001/100000 [2:35:57<4:46:59,  3.54it/s] 39%|███▉      | 38803/100000 [2:35:10<4:12:24,  4.04it/s]"
     ]
    },
    {
     "name": "stdout",
     "output_type": "stream",
     "text": [
      "epoch: 39000, loss: 0.0119\n",
      "calculate train accuracy\n",
      "test loss: 0.0119\n",
      "calculate test accuracy\n",
      "test loss: 0.0145\n"
     ]
    },
    {
     "name": "stderr",
     "output_type": "stream",
     "text": [
      " 39%|███▉      | 39201/100000 [2:36:45<4:07:21,  4.10it/s] 39%|███▉      | 39003/100000 [2:35:58<4:22:55,  3.87it/s]"
     ]
    },
    {
     "name": "stdout",
     "output_type": "stream",
     "text": [
      "epoch: 39200, loss: 0.0119\n"
     ]
    },
    {
     "name": "stderr",
     "output_type": "stream",
     "text": [
      " 39%|███▉      | 39401/100000 [2:37:33<4:23:01,  3.84it/s] 39%|███▉      | 39203/100000 [2:36:45<4:03:46,  4.16it/s]"
     ]
    },
    {
     "name": "stdout",
     "output_type": "stream",
     "text": [
      "epoch: 39400, loss: 0.0120\n"
     ]
    },
    {
     "name": "stderr",
     "output_type": "stream",
     "text": [
      " 40%|███▉      | 39601/100000 [2:38:21<4:09:34,  4.03it/s] 39%|███▉      | 39403/100000 [2:37:33<4:09:40,  4.05it/s]"
     ]
    },
    {
     "name": "stdout",
     "output_type": "stream",
     "text": [
      "epoch: 39600, loss: 0.0119\n"
     ]
    },
    {
     "name": "stderr",
     "output_type": "stream",
     "text": [
      " 40%|███▉      | 39801/100000 [2:39:08<4:11:49,  3.98it/s] 40%|███▉      | 39603/100000 [2:38:21<4:10:44,  4.01it/s]"
     ]
    },
    {
     "name": "stdout",
     "output_type": "stream",
     "text": [
      "epoch: 39800, loss: 0.0119\n"
     ]
    },
    {
     "name": "stderr",
     "output_type": "stream",
     "text": [
      " 40%|████      | 40001/100000 [2:39:56<4:35:59,  3.62it/s] 40%|███▉      | 39803/100000 [2:39:09<4:03:00,  4.13it/s]"
     ]
    },
    {
     "name": "stdout",
     "output_type": "stream",
     "text": [
      "epoch: 40000, loss: 0.0119\n",
      "calculate train accuracy\n",
      "test loss: 0.0119\n",
      "calculate test accuracy\n",
      "test loss: 0.0146\n"
     ]
    },
    {
     "name": "stderr",
     "output_type": "stream",
     "text": [
      " 40%|████      | 40201/100000 [2:40:44<3:59:35,  4.16it/s] 40%|████      | 40003/100000 [2:39:57<4:15:13,  3.92it/s]"
     ]
    },
    {
     "name": "stdout",
     "output_type": "stream",
     "text": [
      "epoch: 40200, loss: 0.0119\n"
     ]
    },
    {
     "name": "stderr",
     "output_type": "stream",
     "text": [
      " 40%|████      | 40401/100000 [2:41:32<3:53:30,  4.25it/s] 40%|████      | 40203/100000 [2:40:45<4:05:06,  4.07it/s]"
     ]
    },
    {
     "name": "stdout",
     "output_type": "stream",
     "text": [
      "epoch: 40400, loss: 0.0119\n"
     ]
    },
    {
     "name": "stderr",
     "output_type": "stream",
     "text": [
      " 41%|████      | 40601/100000 [2:42:20<3:48:59,  4.32it/s] 40%|████      | 40403/100000 [2:41:33<3:53:20,  4.26it/s]"
     ]
    },
    {
     "name": "stdout",
     "output_type": "stream",
     "text": [
      "epoch: 40600, loss: 0.0119\n"
     ]
    },
    {
     "name": "stderr",
     "output_type": "stream",
     "text": [
      " 41%|████      | 40801/100000 [2:43:08<4:00:05,  4.11it/s] 41%|████      | 40603/100000 [2:42:21<4:02:50,  4.08it/s]"
     ]
    },
    {
     "name": "stdout",
     "output_type": "stream",
     "text": [
      "epoch: 40800, loss: 0.0119\n"
     ]
    },
    {
     "name": "stderr",
     "output_type": "stream",
     "text": [
      " 41%|████      | 41001/100000 [2:43:56<4:43:36,  3.47it/s] 41%|████      | 40803/100000 [2:43:08<4:03:24,  4.05it/s]"
     ]
    },
    {
     "name": "stdout",
     "output_type": "stream",
     "text": [
      "epoch: 41000, loss: 0.0118\n",
      "calculate train accuracy\n",
      "test loss: 0.0118\n",
      "calculate test accuracy\n",
      "test loss: 0.0147\n"
     ]
    },
    {
     "name": "stderr",
     "output_type": "stream",
     "text": [
      " 41%|████      | 41201/100000 [2:44:44<3:56:55,  4.14it/s] 41%|████      | 41003/100000 [2:43:57<4:17:12,  3.82it/s]"
     ]
    },
    {
     "name": "stdout",
     "output_type": "stream",
     "text": [
      "epoch: 41200, loss: 0.0118\n"
     ]
    },
    {
     "name": "stderr",
     "output_type": "stream",
     "text": [
      " 41%|████▏     | 41401/100000 [2:45:32<3:50:38,  4.23it/s] 41%|████      | 41203/100000 [2:44:44<4:02:18,  4.04it/s]"
     ]
    },
    {
     "name": "stdout",
     "output_type": "stream",
     "text": [
      "epoch: 41400, loss: 0.0118\n"
     ]
    },
    {
     "name": "stderr",
     "output_type": "stream",
     "text": [
      " 42%|████▏     | 41601/100000 [2:46:20<3:57:56,  4.09it/s] 41%|████▏     | 41403/100000 [2:45:32<3:50:03,  4.25it/s]"
     ]
    },
    {
     "name": "stdout",
     "output_type": "stream",
     "text": [
      "epoch: 41600, loss: 0.0118\n"
     ]
    },
    {
     "name": "stderr",
     "output_type": "stream",
     "text": [
      " 42%|████▏     | 41801/100000 [2:47:07<3:43:48,  4.33it/s] 42%|████▏     | 41603/100000 [2:46:20<4:04:00,  3.99it/s]"
     ]
    },
    {
     "name": "stdout",
     "output_type": "stream",
     "text": [
      "epoch: 41800, loss: 0.0118\n"
     ]
    },
    {
     "name": "stderr",
     "output_type": "stream",
     "text": [
      " 42%|████▏     | 42001/100000 [2:47:55<4:27:41,  3.61it/s] 42%|████▏     | 41803/100000 [2:47:08<3:53:29,  4.15it/s]"
     ]
    },
    {
     "name": "stdout",
     "output_type": "stream",
     "text": [
      "epoch: 42000, loss: 0.0118\n",
      "calculate train accuracy\n",
      "test loss: 0.0118\n",
      "calculate test accuracy\n",
      "test loss: 0.0148\n"
     ]
    },
    {
     "name": "stderr",
     "output_type": "stream",
     "text": [
      " 42%|████▏     | 42201/100000 [2:48:43<3:49:18,  4.20it/s] 42%|████▏     | 42003/100000 [2:47:56<4:08:29,  3.89it/s]"
     ]
    },
    {
     "name": "stdout",
     "output_type": "stream",
     "text": [
      "epoch: 42200, loss: 0.0118\n"
     ]
    },
    {
     "name": "stderr",
     "output_type": "stream",
     "text": [
      " 42%|████▏     | 42401/100000 [2:49:31<3:44:00,  4.29it/s] 42%|████▏     | 42203/100000 [2:48:43<3:47:43,  4.23it/s]"
     ]
    },
    {
     "name": "stdout",
     "output_type": "stream",
     "text": [
      "epoch: 42400, loss: 0.0118\n"
     ]
    },
    {
     "name": "stderr",
     "output_type": "stream",
     "text": [
      " 43%|████▎     | 42601/100000 [2:50:18<3:58:39,  4.01it/s] 42%|████▏     | 42403/100000 [2:49:31<3:45:03,  4.27it/s]"
     ]
    },
    {
     "name": "stdout",
     "output_type": "stream",
     "text": [
      "epoch: 42600, loss: 0.0118\n"
     ]
    },
    {
     "name": "stderr",
     "output_type": "stream",
     "text": [
      " 43%|████▎     | 42801/100000 [2:51:06<3:47:16,  4.19it/s] 43%|████▎     | 42603/100000 [2:50:19<3:59:20,  4.00it/s]"
     ]
    },
    {
     "name": "stdout",
     "output_type": "stream",
     "text": [
      "epoch: 42800, loss: 0.0118\n"
     ]
    },
    {
     "name": "stderr",
     "output_type": "stream",
     "text": [
      " 43%|████▎     | 43001/100000 [2:51:54<4:25:28,  3.58it/s] 43%|████▎     | 42803/100000 [2:51:07<3:56:43,  4.03it/s]"
     ]
    },
    {
     "name": "stdout",
     "output_type": "stream",
     "text": [
      "epoch: 43000, loss: 0.0118\n",
      "calculate train accuracy\n",
      "test loss: 0.0118\n",
      "calculate test accuracy\n",
      "test loss: 0.0149\n"
     ]
    },
    {
     "name": "stderr",
     "output_type": "stream",
     "text": [
      " 43%|████▎     | 43201/100000 [2:52:42<3:41:47,  4.27it/s] 43%|████▎     | 43003/100000 [2:51:55<4:04:05,  3.89it/s]"
     ]
    },
    {
     "name": "stdout",
     "output_type": "stream",
     "text": [
      "epoch: 43200, loss: 0.0118\n"
     ]
    },
    {
     "name": "stderr",
     "output_type": "stream",
     "text": [
      " 43%|████▎     | 43401/100000 [2:53:30<3:45:34,  4.18it/s] 43%|████▎     | 43203/100000 [2:52:42<3:41:47,  4.27it/s]"
     ]
    },
    {
     "name": "stdout",
     "output_type": "stream",
     "text": [
      "epoch: 43400, loss: 0.0118\n"
     ]
    },
    {
     "name": "stderr",
     "output_type": "stream",
     "text": [
      " 44%|████▎     | 43601/100000 [2:54:18<3:49:29,  4.10it/s] 43%|████▎     | 43403/100000 [2:53:30<3:45:15,  4.19it/s]"
     ]
    },
    {
     "name": "stdout",
     "output_type": "stream",
     "text": [
      "epoch: 43600, loss: 0.0118\n"
     ]
    },
    {
     "name": "stderr",
     "output_type": "stream",
     "text": [
      " 44%|████▍     | 43801/100000 [2:55:06<3:37:20,  4.31it/s] 44%|████▎     | 43603/100000 [2:54:18<3:52:25,  4.04it/s]"
     ]
    },
    {
     "name": "stdout",
     "output_type": "stream",
     "text": [
      "epoch: 43800, loss: 0.0118\n"
     ]
    },
    {
     "name": "stderr",
     "output_type": "stream",
     "text": [
      " 44%|████▍     | 44001/100000 [2:55:54<4:22:39,  3.55it/s] 44%|████▍     | 43803/100000 [2:55:06<3:39:26,  4.27it/s]"
     ]
    },
    {
     "name": "stdout",
     "output_type": "stream",
     "text": [
      "epoch: 44000, loss: 0.0117\n",
      "calculate train accuracy\n",
      "test loss: 0.0118\n",
      "calculate test accuracy\n",
      "test loss: 0.0150\n"
     ]
    },
    {
     "name": "stderr",
     "output_type": "stream",
     "text": [
      " 44%|████▍     | 44201/100000 [2:56:42<3:45:32,  4.12it/s] 44%|████▍     | 44003/100000 [2:55:54<4:04:50,  3.81it/s]"
     ]
    },
    {
     "name": "stdout",
     "output_type": "stream",
     "text": [
      "epoch: 44200, loss: 0.0117\n"
     ]
    },
    {
     "name": "stderr",
     "output_type": "stream",
     "text": [
      " 44%|████▍     | 44401/100000 [2:57:30<3:43:03,  4.15it/s] 44%|████▍     | 44203/100000 [2:56:42<3:41:41,  4.19it/s]"
     ]
    },
    {
     "name": "stdout",
     "output_type": "stream",
     "text": [
      "epoch: 44400, loss: 0.0117\n"
     ]
    },
    {
     "name": "stderr",
     "output_type": "stream",
     "text": [
      " 45%|████▍     | 44601/100000 [2:58:17<3:34:20,  4.31it/s] 44%|████▍     | 44403/100000 [2:57:30<3:56:13,  3.92it/s]"
     ]
    },
    {
     "name": "stdout",
     "output_type": "stream",
     "text": [
      "epoch: 44600, loss: 0.0117\n"
     ]
    },
    {
     "name": "stderr",
     "output_type": "stream",
     "text": [
      " 45%|████▍     | 44801/100000 [2:59:05<3:37:15,  4.23it/s] 45%|████▍     | 44603/100000 [2:58:18<3:42:52,  4.14it/s]"
     ]
    },
    {
     "name": "stdout",
     "output_type": "stream",
     "text": [
      "epoch: 44800, loss: 0.0117\n"
     ]
    },
    {
     "name": "stderr",
     "output_type": "stream",
     "text": [
      " 45%|████▌     | 45001/100000 [2:59:53<4:28:07,  3.42it/s] 45%|████▍     | 44803/100000 [2:59:05<3:37:05,  4.24it/s]"
     ]
    },
    {
     "name": "stdout",
     "output_type": "stream",
     "text": [
      "epoch: 45000, loss: 0.0117\n",
      "calculate train accuracy\n",
      "test loss: 0.0117\n",
      "calculate test accuracy\n",
      "test loss: 0.0151\n"
     ]
    },
    {
     "name": "stderr",
     "output_type": "stream",
     "text": [
      " 45%|████▌     | 45201/100000 [3:00:41<3:37:23,  4.20it/s] 45%|████▌     | 45003/100000 [2:59:53<4:02:17,  3.78it/s]"
     ]
    },
    {
     "name": "stdout",
     "output_type": "stream",
     "text": [
      "epoch: 45200, loss: 0.0117\n"
     ]
    },
    {
     "name": "stderr",
     "output_type": "stream",
     "text": [
      " 45%|████▌     | 45401/100000 [3:01:28<3:33:29,  4.26it/s] 45%|████▌     | 45203/100000 [3:00:41<3:36:43,  4.21it/s]"
     ]
    },
    {
     "name": "stdout",
     "output_type": "stream",
     "text": [
      "epoch: 45400, loss: 0.0117\n"
     ]
    },
    {
     "name": "stderr",
     "output_type": "stream",
     "text": [
      " 46%|████▌     | 45601/100000 [3:02:16<3:29:41,  4.32it/s] 45%|████▌     | 45403/100000 [3:01:29<3:34:07,  4.25it/s]"
     ]
    },
    {
     "name": "stdout",
     "output_type": "stream",
     "text": [
      "epoch: 45600, loss: 0.0117\n"
     ]
    },
    {
     "name": "stderr",
     "output_type": "stream",
     "text": [
      " 46%|████▌     | 45801/100000 [3:03:04<3:36:13,  4.18it/s] 46%|████▌     | 45603/100000 [3:02:17<3:31:33,  4.29it/s]"
     ]
    },
    {
     "name": "stdout",
     "output_type": "stream",
     "text": [
      "epoch: 45800, loss: 0.0117\n"
     ]
    },
    {
     "name": "stderr",
     "output_type": "stream",
     "text": [
      " 46%|████▌     | 46001/100000 [3:03:52<4:13:01,  3.56it/s] 46%|████▌     | 45803/100000 [3:03:05<3:35:42,  4.19it/s]"
     ]
    },
    {
     "name": "stdout",
     "output_type": "stream",
     "text": [
      "epoch: 46000, loss: 0.0117\n",
      "calculate train accuracy\n",
      "test loss: 0.0117\n",
      "calculate test accuracy\n",
      "test loss: 0.0152\n"
     ]
    },
    {
     "name": "stderr",
     "output_type": "stream",
     "text": [
      " 46%|████▌     | 46201/100000 [3:04:40<3:38:22,  4.11it/s] 46%|████▌     | 46003/100000 [3:03:52<3:57:09,  3.79it/s]"
     ]
    },
    {
     "name": "stdout",
     "output_type": "stream",
     "text": [
      "epoch: 46200, loss: 0.0118\n"
     ]
    },
    {
     "name": "stderr",
     "output_type": "stream",
     "text": [
      " 46%|████▋     | 46401/100000 [3:05:28<3:32:50,  4.20it/s] 46%|████▌     | 46203/100000 [3:04:41<3:34:48,  4.17it/s]"
     ]
    },
    {
     "name": "stdout",
     "output_type": "stream",
     "text": [
      "epoch: 46400, loss: 0.0117\n"
     ]
    },
    {
     "name": "stderr",
     "output_type": "stream",
     "text": [
      " 47%|████▋     | 46601/100000 [3:06:16<3:40:08,  4.04it/s] 46%|████▋     | 46403/100000 [3:05:28<3:35:52,  4.14it/s]"
     ]
    },
    {
     "name": "stdout",
     "output_type": "stream",
     "text": [
      "epoch: 46600, loss: 0.0117\n"
     ]
    },
    {
     "name": "stderr",
     "output_type": "stream",
     "text": [
      " 47%|████▋     | 46801/100000 [3:07:04<3:33:52,  4.15it/s] 47%|████▋     | 46603/100000 [3:06:17<3:34:19,  4.15it/s]"
     ]
    },
    {
     "name": "stdout",
     "output_type": "stream",
     "text": [
      "epoch: 46800, loss: 0.0117\n"
     ]
    },
    {
     "name": "stderr",
     "output_type": "stream",
     "text": [
      " 47%|████▋     | 47001/100000 [3:07:52<4:09:10,  3.54it/s] 47%|████▋     | 46803/100000 [3:07:04<3:31:30,  4.19it/s]"
     ]
    },
    {
     "name": "stdout",
     "output_type": "stream",
     "text": [
      "epoch: 47000, loss: 0.0116\n",
      "calculate train accuracy\n",
      "test loss: 0.0116\n",
      "calculate test accuracy\n",
      "test loss: 0.0152\n"
     ]
    },
    {
     "name": "stderr",
     "output_type": "stream",
     "text": [
      " 47%|████▋     | 47201/100000 [3:08:40<3:26:41,  4.26it/s] 47%|████▋     | 47003/100000 [3:07:53<3:55:10,  3.76it/s]"
     ]
    },
    {
     "name": "stdout",
     "output_type": "stream",
     "text": [
      "epoch: 47200, loss: 0.0116\n"
     ]
    },
    {
     "name": "stderr",
     "output_type": "stream",
     "text": [
      " 47%|████▋     | 47401/100000 [3:09:28<3:25:06,  4.27it/s] 47%|████▋     | 47203/100000 [3:08:41<3:27:32,  4.24it/s]"
     ]
    },
    {
     "name": "stdout",
     "output_type": "stream",
     "text": [
      "epoch: 47400, loss: 0.0116\n"
     ]
    },
    {
     "name": "stderr",
     "output_type": "stream",
     "text": [
      " 48%|████▊     | 47601/100000 [3:10:16<3:25:00,  4.26it/s] 47%|████▋     | 47403/100000 [3:09:28<3:26:02,  4.25it/s]"
     ]
    },
    {
     "name": "stdout",
     "output_type": "stream",
     "text": [
      "epoch: 47600, loss: 0.0116\n"
     ]
    },
    {
     "name": "stderr",
     "output_type": "stream",
     "text": [
      " 48%|████▊     | 47801/100000 [3:11:03<3:21:32,  4.32it/s] 48%|████▊     | 47603/100000 [3:10:16<3:25:02,  4.26it/s]"
     ]
    },
    {
     "name": "stdout",
     "output_type": "stream",
     "text": [
      "epoch: 47800, loss: 0.0116\n"
     ]
    },
    {
     "name": "stderr",
     "output_type": "stream",
     "text": [
      " 48%|████▊     | 48001/100000 [3:11:51<4:02:05,  3.58it/s] 48%|████▊     | 47803/100000 [3:11:04<3:27:39,  4.19it/s]"
     ]
    },
    {
     "name": "stdout",
     "output_type": "stream",
     "text": [
      "epoch: 48000, loss: 0.0116\n",
      "calculate train accuracy\n",
      "test loss: 0.0116\n",
      "calculate test accuracy\n",
      "test loss: 0.0153\n"
     ]
    },
    {
     "name": "stderr",
     "output_type": "stream",
     "text": [
      " 48%|████▊     | 48201/100000 [3:12:39<3:26:08,  4.19it/s] 48%|████▊     | 48003/100000 [3:11:52<3:53:51,  3.71it/s]"
     ]
    },
    {
     "name": "stdout",
     "output_type": "stream",
     "text": [
      "epoch: 48200, loss: 0.0116\n"
     ]
    },
    {
     "name": "stderr",
     "output_type": "stream",
     "text": [
      " 48%|████▊     | 48401/100000 [3:13:28<3:22:30,  4.25it/s] 48%|████▊     | 48203/100000 [3:12:40<3:24:53,  4.21it/s]"
     ]
    },
    {
     "name": "stdout",
     "output_type": "stream",
     "text": [
      "epoch: 48400, loss: 0.0116\n"
     ]
    },
    {
     "name": "stderr",
     "output_type": "stream",
     "text": [
      " 49%|████▊     | 48601/100000 [3:14:16<3:19:54,  4.29it/s] 48%|████▊     | 48403/100000 [3:13:28<3:29:26,  4.11it/s]"
     ]
    },
    {
     "name": "stdout",
     "output_type": "stream",
     "text": [
      "epoch: 48600, loss: 0.0116\n"
     ]
    },
    {
     "name": "stderr",
     "output_type": "stream",
     "text": [
      " 49%|████▉     | 48801/100000 [3:15:04<3:23:53,  4.18it/s] 49%|████▊     | 48603/100000 [3:14:16<3:21:11,  4.26it/s]"
     ]
    },
    {
     "name": "stdout",
     "output_type": "stream",
     "text": [
      "epoch: 48800, loss: 0.0116\n"
     ]
    },
    {
     "name": "stderr",
     "output_type": "stream",
     "text": [
      " 49%|████▉     | 49001/100000 [3:15:52<3:58:51,  3.56it/s] 49%|████▉     | 48803/100000 [3:15:04<3:27:55,  4.10it/s]"
     ]
    },
    {
     "name": "stdout",
     "output_type": "stream",
     "text": [
      "epoch: 49000, loss: 0.0118\n",
      "calculate train accuracy\n",
      "test loss: 0.0117\n",
      "calculate test accuracy\n",
      "test loss: 0.0157\n"
     ]
    },
    {
     "name": "stderr",
     "output_type": "stream",
     "text": [
      " 49%|████▉     | 49201/100000 [3:16:40<3:23:02,  4.17it/s] 49%|████▉     | 49003/100000 [3:15:52<3:38:47,  3.88it/s]"
     ]
    },
    {
     "name": "stdout",
     "output_type": "stream",
     "text": [
      "epoch: 49200, loss: 0.0116\n"
     ]
    },
    {
     "name": "stderr",
     "output_type": "stream",
     "text": [
      " 49%|████▉     | 49401/100000 [3:17:27<3:33:05,  3.96it/s] 49%|████▉     | 49203/100000 [3:16:40<3:21:13,  4.21it/s]"
     ]
    },
    {
     "name": "stdout",
     "output_type": "stream",
     "text": [
      "epoch: 49400, loss: 0.0116\n"
     ]
    },
    {
     "name": "stderr",
     "output_type": "stream",
     "text": [
      " 50%|████▉     | 49601/100000 [3:18:15<3:18:56,  4.22it/s] 49%|████▉     | 49403/100000 [3:17:28<3:32:39,  3.97it/s]"
     ]
    },
    {
     "name": "stdout",
     "output_type": "stream",
     "text": [
      "epoch: 49600, loss: 0.0116\n"
     ]
    },
    {
     "name": "stderr",
     "output_type": "stream",
     "text": [
      " 50%|████▉     | 49801/100000 [3:19:03<3:25:08,  4.08it/s] 50%|████▉     | 49603/100000 [3:18:15<3:18:28,  4.23it/s]"
     ]
    },
    {
     "name": "stdout",
     "output_type": "stream",
     "text": [
      "epoch: 49800, loss: 0.0115\n"
     ]
    },
    {
     "name": "stderr",
     "output_type": "stream",
     "text": [
      " 50%|█████     | 50001/100000 [3:19:51<3:55:06,  3.54it/s] 50%|████▉     | 49803/100000 [3:19:03<3:21:34,  4.15it/s]"
     ]
    },
    {
     "name": "stdout",
     "output_type": "stream",
     "text": [
      "epoch: 50000, loss: 0.0116\n",
      "calculate train accuracy\n",
      "test loss: 0.0116\n",
      "calculate test accuracy\n",
      "test loss: 0.0158\n"
     ]
    },
    {
     "name": "stderr",
     "output_type": "stream",
     "text": [
      " 50%|█████     | 50201/100000 [3:20:38<3:23:05,  4.09it/s] 50%|█████     | 50003/100000 [3:19:51<3:39:08,  3.80it/s]"
     ]
    },
    {
     "name": "stdout",
     "output_type": "stream",
     "text": [
      "epoch: 50200, loss: 0.0117\n"
     ]
    },
    {
     "name": "stderr",
     "output_type": "stream",
     "text": [
      " 50%|█████     | 50401/100000 [3:21:26<3:20:40,  4.12it/s] 50%|█████     | 50203/100000 [3:20:39<3:19:20,  4.16it/s]"
     ]
    },
    {
     "name": "stdout",
     "output_type": "stream",
     "text": [
      "epoch: 50400, loss: 0.0115\n"
     ]
    },
    {
     "name": "stderr",
     "output_type": "stream",
     "text": [
      " 51%|█████     | 50601/100000 [3:22:14<3:17:41,  4.16it/s] 50%|█████     | 50403/100000 [3:21:27<3:18:01,  4.17it/s]"
     ]
    },
    {
     "name": "stdout",
     "output_type": "stream",
     "text": [
      "epoch: 50600, loss: 0.0115\n"
     ]
    },
    {
     "name": "stderr",
     "output_type": "stream",
     "text": [
      " 51%|█████     | 50801/100000 [3:23:01<3:17:25,  4.15it/s] 51%|█████     | 50603/100000 [3:22:14<3:17:35,  4.17it/s]"
     ]
    },
    {
     "name": "stdout",
     "output_type": "stream",
     "text": [
      "epoch: 50800, loss: 0.0115\n"
     ]
    },
    {
     "name": "stderr",
     "output_type": "stream",
     "text": [
      " 51%|█████     | 51001/100000 [3:23:49<3:58:25,  3.43it/s] 51%|█████     | 50803/100000 [3:23:02<3:22:10,  4.06it/s]"
     ]
    },
    {
     "name": "stdout",
     "output_type": "stream",
     "text": [
      "epoch: 51000, loss: 0.0115\n",
      "calculate train accuracy\n",
      "test loss: 0.0115\n",
      "calculate test accuracy\n",
      "test loss: 0.0159\n"
     ]
    },
    {
     "name": "stderr",
     "output_type": "stream",
     "text": [
      " 51%|█████     | 51201/100000 [3:24:37<3:15:35,  4.16it/s] 51%|█████     | 51003/100000 [3:23:50<3:39:59,  3.71it/s]"
     ]
    },
    {
     "name": "stdout",
     "output_type": "stream",
     "text": [
      "epoch: 51200, loss: 0.0115\n"
     ]
    },
    {
     "name": "stderr",
     "output_type": "stream",
     "text": [
      " 51%|█████▏    | 51401/100000 [3:25:25<3:14:22,  4.17it/s] 51%|█████     | 51203/100000 [3:24:38<3:13:25,  4.20it/s]"
     ]
    },
    {
     "name": "stdout",
     "output_type": "stream",
     "text": [
      "epoch: 51400, loss: 0.0115\n"
     ]
    },
    {
     "name": "stderr",
     "output_type": "stream",
     "text": [
      " 52%|█████▏    | 51601/100000 [3:26:13<3:24:30,  3.94it/s] 51%|█████▏    | 51403/100000 [3:25:25<3:11:53,  4.22it/s]"
     ]
    },
    {
     "name": "stdout",
     "output_type": "stream",
     "text": [
      "epoch: 51600, loss: 0.0115\n"
     ]
    },
    {
     "name": "stderr",
     "output_type": "stream",
     "text": [
      " 52%|█████▏    | 51801/100000 [3:27:00<3:06:29,  4.31it/s] 52%|█████▏    | 51603/100000 [3:26:13<3:23:12,  3.97it/s]"
     ]
    },
    {
     "name": "stdout",
     "output_type": "stream",
     "text": [
      "epoch: 51800, loss: 0.0115\n"
     ]
    },
    {
     "name": "stderr",
     "output_type": "stream",
     "text": [
      " 52%|█████▏    | 52001/100000 [3:27:48<3:43:25,  3.58it/s] 52%|█████▏    | 51803/100000 [3:27:01<3:08:12,  4.27it/s]"
     ]
    },
    {
     "name": "stdout",
     "output_type": "stream",
     "text": [
      "epoch: 52000, loss: 0.0115\n",
      "calculate train accuracy\n",
      "test loss: 0.0115\n",
      "calculate test accuracy\n",
      "test loss: 0.0160\n"
     ]
    },
    {
     "name": "stderr",
     "output_type": "stream",
     "text": [
      " 52%|█████▏    | 52201/100000 [3:28:36<3:07:11,  4.26it/s] 52%|█████▏    | 52003/100000 [3:27:49<3:31:03,  3.79it/s]"
     ]
    },
    {
     "name": "stdout",
     "output_type": "stream",
     "text": [
      "epoch: 52200, loss: 0.0115\n"
     ]
    },
    {
     "name": "stderr",
     "output_type": "stream",
     "text": [
      " 52%|█████▏    | 52401/100000 [3:29:24<3:11:25,  4.14it/s] 52%|█████▏    | 52203/100000 [3:28:37<3:13:35,  4.12it/s]"
     ]
    },
    {
     "name": "stdout",
     "output_type": "stream",
     "text": [
      "epoch: 52400, loss: 0.0115\n"
     ]
    },
    {
     "name": "stderr",
     "output_type": "stream",
     "text": [
      " 53%|█████▎    | 52601/100000 [3:30:11<3:03:06,  4.31it/s] 52%|█████▏    | 52403/100000 [3:29:24<3:15:08,  4.07it/s]"
     ]
    },
    {
     "name": "stdout",
     "output_type": "stream",
     "text": [
      "epoch: 52600, loss: 0.0115\n"
     ]
    },
    {
     "name": "stderr",
     "output_type": "stream",
     "text": [
      " 53%|█████▎    | 52801/100000 [3:30:59<3:07:04,  4.21it/s] 53%|█████▎    | 52603/100000 [3:30:12<3:04:10,  4.29it/s]"
     ]
    },
    {
     "name": "stdout",
     "output_type": "stream",
     "text": [
      "epoch: 52800, loss: 0.0115\n"
     ]
    },
    {
     "name": "stderr",
     "output_type": "stream",
     "text": [
      " 53%|█████▎    | 53001/100000 [3:31:47<3:40:42,  3.55it/s] 53%|█████▎    | 52803/100000 [3:31:00<3:05:54,  4.23it/s]"
     ]
    },
    {
     "name": "stdout",
     "output_type": "stream",
     "text": [
      "epoch: 53000, loss: 0.0115\n",
      "calculate train accuracy\n",
      "test loss: 0.0115\n",
      "calculate test accuracy\n",
      "test loss: 0.0161\n"
     ]
    },
    {
     "name": "stderr",
     "output_type": "stream",
     "text": [
      " 53%|█████▎    | 53201/100000 [3:32:35<3:16:54,  3.96it/s] 53%|█████▎    | 53003/100000 [3:31:48<3:26:39,  3.79it/s]"
     ]
    },
    {
     "name": "stdout",
     "output_type": "stream",
     "text": [
      "epoch: 53200, loss: 0.0115\n"
     ]
    },
    {
     "name": "stderr",
     "output_type": "stream",
     "text": [
      " 53%|█████▎    | 53401/100000 [3:33:23<3:14:06,  4.00it/s] 53%|█████▎    | 53203/100000 [3:32:36<3:09:43,  4.11it/s]"
     ]
    },
    {
     "name": "stdout",
     "output_type": "stream",
     "text": [
      "epoch: 53400, loss: 0.0115\n"
     ]
    },
    {
     "name": "stderr",
     "output_type": "stream",
     "text": [
      " 54%|█████▎    | 53601/100000 [3:34:11<3:04:30,  4.19it/s] 53%|█████▎    | 53403/100000 [3:33:24<3:17:07,  3.94it/s]"
     ]
    },
    {
     "name": "stdout",
     "output_type": "stream",
     "text": [
      "epoch: 53600, loss: 0.0116\n"
     ]
    },
    {
     "name": "stderr",
     "output_type": "stream",
     "text": [
      " 54%|█████▍    | 53801/100000 [3:34:59<3:00:32,  4.26it/s] 54%|█████▎    | 53603/100000 [3:34:11<3:03:59,  4.20it/s]"
     ]
    },
    {
     "name": "stdout",
     "output_type": "stream",
     "text": [
      "epoch: 53800, loss: 0.0114\n"
     ]
    },
    {
     "name": "stderr",
     "output_type": "stream",
     "text": [
      " 54%|█████▍    | 54001/100000 [3:35:47<3:35:13,  3.56it/s] 54%|█████▍    | 53803/100000 [3:35:00<3:00:49,  4.26it/s]"
     ]
    },
    {
     "name": "stdout",
     "output_type": "stream",
     "text": [
      "epoch: 54000, loss: 0.0115\n",
      "calculate train accuracy\n",
      "test loss: 0.0115\n",
      "calculate test accuracy\n",
      "test loss: 0.0162\n"
     ]
    },
    {
     "name": "stderr",
     "output_type": "stream",
     "text": [
      " 54%|█████▍    | 54201/100000 [3:36:35<2:58:52,  4.27it/s] 54%|█████▍    | 54003/100000 [3:35:47<3:17:57,  3.87it/s]"
     ]
    },
    {
     "name": "stdout",
     "output_type": "stream",
     "text": [
      "epoch: 54200, loss: 0.0116\n"
     ]
    },
    {
     "name": "stderr",
     "output_type": "stream",
     "text": [
      " 54%|█████▍    | 54401/100000 [3:37:22<3:01:19,  4.19it/s] 54%|█████▍    | 54203/100000 [3:36:35<3:03:01,  4.17it/s]"
     ]
    },
    {
     "name": "stdout",
     "output_type": "stream",
     "text": [
      "epoch: 54400, loss: 0.0114\n"
     ]
    },
    {
     "name": "stderr",
     "output_type": "stream",
     "text": [
      " 55%|█████▍    | 54601/100000 [3:38:10<3:02:19,  4.15it/s] 54%|█████▍    | 54403/100000 [3:37:23<3:06:56,  4.07it/s]"
     ]
    },
    {
     "name": "stdout",
     "output_type": "stream",
     "text": [
      "epoch: 54600, loss: 0.0116\n"
     ]
    },
    {
     "name": "stderr",
     "output_type": "stream",
     "text": [
      " 55%|█████▍    | 54801/100000 [3:38:58<2:59:40,  4.19it/s] 55%|█████▍    | 54603/100000 [3:38:11<3:06:16,  4.06it/s]"
     ]
    },
    {
     "name": "stdout",
     "output_type": "stream",
     "text": [
      "epoch: 54800, loss: 0.0115\n"
     ]
    },
    {
     "name": "stderr",
     "output_type": "stream",
     "text": [
      " 55%|█████▌    | 55001/100000 [3:39:46<3:30:00,  3.57it/s] 55%|█████▍    | 54803/100000 [3:38:59<2:58:22,  4.22it/s]"
     ]
    },
    {
     "name": "stdout",
     "output_type": "stream",
     "text": [
      "epoch: 55000, loss: 0.0114\n",
      "calculate train accuracy\n",
      "test loss: 0.0114\n",
      "calculate test accuracy\n",
      "test loss: 0.0162\n"
     ]
    },
    {
     "name": "stderr",
     "output_type": "stream",
     "text": [
      " 55%|█████▌    | 55201/100000 [3:40:33<2:59:40,  4.16it/s] 55%|█████▌    | 55003/100000 [3:39:46<3:18:56,  3.77it/s]"
     ]
    },
    {
     "name": "stdout",
     "output_type": "stream",
     "text": [
      "epoch: 55200, loss: 0.0114\n"
     ]
    },
    {
     "name": "stderr",
     "output_type": "stream",
     "text": [
      " 55%|█████▌    | 55401/100000 [3:41:22<2:59:38,  4.14it/s] 55%|█████▌    | 55203/100000 [3:40:34<3:01:44,  4.11it/s]"
     ]
    },
    {
     "name": "stdout",
     "output_type": "stream",
     "text": [
      "epoch: 55400, loss: 0.0114\n"
     ]
    },
    {
     "name": "stderr",
     "output_type": "stream",
     "text": [
      " 56%|█████▌    | 55601/100000 [3:42:09<2:53:26,  4.27it/s] 55%|█████▌    | 55403/100000 [3:41:22<2:57:07,  4.20it/s]"
     ]
    },
    {
     "name": "stdout",
     "output_type": "stream",
     "text": [
      "epoch: 55600, loss: 0.0114\n"
     ]
    },
    {
     "name": "stderr",
     "output_type": "stream",
     "text": [
      " 56%|█████▌    | 55801/100000 [3:42:57<2:56:13,  4.18it/s] 56%|█████▌    | 55603/100000 [3:42:10<3:02:16,  4.06it/s]"
     ]
    },
    {
     "name": "stdout",
     "output_type": "stream",
     "text": [
      "epoch: 55800, loss: 0.0114\n"
     ]
    },
    {
     "name": "stderr",
     "output_type": "stream",
     "text": [
      " 56%|█████▌    | 56001/100000 [3:43:45<3:22:02,  3.63it/s] 56%|█████▌    | 55803/100000 [3:42:58<3:05:17,  3.98it/s]"
     ]
    },
    {
     "name": "stdout",
     "output_type": "stream",
     "text": [
      "epoch: 56000, loss: 0.0114\n",
      "calculate train accuracy\n",
      "test loss: 0.0114\n",
      "calculate test accuracy\n",
      "test loss: 0.0163\n"
     ]
    },
    {
     "name": "stderr",
     "output_type": "stream",
     "text": [
      " 56%|█████▌    | 56201/100000 [3:44:33<2:53:25,  4.21it/s] 56%|█████▌    | 56003/100000 [3:43:46<3:11:38,  3.83it/s]"
     ]
    },
    {
     "name": "stdout",
     "output_type": "stream",
     "text": [
      "epoch: 56200, loss: 0.0114\n"
     ]
    },
    {
     "name": "stderr",
     "output_type": "stream",
     "text": [
      " 56%|█████▋    | 56401/100000 [3:45:21<2:54:06,  4.17it/s] 56%|█████▌    | 56203/100000 [3:44:34<2:55:53,  4.15it/s]"
     ]
    },
    {
     "name": "stdout",
     "output_type": "stream",
     "text": [
      "epoch: 56400, loss: 0.0114\n"
     ]
    },
    {
     "name": "stderr",
     "output_type": "stream",
     "text": [
      " 57%|█████▋    | 56601/100000 [3:46:09<2:52:41,  4.19it/s] 56%|█████▋    | 56403/100000 [3:45:21<2:52:27,  4.21it/s]"
     ]
    },
    {
     "name": "stdout",
     "output_type": "stream",
     "text": [
      "epoch: 56600, loss: 0.0114\n"
     ]
    },
    {
     "name": "stderr",
     "output_type": "stream",
     "text": [
      " 57%|█████▋    | 56801/100000 [3:46:57<2:48:56,  4.26it/s] 57%|█████▋    | 56603/100000 [3:46:09<2:51:25,  4.22it/s]"
     ]
    },
    {
     "name": "stdout",
     "output_type": "stream",
     "text": [
      "epoch: 56800, loss: 0.0117\n"
     ]
    },
    {
     "name": "stderr",
     "output_type": "stream",
     "text": [
      " 57%|█████▋    | 57001/100000 [3:47:45<3:19:37,  3.59it/s] 57%|█████▋    | 56803/100000 [3:46:57<2:57:34,  4.05it/s]"
     ]
    },
    {
     "name": "stdout",
     "output_type": "stream",
     "text": [
      "epoch: 57000, loss: 0.0114\n",
      "calculate train accuracy\n",
      "test loss: 0.0114\n",
      "calculate test accuracy\n",
      "test loss: 0.0164\n"
     ]
    },
    {
     "name": "stderr",
     "output_type": "stream",
     "text": [
      " 57%|█████▋    | 57201/100000 [3:48:32<2:50:38,  4.18it/s] 57%|█████▋    | 57003/100000 [3:47:45<3:07:27,  3.82it/s]"
     ]
    },
    {
     "name": "stdout",
     "output_type": "stream",
     "text": [
      "epoch: 57200, loss: 0.0114\n"
     ]
    },
    {
     "name": "stderr",
     "output_type": "stream",
     "text": [
      " 57%|█████▋    | 57401/100000 [3:49:21<2:46:39,  4.26it/s] 57%|█████▋    | 57203/100000 [3:48:33<2:49:13,  4.21it/s]"
     ]
    },
    {
     "name": "stdout",
     "output_type": "stream",
     "text": [
      "epoch: 57400, loss: 0.0114\n"
     ]
    },
    {
     "name": "stderr",
     "output_type": "stream",
     "text": [
      " 58%|█████▊    | 57601/100000 [3:50:08<2:47:43,  4.21it/s] 57%|█████▋    | 57403/100000 [3:49:21<2:53:29,  4.09it/s]"
     ]
    },
    {
     "name": "stdout",
     "output_type": "stream",
     "text": [
      "epoch: 57600, loss: 0.0115\n"
     ]
    },
    {
     "name": "stderr",
     "output_type": "stream",
     "text": [
      " 58%|█████▊    | 57801/100000 [3:50:56<2:49:42,  4.14it/s] 58%|█████▊    | 57603/100000 [3:50:09<2:47:49,  4.21it/s]"
     ]
    },
    {
     "name": "stdout",
     "output_type": "stream",
     "text": [
      "epoch: 57800, loss: 0.0114\n"
     ]
    },
    {
     "name": "stderr",
     "output_type": "stream",
     "text": [
      " 58%|█████▊    | 58001/100000 [3:51:44<3:22:52,  3.45it/s] 58%|█████▊    | 57803/100000 [3:50:57<2:48:41,  4.17it/s]"
     ]
    },
    {
     "name": "stdout",
     "output_type": "stream",
     "text": [
      "epoch: 58000, loss: 0.0114\n",
      "calculate train accuracy\n",
      "test loss: 0.0114\n",
      "calculate test accuracy\n",
      "test loss: 0.0166\n"
     ]
    },
    {
     "name": "stderr",
     "output_type": "stream",
     "text": [
      " 58%|█████▊    | 58201/100000 [3:52:32<2:42:16,  4.29it/s] 58%|█████▊    | 58003/100000 [3:51:45<3:03:47,  3.81it/s]"
     ]
    },
    {
     "name": "stdout",
     "output_type": "stream",
     "text": [
      "epoch: 58200, loss: 0.0114\n"
     ]
    },
    {
     "name": "stderr",
     "output_type": "stream",
     "text": [
      " 58%|█████▊    | 58401/100000 [3:53:20<2:51:08,  4.05it/s] 58%|█████▊    | 58203/100000 [3:52:33<2:50:49,  4.08it/s]"
     ]
    },
    {
     "name": "stdout",
     "output_type": "stream",
     "text": [
      "epoch: 58400, loss: 0.0114\n"
     ]
    },
    {
     "name": "stderr",
     "output_type": "stream",
     "text": [
      " 59%|█████▊    | 58601/100000 [3:54:08<2:50:57,  4.04it/s] 58%|█████▊    | 58403/100000 [3:53:21<2:47:09,  4.15it/s]"
     ]
    },
    {
     "name": "stdout",
     "output_type": "stream",
     "text": [
      "epoch: 58600, loss: 0.0114\n"
     ]
    },
    {
     "name": "stderr",
     "output_type": "stream",
     "text": [
      " 59%|█████▉    | 58801/100000 [3:54:56<2:41:08,  4.26it/s] 59%|█████▊    | 58603/100000 [3:54:08<2:47:25,  4.12it/s]"
     ]
    },
    {
     "name": "stdout",
     "output_type": "stream",
     "text": [
      "epoch: 58800, loss: 0.0113\n"
     ]
    },
    {
     "name": "stderr",
     "output_type": "stream",
     "text": [
      " 59%|█████▉    | 59001/100000 [3:55:44<3:14:13,  3.52it/s] 59%|█████▉    | 58803/100000 [3:54:56<2:41:56,  4.24it/s]"
     ]
    },
    {
     "name": "stdout",
     "output_type": "stream",
     "text": [
      "epoch: 59000, loss: 0.0113\n",
      "calculate train accuracy\n",
      "test loss: 0.0113\n",
      "calculate test accuracy\n",
      "test loss: 0.0167\n"
     ]
    },
    {
     "name": "stderr",
     "output_type": "stream",
     "text": [
      " 59%|█████▉    | 59201/100000 [3:56:32<2:38:04,  4.30it/s] 59%|█████▉    | 59003/100000 [3:55:44<2:59:45,  3.80it/s]"
     ]
    },
    {
     "name": "stdout",
     "output_type": "stream",
     "text": [
      "epoch: 59200, loss: 0.0114\n"
     ]
    },
    {
     "name": "stderr",
     "output_type": "stream",
     "text": [
      " 59%|█████▉    | 59401/100000 [3:57:19<2:36:11,  4.33it/s] 59%|█████▉    | 59203/100000 [3:56:32<2:43:00,  4.17it/s]"
     ]
    },
    {
     "name": "stdout",
     "output_type": "stream",
     "text": [
      "epoch: 59400, loss: 0.0113\n"
     ]
    },
    {
     "name": "stderr",
     "output_type": "stream",
     "text": [
      " 60%|█████▉    | 59601/100000 [3:58:07<2:36:38,  4.30it/s] 59%|█████▉    | 59403/100000 [3:57:20<2:37:30,  4.30it/s]"
     ]
    },
    {
     "name": "stdout",
     "output_type": "stream",
     "text": [
      "epoch: 59600, loss: 0.0113\n"
     ]
    },
    {
     "name": "stderr",
     "output_type": "stream",
     "text": [
      " 60%|█████▉    | 59801/100000 [3:58:55<2:37:54,  4.24it/s] 60%|█████▉    | 59603/100000 [3:58:07<2:37:51,  4.27it/s]"
     ]
    },
    {
     "name": "stdout",
     "output_type": "stream",
     "text": [
      "epoch: 59800, loss: 0.0113\n"
     ]
    },
    {
     "name": "stderr",
     "output_type": "stream",
     "text": [
      " 60%|██████    | 60001/100000 [3:59:42<3:02:24,  3.65it/s] 60%|█████▉    | 59803/100000 [3:58:55<2:37:47,  4.25it/s]"
     ]
    },
    {
     "name": "stdout",
     "output_type": "stream",
     "text": [
      "epoch: 60000, loss: 0.0113\n",
      "calculate train accuracy\n",
      "test loss: 0.0114\n",
      "calculate test accuracy\n",
      "test loss: 0.0169\n"
     ]
    },
    {
     "name": "stderr",
     "output_type": "stream",
     "text": [
      " 60%|██████    | 60201/100000 [4:00:30<2:36:47,  4.23it/s] 60%|██████    | 60003/100000 [3:59:43<2:53:34,  3.84it/s]"
     ]
    },
    {
     "name": "stdout",
     "output_type": "stream",
     "text": [
      "epoch: 60200, loss: 0.0113\n"
     ]
    },
    {
     "name": "stderr",
     "output_type": "stream",
     "text": [
      " 60%|██████    | 60401/100000 [4:01:18<2:33:31,  4.30it/s] 60%|██████    | 60203/100000 [4:00:31<2:42:21,  4.09it/s]"
     ]
    },
    {
     "name": "stdout",
     "output_type": "stream",
     "text": [
      "epoch: 60400, loss: 0.0113\n"
     ]
    },
    {
     "name": "stderr",
     "output_type": "stream",
     "text": [
      " 61%|██████    | 60601/100000 [4:02:06<2:39:07,  4.13it/s] 60%|██████    | 60403/100000 [4:01:19<2:35:11,  4.25it/s]"
     ]
    },
    {
     "name": "stdout",
     "output_type": "stream",
     "text": [
      "epoch: 60600, loss: 0.0113\n"
     ]
    },
    {
     "name": "stderr",
     "output_type": "stream",
     "text": [
      " 61%|██████    | 60801/100000 [4:02:54<2:36:59,  4.16it/s] 61%|██████    | 60603/100000 [4:02:07<2:42:02,  4.05it/s]"
     ]
    },
    {
     "name": "stdout",
     "output_type": "stream",
     "text": [
      "epoch: 60800, loss: 0.0114\n"
     ]
    },
    {
     "name": "stderr",
     "output_type": "stream",
     "text": [
      " 61%|██████    | 61001/100000 [4:03:42<2:58:59,  3.63it/s] 61%|██████    | 60803/100000 [4:02:55<2:35:39,  4.20it/s]"
     ]
    },
    {
     "name": "stdout",
     "output_type": "stream",
     "text": [
      "epoch: 61000, loss: 0.0113\n",
      "calculate train accuracy\n",
      "test loss: 0.0113\n",
      "calculate test accuracy\n",
      "test loss: 0.0169\n"
     ]
    },
    {
     "name": "stderr",
     "output_type": "stream",
     "text": [
      " 61%|██████    | 61201/100000 [4:04:30<2:29:20,  4.33it/s] 61%|██████    | 61003/100000 [4:03:43<2:46:05,  3.91it/s]"
     ]
    },
    {
     "name": "stdout",
     "output_type": "stream",
     "text": [
      "epoch: 61200, loss: 0.0113\n"
     ]
    },
    {
     "name": "stderr",
     "output_type": "stream",
     "text": [
      " 61%|██████▏   | 61401/100000 [4:05:17<2:35:55,  4.13it/s] 61%|██████    | 61203/100000 [4:04:30<2:34:11,  4.19it/s]"
     ]
    },
    {
     "name": "stdout",
     "output_type": "stream",
     "text": [
      "epoch: 61400, loss: 0.0113\n"
     ]
    },
    {
     "name": "stderr",
     "output_type": "stream",
     "text": [
      " 62%|██████▏   | 61601/100000 [4:06:05<2:29:16,  4.29it/s] 61%|██████▏   | 61403/100000 [4:05:18<2:33:29,  4.19it/s]"
     ]
    },
    {
     "name": "stdout",
     "output_type": "stream",
     "text": [
      "epoch: 61600, loss: 0.0114\n"
     ]
    },
    {
     "name": "stderr",
     "output_type": "stream",
     "text": [
      " 62%|██████▏   | 61801/100000 [4:06:53<2:28:01,  4.30it/s] 62%|██████▏   | 61603/100000 [4:06:06<2:34:16,  4.15it/s]"
     ]
    },
    {
     "name": "stdout",
     "output_type": "stream",
     "text": [
      "epoch: 61800, loss: 0.0113\n"
     ]
    },
    {
     "name": "stderr",
     "output_type": "stream",
     "text": [
      " 62%|██████▏   | 62001/100000 [4:07:41<2:56:23,  3.59it/s] 62%|██████▏   | 61803/100000 [4:06:54<2:31:25,  4.20it/s]"
     ]
    },
    {
     "name": "stdout",
     "output_type": "stream",
     "text": [
      "epoch: 62000, loss: 0.0113\n",
      "calculate train accuracy\n",
      "test loss: 0.0113\n",
      "calculate test accuracy\n",
      "test loss: 0.0170\n"
     ]
    },
    {
     "name": "stderr",
     "output_type": "stream",
     "text": [
      " 62%|██████▏   | 62201/100000 [4:08:29<2:33:07,  4.11it/s] 62%|██████▏   | 62003/100000 [4:07:41<2:42:25,  3.90it/s]"
     ]
    },
    {
     "name": "stdout",
     "output_type": "stream",
     "text": [
      "epoch: 62200, loss: 0.0113\n"
     ]
    },
    {
     "name": "stderr",
     "output_type": "stream",
     "text": [
      " 62%|██████▏   | 62401/100000 [4:09:16<2:34:23,  4.06it/s] 62%|██████▏   | 62203/100000 [4:08:29<2:30:20,  4.19it/s]"
     ]
    },
    {
     "name": "stdout",
     "output_type": "stream",
     "text": [
      "epoch: 62400, loss: 0.0113\n"
     ]
    },
    {
     "name": "stderr",
     "output_type": "stream",
     "text": [
      " 63%|██████▎   | 62601/100000 [4:10:05<2:34:44,  4.03it/s] 62%|██████▏   | 62403/100000 [4:09:17<2:30:22,  4.17it/s]"
     ]
    },
    {
     "name": "stdout",
     "output_type": "stream",
     "text": [
      "epoch: 62600, loss: 0.0113\n"
     ]
    },
    {
     "name": "stderr",
     "output_type": "stream",
     "text": [
      " 63%|██████▎   | 62801/100000 [4:10:52<2:31:44,  4.09it/s] 63%|██████▎   | 62603/100000 [4:10:05<2:31:03,  4.13it/s]"
     ]
    },
    {
     "name": "stdout",
     "output_type": "stream",
     "text": [
      "epoch: 62800, loss: 0.0113\n"
     ]
    },
    {
     "name": "stderr",
     "output_type": "stream",
     "text": [
      " 63%|██████▎   | 63001/100000 [4:11:40<2:50:11,  3.62it/s] 63%|██████▎   | 62803/100000 [4:10:53<2:28:35,  4.17it/s]"
     ]
    },
    {
     "name": "stdout",
     "output_type": "stream",
     "text": [
      "epoch: 63000, loss: 0.0113\n",
      "calculate train accuracy\n",
      "test loss: 0.0113\n",
      "calculate test accuracy\n",
      "test loss: 0.0171\n"
     ]
    },
    {
     "name": "stderr",
     "output_type": "stream",
     "text": [
      " 63%|██████▎   | 63201/100000 [4:12:28<2:27:50,  4.15it/s] 63%|██████▎   | 63003/100000 [4:11:41<2:44:51,  3.74it/s]"
     ]
    },
    {
     "name": "stdout",
     "output_type": "stream",
     "text": [
      "epoch: 63200, loss: 0.0113\n"
     ]
    },
    {
     "name": "stderr",
     "output_type": "stream",
     "text": [
      " 63%|██████▎   | 63401/100000 [4:13:16<2:27:21,  4.14it/s] 63%|██████▎   | 63203/100000 [4:12:28<2:26:17,  4.19it/s]"
     ]
    },
    {
     "name": "stdout",
     "output_type": "stream",
     "text": [
      "epoch: 63400, loss: 0.0113\n"
     ]
    },
    {
     "name": "stderr",
     "output_type": "stream",
     "text": [
      " 64%|██████▎   | 63601/100000 [4:14:04<2:22:43,  4.25it/s] 63%|██████▎   | 63403/100000 [4:13:16<2:29:14,  4.09it/s]"
     ]
    },
    {
     "name": "stdout",
     "output_type": "stream",
     "text": [
      "epoch: 63600, loss: 0.0113\n"
     ]
    },
    {
     "name": "stderr",
     "output_type": "stream",
     "text": [
      " 64%|██████▍   | 63801/100000 [4:14:51<2:26:28,  4.12it/s] 64%|██████▎   | 63603/100000 [4:14:04<2:25:30,  4.17it/s]"
     ]
    },
    {
     "name": "stdout",
     "output_type": "stream",
     "text": [
      "epoch: 63800, loss: 0.0113\n"
     ]
    },
    {
     "name": "stderr",
     "output_type": "stream",
     "text": [
      " 64%|██████▍   | 64001/100000 [4:15:39<2:49:09,  3.55it/s] 64%|██████▍   | 63803/100000 [4:14:52<2:24:21,  4.18it/s]"
     ]
    },
    {
     "name": "stdout",
     "output_type": "stream",
     "text": [
      "epoch: 64000, loss: 0.0113\n",
      "calculate train accuracy\n",
      "test loss: 0.0113\n",
      "calculate test accuracy\n",
      "test loss: 0.0171\n"
     ]
    },
    {
     "name": "stderr",
     "output_type": "stream",
     "text": [
      " 64%|██████▍   | 64201/100000 [4:16:27<2:23:30,  4.16it/s] 64%|██████▍   | 64003/100000 [4:15:40<2:34:47,  3.88it/s]"
     ]
    },
    {
     "name": "stdout",
     "output_type": "stream",
     "text": [
      "epoch: 64200, loss: 0.0113\n"
     ]
    },
    {
     "name": "stderr",
     "output_type": "stream",
     "text": [
      " 64%|██████▍   | 64401/100000 [4:17:15<2:18:36,  4.28it/s] 64%|██████▍   | 64203/100000 [4:16:28<2:28:29,  4.02it/s]"
     ]
    },
    {
     "name": "stdout",
     "output_type": "stream",
     "text": [
      "epoch: 64400, loss: 0.0112\n"
     ]
    },
    {
     "name": "stderr",
     "output_type": "stream",
     "text": [
      " 65%|██████▍   | 64601/100000 [4:18:03<2:16:03,  4.34it/s] 64%|██████▍   | 64403/100000 [4:17:16<2:26:21,  4.05it/s]"
     ]
    },
    {
     "name": "stdout",
     "output_type": "stream",
     "text": [
      "epoch: 64600, loss: 0.0112\n"
     ]
    },
    {
     "name": "stderr",
     "output_type": "stream",
     "text": [
      " 65%|██████▍   | 64801/100000 [4:18:50<2:23:47,  4.08it/s] 65%|██████▍   | 64603/100000 [4:18:03<2:22:08,  4.15it/s]"
     ]
    },
    {
     "name": "stdout",
     "output_type": "stream",
     "text": [
      "epoch: 64800, loss: 0.0113\n"
     ]
    },
    {
     "name": "stderr",
     "output_type": "stream",
     "text": [
      " 65%|██████▌   | 65001/100000 [4:19:39<2:43:37,  3.56it/s] 65%|██████▍   | 64803/100000 [4:18:51<2:21:01,  4.16it/s]"
     ]
    },
    {
     "name": "stdout",
     "output_type": "stream",
     "text": [
      "epoch: 65000, loss: 0.0112\n",
      "calculate train accuracy\n",
      "test loss: 0.0112\n",
      "calculate test accuracy\n",
      "test loss: 0.0171\n"
     ]
    },
    {
     "name": "stderr",
     "output_type": "stream",
     "text": [
      " 65%|██████▌   | 65201/100000 [4:20:26<2:18:50,  4.18it/s] 65%|██████▌   | 65003/100000 [4:19:39<2:30:57,  3.86it/s]"
     ]
    },
    {
     "name": "stdout",
     "output_type": "stream",
     "text": [
      "epoch: 65200, loss: 0.0112\n"
     ]
    },
    {
     "name": "stderr",
     "output_type": "stream",
     "text": [
      " 65%|██████▌   | 65401/100000 [4:21:14<2:20:42,  4.10it/s] 65%|██████▌   | 65203/100000 [4:20:27<2:22:21,  4.07it/s]"
     ]
    },
    {
     "name": "stdout",
     "output_type": "stream",
     "text": [
      "epoch: 65400, loss: 0.0112\n"
     ]
    },
    {
     "name": "stderr",
     "output_type": "stream",
     "text": [
      " 66%|██████▌   | 65601/100000 [4:22:01<2:12:41,  4.32it/s] 65%|██████▌   | 65403/100000 [4:21:15<2:18:04,  4.18it/s]"
     ]
    },
    {
     "name": "stdout",
     "output_type": "stream",
     "text": [
      "epoch: 65600, loss: 0.0112\n"
     ]
    },
    {
     "name": "stderr",
     "output_type": "stream",
     "text": [
      " 66%|██████▌   | 65801/100000 [4:22:49<2:14:52,  4.23it/s] 66%|██████▌   | 65603/100000 [4:22:02<2:13:56,  4.28it/s]"
     ]
    },
    {
     "name": "stdout",
     "output_type": "stream",
     "text": [
      "epoch: 65800, loss: 0.0113\n"
     ]
    },
    {
     "name": "stderr",
     "output_type": "stream",
     "text": [
      " 66%|██████▌   | 66001/100000 [4:23:37<2:44:43,  3.44it/s] 66%|██████▌   | 65803/100000 [4:22:50<2:19:23,  4.09it/s]"
     ]
    },
    {
     "name": "stdout",
     "output_type": "stream",
     "text": [
      "epoch: 66000, loss: 0.0112\n",
      "calculate train accuracy\n",
      "test loss: 0.0112\n",
      "calculate test accuracy\n",
      "test loss: 0.0172\n"
     ]
    },
    {
     "name": "stderr",
     "output_type": "stream",
     "text": [
      " 66%|██████▌   | 66201/100000 [4:24:25<2:11:36,  4.28it/s] 66%|██████▌   | 66003/100000 [4:23:38<2:29:02,  3.80it/s]"
     ]
    },
    {
     "name": "stdout",
     "output_type": "stream",
     "text": [
      "epoch: 66200, loss: 0.0112\n"
     ]
    },
    {
     "name": "stderr",
     "output_type": "stream",
     "text": [
      " 66%|██████▋   | 66401/100000 [4:25:13<2:10:36,  4.29it/s] 66%|██████▌   | 66203/100000 [4:24:25<2:12:14,  4.26it/s]"
     ]
    },
    {
     "name": "stdout",
     "output_type": "stream",
     "text": [
      "epoch: 66400, loss: 0.0112\n"
     ]
    },
    {
     "name": "stderr",
     "output_type": "stream",
     "text": [
      " 67%|██████▋   | 66601/100000 [4:26:00<2:08:36,  4.33it/s] 66%|██████▋   | 66403/100000 [4:25:13<2:11:08,  4.27it/s]"
     ]
    },
    {
     "name": "stdout",
     "output_type": "stream",
     "text": [
      "epoch: 66600, loss: 0.0112\n"
     ]
    },
    {
     "name": "stderr",
     "output_type": "stream",
     "text": [
      " 67%|██████▋   | 66801/100000 [4:26:48<2:07:44,  4.33it/s] 67%|██████▋   | 66603/100000 [4:26:01<2:14:27,  4.14it/s]"
     ]
    },
    {
     "name": "stdout",
     "output_type": "stream",
     "text": [
      "epoch: 66800, loss: 0.0112\n"
     ]
    },
    {
     "name": "stderr",
     "output_type": "stream",
     "text": [
      " 67%|██████▋   | 67001/100000 [4:27:36<2:32:41,  3.60it/s] 67%|██████▋   | 66803/100000 [4:26:48<2:09:02,  4.29it/s]"
     ]
    },
    {
     "name": "stdout",
     "output_type": "stream",
     "text": [
      "epoch: 67000, loss: 0.0112\n",
      "calculate train accuracy\n",
      "test loss: 0.0112\n",
      "calculate test accuracy\n",
      "test loss: 0.0172\n"
     ]
    },
    {
     "name": "stderr",
     "output_type": "stream",
     "text": [
      " 67%|██████▋   | 67201/100000 [4:28:23<2:06:47,  4.31it/s] 67%|██████▋   | 67003/100000 [4:27:36<2:25:36,  3.78it/s]"
     ]
    },
    {
     "name": "stdout",
     "output_type": "stream",
     "text": [
      "epoch: 67200, loss: 0.0112\n"
     ]
    },
    {
     "name": "stderr",
     "output_type": "stream",
     "text": [
      " 67%|██████▋   | 67401/100000 [4:29:11<2:08:49,  4.22it/s] 67%|██████▋   | 67203/100000 [4:28:24<2:10:58,  4.17it/s]"
     ]
    },
    {
     "name": "stdout",
     "output_type": "stream",
     "text": [
      "epoch: 67400, loss: 0.0112\n"
     ]
    },
    {
     "name": "stderr",
     "output_type": "stream",
     "text": [
      " 68%|██████▊   | 67601/100000 [4:29:59<2:05:16,  4.31it/s] 67%|██████▋   | 67403/100000 [4:29:12<2:13:27,  4.07it/s]"
     ]
    },
    {
     "name": "stdout",
     "output_type": "stream",
     "text": [
      "epoch: 67600, loss: 0.0112\n"
     ]
    },
    {
     "name": "stderr",
     "output_type": "stream",
     "text": [
      " 68%|██████▊   | 67801/100000 [4:30:47<2:07:11,  4.22it/s] 68%|██████▊   | 67603/100000 [4:29:59<2:10:33,  4.14it/s]"
     ]
    },
    {
     "name": "stdout",
     "output_type": "stream",
     "text": [
      "epoch: 67800, loss: 0.0112\n"
     ]
    },
    {
     "name": "stderr",
     "output_type": "stream",
     "text": [
      " 68%|██████▊   | 68001/100000 [4:31:34<2:29:12,  3.57it/s] 68%|██████▊   | 67803/100000 [4:30:47<2:08:21,  4.18it/s]"
     ]
    },
    {
     "name": "stdout",
     "output_type": "stream",
     "text": [
      "epoch: 68000, loss: 0.0113\n",
      "calculate train accuracy\n",
      "test loss: 0.0112\n",
      "calculate test accuracy\n",
      "test loss: 0.0173\n"
     ]
    },
    {
     "name": "stderr",
     "output_type": "stream",
     "text": [
      " 68%|██████▊   | 68201/100000 [4:32:22<2:08:39,  4.12it/s] 68%|██████▊   | 68003/100000 [4:31:35<2:16:54,  3.90it/s]"
     ]
    },
    {
     "name": "stdout",
     "output_type": "stream",
     "text": [
      "epoch: 68200, loss: 0.0113\n"
     ]
    },
    {
     "name": "stderr",
     "output_type": "stream",
     "text": [
      " 68%|██████▊   | 68401/100000 [4:33:10<2:12:04,  3.99it/s] 68%|██████▊   | 68203/100000 [4:32:22<2:09:29,  4.09it/s]"
     ]
    },
    {
     "name": "stdout",
     "output_type": "stream",
     "text": [
      "epoch: 68400, loss: 0.0112\n"
     ]
    },
    {
     "name": "stderr",
     "output_type": "stream",
     "text": [
      " 69%|██████▊   | 68601/100000 [4:33:57<2:07:37,  4.10it/s] 68%|██████▊   | 68403/100000 [4:33:10<2:12:05,  3.99it/s]"
     ]
    },
    {
     "name": "stdout",
     "output_type": "stream",
     "text": [
      "epoch: 68600, loss: 0.0112\n"
     ]
    },
    {
     "name": "stderr",
     "output_type": "stream",
     "text": [
      " 69%|██████▉   | 68801/100000 [4:34:45<2:05:00,  4.16it/s] 69%|██████▊   | 68603/100000 [4:33:58<2:05:59,  4.15it/s]"
     ]
    },
    {
     "name": "stdout",
     "output_type": "stream",
     "text": [
      "epoch: 68800, loss: 0.0112\n"
     ]
    },
    {
     "name": "stderr",
     "output_type": "stream",
     "text": [
      " 69%|██████▉   | 69001/100000 [4:35:33<2:22:02,  3.64it/s] 69%|██████▉   | 68803/100000 [4:34:45<2:09:44,  4.01it/s]"
     ]
    },
    {
     "name": "stdout",
     "output_type": "stream",
     "text": [
      "epoch: 69000, loss: 0.0112\n",
      "calculate train accuracy\n",
      "test loss: 0.0112\n",
      "calculate test accuracy\n",
      "test loss: 0.0173\n"
     ]
    },
    {
     "name": "stderr",
     "output_type": "stream",
     "text": [
      " 69%|██████▉   | 69201/100000 [4:36:21<2:00:11,  4.27it/s] 69%|██████▉   | 69003/100000 [4:35:33<2:17:12,  3.77it/s]"
     ]
    },
    {
     "name": "stdout",
     "output_type": "stream",
     "text": [
      "epoch: 69200, loss: 0.0112\n"
     ]
    },
    {
     "name": "stderr",
     "output_type": "stream",
     "text": [
      " 69%|██████▉   | 69401/100000 [4:37:09<1:58:08,  4.32it/s] 69%|██████▉   | 69203/100000 [4:36:21<2:00:38,  4.25it/s]"
     ]
    },
    {
     "name": "stdout",
     "output_type": "stream",
     "text": [
      "epoch: 69400, loss: 0.0112\n"
     ]
    },
    {
     "name": "stderr",
     "output_type": "stream",
     "text": [
      " 70%|██████▉   | 69601/100000 [4:37:56<1:58:25,  4.28it/s] 69%|██████▉   | 69403/100000 [4:37:09<1:59:23,  4.27it/s]"
     ]
    },
    {
     "name": "stdout",
     "output_type": "stream",
     "text": [
      "epoch: 69600, loss: 0.0112\n"
     ]
    },
    {
     "name": "stderr",
     "output_type": "stream",
     "text": [
      " 70%|██████▉   | 69801/100000 [4:38:44<2:08:41,  3.91it/s] 70%|██████▉   | 69603/100000 [4:37:57<2:01:22,  4.17it/s]"
     ]
    },
    {
     "name": "stdout",
     "output_type": "stream",
     "text": [
      "epoch: 69800, loss: 0.0112\n"
     ]
    },
    {
     "name": "stderr",
     "output_type": "stream",
     "text": [
      " 70%|███████   | 70001/100000 [4:39:32<2:16:02,  3.68it/s] 70%|██████▉   | 69803/100000 [4:38:45<2:03:53,  4.06it/s]"
     ]
    },
    {
     "name": "stdout",
     "output_type": "stream",
     "text": [
      "epoch: 70000, loss: 0.0112\n",
      "calculate train accuracy\n",
      "test loss: 0.0112\n",
      "calculate test accuracy\n",
      "test loss: 0.0174\n"
     ]
    },
    {
     "name": "stderr",
     "output_type": "stream",
     "text": [
      " 70%|███████   | 70201/100000 [4:40:20<1:58:46,  4.18it/s] 70%|███████   | 70003/100000 [4:39:33<2:10:29,  3.83it/s]"
     ]
    },
    {
     "name": "stdout",
     "output_type": "stream",
     "text": [
      "epoch: 70200, loss: 0.0112\n"
     ]
    },
    {
     "name": "stderr",
     "output_type": "stream",
     "text": [
      " 70%|███████   | 70401/100000 [4:41:08<2:01:49,  4.05it/s] 70%|███████   | 70203/100000 [4:40:20<1:58:05,  4.21it/s]"
     ]
    },
    {
     "name": "stdout",
     "output_type": "stream",
     "text": [
      "epoch: 70400, loss: 0.0112\n"
     ]
    },
    {
     "name": "stderr",
     "output_type": "stream",
     "text": [
      " 71%|███████   | 70601/100000 [4:41:55<2:01:21,  4.04it/s] 70%|███████   | 70403/100000 [4:41:08<1:59:05,  4.14it/s]"
     ]
    },
    {
     "name": "stdout",
     "output_type": "stream",
     "text": [
      "epoch: 70600, loss: 0.0112\n"
     ]
    },
    {
     "name": "stderr",
     "output_type": "stream",
     "text": [
      " 71%|███████   | 70801/100000 [4:42:43<1:52:29,  4.33it/s] 71%|███████   | 70603/100000 [4:41:56<1:58:29,  4.14it/s]"
     ]
    },
    {
     "name": "stdout",
     "output_type": "stream",
     "text": [
      "epoch: 70800, loss: 0.0112\n"
     ]
    },
    {
     "name": "stderr",
     "output_type": "stream",
     "text": [
      " 71%|███████   | 71001/100000 [4:43:31<2:14:16,  3.60it/s] 71%|███████   | 70803/100000 [4:42:43<1:57:21,  4.15it/s]"
     ]
    },
    {
     "name": "stdout",
     "output_type": "stream",
     "text": [
      "epoch: 71000, loss: 0.0112\n",
      "calculate train accuracy\n",
      "test loss: 0.0112\n",
      "calculate test accuracy\n",
      "test loss: 0.0175\n"
     ]
    },
    {
     "name": "stderr",
     "output_type": "stream",
     "text": [
      " 71%|███████   | 71201/100000 [4:44:19<1:53:48,  4.22it/s] 71%|███████   | 71003/100000 [4:43:31<2:03:54,  3.90it/s]"
     ]
    },
    {
     "name": "stdout",
     "output_type": "stream",
     "text": [
      "epoch: 71200, loss: 0.0112\n"
     ]
    },
    {
     "name": "stderr",
     "output_type": "stream",
     "text": [
      " 71%|███████▏  | 71401/100000 [4:45:06<1:59:20,  3.99it/s] 71%|███████   | 71203/100000 [4:44:19<1:53:31,  4.23it/s]"
     ]
    },
    {
     "name": "stdout",
     "output_type": "stream",
     "text": [
      "epoch: 71400, loss: 0.0112\n"
     ]
    },
    {
     "name": "stderr",
     "output_type": "stream",
     "text": [
      " 72%|███████▏  | 71601/100000 [4:45:54<1:59:38,  3.96it/s] 71%|███████▏  | 71403/100000 [4:45:07<1:58:11,  4.03it/s]"
     ]
    },
    {
     "name": "stdout",
     "output_type": "stream",
     "text": [
      "epoch: 71600, loss: 0.0112\n"
     ]
    },
    {
     "name": "stderr",
     "output_type": "stream",
     "text": [
      " 72%|███████▏  | 71801/100000 [4:46:42<1:49:09,  4.31it/s] 72%|███████▏  | 71603/100000 [4:45:55<1:58:48,  3.98it/s]"
     ]
    },
    {
     "name": "stdout",
     "output_type": "stream",
     "text": [
      "epoch: 71800, loss: 0.0111\n"
     ]
    },
    {
     "name": "stderr",
     "output_type": "stream",
     "text": [
      " 72%|███████▏  | 72001/100000 [4:47:30<2:08:12,  3.64it/s] 72%|███████▏  | 71803/100000 [4:46:43<1:50:33,  4.25it/s]"
     ]
    },
    {
     "name": "stdout",
     "output_type": "stream",
     "text": [
      "epoch: 72000, loss: 0.0111\n",
      "calculate train accuracy\n",
      "test loss: 0.0111\n",
      "calculate test accuracy\n",
      "test loss: 0.0176\n"
     ]
    },
    {
     "name": "stderr",
     "output_type": "stream",
     "text": [
      " 72%|███████▏  | 72201/100000 [4:48:18<1:48:13,  4.28it/s] 72%|███████▏  | 72003/100000 [4:47:31<2:04:31,  3.75it/s]"
     ]
    },
    {
     "name": "stdout",
     "output_type": "stream",
     "text": [
      "epoch: 72200, loss: 0.0112\n"
     ]
    },
    {
     "name": "stderr",
     "output_type": "stream",
     "text": [
      " 72%|███████▏  | 72401/100000 [4:49:05<1:49:45,  4.19it/s] 72%|███████▏  | 72203/100000 [4:48:18<1:48:57,  4.25it/s]"
     ]
    },
    {
     "name": "stdout",
     "output_type": "stream",
     "text": [
      "epoch: 72400, loss: 0.0111\n"
     ]
    },
    {
     "name": "stderr",
     "output_type": "stream",
     "text": [
      " 73%|███████▎  | 72601/100000 [4:49:53<1:46:37,  4.28it/s] 72%|███████▏  | 72403/100000 [4:49:06<1:49:13,  4.21it/s]"
     ]
    },
    {
     "name": "stdout",
     "output_type": "stream",
     "text": [
      "epoch: 72600, loss: 0.0111\n"
     ]
    },
    {
     "name": "stderr",
     "output_type": "stream",
     "text": [
      " 73%|███████▎  | 72801/100000 [4:50:41<1:45:32,  4.30it/s] 73%|███████▎  | 72603/100000 [4:49:54<1:49:25,  4.17it/s]"
     ]
    },
    {
     "name": "stdout",
     "output_type": "stream",
     "text": [
      "epoch: 72800, loss: 0.0112\n"
     ]
    },
    {
     "name": "stderr",
     "output_type": "stream",
     "text": [
      " 73%|███████▎  | 73001/100000 [4:51:29<2:04:41,  3.61it/s] 73%|███████▎  | 72803/100000 [4:50:42<1:49:43,  4.13it/s]"
     ]
    },
    {
     "name": "stdout",
     "output_type": "stream",
     "text": [
      "epoch: 73000, loss: 0.0112\n",
      "calculate train accuracy\n",
      "test loss: 0.0112\n",
      "calculate test accuracy\n",
      "test loss: 0.0177\n"
     ]
    },
    {
     "name": "stderr",
     "output_type": "stream",
     "text": [
      " 73%|███████▎  | 73201/100000 [4:52:17<1:47:35,  4.15it/s] 73%|███████▎  | 73003/100000 [4:51:29<1:55:04,  3.91it/s]"
     ]
    },
    {
     "name": "stdout",
     "output_type": "stream",
     "text": [
      "epoch: 73200, loss: 0.0111\n"
     ]
    },
    {
     "name": "stderr",
     "output_type": "stream",
     "text": [
      " 73%|███████▎  | 73401/100000 [4:53:05<1:53:07,  3.92it/s] 73%|███████▎  | 73203/100000 [4:52:17<1:49:03,  4.10it/s]"
     ]
    },
    {
     "name": "stdout",
     "output_type": "stream",
     "text": [
      "epoch: 73400, loss: 0.0111\n"
     ]
    },
    {
     "name": "stderr",
     "output_type": "stream",
     "text": [
      " 74%|███████▎  | 73601/100000 [4:53:53<1:46:25,  4.13it/s] 73%|███████▎  | 73403/100000 [4:53:05<1:49:11,  4.06it/s]"
     ]
    },
    {
     "name": "stdout",
     "output_type": "stream",
     "text": [
      "epoch: 73600, loss: 0.0111\n"
     ]
    },
    {
     "name": "stderr",
     "output_type": "stream",
     "text": [
      " 74%|███████▍  | 73801/100000 [4:54:41<1:44:45,  4.17it/s] 74%|███████▎  | 73603/100000 [4:53:53<1:44:51,  4.20it/s]"
     ]
    },
    {
     "name": "stdout",
     "output_type": "stream",
     "text": [
      "epoch: 73800, loss: 0.0111\n"
     ]
    },
    {
     "name": "stderr",
     "output_type": "stream",
     "text": [
      " 74%|███████▍  | 74001/100000 [4:55:28<1:58:50,  3.65it/s] 74%|███████▍  | 73803/100000 [4:54:41<1:43:50,  4.20it/s]"
     ]
    },
    {
     "name": "stdout",
     "output_type": "stream",
     "text": [
      "epoch: 74000, loss: 0.0112\n",
      "calculate train accuracy\n",
      "test loss: 0.0111\n",
      "calculate test accuracy\n",
      "test loss: 0.0178\n"
     ]
    },
    {
     "name": "stderr",
     "output_type": "stream",
     "text": [
      " 74%|███████▍  | 74201/100000 [4:56:16<1:40:45,  4.27it/s] 74%|███████▍  | 74003/100000 [4:55:29<1:50:04,  3.94it/s]"
     ]
    },
    {
     "name": "stdout",
     "output_type": "stream",
     "text": [
      "epoch: 74200, loss: 0.0111\n"
     ]
    },
    {
     "name": "stderr",
     "output_type": "stream",
     "text": [
      " 74%|███████▍  | 74401/100000 [4:57:03<1:43:12,  4.13it/s] 74%|███████▍  | 74203/100000 [4:56:16<1:40:57,  4.26it/s]"
     ]
    },
    {
     "name": "stdout",
     "output_type": "stream",
     "text": [
      "epoch: 74400, loss: 0.0111\n"
     ]
    },
    {
     "name": "stderr",
     "output_type": "stream",
     "text": [
      " 75%|███████▍  | 74601/100000 [4:57:51<1:41:33,  4.17it/s] 74%|███████▍  | 74403/100000 [4:57:04<1:43:17,  4.13it/s]"
     ]
    },
    {
     "name": "stdout",
     "output_type": "stream",
     "text": [
      "epoch: 74600, loss: 0.0111\n"
     ]
    },
    {
     "name": "stderr",
     "output_type": "stream",
     "text": [
      " 75%|███████▍  | 74801/100000 [4:58:39<1:44:09,  4.03it/s] 75%|███████▍  | 74603/100000 [4:57:51<1:43:56,  4.07it/s]"
     ]
    },
    {
     "name": "stdout",
     "output_type": "stream",
     "text": [
      "epoch: 74800, loss: 0.0111\n"
     ]
    },
    {
     "name": "stderr",
     "output_type": "stream",
     "text": [
      " 75%|███████▌  | 75001/100000 [4:59:27<1:54:54,  3.63it/s] 75%|███████▍  | 74803/100000 [4:58:39<1:41:31,  4.14it/s]"
     ]
    },
    {
     "name": "stdout",
     "output_type": "stream",
     "text": [
      "epoch: 75000, loss: 0.0111\n",
      "calculate train accuracy\n",
      "test loss: 0.0111\n",
      "calculate test accuracy\n",
      "test loss: 0.0178\n"
     ]
    },
    {
     "name": "stderr",
     "output_type": "stream",
     "text": [
      " 75%|███████▌  | 75201/100000 [5:00:14<1:38:13,  4.21it/s] 75%|███████▌  | 75003/100000 [4:59:27<1:47:13,  3.89it/s]"
     ]
    },
    {
     "name": "stdout",
     "output_type": "stream",
     "text": [
      "epoch: 75200, loss: 0.0112\n"
     ]
    },
    {
     "name": "stderr",
     "output_type": "stream",
     "text": [
      " 75%|███████▌  | 75401/100000 [5:01:02<1:39:14,  4.13it/s] 75%|███████▌  | 75203/100000 [5:00:14<1:42:44,  4.02it/s]"
     ]
    },
    {
     "name": "stdout",
     "output_type": "stream",
     "text": [
      "epoch: 75400, loss: 0.0111\n"
     ]
    },
    {
     "name": "stderr",
     "output_type": "stream",
     "text": [
      " 76%|███████▌  | 75601/100000 [5:01:50<1:38:09,  4.14it/s] 75%|███████▌  | 75403/100000 [5:01:02<1:38:37,  4.16it/s]"
     ]
    },
    {
     "name": "stdout",
     "output_type": "stream",
     "text": [
      "epoch: 75600, loss: 0.0111\n"
     ]
    },
    {
     "name": "stderr",
     "output_type": "stream",
     "text": [
      " 76%|███████▌  | 75801/100000 [5:02:37<1:34:57,  4.25it/s] 76%|███████▌  | 75603/100000 [5:01:50<1:37:37,  4.17it/s]"
     ]
    },
    {
     "name": "stdout",
     "output_type": "stream",
     "text": [
      "epoch: 75800, loss: 0.0111\n"
     ]
    },
    {
     "name": "stderr",
     "output_type": "stream",
     "text": [
      " 76%|███████▌  | 76001/100000 [5:03:26<1:49:56,  3.64it/s] 76%|███████▌  | 75803/100000 [5:02:38<1:35:49,  4.21it/s]"
     ]
    },
    {
     "name": "stdout",
     "output_type": "stream",
     "text": [
      "epoch: 76000, loss: 0.0111\n",
      "calculate train accuracy\n",
      "test loss: 0.0111\n",
      "calculate test accuracy\n",
      "test loss: 0.0179\n"
     ]
    },
    {
     "name": "stderr",
     "output_type": "stream",
     "text": [
      " 76%|███████▌  | 76201/100000 [5:04:13<1:33:51,  4.23it/s] 76%|███████▌  | 76003/100000 [5:03:26<1:42:01,  3.92it/s]"
     ]
    },
    {
     "name": "stdout",
     "output_type": "stream",
     "text": [
      "epoch: 76200, loss: 0.0111\n"
     ]
    },
    {
     "name": "stderr",
     "output_type": "stream",
     "text": [
      " 76%|███████▋  | 76401/100000 [5:05:01<1:31:14,  4.31it/s] 76%|███████▌  | 76203/100000 [5:04:14<1:35:03,  4.17it/s]"
     ]
    },
    {
     "name": "stdout",
     "output_type": "stream",
     "text": [
      "epoch: 76400, loss: 0.0111\n"
     ]
    },
    {
     "name": "stderr",
     "output_type": "stream",
     "text": [
      " 77%|███████▋  | 76601/100000 [5:05:49<1:32:13,  4.23it/s] 76%|███████▋  | 76403/100000 [5:05:01<1:32:12,  4.27it/s]"
     ]
    },
    {
     "name": "stdout",
     "output_type": "stream",
     "text": [
      "epoch: 76600, loss: 0.0111\n"
     ]
    },
    {
     "name": "stderr",
     "output_type": "stream",
     "text": [
      " 77%|███████▋  | 76801/100000 [5:06:36<1:37:48,  3.95it/s] 77%|███████▋  | 76603/100000 [5:05:49<1:35:04,  4.10it/s]"
     ]
    },
    {
     "name": "stdout",
     "output_type": "stream",
     "text": [
      "epoch: 76800, loss: 0.0111\n"
     ]
    },
    {
     "name": "stderr",
     "output_type": "stream",
     "text": [
      " 77%|███████▋  | 77001/100000 [5:07:24<1:47:24,  3.57it/s] 77%|███████▋  | 76803/100000 [5:06:37<1:34:22,  4.10it/s]"
     ]
    },
    {
     "name": "stdout",
     "output_type": "stream",
     "text": [
      "epoch: 77000, loss: 0.0111\n",
      "calculate train accuracy\n",
      "test loss: 0.0111\n",
      "calculate test accuracy\n",
      "test loss: 0.0180\n"
     ]
    },
    {
     "name": "stderr",
     "output_type": "stream",
     "text": [
      " 77%|███████▋  | 77201/100000 [5:08:12<1:28:32,  4.29it/s] 77%|███████▋  | 77003/100000 [5:07:25<1:38:50,  3.88it/s]"
     ]
    },
    {
     "name": "stdout",
     "output_type": "stream",
     "text": [
      "epoch: 77200, loss: 0.0111\n"
     ]
    },
    {
     "name": "stderr",
     "output_type": "stream",
     "text": [
      " 77%|███████▋  | 77401/100000 [5:09:00<1:32:00,  4.09it/s] 77%|███████▋  | 77203/100000 [5:08:13<1:29:10,  4.26it/s]"
     ]
    },
    {
     "name": "stdout",
     "output_type": "stream",
     "text": [
      "epoch: 77400, loss: 0.0111\n"
     ]
    },
    {
     "name": "stderr",
     "output_type": "stream",
     "text": [
      " 78%|███████▊  | 77601/100000 [5:09:47<1:26:26,  4.32it/s] 77%|███████▋  | 77403/100000 [5:09:00<1:32:23,  4.08it/s]"
     ]
    },
    {
     "name": "stdout",
     "output_type": "stream",
     "text": [
      "epoch: 77600, loss: 0.0111\n"
     ]
    },
    {
     "name": "stderr",
     "output_type": "stream",
     "text": [
      " 78%|███████▊  | 77801/100000 [5:10:35<1:29:35,  4.13it/s] 78%|███████▊  | 77603/100000 [5:09:48<1:27:36,  4.26it/s]"
     ]
    },
    {
     "name": "stdout",
     "output_type": "stream",
     "text": [
      "epoch: 77800, loss: 0.0111\n"
     ]
    },
    {
     "name": "stderr",
     "output_type": "stream",
     "text": [
      " 78%|███████▊  | 78001/100000 [5:11:23<1:40:14,  3.66it/s] 78%|███████▊  | 77803/100000 [5:10:36<1:28:43,  4.17it/s]"
     ]
    },
    {
     "name": "stdout",
     "output_type": "stream",
     "text": [
      "epoch: 78000, loss: 0.0111\n",
      "calculate train accuracy\n",
      "test loss: 0.0111\n",
      "calculate test accuracy\n",
      "test loss: 0.0181\n"
     ]
    },
    {
     "name": "stderr",
     "output_type": "stream",
     "text": [
      " 78%|███████▊  | 78201/100000 [5:12:10<1:25:34,  4.25it/s] 78%|███████▊  | 78003/100000 [5:11:23<1:33:04,  3.94it/s]"
     ]
    },
    {
     "name": "stdout",
     "output_type": "stream",
     "text": [
      "epoch: 78200, loss: 0.0111\n"
     ]
    },
    {
     "name": "stderr",
     "output_type": "stream",
     "text": [
      " 78%|███████▊  | 78401/100000 [5:12:58<1:26:08,  4.18it/s] 78%|███████▊  | 78203/100000 [5:12:11<1:25:41,  4.24it/s]"
     ]
    },
    {
     "name": "stdout",
     "output_type": "stream",
     "text": [
      "epoch: 78400, loss: 0.0111\n"
     ]
    },
    {
     "name": "stderr",
     "output_type": "stream",
     "text": [
      " 79%|███████▊  | 78601/100000 [5:13:46<1:25:25,  4.18it/s] 78%|███████▊  | 78403/100000 [5:12:59<1:25:29,  4.21it/s]"
     ]
    },
    {
     "name": "stdout",
     "output_type": "stream",
     "text": [
      "epoch: 78600, loss: 0.0111\n"
     ]
    },
    {
     "name": "stderr",
     "output_type": "stream",
     "text": [
      " 79%|███████▉  | 78801/100000 [5:14:34<1:23:23,  4.24it/s] 79%|███████▊  | 78603/100000 [5:13:46<1:25:13,  4.18it/s]"
     ]
    },
    {
     "name": "stdout",
     "output_type": "stream",
     "text": [
      "epoch: 78800, loss: 0.0111\n"
     ]
    },
    {
     "name": "stderr",
     "output_type": "stream",
     "text": [
      " 79%|███████▉  | 79001/100000 [5:15:22<1:39:54,  3.50it/s] 79%|███████▉  | 78803/100000 [5:14:34<1:25:13,  4.15it/s]"
     ]
    },
    {
     "name": "stdout",
     "output_type": "stream",
     "text": [
      "epoch: 79000, loss: 0.0111\n",
      "calculate train accuracy\n",
      "test loss: 0.0111\n",
      "calculate test accuracy\n",
      "test loss: 0.0181\n"
     ]
    },
    {
     "name": "stderr",
     "output_type": "stream",
     "text": [
      " 79%|███████▉  | 79201/100000 [5:16:09<1:26:24,  4.01it/s] 79%|███████▉  | 79003/100000 [5:15:22<1:31:11,  3.84it/s]"
     ]
    },
    {
     "name": "stdout",
     "output_type": "stream",
     "text": [
      "epoch: 79200, loss: 0.0111\n"
     ]
    },
    {
     "name": "stderr",
     "output_type": "stream",
     "text": [
      " 79%|███████▉  | 79401/100000 [5:16:57<1:19:27,  4.32it/s] 79%|███████▉  | 79203/100000 [5:16:10<1:24:37,  4.10it/s]"
     ]
    },
    {
     "name": "stdout",
     "output_type": "stream",
     "text": [
      "epoch: 79400, loss: 0.0111\n"
     ]
    },
    {
     "name": "stderr",
     "output_type": "stream",
     "text": [
      " 80%|███████▉  | 79601/100000 [5:17:44<1:21:36,  4.17it/s] 79%|███████▉  | 79403/100000 [5:16:57<1:22:52,  4.14it/s]"
     ]
    },
    {
     "name": "stdout",
     "output_type": "stream",
     "text": [
      "epoch: 79600, loss: 0.0111\n"
     ]
    },
    {
     "name": "stderr",
     "output_type": "stream",
     "text": [
      " 80%|███████▉  | 79801/100000 [5:18:32<1:20:09,  4.20it/s] 80%|███████▉  | 79603/100000 [5:17:45<1:21:06,  4.19it/s]"
     ]
    },
    {
     "name": "stdout",
     "output_type": "stream",
     "text": [
      "epoch: 79800, loss: 0.0111\n"
     ]
    },
    {
     "name": "stderr",
     "output_type": "stream",
     "text": [
      " 80%|████████  | 80001/100000 [5:19:19<1:30:38,  3.68it/s] 80%|███████▉  | 79803/100000 [5:18:32<1:19:35,  4.23it/s]"
     ]
    },
    {
     "name": "stdout",
     "output_type": "stream",
     "text": [
      "epoch: 80000, loss: 0.0111\n",
      "calculate train accuracy\n",
      "test loss: 0.0111\n",
      "calculate test accuracy\n",
      "test loss: 0.0182\n"
     ]
    },
    {
     "name": "stderr",
     "output_type": "stream",
     "text": [
      " 80%|████████  | 80201/100000 [5:20:07<1:21:52,  4.03it/s] 80%|████████  | 80003/100000 [5:19:20<1:24:53,  3.93it/s]"
     ]
    },
    {
     "name": "stdout",
     "output_type": "stream",
     "text": [
      "epoch: 80200, loss: 0.0111\n"
     ]
    },
    {
     "name": "stderr",
     "output_type": "stream",
     "text": [
      " 80%|████████  | 80401/100000 [5:20:55<1:17:47,  4.20it/s] 80%|████████  | 80203/100000 [5:20:08<1:19:38,  4.14it/s]"
     ]
    },
    {
     "name": "stdout",
     "output_type": "stream",
     "text": [
      "epoch: 80400, loss: 0.0111\n"
     ]
    },
    {
     "name": "stderr",
     "output_type": "stream",
     "text": [
      " 81%|████████  | 80601/100000 [5:21:42<1:15:38,  4.27it/s] 80%|████████  | 80403/100000 [5:20:55<1:21:01,  4.03it/s]"
     ]
    },
    {
     "name": "stdout",
     "output_type": "stream",
     "text": [
      "epoch: 80600, loss: 0.0111\n"
     ]
    },
    {
     "name": "stderr",
     "output_type": "stream",
     "text": [
      " 81%|████████  | 80801/100000 [5:22:30<1:15:03,  4.26it/s] 81%|████████  | 80603/100000 [5:21:43<1:15:52,  4.26it/s]"
     ]
    },
    {
     "name": "stdout",
     "output_type": "stream",
     "text": [
      "epoch: 80800, loss: 0.0110\n"
     ]
    },
    {
     "name": "stderr",
     "output_type": "stream",
     "text": [
      " 81%|████████  | 81001/100000 [5:23:17<1:26:21,  3.67it/s] 81%|████████  | 80803/100000 [5:22:30<1:15:36,  4.23it/s]"
     ]
    },
    {
     "name": "stdout",
     "output_type": "stream",
     "text": [
      "epoch: 81000, loss: 0.0110\n",
      "calculate train accuracy\n",
      "test loss: 0.0110\n",
      "calculate test accuracy\n",
      "test loss: 0.0182\n"
     ]
    },
    {
     "name": "stderr",
     "output_type": "stream",
     "text": [
      " 81%|████████  | 81201/100000 [5:24:05<1:13:07,  4.28it/s] 81%|████████  | 81003/100000 [5:23:18<1:20:24,  3.94it/s]"
     ]
    },
    {
     "name": "stdout",
     "output_type": "stream",
     "text": [
      "epoch: 81200, loss: 0.0111\n"
     ]
    },
    {
     "name": "stderr",
     "output_type": "stream",
     "text": [
      " 81%|████████▏ | 81401/100000 [5:24:53<1:15:23,  4.11it/s] 81%|████████  | 81203/100000 [5:24:06<1:13:32,  4.26it/s]"
     ]
    },
    {
     "name": "stdout",
     "output_type": "stream",
     "text": [
      "epoch: 81400, loss: 0.0111\n"
     ]
    },
    {
     "name": "stderr",
     "output_type": "stream",
     "text": [
      " 82%|████████▏ | 81601/100000 [5:25:40<1:11:16,  4.30it/s] 81%|████████▏ | 81403/100000 [5:24:53<1:14:24,  4.17it/s]"
     ]
    },
    {
     "name": "stdout",
     "output_type": "stream",
     "text": [
      "epoch: 81600, loss: 0.0110\n"
     ]
    },
    {
     "name": "stderr",
     "output_type": "stream",
     "text": [
      " 82%|████████▏ | 81801/100000 [5:26:28<1:12:04,  4.21it/s] 82%|████████▏ | 81603/100000 [5:25:41<1:11:55,  4.26it/s]"
     ]
    },
    {
     "name": "stdout",
     "output_type": "stream",
     "text": [
      "epoch: 81800, loss: 0.0110\n"
     ]
    },
    {
     "name": "stderr",
     "output_type": "stream",
     "text": [
      " 82%|████████▏ | 82001/100000 [5:27:15<1:22:13,  3.65it/s] 82%|████████▏ | 81803/100000 [5:26:28<1:14:38,  4.06it/s]"
     ]
    },
    {
     "name": "stdout",
     "output_type": "stream",
     "text": [
      "epoch: 82000, loss: 0.0110\n",
      "calculate train accuracy\n",
      "test loss: 0.0110\n",
      "calculate test accuracy\n",
      "test loss: 0.0183\n"
     ]
    },
    {
     "name": "stderr",
     "output_type": "stream",
     "text": [
      " 82%|████████▏ | 82201/100000 [5:28:03<1:08:51,  4.31it/s] 82%|████████▏ | 82003/100000 [5:27:16<1:16:13,  3.94it/s]"
     ]
    },
    {
     "name": "stdout",
     "output_type": "stream",
     "text": [
      "epoch: 82200, loss: 0.0111\n"
     ]
    },
    {
     "name": "stderr",
     "output_type": "stream",
     "text": [
      " 82%|████████▏ | 82401/100000 [5:28:51<1:10:30,  4.16it/s] 82%|████████▏ | 82203/100000 [5:28:04<1:10:05,  4.23it/s]"
     ]
    },
    {
     "name": "stdout",
     "output_type": "stream",
     "text": [
      "epoch: 82400, loss: 0.0110\n"
     ]
    },
    {
     "name": "stderr",
     "output_type": "stream",
     "text": [
      " 83%|████████▎ | 82601/100000 [5:29:39<1:07:08,  4.32it/s] 82%|████████▏ | 82403/100000 [5:28:52<1:13:05,  4.01it/s]"
     ]
    },
    {
     "name": "stdout",
     "output_type": "stream",
     "text": [
      "epoch: 82600, loss: 0.0110\n"
     ]
    },
    {
     "name": "stderr",
     "output_type": "stream",
     "text": [
      " 83%|████████▎ | 82801/100000 [5:30:27<1:08:54,  4.16it/s] 83%|████████▎ | 82603/100000 [5:29:39<1:09:59,  4.14it/s]"
     ]
    },
    {
     "name": "stdout",
     "output_type": "stream",
     "text": [
      "epoch: 82800, loss: 0.0111\n"
     ]
    },
    {
     "name": "stderr",
     "output_type": "stream",
     "text": [
      " 83%|████████▎ | 83001/100000 [5:31:14<1:20:24,  3.52it/s] 83%|████████▎ | 82803/100000 [5:30:27<1:08:12,  4.20it/s]"
     ]
    },
    {
     "name": "stdout",
     "output_type": "stream",
     "text": [
      "epoch: 83000, loss: 0.0110\n",
      "calculate train accuracy\n",
      "test loss: 0.0110\n",
      "calculate test accuracy\n",
      "test loss: 0.0185\n"
     ]
    },
    {
     "name": "stderr",
     "output_type": "stream",
     "text": [
      " 83%|████████▎ | 83201/100000 [5:32:02<1:05:18,  4.29it/s] 83%|████████▎ | 83003/100000 [5:31:15<1:13:28,  3.86it/s]"
     ]
    },
    {
     "name": "stdout",
     "output_type": "stream",
     "text": [
      "epoch: 83200, loss: 0.0110\n"
     ]
    },
    {
     "name": "stderr",
     "output_type": "stream",
     "text": [
      " 83%|████████▎ | 83401/100000 [5:32:50<1:06:12,  4.18it/s] 83%|████████▎ | 83203/100000 [5:32:03<1:08:13,  4.10it/s]"
     ]
    },
    {
     "name": "stdout",
     "output_type": "stream",
     "text": [
      "epoch: 83400, loss: 0.0110\n"
     ]
    },
    {
     "name": "stderr",
     "output_type": "stream",
     "text": [
      " 84%|████████▎ | 83601/100000 [5:33:38<1:05:16,  4.19it/s] 83%|████████▎ | 83403/100000 [5:32:50<1:05:37,  4.21it/s]"
     ]
    },
    {
     "name": "stdout",
     "output_type": "stream",
     "text": [
      "epoch: 83600, loss: 0.0111\n"
     ]
    },
    {
     "name": "stderr",
     "output_type": "stream",
     "text": [
      " 84%|████████▍ | 83801/100000 [5:34:25<1:03:16,  4.27it/s] 84%|████████▎ | 83603/100000 [5:33:38<1:05:00,  4.20it/s]"
     ]
    },
    {
     "name": "stdout",
     "output_type": "stream",
     "text": [
      "epoch: 83800, loss: 0.0110\n"
     ]
    },
    {
     "name": "stderr",
     "output_type": "stream",
     "text": [
      " 84%|████████▍ | 84001/100000 [5:35:13<1:12:49,  3.66it/s] 84%|████████▍ | 83803/100000 [5:34:26<1:05:37,  4.11it/s]"
     ]
    },
    {
     "name": "stdout",
     "output_type": "stream",
     "text": [
      "epoch: 84000, loss: 0.0110\n",
      "calculate train accuracy\n",
      "test loss: 0.0110\n",
      "calculate test accuracy\n",
      "test loss: 0.0186\n"
     ]
    },
    {
     "name": "stderr",
     "output_type": "stream",
     "text": [
      " 84%|████████▍ | 84201/100000 [5:36:01<1:02:45,  4.20it/s] 84%|████████▍ | 84003/100000 [5:35:13<1:07:53,  3.93it/s]"
     ]
    },
    {
     "name": "stdout",
     "output_type": "stream",
     "text": [
      "epoch: 84200, loss: 0.0110\n"
     ]
    },
    {
     "name": "stderr",
     "output_type": "stream",
     "text": [
      " 84%|████████▍ | 84401/100000 [5:36:48<1:01:04,  4.26it/s] 84%|████████▍ | 84203/100000 [5:36:01<1:02:25,  4.22it/s]"
     ]
    },
    {
     "name": "stdout",
     "output_type": "stream",
     "text": [
      "epoch: 84400, loss: 0.0110\n"
     ]
    },
    {
     "name": "stderr",
     "output_type": "stream",
     "text": [
      " 85%|████████▍ | 84601/100000 [5:37:36<59:57,  4.28it/s]   84%|████████▍ | 84403/100000 [5:36:49<1:01:13,  4.25it/s]"
     ]
    },
    {
     "name": "stdout",
     "output_type": "stream",
     "text": [
      "epoch: 84600, loss: 0.0110\n"
     ]
    },
    {
     "name": "stderr",
     "output_type": "stream",
     "text": [
      " 85%|████████▍ | 84801/100000 [5:38:24<59:52,  4.23it/s]   85%|████████▍ | 84603/100000 [5:37:36<1:02:16,  4.12it/s]"
     ]
    },
    {
     "name": "stdout",
     "output_type": "stream",
     "text": [
      "epoch: 84800, loss: 0.0110\n"
     ]
    },
    {
     "name": "stderr",
     "output_type": "stream",
     "text": [
      " 85%|████████▌ | 85001/100000 [5:39:12<1:11:13,  3.51it/s] 85%|████████▍ | 84803/100000 [5:38:24<1:01:13,  4.14it/s]"
     ]
    },
    {
     "name": "stdout",
     "output_type": "stream",
     "text": [
      "epoch: 85000, loss: 0.0110\n",
      "calculate train accuracy\n",
      "test loss: 0.0110\n",
      "calculate test accuracy\n",
      "test loss: 0.0187\n"
     ]
    },
    {
     "name": "stderr",
     "output_type": "stream",
     "text": [
      " 85%|████████▌ | 85201/100000 [5:39:59<56:57,  4.33it/s]   85%|████████▌ | 85003/100000 [5:39:12<1:07:03,  3.73it/s]"
     ]
    },
    {
     "name": "stdout",
     "output_type": "stream",
     "text": [
      "epoch: 85200, loss: 0.0110\n"
     ]
    },
    {
     "name": "stderr",
     "output_type": "stream",
     "text": [
      " 85%|████████▌ | 85401/100000 [5:40:47<56:34,  4.30it/s]  5%|████████▌ | 85203/100000 [5:40:00<57:24,  4.30it/s]"
     ]
    },
    {
     "name": "stdout",
     "output_type": "stream",
     "text": [
      "epoch: 85400, loss: 0.0110\n"
     ]
    },
    {
     "name": "stderr",
     "output_type": "stream",
     "text": [
      " 86%|████████▌ | 85601/100000 [5:41:35<57:51,  4.15it/s]  5%|████████▌ | 85403/100000 [5:40:47<56:59,  4.27it/s]"
     ]
    },
    {
     "name": "stdout",
     "output_type": "stream",
     "text": [
      "epoch: 85600, loss: 0.0110\n"
     ]
    },
    {
     "name": "stderr",
     "output_type": "stream",
     "text": [
      " 86%|████████▌ | 85801/100000 [5:42:23<57:02,  4.15it/s]   86%|████████▌ | 85603/100000 [5:41:35<59:04,  4.06it/s]  "
     ]
    },
    {
     "name": "stdout",
     "output_type": "stream",
     "text": [
      "epoch: 85800, loss: 0.0110\n"
     ]
    },
    {
     "name": "stderr",
     "output_type": "stream",
     "text": [
      " 86%|████████▌ | 86001/100000 [5:43:11<1:04:03,  3.64it/s]6%|████████▌ | 85803/100000 [5:42:23<56:23,  4.20it/s]"
     ]
    },
    {
     "name": "stdout",
     "output_type": "stream",
     "text": [
      "epoch: 86000, loss: 0.0112\n",
      "calculate train accuracy\n",
      "test loss: 0.0113\n",
      "calculate test accuracy\n",
      "test loss: 0.0190\n"
     ]
    },
    {
     "name": "stderr",
     "output_type": "stream",
     "text": [
      " 86%|████████▌ | 86201/100000 [5:43:58<53:48,  4.27it/s]   86%|████████▌ | 86003/100000 [5:43:11<59:32,  3.92it/s]  "
     ]
    },
    {
     "name": "stdout",
     "output_type": "stream",
     "text": [
      "epoch: 86200, loss: 0.0110\n"
     ]
    },
    {
     "name": "stderr",
     "output_type": "stream",
     "text": [
      " 86%|████████▋ | 86401/100000 [5:44:46<55:37,  4.08it/s] 86%|████████▌ | 86203/100000 [5:43:59<54:05,  4.25it/s]"
     ]
    },
    {
     "name": "stdout",
     "output_type": "stream",
     "text": [
      "epoch: 86400, loss: 0.0112\n"
     ]
    },
    {
     "name": "stderr",
     "output_type": "stream",
     "text": [
      " 87%|████████▋ | 86601/100000 [5:45:33<52:11,  4.28it/s] 86%|████████▋ | 86403/100000 [5:44:46<56:23,  4.02it/s]"
     ]
    },
    {
     "name": "stdout",
     "output_type": "stream",
     "text": [
      "epoch: 86600, loss: 0.0111\n"
     ]
    },
    {
     "name": "stderr",
     "output_type": "stream",
     "text": [
      " 87%|████████▋ | 86801/100000 [5:46:21<53:53,  4.08it/s] 87%|████████▋ | 86603/100000 [5:45:33<52:55,  4.22it/s]"
     ]
    },
    {
     "name": "stdout",
     "output_type": "stream",
     "text": [
      "epoch: 86800, loss: 0.0110\n"
     ]
    },
    {
     "name": "stderr",
     "output_type": "stream",
     "text": [
      " 87%|████████▋ | 87001/100000 [5:47:09<59:05,  3.67it/s] 87%|████████▋ | 86803/100000 [5:46:21<54:27,  4.04it/s]"
     ]
    },
    {
     "name": "stdout",
     "output_type": "stream",
     "text": [
      "epoch: 87000, loss: 0.0110\n",
      "calculate train accuracy\n",
      "test loss: 0.0110\n",
      "calculate test accuracy\n",
      "test loss: 0.0188\n"
     ]
    },
    {
     "name": "stderr",
     "output_type": "stream",
     "text": [
      " 87%|████████▋ | 87201/100000 [5:47:56<49:28,  4.31it/s] 87%|████████▋ | 87003/100000 [5:47:09<56:38,  3.82it/s]"
     ]
    },
    {
     "name": "stdout",
     "output_type": "stream",
     "text": [
      "epoch: 87200, loss: 0.0112\n"
     ]
    },
    {
     "name": "stderr",
     "output_type": "stream",
     "text": [
      " 87%|████████▋ | 87401/100000 [5:48:44<50:42,  4.14it/s] 87%|████████▋ | 87203/100000 [5:47:56<51:27,  4.14it/s]"
     ]
    },
    {
     "name": "stdout",
     "output_type": "stream",
     "text": [
      "epoch: 87400, loss: 0.0110\n"
     ]
    },
    {
     "name": "stderr",
     "output_type": "stream",
     "text": [
      " 88%|████████▊ | 87601/100000 [5:49:32<49:55,  4.14it/s] 87%|████████▋ | 87403/100000 [5:48:44<50:35,  4.15it/s]"
     ]
    },
    {
     "name": "stdout",
     "output_type": "stream",
     "text": [
      "epoch: 87600, loss: 0.0110\n"
     ]
    },
    {
     "name": "stderr",
     "output_type": "stream",
     "text": [
      " 88%|████████▊ | 87801/100000 [5:50:19<48:21,  4.21it/s] 88%|████████▊ | 87603/100000 [5:49:32<49:22,  4.18it/s]"
     ]
    },
    {
     "name": "stdout",
     "output_type": "stream",
     "text": [
      "epoch: 87800, loss: 0.0112\n"
     ]
    },
    {
     "name": "stderr",
     "output_type": "stream",
     "text": [
      " 88%|████████▊ | 88001/100000 [5:51:07<56:57,  3.51it/s] 88%|████████▊ | 87803/100000 [5:50:20<49:49,  4.08it/s]"
     ]
    },
    {
     "name": "stdout",
     "output_type": "stream",
     "text": [
      "epoch: 88000, loss: 0.0110\n",
      "calculate train accuracy\n",
      "test loss: 0.0110\n",
      "calculate test accuracy\n",
      "test loss: 0.0189\n"
     ]
    },
    {
     "name": "stderr",
     "output_type": "stream",
     "text": [
      " 88%|████████▊ | 88201/100000 [5:51:55<45:39,  4.31it/s] 88%|████████▊ | 88003/100000 [5:51:08<52:55,  3.78it/s]"
     ]
    },
    {
     "name": "stdout",
     "output_type": "stream",
     "text": [
      "epoch: 88200, loss: 0.0110\n"
     ]
    },
    {
     "name": "stderr",
     "output_type": "stream",
     "text": [
      " 88%|████████▊ | 88401/100000 [5:52:43<46:00,  4.20it/s] 88%|████████▊ | 88203/100000 [5:51:56<47:00,  4.18it/s]"
     ]
    },
    {
     "name": "stdout",
     "output_type": "stream",
     "text": [
      "epoch: 88400, loss: 0.0110\n"
     ]
    },
    {
     "name": "stderr",
     "output_type": "stream",
     "text": [
      " 89%|████████▊ | 88601/100000 [5:53:31<45:02,  4.22it/s] 88%|████████▊ | 88403/100000 [5:52:43<47:16,  4.09it/s]"
     ]
    },
    {
     "name": "stdout",
     "output_type": "stream",
     "text": [
      "epoch: 88600, loss: 0.0110\n"
     ]
    },
    {
     "name": "stderr",
     "output_type": "stream",
     "text": [
      " 89%|████████▉ | 88801/100000 [5:54:18<45:18,  4.12it/s] 89%|████████▊ | 88603/100000 [5:53:31<45:08,  4.21it/s]"
     ]
    },
    {
     "name": "stdout",
     "output_type": "stream",
     "text": [
      "epoch: 88800, loss: 0.0110\n"
     ]
    },
    {
     "name": "stderr",
     "output_type": "stream",
     "text": [
      " 89%|████████▉ | 89001/100000 [5:55:06<53:57,  3.40it/s] 89%|████████▉ | 88803/100000 [5:54:19<46:01,  4.05it/s]"
     ]
    },
    {
     "name": "stdout",
     "output_type": "stream",
     "text": [
      "epoch: 89000, loss: 0.0110\n",
      "calculate train accuracy\n",
      "test loss: 0.0110\n",
      "calculate test accuracy\n",
      "test loss: 0.0189\n"
     ]
    },
    {
     "name": "stderr",
     "output_type": "stream",
     "text": [
      " 89%|████████▉ | 89201/100000 [5:55:54<43:10,  4.17it/s] 89%|████████▉ | 89003/100000 [5:55:06<48:24,  3.79it/s]"
     ]
    },
    {
     "name": "stdout",
     "output_type": "stream",
     "text": [
      "epoch: 89200, loss: 0.0110\n"
     ]
    },
    {
     "name": "stderr",
     "output_type": "stream",
     "text": [
      " 89%|████████▉ | 89401/100000 [5:56:41<42:04,  4.20it/s] 89%|████████▉ | 89203/100000 [5:55:54<43:56,  4.09it/s]"
     ]
    },
    {
     "name": "stdout",
     "output_type": "stream",
     "text": [
      "epoch: 89400, loss: 0.0110\n"
     ]
    },
    {
     "name": "stderr",
     "output_type": "stream",
     "text": [
      " 90%|████████▉ | 89601/100000 [5:57:29<42:27,  4.08it/s] 89%|████████▉ | 89403/100000 [5:56:42<42:53,  4.12it/s]"
     ]
    },
    {
     "name": "stdout",
     "output_type": "stream",
     "text": [
      "epoch: 89600, loss: 0.0110\n"
     ]
    },
    {
     "name": "stderr",
     "output_type": "stream",
     "text": [
      " 90%|████████▉ | 89801/100000 [5:58:17<40:03,  4.24it/s] 90%|████████▉ | 89603/100000 [5:57:29<41:35,  4.17it/s]"
     ]
    },
    {
     "name": "stdout",
     "output_type": "stream",
     "text": [
      "epoch: 89800, loss: 0.0110\n"
     ]
    },
    {
     "name": "stderr",
     "output_type": "stream",
     "text": [
      " 90%|█████████ | 90001/100000 [5:59:05<47:14,  3.53it/s] 90%|████████▉ | 89803/100000 [5:58:17<41:26,  4.10it/s]"
     ]
    },
    {
     "name": "stdout",
     "output_type": "stream",
     "text": [
      "epoch: 90000, loss: 0.0110\n",
      "calculate train accuracy\n",
      "test loss: 0.0110\n",
      "calculate test accuracy\n",
      "test loss: 0.0190\n"
     ]
    },
    {
     "name": "stderr",
     "output_type": "stream",
     "text": [
      " 90%|█████████ | 90201/100000 [5:59:52<38:50,  4.21it/s] 90%|█████████ | 90003/100000 [5:59:05<43:10,  3.86it/s]"
     ]
    },
    {
     "name": "stdout",
     "output_type": "stream",
     "text": [
      "epoch: 90200, loss: 0.0110\n"
     ]
    },
    {
     "name": "stderr",
     "output_type": "stream",
     "text": [
      " 90%|█████████ | 90401/100000 [6:00:40<39:27,  4.06it/s] 90%|█████████ | 90203/100000 [5:59:53<38:39,  4.22it/s]"
     ]
    },
    {
     "name": "stdout",
     "output_type": "stream",
     "text": [
      "epoch: 90400, loss: 0.0110\n"
     ]
    },
    {
     "name": "stderr",
     "output_type": "stream",
     "text": [
      " 91%|█████████ | 90601/100000 [6:01:28<36:28,  4.29it/s] 90%|█████████ | 90403/100000 [6:00:40<39:43,  4.03it/s]"
     ]
    },
    {
     "name": "stdout",
     "output_type": "stream",
     "text": [
      "epoch: 90600, loss: 0.0110\n"
     ]
    },
    {
     "name": "stderr",
     "output_type": "stream",
     "text": [
      " 91%|█████████ | 90801/100000 [6:02:15<38:23,  3.99it/s] 91%|█████████ | 90603/100000 [6:01:28<36:53,  4.24it/s]"
     ]
    },
    {
     "name": "stdout",
     "output_type": "stream",
     "text": [
      "epoch: 90800, loss: 0.0110\n"
     ]
    },
    {
     "name": "stderr",
     "output_type": "stream",
     "text": [
      " 91%|█████████ | 91001/100000 [6:03:03<43:06,  3.48it/s] 91%|█████████ | 90803/100000 [6:02:16<37:17,  4.11it/s]"
     ]
    },
    {
     "name": "stdout",
     "output_type": "stream",
     "text": [
      "epoch: 91000, loss: 0.0110\n",
      "calculate train accuracy\n",
      "test loss: 0.0110\n",
      "calculate test accuracy\n",
      "test loss: 0.0190\n"
     ]
    },
    {
     "name": "stderr",
     "output_type": "stream",
     "text": [
      " 91%|█████████ | 91201/100000 [6:03:51<34:49,  4.21it/s] 91%|█████████ | 91003/100000 [6:03:03<39:23,  3.81it/s]"
     ]
    },
    {
     "name": "stdout",
     "output_type": "stream",
     "text": [
      "epoch: 91200, loss: 0.0110\n"
     ]
    },
    {
     "name": "stderr",
     "output_type": "stream",
     "text": [
      " 91%|█████████▏| 91401/100000 [6:04:38<33:14,  4.31it/s] 91%|█████████ | 91203/100000 [6:03:51<34:59,  4.19it/s]"
     ]
    },
    {
     "name": "stdout",
     "output_type": "stream",
     "text": [
      "epoch: 91400, loss: 0.0110\n"
     ]
    },
    {
     "name": "stderr",
     "output_type": "stream",
     "text": [
      " 92%|█████████▏| 91601/100000 [6:05:26<32:40,  4.28it/s] 91%|█████████▏| 91403/100000 [6:04:39<33:32,  4.27it/s]"
     ]
    },
    {
     "name": "stdout",
     "output_type": "stream",
     "text": [
      "epoch: 91600, loss: 0.0109\n"
     ]
    },
    {
     "name": "stderr",
     "output_type": "stream",
     "text": [
      " 92%|█████████▏| 91801/100000 [6:06:14<32:40,  4.18it/s] 92%|█████████▏| 91603/100000 [6:05:27<32:57,  4.25it/s]"
     ]
    },
    {
     "name": "stdout",
     "output_type": "stream",
     "text": [
      "epoch: 91800, loss: 0.0109\n"
     ]
    },
    {
     "name": "stderr",
     "output_type": "stream",
     "text": [
      " 92%|█████████▏| 92001/100000 [6:07:02<37:28,  3.56it/s] 92%|█████████▏| 91803/100000 [6:06:14<34:36,  3.95it/s]"
     ]
    },
    {
     "name": "stdout",
     "output_type": "stream",
     "text": [
      "epoch: 92000, loss: 0.0109\n",
      "calculate train accuracy\n",
      "test loss: 0.0109\n",
      "calculate test accuracy\n",
      "test loss: 0.0191\n"
     ]
    },
    {
     "name": "stderr",
     "output_type": "stream",
     "text": [
      " 92%|█████████▏| 92201/100000 [6:07:49<30:33,  4.25it/s] 92%|█████████▏| 92003/100000 [6:07:02<35:27,  3.76it/s]"
     ]
    },
    {
     "name": "stdout",
     "output_type": "stream",
     "text": [
      "epoch: 92200, loss: 0.0109\n"
     ]
    },
    {
     "name": "stderr",
     "output_type": "stream",
     "text": [
      " 92%|█████████▏| 92401/100000 [6:08:37<29:33,  4.28it/s] 92%|█████████▏| 92203/100000 [6:07:50<30:34,  4.25it/s]"
     ]
    },
    {
     "name": "stdout",
     "output_type": "stream",
     "text": [
      "epoch: 92400, loss: 0.0109\n"
     ]
    },
    {
     "name": "stderr",
     "output_type": "stream",
     "text": [
      " 93%|█████████▎| 92601/100000 [6:09:25<29:16,  4.21it/s] 92%|█████████▏| 92403/100000 [6:08:37<29:57,  4.23it/s]"
     ]
    },
    {
     "name": "stdout",
     "output_type": "stream",
     "text": [
      "epoch: 92600, loss: 0.0110\n"
     ]
    },
    {
     "name": "stderr",
     "output_type": "stream",
     "text": [
      " 93%|█████████▎| 92801/100000 [6:10:13<28:22,  4.23it/s] 93%|█████████▎| 92603/100000 [6:09:25<29:13,  4.22it/s]"
     ]
    },
    {
     "name": "stdout",
     "output_type": "stream",
     "text": [
      "epoch: 92800, loss: 0.0109\n"
     ]
    },
    {
     "name": "stderr",
     "output_type": "stream",
     "text": [
      " 93%|█████████▎| 93001/100000 [6:11:00<32:02,  3.64it/s] 93%|█████████▎| 92803/100000 [6:10:13<29:09,  4.11it/s]"
     ]
    },
    {
     "name": "stdout",
     "output_type": "stream",
     "text": [
      "epoch: 93000, loss: 0.0110\n",
      "calculate train accuracy\n",
      "test loss: 0.0110\n",
      "calculate test accuracy\n",
      "test loss: 0.0192\n"
     ]
    },
    {
     "name": "stderr",
     "output_type": "stream",
     "text": [
      " 93%|█████████▎| 93201/100000 [6:11:48<26:39,  4.25it/s] 93%|█████████▎| 93003/100000 [6:11:01<30:27,  3.83it/s]"
     ]
    },
    {
     "name": "stdout",
     "output_type": "stream",
     "text": [
      "epoch: 93200, loss: 0.0109\n"
     ]
    },
    {
     "name": "stderr",
     "output_type": "stream",
     "text": [
      " 93%|█████████▎| 93401/100000 [6:12:35<26:25,  4.16it/s] 93%|█████████▎| 93203/100000 [6:11:48<26:51,  4.22it/s]"
     ]
    },
    {
     "name": "stdout",
     "output_type": "stream",
     "text": [
      "epoch: 93400, loss: 0.0109\n"
     ]
    },
    {
     "name": "stderr",
     "output_type": "stream",
     "text": [
      " 94%|█████████▎| 93601/100000 [6:13:23<25:24,  4.20it/s] 93%|█████████▎| 93403/100000 [6:12:36<26:50,  4.10it/s]"
     ]
    },
    {
     "name": "stdout",
     "output_type": "stream",
     "text": [
      "epoch: 93600, loss: 0.0109\n"
     ]
    },
    {
     "name": "stderr",
     "output_type": "stream",
     "text": [
      " 94%|█████████▍| 93801/100000 [6:14:11<25:01,  4.13it/s] 94%|█████████▎| 93603/100000 [6:13:23<25:27,  4.19it/s]"
     ]
    },
    {
     "name": "stdout",
     "output_type": "stream",
     "text": [
      "epoch: 93800, loss: 0.0110\n"
     ]
    },
    {
     "name": "stderr",
     "output_type": "stream",
     "text": [
      " 94%|█████████▍| 94001/100000 [6:14:59<27:18,  3.66it/s] 94%|█████████▍| 93803/100000 [6:14:12<24:39,  4.19it/s]"
     ]
    },
    {
     "name": "stdout",
     "output_type": "stream",
     "text": [
      "epoch: 94000, loss: 0.0109\n",
      "calculate train accuracy\n",
      "test loss: 0.0109\n",
      "calculate test accuracy\n",
      "test loss: 0.0193\n"
     ]
    },
    {
     "name": "stderr",
     "output_type": "stream",
     "text": [
      " 94%|█████████▍| 94201/100000 [6:15:46<22:23,  4.32it/s] 94%|█████████▍| 94003/100000 [6:14:59<25:26,  3.93it/s]"
     ]
    },
    {
     "name": "stdout",
     "output_type": "stream",
     "text": [
      "epoch: 94200, loss: 0.0109\n"
     ]
    },
    {
     "name": "stderr",
     "output_type": "stream",
     "text": [
      " 94%|█████████▍| 94401/100000 [6:16:34<22:12,  4.20it/s] 94%|█████████▍| 94203/100000 [6:15:47<22:38,  4.27it/s]"
     ]
    },
    {
     "name": "stdout",
     "output_type": "stream",
     "text": [
      "epoch: 94400, loss: 0.0109\n"
     ]
    },
    {
     "name": "stderr",
     "output_type": "stream",
     "text": [
      " 95%|█████████▍| 94601/100000 [6:17:21<20:53,  4.31it/s] 94%|█████████▍| 94403/100000 [6:16:34<22:22,  4.17it/s]"
     ]
    },
    {
     "name": "stdout",
     "output_type": "stream",
     "text": [
      "epoch: 94600, loss: 0.0109\n"
     ]
    },
    {
     "name": "stderr",
     "output_type": "stream",
     "text": [
      " 95%|█████████▍| 94801/100000 [6:18:09<20:48,  4.17it/s] 95%|█████████▍| 94603/100000 [6:17:22<21:07,  4.26it/s]"
     ]
    },
    {
     "name": "stdout",
     "output_type": "stream",
     "text": [
      "epoch: 94800, loss: 0.0109\n"
     ]
    },
    {
     "name": "stderr",
     "output_type": "stream",
     "text": [
      " 95%|█████████▌| 95001/100000 [6:18:57<24:53,  3.35it/s] 95%|█████████▍| 94803/100000 [6:18:10<20:39,  4.19it/s]"
     ]
    },
    {
     "name": "stdout",
     "output_type": "stream",
     "text": [
      "epoch: 95000, loss: 0.0109\n",
      "calculate train accuracy\n",
      "test loss: 0.0109\n",
      "calculate test accuracy\n",
      "test loss: 0.0193\n"
     ]
    },
    {
     "name": "stderr",
     "output_type": "stream",
     "text": [
      " 95%|█████████▌| 95201/100000 [6:19:45<18:42,  4.27it/s] 95%|█████████▌| 95003/100000 [6:18:58<22:11,  3.75it/s]"
     ]
    },
    {
     "name": "stdout",
     "output_type": "stream",
     "text": [
      "epoch: 95200, loss: 0.0110\n"
     ]
    },
    {
     "name": "stderr",
     "output_type": "stream",
     "text": [
      " 95%|█████████▌| 95401/100000 [6:20:32<19:10,  4.00it/s] 95%|█████████▌| 95203/100000 [6:19:45<18:48,  4.25it/s]"
     ]
    },
    {
     "name": "stdout",
     "output_type": "stream",
     "text": [
      "epoch: 95400, loss: 0.0109\n"
     ]
    },
    {
     "name": "stderr",
     "output_type": "stream",
     "text": [
      " 96%|█████████▌| 95601/100000 [6:21:20<17:38,  4.16it/s] 95%|█████████▌| 95403/100000 [6:20:33<19:00,  4.03it/s]"
     ]
    },
    {
     "name": "stdout",
     "output_type": "stream",
     "text": [
      "epoch: 95600, loss: 0.0109\n"
     ]
    },
    {
     "name": "stderr",
     "output_type": "stream",
     "text": [
      " 96%|█████████▌| 95801/100000 [6:22:08<16:14,  4.31it/s] 96%|█████████▌| 95603/100000 [6:21:21<17:28,  4.19it/s]"
     ]
    },
    {
     "name": "stdout",
     "output_type": "stream",
     "text": [
      "epoch: 95800, loss: 0.0109\n"
     ]
    },
    {
     "name": "stderr",
     "output_type": "stream",
     "text": [
      " 96%|█████████▌| 96001/100000 [6:22:55<18:27,  3.61it/s] 96%|█████████▌| 95803/100000 [6:22:08<16:48,  4.16it/s]"
     ]
    },
    {
     "name": "stdout",
     "output_type": "stream",
     "text": [
      "epoch: 96000, loss: 0.0110\n",
      "calculate train accuracy\n",
      "test loss: 0.0110\n",
      "calculate test accuracy\n",
      "test loss: 0.0194\n"
     ]
    },
    {
     "name": "stderr",
     "output_type": "stream",
     "text": [
      " 96%|█████████▌| 96201/100000 [6:23:43<14:52,  4.26it/s] 96%|█████████▌| 96003/100000 [6:22:56<17:04,  3.90it/s]"
     ]
    },
    {
     "name": "stdout",
     "output_type": "stream",
     "text": [
      "epoch: 96200, loss: 0.0109\n"
     ]
    },
    {
     "name": "stderr",
     "output_type": "stream",
     "text": [
      " 96%|█████████▋| 96401/100000 [6:24:30<14:00,  4.28it/s] 96%|█████████▌| 96203/100000 [6:23:43<15:28,  4.09it/s]"
     ]
    },
    {
     "name": "stdout",
     "output_type": "stream",
     "text": [
      "epoch: 96400, loss: 0.0109\n"
     ]
    },
    {
     "name": "stderr",
     "output_type": "stream",
     "text": [
      " 97%|█████████▋| 96601/100000 [6:25:18<13:20,  4.25it/s] 96%|█████████▋| 96403/100000 [6:24:31<14:05,  4.25it/s]"
     ]
    },
    {
     "name": "stdout",
     "output_type": "stream",
     "text": [
      "epoch: 96600, loss: 0.0110\n"
     ]
    },
    {
     "name": "stderr",
     "output_type": "stream",
     "text": [
      " 97%|█████████▋| 96801/100000 [6:26:06<12:25,  4.29it/s] 97%|█████████▋| 96603/100000 [6:25:19<13:47,  4.11it/s]"
     ]
    },
    {
     "name": "stdout",
     "output_type": "stream",
     "text": [
      "epoch: 96800, loss: 0.0110\n"
     ]
    },
    {
     "name": "stderr",
     "output_type": "stream",
     "text": [
      " 97%|█████████▋| 97001/100000 [6:26:54<13:52,  3.60it/s] 97%|█████████▋| 96803/100000 [6:26:06<12:57,  4.11it/s]"
     ]
    },
    {
     "name": "stdout",
     "output_type": "stream",
     "text": [
      "epoch: 97000, loss: 0.0109\n",
      "calculate train accuracy\n",
      "test loss: 0.0109\n",
      "calculate test accuracy\n",
      "test loss: 0.0194\n"
     ]
    },
    {
     "name": "stderr",
     "output_type": "stream",
     "text": [
      " 97%|█████████▋| 97201/100000 [6:27:41<10:49,  4.31it/s] 97%|█████████▋| 97003/100000 [6:26:54<13:21,  3.74it/s]"
     ]
    },
    {
     "name": "stdout",
     "output_type": "stream",
     "text": [
      "epoch: 97200, loss: 0.0109\n"
     ]
    },
    {
     "name": "stderr",
     "output_type": "stream",
     "text": [
      " 97%|█████████▋| 97401/100000 [6:28:29<10:05,  4.29it/s] 97%|█████████▋| 97203/100000 [6:27:42<11:01,  4.23it/s]"
     ]
    },
    {
     "name": "stdout",
     "output_type": "stream",
     "text": [
      "epoch: 97400, loss: 0.0109\n"
     ]
    },
    {
     "name": "stderr",
     "output_type": "stream",
     "text": [
      " 98%|█████████▊| 97601/100000 [6:29:17<09:37,  4.15it/s] 97%|█████████▋| 97403/100000 [6:28:29<10:19,  4.19it/s]"
     ]
    },
    {
     "name": "stdout",
     "output_type": "stream",
     "text": [
      "epoch: 97600, loss: 0.0109\n"
     ]
    },
    {
     "name": "stderr",
     "output_type": "stream",
     "text": [
      " 98%|█████████▊| 97801/100000 [6:30:05<08:42,  4.21it/s] 98%|█████████▊| 97603/100000 [6:29:17<09:33,  4.18it/s]"
     ]
    },
    {
     "name": "stdout",
     "output_type": "stream",
     "text": [
      "epoch: 97800, loss: 0.0109\n"
     ]
    },
    {
     "name": "stderr",
     "output_type": "stream",
     "text": [
      " 98%|█████████▊| 98001/100000 [6:30:52<09:21,  3.56it/s] 98%|█████████▊| 97803/100000 [6:30:05<08:39,  4.23it/s]"
     ]
    },
    {
     "name": "stdout",
     "output_type": "stream",
     "text": [
      "epoch: 98000, loss: 0.0109\n",
      "calculate train accuracy\n",
      "test loss: 0.0109\n",
      "calculate test accuracy\n",
      "test loss: 0.0194\n"
     ]
    },
    {
     "name": "stderr",
     "output_type": "stream",
     "text": [
      " 98%|█████████▊| 98201/100000 [6:31:40<06:59,  4.29it/s] 98%|█████████▊| 98003/100000 [6:30:53<08:37,  3.86it/s]"
     ]
    },
    {
     "name": "stdout",
     "output_type": "stream",
     "text": [
      "epoch: 98200, loss: 0.0109\n"
     ]
    },
    {
     "name": "stderr",
     "output_type": "stream",
     "text": [
      " 98%|█████████▊| 98401/100000 [6:32:28<06:33,  4.07it/s] 98%|█████████▊| 98203/100000 [6:31:40<07:03,  4.24it/s]"
     ]
    },
    {
     "name": "stdout",
     "output_type": "stream",
     "text": [
      "epoch: 98400, loss: 0.0109\n"
     ]
    },
    {
     "name": "stderr",
     "output_type": "stream",
     "text": [
      " 99%|█████████▊| 98601/100000 [6:33:15<05:31,  4.23it/s] 98%|█████████▊| 98403/100000 [6:32:28<06:42,  3.97it/s]"
     ]
    },
    {
     "name": "stdout",
     "output_type": "stream",
     "text": [
      "epoch: 98600, loss: 0.0110\n"
     ]
    },
    {
     "name": "stderr",
     "output_type": "stream",
     "text": [
      " 99%|█████████▉| 98801/100000 [6:34:03<04:38,  4.31it/s] 99%|█████████▊| 98603/100000 [6:33:16<05:30,  4.23it/s]"
     ]
    },
    {
     "name": "stdout",
     "output_type": "stream",
     "text": [
      "epoch: 98800, loss: 0.0109\n"
     ]
    },
    {
     "name": "stderr",
     "output_type": "stream",
     "text": [
      " 99%|█████████▉| 99001/100000 [6:34:51<04:35,  3.62it/s] 99%|█████████▉| 98803/100000 [6:34:04<04:57,  4.03it/s]"
     ]
    },
    {
     "name": "stdout",
     "output_type": "stream",
     "text": [
      "epoch: 99000, loss: 0.0109\n",
      "calculate train accuracy\n",
      "test loss: 0.0110\n",
      "calculate test accuracy\n",
      "test loss: 0.0196\n"
     ]
    },
    {
     "name": "stderr",
     "output_type": "stream",
     "text": [
      " 99%|█████████▉| 99201/100000 [6:35:39<03:05,  4.31it/s] 99%|█████████▉| 99003/100000 [6:34:52<04:22,  3.80it/s]"
     ]
    },
    {
     "name": "stdout",
     "output_type": "stream",
     "text": [
      "epoch: 99200, loss: 0.0109\n"
     ]
    },
    {
     "name": "stderr",
     "output_type": "stream",
     "text": [
      " 99%|█████████▉| 99401/100000 [6:36:26<02:27,  4.07it/s] 99%|█████████▉| 99203/100000 [6:35:39<03:06,  4.26it/s]"
     ]
    },
    {
     "name": "stdout",
     "output_type": "stream",
     "text": [
      "epoch: 99400, loss: 0.0109\n"
     ]
    },
    {
     "name": "stderr",
     "output_type": "stream",
     "text": [
      "100%|█████████▉| 99601/100000 [6:37:14<01:34,  4.21it/s] 99%|█████████▉| 99403/100000 [6:36:27<02:23,  4.15it/s]"
     ]
    },
    {
     "name": "stdout",
     "output_type": "stream",
     "text": [
      "epoch: 99600, loss: 0.0109\n"
     ]
    },
    {
     "name": "stderr",
     "output_type": "stream",
     "text": [
      "100%|█████████▉| 99801/100000 [6:38:02<00:48,  4.14it/s]100%|█████████▉| 99603/100000 [6:37:14<01:38,  4.05it/s]"
     ]
    },
    {
     "name": "stdout",
     "output_type": "stream",
     "text": [
      "epoch: 99800, loss: 0.0109\n"
     ]
    },
    {
     "name": "stderr",
     "output_type": "stream",
     "text": [
      "100%|██████████| 100000/100000 [6:38:49<00:00,  4.09it/s]00%|█████████▉| 99803/100000 [6:38:02<00:47,  4.15it/s]"
     ]
    },
    {
     "name": "stdout",
     "output_type": "stream",
     "text": [
      "Done\n"
     ]
    },
    {
     "name": "stderr",
     "output_type": "stream",
     "text": [
      "\n"
     ]
    }
   ],
   "source": [
    "tf.set_random_seed(0)\n",
    "with tf.Session() as sess:\n",
    "    sess.run(init)\n",
    "    total = None\n",
    "    for epoch in tqdm(list(range(n_epoch))):\n",
    "        costs = []\n",
    "        for batch_x, batch_y in batch_flow(X_train, y_train, batch_size):\n",
    "            _, c = sess.run([train_step, cost], feed_dict={X: batch_x, y: batch_y})\n",
    "            costs.append(c)\n",
    "        if total is None:\n",
    "            total = len(costs)\n",
    "        if epoch > 0 and epoch % 200 == 0:\n",
    "            print('epoch: {}, loss: {:.4f}'.format(epoch, np.mean(costs)))\n",
    "        if epoch > 0 and epoch % 1000 == 0:\n",
    "            print('calculate train accuracy')\n",
    "            costs = []\n",
    "            train_result = []\n",
    "            for batch_x, batch_y in batch_flow(X_train, y_train, batch_size):\n",
    "                c, p = sess.run([cost, pred], feed_dict={X: batch_x, y: batch_y})\n",
    "                costs.append(c)\n",
    "                train_result += list(p)\n",
    "            print('test loss: {:.4f}'.format(np.mean(costs)))\n",
    "            print('calculate test accuracy')\n",
    "            costs = []\n",
    "            test_result = []\n",
    "            for batch_x, batch_y in batch_flow(X_test, y_test, batch_size):\n",
    "                c, p = sess.run([cost, pred], feed_dict={X: batch_x, y: batch_y})\n",
    "                costs.append(c)\n",
    "                test_result += list(p)\n",
    "            print('test loss: {:.4f}'.format(np.mean(costs)))\n",
    "    print('Done')"
   ]
  },
  {
   "cell_type": "code",
   "execution_count": 38,
   "metadata": {
    "collapsed": false
   },
   "outputs": [],
   "source": [
    "def disp(n, mean, std, X, y, result):\n",
    "    x = imresize(np.uint8(X[n] * std + mean), (128, 128))\n",
    "    y = np.uint8(y[n] * std + mean)\n",
    "    pred = np.uint8(result[n] * std + mean)\n",
    "    display(\n",
    "        Image.fromarray(x),\n",
    "        Image.fromarray(y),\n",
    "        Image.fromarray(pred)\n",
    "    )\n",
    "    a = psnr(x, y)\n",
    "    b = psnr(pred, y)\n",
    "    print('训练前噪音 {:.4f} 训练后噪音 {:.4f} （越大越好）'.format(a, b))"
   ]
  },
  {
   "cell_type": "code",
   "execution_count": 39,
   "metadata": {
    "collapsed": false
   },
   "outputs": [
    {
     "data": {
      "image/png": "[encoded data removed]",
      "text/plain": [
       "<PIL.Image.Image image mode=RGB size=128x128 at 0x7FF270CF35F8>"
      ]
     },
     "metadata": {},
     "output_type": "display_data"
    },
    {
     "data": {
      "image/png": "[encoded data removed]",
      "text/plain": [
       "<PIL.Image.Image image mode=RGB size=128x128 at 0x7FF270CF3668>"
      ]
     },
     "metadata": {},
     "output_type": "display_data"
    },
    {
     "data": {
      "image/png": "[encoded data removed]",
      "text/plain": [
       "<PIL.Image.Image image mode=RGB size=128x128 at 0x7FF270CF34E0>"
      ]
     },
     "metadata": {},
     "output_type": "display_data"
    },
    {
     "name": "stdout",
     "output_type": "stream",
     "text": [
      "训练前噪音 33.3014 训练后噪音 33.9265 （越大越好）\n"
     ]
    }
   ],
   "source": [
    "disp(0, mean_of_train, std_of_train, X_train, y_train, train_result)"
   ]
  },
  {
   "cell_type": "code",
   "execution_count": 40,
   "metadata": {
    "collapsed": false
   },
   "outputs": [
    {
     "data": {
      "image/png": "[encoded data removed]",
      "text/plain": [
       "<PIL.Image.Image image mode=RGB size=128x128 at 0x7FF270CF3630>"
      ]
     },
     "metadata": {},
     "output_type": "display_data"
    },
    {
     "data": {
      "image/png": "[encoded data removed]",
      "text/plain": [
       "<PIL.Image.Image image mode=RGB size=128x128 at 0x7FF270CF34E0>"
      ]
     },
     "metadata": {},
     "output_type": "display_data"
    },
    {
     "data": {
      "image/png": "[encoded data removed]",
      "text/plain": [
       "<PIL.Image.Image image mode=RGB size=128x128 at 0x7FF270CF3828>"
      ]
     },
     "metadata": {},
     "output_type": "display_data"
    },
    {
     "name": "stdout",
     "output_type": "stream",
     "text": [
      "训练前噪音 36.8939 训练后噪音 37.0125 （越大越好）\n"
     ]
    }
   ],
   "source": [
    "disp(0, mean_of_train, std_of_train, X_test, y_test, test_result)"
   ]
  },
  {
   "cell_type": "code",
   "execution_count": null,
   "metadata": {
    "collapsed": true
   },
   "outputs": [],
   "source": []
  }
 ],
 "metadata": {
  "kernelspec": {
   "display_name": "Python 3",
   "language": "python",
   "name": "python3"
  },
  "language_info": {
   "codemirror_mode": {
    "name": "ipython",
    "version": 3
   },
   "file_extension": ".py",
   "mimetype": "text/x-python",
   "name": "python",
   "nbconvert_exporter": "python",
   "pygments_lexer": "ipython3",
   "version": "3.5.2"
  }
 },
 "nbformat": 4,
 "nbformat_minor": 2
}
