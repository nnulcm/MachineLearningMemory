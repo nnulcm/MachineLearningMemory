{
 "cells": [
  {
   "cell_type": "code",
   "execution_count": 1,
   "metadata": {
    "collapsed": true
   },
   "outputs": [],
   "source": [
    "import io\n",
    "import re\n",
    "import zipfile\n",
    "from collections import OrderedDict\n",
    "\n",
    "import tensorflow as tf\n",
    "from PIL import Image\n",
    "from tqdm import tqdm\n",
    "import numpy as np\n",
    "from IPython.display import display"
   ]
  },
  {
   "cell_type": "code",
   "execution_count": 2,
   "metadata": {
    "collapsed": false
   },
   "outputs": [
    {
     "name": "stdout",
     "output_type": "stream",
     "text": [
      "0.12.0\n"
     ]
    }
   ],
   "source": [
    "print(tf.__version__)"
   ]
  },
  {
   "cell_type": "code",
   "execution_count": 3,
   "metadata": {
    "collapsed": true
   },
   "outputs": [],
   "source": [
    "tf.set_random_seed(0)"
   ]
  },
  {
   "cell_type": "code",
   "execution_count": 4,
   "metadata": {
    "collapsed": true
   },
   "outputs": [],
   "source": [
    "def extract_images_bytes(path_64='train_64.zip', path='../CatDog/train.zip'):\n",
    "    labels_images = OrderedDict()\n",
    "    # load 64\n",
    "    z = zipfile.ZipFile(path_64, 'r')\n",
    "    for file in z.filelist:\n",
    "        m = re.match('.*(cat|dog).*', file.filename)\n",
    "        if m:\n",
    "            category = m.groups()[0]\n",
    "            if category != 'cat': continue\n",
    "            img = Image.open(io.BytesIO((z.open(file.filename).read())))\n",
    "            label = re.sub('[^/]+/', '', file.filename)\n",
    "            labels_images[label] = [img]\n",
    "    # load origin\n",
    "    z = zipfile.ZipFile(path, 'r')\n",
    "    for file in z.filelist:\n",
    "        m = re.match('.*(cat|dog).*', file.filename)\n",
    "        if m:\n",
    "            category = m.groups()[0]\n",
    "            if category != 'cat': continue\n",
    "            label = re.sub('[^/]+/', '', file.filename)\n",
    "            if label not in labels_images: continue\n",
    "            img = Image.open(io.BytesIO((z.open(file.filename).read())))\n",
    "            labels_images[label].append(img)\n",
    "    return labels_images"
   ]
  },
  {
   "cell_type": "code",
   "execution_count": 5,
   "metadata": {
    "collapsed": false
   },
   "outputs": [],
   "source": [
    "train = extract_images_bytes()"
   ]
  },
  {
   "cell_type": "code",
   "execution_count": 6,
   "metadata": {
    "collapsed": false
   },
   "outputs": [],
   "source": [
    "X_train = np.array([np.array(x[0]) for x in train.values()])\n",
    "y_train = np.array([np.array(x[1]) for x in train.values()])"
   ]
  },
  {
   "cell_type": "code",
   "execution_count": 7,
   "metadata": {
    "collapsed": true
   },
   "outputs": [],
   "source": [
    "test = extract_images_bytes('test_64.zip', '../CatDog/test.zip')"
   ]
  },
  {
   "cell_type": "code",
   "execution_count": 8,
   "metadata": {
    "collapsed": true
   },
   "outputs": [],
   "source": [
    "X_test = np.array([np.array(x[0]) for x in test.values()])\n",
    "y_test = np.array([np.array(x[1]) for x in test.values()])"
   ]
  },
  {
   "cell_type": "code",
   "execution_count": 9,
   "metadata": {
    "collapsed": false
   },
   "outputs": [
    {
     "name": "stdout",
     "output_type": "stream",
     "text": [
      "114.567369759 66.4041757717\n"
     ]
    }
   ],
   "source": [
    "mean_of_train = np.mean(X_train)\n",
    "std_of_train = np.std(X_train)\n",
    "print(mean_of_train, std_of_train)"
   ]
  },
  {
   "cell_type": "code",
   "execution_count": 10,
   "metadata": {
    "collapsed": true
   },
   "outputs": [],
   "source": [
    "X_train = (X_train - mean_of_train) / std_of_train\n",
    "X_test = (X_test - mean_of_train) / std_of_train\n",
    "y_train = (y_train - mean_of_train) / std_of_train\n",
    "y_test = (y_test - mean_of_train) / std_of_train"
   ]
  },
  {
   "cell_type": "code",
   "execution_count": 11,
   "metadata": {
    "collapsed": false
   },
   "outputs": [
    {
     "name": "stdout",
     "output_type": "stream",
     "text": [
      "(10000, 64, 64, 3) (10000, 128, 128, 3) (2500, 64, 64, 3) (2500, 128, 128, 3)\n"
     ]
    }
   ],
   "source": [
    "print(X_train.shape, y_train.shape, X_test.shape, y_test.shape)"
   ]
  },
  {
   "cell_type": "code",
   "execution_count": 12,
   "metadata": {
    "collapsed": true
   },
   "outputs": [],
   "source": [
    "batch_size = 8\n",
    "learning_rate = 0.1\n",
    "stddev = 1.0"
   ]
  },
  {
   "cell_type": "code",
   "execution_count": 13,
   "metadata": {
    "collapsed": false
   },
   "outputs": [],
   "source": [
    "X = tf.placeholder(tf.float32, [batch_size, 64, 64, 3], name='X')\n",
    "y = tf.placeholder(tf.float32, [batch_size, 128, 128, 3], name='y')"
   ]
  },
  {
   "cell_type": "code",
   "execution_count": 14,
   "metadata": {
    "collapsed": true
   },
   "outputs": [],
   "source": [
    "def conv(input_layer, output_size, pitch_shape, name, strides=[1, 1, 1, 1], padding='VALID'):\n",
    "    with tf.variable_scope(name):\n",
    "        shape = [\n",
    "            pitch_shape[0],\n",
    "            pitch_shape[1],\n",
    "            int(input_layer.get_shape()[-1]),\n",
    "            output_size\n",
    "        ]\n",
    "        pitch = tf.Variable(tf.random_normal(shape))\n",
    "        bias = tf.Variable(tf.zeros([output_size]))\n",
    "        conv = tf.nn.bias_add(\n",
    "            tf.nn.conv2d(\n",
    "                input_layer, pitch, strides=strides, padding=padding\n",
    "            ),\n",
    "            bias\n",
    "        )\n",
    "        print(name, conv.get_shape())\n",
    "        return conv"
   ]
  },
  {
   "cell_type": "code",
   "execution_count": 15,
   "metadata": {
    "collapsed": true
   },
   "outputs": [],
   "source": [
    "def max_pool(input_layer, name, ksize=[1, 2, 2, 1], strides=[1, 2, 2, 1], padding='VALID'):\n",
    "    mp = tf.nn.max_pool(input_layer, ksize=ksize, strides=strides, padding=padding)\n",
    "    print(name, mp.get_shape())\n",
    "    return mp"
   ]
  },
  {
   "cell_type": "code",
   "execution_count": 16,
   "metadata": {
    "collapsed": true
   },
   "outputs": [],
   "source": [
    "model = X"
   ]
  },
  {
   "cell_type": "code",
   "execution_count": 17,
   "metadata": {
    "collapsed": false
   },
   "outputs": [
    {
     "name": "stdout",
     "output_type": "stream",
     "text": [
      "conv_1 (8, 64, 64, 64)\n"
     ]
    }
   ],
   "source": [
    "model = conv(model, 64, (3, 3), 'conv_1', padding='SAME')"
   ]
  },
  {
   "cell_type": "code",
   "execution_count": 18,
   "metadata": {
    "collapsed": false
   },
   "outputs": [
    {
     "name": "stdout",
     "output_type": "stream",
     "text": [
      "max_pool_1 (8, 32, 32, 64)\n"
     ]
    }
   ],
   "source": [
    "model = max_pool(model, 'max_pool_1', padding='SAME')"
   ]
  },
  {
   "cell_type": "code",
   "execution_count": 19,
   "metadata": {
    "collapsed": false
   },
   "outputs": [
    {
     "name": "stdout",
     "output_type": "stream",
     "text": [
      "conv_2 (8, 32, 32, 128)\n"
     ]
    }
   ],
   "source": [
    "model = conv(model, 128, (3, 3), 'conv_2', padding='SAME')"
   ]
  },
  {
   "cell_type": "code",
   "execution_count": 20,
   "metadata": {
    "collapsed": false
   },
   "outputs": [
    {
     "name": "stdout",
     "output_type": "stream",
     "text": [
      "max_pool_2 (8, 16, 16, 128)\n"
     ]
    }
   ],
   "source": [
    "model = max_pool(model, 'max_pool_2', padding='SAME')"
   ]
  },
  {
   "cell_type": "code",
   "execution_count": 21,
   "metadata": {
    "collapsed": false
   },
   "outputs": [],
   "source": [
    "pitch_dc = tf.Variable(tf.random_normal([1, 1, 128, 128], stddev=stddev), name='pitch_dc')\n",
    "pitch_dc_bias = tf.Variable(tf.zeros([128]), name='pitch_dc_bias')"
   ]
  },
  {
   "cell_type": "code",
   "execution_count": 22,
   "metadata": {
    "collapsed": false
   },
   "outputs": [],
   "source": [
    "dconv = tf.nn.bias_add(\n",
    "    tf.nn.conv2d_transpose(\n",
    "        model, pitch_dc,\n",
    "        (batch_size, 128, 128, 128),\n",
    "        (1, 8, 8, 1),\n",
    "        padding='SAME',\n",
    "        data_format='NHWC'\n",
    "    ),\n",
    "    pitch_dc_bias\n",
    ")"
   ]
  },
  {
   "cell_type": "code",
   "execution_count": 23,
   "metadata": {
    "collapsed": false
   },
   "outputs": [
    {
     "name": "stdout",
     "output_type": "stream",
     "text": [
      "(8, 128, 128, 128)\n"
     ]
    }
   ],
   "source": [
    "print(dconv.get_shape())"
   ]
  },
  {
   "cell_type": "code",
   "execution_count": 24,
   "metadata": {
    "collapsed": false
   },
   "outputs": [
    {
     "name": "stdout",
     "output_type": "stream",
     "text": [
      "pred (8, 128, 128, 3)\n"
     ]
    }
   ],
   "source": [
    "pred = conv(dconv, 3, (1, 1), 'pred', padding='SAME')"
   ]
  },
  {
   "cell_type": "code",
   "execution_count": 25,
   "metadata": {
    "collapsed": false
   },
   "outputs": [],
   "source": [
    "slice_begin = (int(y.get_shape()[1]) - int(pred.get_shape()[1]))\n",
    "slice_end = int(pred.get_shape()[1]) + slice_begin"
   ]
  },
  {
   "cell_type": "code",
   "execution_count": 26,
   "metadata": {
    "collapsed": false
   },
   "outputs": [
    {
     "name": "stdout",
     "output_type": "stream",
     "text": [
      "0 128\n"
     ]
    }
   ],
   "source": [
    "print(slice_begin, slice_end)"
   ]
  },
  {
   "cell_type": "code",
   "execution_count": 27,
   "metadata": {
    "collapsed": true
   },
   "outputs": [],
   "source": [
    "delta = pred - y[:, slice_begin: slice_end, slice_begin: slice_end, :]\n",
    "delta *= [[[[0.11448, 0.58661, 0.29891]]]]"
   ]
  },
  {
   "cell_type": "code",
   "execution_count": 36,
   "metadata": {
    "collapsed": false
   },
   "outputs": [],
   "source": [
    "loss = tf.pow(delta, 2.0)\n",
    "cost = tf.reduce_mean(tf.reduce_sum(loss, axis=[1, 2, 3]))"
   ]
  },
  {
   "cell_type": "code",
   "execution_count": 37,
   "metadata": {
    "collapsed": false,
    "scrolled": false
   },
   "outputs": [],
   "source": [
    "opt = tf.train.AdamOptimizer(learning_rate=learning_rate)"
   ]
  },
  {
   "cell_type": "code",
   "execution_count": 38,
   "metadata": {
    "collapsed": true
   },
   "outputs": [],
   "source": [
    "params = tf.trainable_variables()"
   ]
  },
  {
   "cell_type": "code",
   "execution_count": 39,
   "metadata": {
    "collapsed": true
   },
   "outputs": [],
   "source": [
    "gradients = tf.gradients(cost, params)"
   ]
  },
  {
   "cell_type": "code",
   "execution_count": 40,
   "metadata": {
    "collapsed": true
   },
   "outputs": [],
   "source": [
    "clipped_gradients, norm = tf.clip_by_global_norm(gradients, 5.0)"
   ]
  },
  {
   "cell_type": "code",
   "execution_count": 41,
   "metadata": {
    "collapsed": true
   },
   "outputs": [],
   "source": [
    "global_step = tf.Variable(0, trainable=False)"
   ]
  },
  {
   "cell_type": "code",
   "execution_count": 42,
   "metadata": {
    "collapsed": false
   },
   "outputs": [],
   "source": [
    "train_step = opt.apply_gradients(zip(clipped_gradients, params), global_step=global_step)"
   ]
  },
  {
   "cell_type": "code",
   "execution_count": 43,
   "metadata": {
    "collapsed": false
   },
   "outputs": [],
   "source": [
    "init = tf.global_variables_initializer()"
   ]
  },
  {
   "cell_type": "code",
   "execution_count": 44,
   "metadata": {
    "collapsed": true
   },
   "outputs": [],
   "source": [
    "def batch_flow(inputs, targets, batch_size):\n",
    "    \"\"\"流动数据流\"\"\"\n",
    "    flowed = 0\n",
    "    total = len(inputs)\n",
    "    while True:\n",
    "        X_ret = []\n",
    "        y_ret = []\n",
    "        for i in range(total):\n",
    "            X_ret.append(inputs[i])\n",
    "            y_ret.append(targets[i])\n",
    "            if len(X_ret) == batch_size:\n",
    "                flowed += batch_size\n",
    "                X, y = np.array(X_ret), np.array(y_ret)\n",
    "                yield X, y\n",
    "                X_ret = []\n",
    "                y_ret = []\n",
    "            if flowed >= total:\n",
    "                break\n",
    "        if flowed >= total:\n",
    "            break"
   ]
  },
  {
   "cell_type": "code",
   "execution_count": 45,
   "metadata": {
    "collapsed": false
   },
   "outputs": [
    {
     "name": "stdout",
     "output_type": "stream",
     "text": [
      "(8, 64, 64, 3) (8, 128, 128, 3)\n"
     ]
    }
   ],
   "source": [
    "for batch_x, batch_y in batch_flow(X_train, y_train, batch_size):\n",
    "    print(batch_x.shape, batch_y.shape)\n",
    "    break"
   ]
  },
  {
   "cell_type": "code",
   "execution_count": 46,
   "metadata": {
    "collapsed": true
   },
   "outputs": [],
   "source": [
    "n_epoch = 10"
   ]
  },
  {
   "cell_type": "code",
   "execution_count": 47,
   "metadata": {
    "collapsed": false,
    "scrolled": false
   },
   "outputs": [
    {
     "name": "stderr",
     "output_type": "stream",
     "text": [
      "1250it [00:28, 43.86it/s]:00,  1.93it/s]\n",
      "  0%|          | 5/1250 [00:00<00:28, 43.07it/s]"
     ]
    },
    {
     "name": "stdout",
     "output_type": "stream",
     "text": [
      "epoch: 0, loss: 7263833088.0000\n"
     ]
    },
    {
     "name": "stderr",
     "output_type": "stream",
     "text": [
      "100%|██████████| 1250/1250 [00:28<00:00, 44.31it/s]1%|          | 15/1250 [00:00<00:28, 43.33it/s]\n",
      "  0%|          | 5/1250 [00:00<00:29, 41.73it/s]"
     ]
    },
    {
     "name": "stdout",
     "output_type": "stream",
     "text": [
      "epoch: 1, loss: 42690704.0000\n"
     ]
    },
    {
     "name": "stderr",
     "output_type": "stream",
     "text": [
      "100%|██████████| 1250/1250 [00:28<00:00, 41.94it/s]1%|          | 15/1250 [00:00<00:29, 42.15it/s]\n",
      "  0%|          | 4/1250 [00:00<00:31, 39.68it/s]"
     ]
    },
    {
     "name": "stdout",
     "output_type": "stream",
     "text": [
      "epoch: 2, loss: 132071224.0000\n"
     ]
    },
    {
     "name": "stderr",
     "output_type": "stream",
     "text": [
      "100%|██████████| 1250/1250 [00:28<00:00, 43.32it/s]%|          | 14/1250 [00:00<00:30, 40.10it/s]\n",
      "  0%|          | 5/1250 [00:00<00:28, 43.55it/s]"
     ]
    },
    {
     "name": "stdout",
     "output_type": "stream",
     "text": [
      "epoch: 3, loss: 46199840.0000\n"
     ]
    },
    {
     "name": "stderr",
     "output_type": "stream",
     "text": [
      "100%|██████████| 1250/1250 [00:28<00:00, 44.20it/s]1%|          | 15/1250 [00:00<00:28, 43.20it/s]\n",
      "  0%|          | 5/1250 [00:00<00:28, 42.98it/s]"
     ]
    },
    {
     "name": "stdout",
     "output_type": "stream",
     "text": [
      "epoch: 4, loss: 81140536.0000\n"
     ]
    },
    {
     "name": "stderr",
     "output_type": "stream",
     "text": [
      "100%|██████████| 1250/1250 [00:28<00:00, 41.32it/s]1%|          | 15/1250 [00:00<00:28, 42.86it/s]\n",
      "  0%|          | 4/1250 [00:00<00:31, 39.66it/s]"
     ]
    },
    {
     "name": "stdout",
     "output_type": "stream",
     "text": [
      "epoch: 5, loss: 66694952.0000\n"
     ]
    },
    {
     "name": "stderr",
     "output_type": "stream",
     "text": [
      "100%|██████████| 1250/1250 [00:29<00:00, 42.89it/s]%|          | 14/1250 [00:00<00:30, 40.08it/s]\n",
      "  0%|          | 5/1250 [00:00<00:30, 41.22it/s]"
     ]
    },
    {
     "name": "stdout",
     "output_type": "stream",
     "text": [
      "epoch: 6, loss: 193518800.0000\n"
     ]
    },
    {
     "name": "stderr",
     "output_type": "stream",
     "text": [
      "100%|██████████| 1250/1250 [00:29<00:00, 41.99it/s]1%|          | 15/1250 [00:00<00:29, 41.19it/s]\n",
      "  0%|          | 5/1250 [00:00<00:30, 40.47it/s]"
     ]
    },
    {
     "name": "stdout",
     "output_type": "stream",
     "text": [
      "epoch: 7, loss: 56142960.0000\n"
     ]
    },
    {
     "name": "stderr",
     "output_type": "stream",
     "text": [
      "100%|██████████| 1250/1250 [00:29<00:00, 42.32it/s]%|          | 14/1250 [00:00<00:30, 40.38it/s]\n",
      "  0%|          | 5/1250 [00:00<00:30, 40.63it/s]"
     ]
    },
    {
     "name": "stdout",
     "output_type": "stream",
     "text": [
      "epoch: 8, loss: 44163008.0000\n"
     ]
    },
    {
     "name": "stderr",
     "output_type": "stream",
     "text": [
      "100%|██████████| 1250/1250 [00:29<00:00, 41.94it/s]1%|          | 15/1250 [00:00<00:29, 41.20it/s]\n",
      "14it [00:00, 132.56it/s]"
     ]
    },
    {
     "name": "stdout",
     "output_type": "stream",
     "text": [
      "epoch: 9, loss: 40971364.0000\n",
      "calculate train accuracy\n"
     ]
    },
    {
     "name": "stderr",
     "output_type": "stream",
     "text": [
      "1250it [00:08, 143.26it/s]it [00:00, 135.71it/s]\n",
      "14it [00:00, 138.49it/s]"
     ]
    },
    {
     "name": "stdout",
     "output_type": "stream",
     "text": [
      "test loss: 109444008.0000\n",
      "calculate test accuracy\n"
     ]
    },
    {
     "name": "stderr",
     "output_type": "stream",
     "text": [
      "313it [00:02, 140.32it/s]3it [00:00, 138.37it/s]"
     ]
    },
    {
     "name": "stdout",
     "output_type": "stream",
     "text": [
      "test loss: 112712344.0000\n",
      "Done\n"
     ]
    },
    {
     "name": "stderr",
     "output_type": "stream",
     "text": [
      "\n"
     ]
    }
   ],
   "source": [
    "with tf.Session() as sess:\n",
    "    sess.run(init)\n",
    "    total = None\n",
    "    for epoch in range(n_epoch):\n",
    "        costs = []\n",
    "        for batch_x, batch_y in tqdm(batch_flow(X_train, y_train, batch_size), total=total):\n",
    "            _, c = sess.run([train_step, cost], feed_dict={X: batch_x, y: batch_y})\n",
    "            costs.append(c)\n",
    "        print('epoch: {}, loss: {:.4f}'.format(epoch, np.mean(costs)))\n",
    "        if total is None:\n",
    "            total = len(costs)\n",
    "    print('calculate train accuracy')\n",
    "    costs = []\n",
    "    train_result = []\n",
    "    for batch_x, batch_y in tqdm(batch_flow(X_train, y_train, batch_size)):\n",
    "        c, p = sess.run([cost, pred], feed_dict={X: batch_x, y: batch_y})\n",
    "        costs.append(c)\n",
    "        train_result += list(p)\n",
    "    print('test loss: {:.4f}'.format(np.mean(costs)))\n",
    "    print('calculate test accuracy')\n",
    "    costs = []\n",
    "    test_result = []\n",
    "    for batch_x, batch_y in tqdm(batch_flow(X_test, y_test, batch_size)):\n",
    "        c, p = sess.run([cost, pred], feed_dict={X: batch_x, y: batch_y})\n",
    "        costs.append(c)\n",
    "        test_result += list(p)\n",
    "    print('test loss: {:.4f}'.format(np.mean(costs)))\n",
    "    print('Done')"
   ]
  },
  {
   "cell_type": "code",
   "execution_count": 48,
   "metadata": {
    "collapsed": false
   },
   "outputs": [],
   "source": [
    "def disp(n, mean, std):\n",
    "    display(\n",
    "        Image.fromarray(np.uint8(X_train[n] * std + mean)).resize((128, 128), Image.ANTIALIAS),\n",
    "        Image.fromarray(np.uint8(train_result[n] * std + mean)),\n",
    "        Image.fromarray(np.uint8(y_train[n] * std + mean))\n",
    "    )"
   ]
  },
  {
   "cell_type": "code",
   "execution_count": 49,
   "metadata": {
    "collapsed": false
   },
   "outputs": [
    {
     "data": {
      "image/png": "[encoded data removed]",
      "text/plain": [
       "<PIL.Image.Image image mode=RGB size=128x128 at 0x7F70115D5048>"
      ]
     },
     "metadata": {},
     "output_type": "display_data"
    },
    {
     "data": {
      "image/png": "[encoded data removed]",
      "text/plain": [
       "<PIL.Image.Image image mode=RGB size=128x128 at 0x7F70116CB9B0>"
      ]
     },
     "metadata": {},
     "output_type": "display_data"
    },
    {
     "data": {
      "image/png": "[encoded data removed]",
      "text/plain": [
       "<PIL.Image.Image image mode=RGB size=128x128 at 0x7F70116CB630>"
      ]
     },
     "metadata": {},
     "output_type": "display_data"
    }
   ],
   "source": [
    "disp(0, mean_of_train, std_of_train)"
   ]
  },
  {
   "cell_type": "code",
   "execution_count": null,
   "metadata": {
    "collapsed": true
   },
   "outputs": [],
   "source": []
  }
 ],
 "metadata": {
  "kernelspec": {
   "display_name": "Python 3",
   "language": "python",
   "name": "python3"
  },
  "language_info": {
   "codemirror_mode": {
    "name": "ipython",
    "version": 3
   },
   "file_extension": ".py",
   "mimetype": "text/x-python",
   "name": "python",
   "nbconvert_exporter": "python",
   "pygments_lexer": "ipython3",
   "version": "3.5.2"
  }
 },
 "nbformat": 4,
 "nbformat_minor": 2
}
