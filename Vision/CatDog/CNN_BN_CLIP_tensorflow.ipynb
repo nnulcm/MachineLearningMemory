{
 "cells": [
  {
   "cell_type": "code",
   "execution_count": 1,
   "metadata": {
    "collapsed": true
   },
   "outputs": [],
   "source": [
    "import numpy as np\n",
    "from sklearn.metrics import accuracy_score, recall_score, f1_score\n",
    "from sklearn.preprocessing import Normalizer\n",
    "import tensorflow as tf\n",
    "from tqdm import tqdm"
   ]
  },
  {
   "cell_type": "code",
   "execution_count": 2,
   "metadata": {
    "collapsed": false
   },
   "outputs": [
    {
     "name": "stdout",
     "output_type": "stream",
     "text": [
      "0.12.0\n"
     ]
    }
   ],
   "source": [
    "print(tf.__version__)"
   ]
  },
  {
   "cell_type": "code",
   "execution_count": 3,
   "metadata": {
    "collapsed": true
   },
   "outputs": [],
   "source": [
    "from data import get_data"
   ]
  },
  {
   "cell_type": "code",
   "execution_count": 4,
   "metadata": {
    "collapsed": false
   },
   "outputs": [],
   "source": [
    "X_train, y_train, X_test, y_test = get_data(one_hot=True)"
   ]
  },
  {
   "cell_type": "code",
   "execution_count": 5,
   "metadata": {
    "collapsed": false
   },
   "outputs": [
    {
     "name": "stdout",
     "output_type": "stream",
     "text": [
      "115.481949803 65.2925375088\n"
     ]
    }
   ],
   "source": [
    "mean_of_train = np.mean(X_train)\n",
    "std_of_train = np.std(X_train)\n",
    "print(mean_of_train, std_of_train)"
   ]
  },
  {
   "cell_type": "code",
   "execution_count": 6,
   "metadata": {
    "collapsed": false
   },
   "outputs": [],
   "source": [
    "X_train = (X_train - mean_of_train) / std_of_train\n",
    "X_test = (X_test - mean_of_train) / std_of_train"
   ]
  },
  {
   "cell_type": "code",
   "execution_count": 7,
   "metadata": {
    "collapsed": false
   },
   "outputs": [
    {
     "name": "stdout",
     "output_type": "stream",
     "text": [
      "\n",
      "训练数据数量：20000\n",
      "高度:128\n",
      "宽度：128\n",
      "测试数据数量：3\n",
      "\n"
     ]
    }
   ],
   "source": [
    "train_len, width, height, channel = X_train.shape\n",
    "test_len = X_test.shape[0]\n",
    "print(\"\"\"\n",
    "训练数据数量：{}\n",
    "高度:{}\n",
    "宽度：{}\n",
    "测试数据数量：{}\n",
    "\"\"\".format(train_len, width, height, channel, test_len))"
   ]
  },
  {
   "cell_type": "code",
   "execution_count": 8,
   "metadata": {
    "collapsed": false
   },
   "outputs": [
    {
     "name": "stdout",
     "output_type": "stream",
     "text": [
      "target_size is 2\n"
     ]
    }
   ],
   "source": [
    "# 学习率\n",
    "learning_rate = 0.003\n",
    "# 迭代次数（批次）\n",
    "n_epoch = 10\n",
    "# 批次大小\n",
    "# 可能需要调小\n",
    "batch_size = 32\n",
    "# 露点\n",
    "leakiness=0.1\n",
    "# 输出大小\n",
    "target_size = y_train.shape[1]\n",
    "print('target_size is', target_size)"
   ]
  },
  {
   "cell_type": "code",
   "execution_count": 9,
   "metadata": {
    "collapsed": true
   },
   "outputs": [],
   "source": [
    "tf.set_random_seed(0)"
   ]
  },
  {
   "cell_type": "code",
   "execution_count": 10,
   "metadata": {
    "collapsed": true
   },
   "outputs": [],
   "source": [
    "# 输入占位符\n",
    "X = tf.placeholder(tf.float32, [batch_size, width, height, channel])\n",
    "# 输出占位符\n",
    "y = tf.placeholder(tf.float32, [batch_size, target_size])"
   ]
  },
  {
   "cell_type": "code",
   "execution_count": 11,
   "metadata": {
    "collapsed": true
   },
   "outputs": [],
   "source": [
    "def conv(input_layer, output_size, pitch_shape, name, strides=[1, 1, 1, 1], padding='VALID'):\n",
    "    \"\"\"卷积层\"\"\"\n",
    "    with tf.variable_scope(name):\n",
    "        shape = [\n",
    "            pitch_shape[0],\n",
    "            pitch_shape[1],\n",
    "            int(input_layer.get_shape()[-1]),\n",
    "            output_size\n",
    "        ]\n",
    "        kernel = tf.Variable(tf.random_normal(shape, stddev=np.sqrt(2.0 / (shape[0] + shape[1] + shape[3]))))\n",
    "        bias = tf.Variable(tf.zeros([shape[-1]]))\n",
    "        conv = tf.nn.bias_add(\n",
    "            tf.nn.conv2d(\n",
    "                input_layer, kernel, strides=strides, padding=padding\n",
    "            ),\n",
    "            bias\n",
    "        )\n",
    "        print(name, conv.get_shape())\n",
    "        return conv"
   ]
  },
  {
   "cell_type": "code",
   "execution_count": 12,
   "metadata": {
    "collapsed": true
   },
   "outputs": [],
   "source": [
    "def relu(x, leakiness=0.0):\n",
    "    \"\"\"Relu, with optional leaky support.\n",
    "    borrow from https://github.com/tensorflow/models/blob/master/resnet/resnet_main.py\n",
    "    \"\"\"\n",
    "    return tf.select(tf.less(x, 0.0), leakiness * x, x, name='leaky_relu')"
   ]
  },
  {
   "cell_type": "code",
   "execution_count": 13,
   "metadata": {
    "collapsed": true
   },
   "outputs": [],
   "source": [
    "def max_pool(input_layer, name, ksize=[1, 2, 2, 1], strides=[1, 2, 2, 1], padding='VALID'):\n",
    "    \"\"\"最大池化\"\"\"\n",
    "    mp = tf.nn.max_pool(input_layer, ksize=ksize, strides=strides, padding=padding)\n",
    "    print(name, 'output shape is', mp.get_shape())\n",
    "    return mp"
   ]
  },
  {
   "cell_type": "code",
   "execution_count": 14,
   "metadata": {
    "collapsed": true
   },
   "outputs": [],
   "source": [
    "model = X"
   ]
  },
  {
   "cell_type": "code",
   "execution_count": 15,
   "metadata": {
    "collapsed": false
   },
   "outputs": [
    {
     "name": "stdout",
     "output_type": "stream",
     "text": [
      "conv_1 (32, 62, 62, 64)\n"
     ]
    }
   ],
   "source": [
    "model = relu(conv(model, 64, (5, 5), 'conv_1', strides=(1, 2, 2, 1)), leakiness=leakiness)"
   ]
  },
  {
   "cell_type": "code",
   "execution_count": 16,
   "metadata": {
    "collapsed": false
   },
   "outputs": [
    {
     "name": "stdout",
     "output_type": "stream",
     "text": [
      "max_pool_1 output shape is (32, 31, 31, 64)\n"
     ]
    }
   ],
   "source": [
    "model = max_pool(model, 'max_pool_1')"
   ]
  },
  {
   "cell_type": "code",
   "execution_count": 17,
   "metadata": {
    "collapsed": false
   },
   "outputs": [
    {
     "name": "stdout",
     "output_type": "stream",
     "text": [
      "conv_3 (32, 14, 14, 128)\n"
     ]
    }
   ],
   "source": [
    "model = relu(conv(model, 128, (5, 5), 'conv_3', strides=(1, 2, 2, 1)), leakiness=leakiness)"
   ]
  },
  {
   "cell_type": "code",
   "execution_count": 18,
   "metadata": {
    "collapsed": false
   },
   "outputs": [
    {
     "name": "stdout",
     "output_type": "stream",
     "text": [
      "max_pool_2 output shape is (32, 7, 7, 128)\n"
     ]
    }
   ],
   "source": [
    "model = max_pool(model, 'max_pool_2')"
   ]
  },
  {
   "cell_type": "code",
   "execution_count": 19,
   "metadata": {
    "collapsed": false
   },
   "outputs": [
    {
     "name": "stdout",
     "output_type": "stream",
     "text": [
      "conv_5 (32, 5, 5, 256)\n"
     ]
    }
   ],
   "source": [
    "model = relu(conv(model, 256, (3, 3), 'conv_5'), leakiness=leakiness)"
   ]
  },
  {
   "cell_type": "code",
   "execution_count": 20,
   "metadata": {
    "collapsed": false
   },
   "outputs": [
    {
     "name": "stdout",
     "output_type": "stream",
     "text": [
      "max_pool_3 output shape is (32, 2, 2, 256)\n"
     ]
    }
   ],
   "source": [
    "model = max_pool(model, 'max_pool_3')"
   ]
  },
  {
   "cell_type": "code",
   "execution_count": 21,
   "metadata": {
    "collapsed": false
   },
   "outputs": [],
   "source": [
    "model = tf.reshape(model, [batch_size, -1])"
   ]
  },
  {
   "cell_type": "code",
   "execution_count": 22,
   "metadata": {
    "collapsed": false
   },
   "outputs": [
    {
     "name": "stdout",
     "output_type": "stream",
     "text": [
      "(32, 1024)\n",
      "dim is 1024\n"
     ]
    }
   ],
   "source": [
    "print(model.get_shape())\n",
    "dim = int(model.get_shape()[1])\n",
    "print('dim is {}'.format(dim))"
   ]
  },
  {
   "cell_type": "code",
   "execution_count": 23,
   "metadata": {
    "collapsed": true
   },
   "outputs": [],
   "source": [
    "def full_connect(input_layer, output_size, name, reuse=True):\n",
    "    \"\"\"全连接层\"\"\"\n",
    "    with tf.variable_scope(name):\n",
    "        shape = [int(input_layer.get_shape()[1]), output_size]\n",
    "        weight = tf.Variable(\n",
    "            tf.random_normal(shape, stddev=np.sqrt(2.0 / (shape[0] + shape[1])))\n",
    "        )\n",
    "        bias = tf.Variable(tf.zeros([shape[-1]]))\n",
    "        fc = tf.nn.bias_add(\n",
    "            tf.matmul(input_layer, weight),\n",
    "            bias\n",
    "        )\n",
    "        print(name, fc.get_shape())\n",
    "        return fc"
   ]
  },
  {
   "cell_type": "code",
   "execution_count": 24,
   "metadata": {
    "collapsed": false
   },
   "outputs": [],
   "source": [
    "def full_connect_with_bn(input_layer, output_size, name, reuse=True):\n",
    "    \"\"\"全连接层\"\"\"\n",
    "    with tf.variable_scope(name):\n",
    "        shape = [int(input_layer.get_shape()[1]), output_size]\n",
    "        weight = tf.Variable(\n",
    "            tf.random_normal(shape, stddev=np.sqrt(2.0 / (shape[0] + shape[1])))\n",
    "        )\n",
    "        beta = tf.Variable(tf.zeros([shape[-1]]))\n",
    "        scale = tf.Variable(tf.zeros([shape[-1]]))\n",
    "        z = tf.matmul(input_layer, weight)\n",
    "        # 一个很小的数，避免可能的除0错\n",
    "        epsilon = 1e-08\n",
    "        # 计算mean和variance\n",
    "        batch_mean, batch_var = tf.nn.moments(z, [0])\n",
    "        fc = tf.nn.batch_normalization(z, batch_mean, batch_var, beta, scale, epsilon)\n",
    "        print(name, fc.get_shape())\n",
    "        return fc"
   ]
  },
  {
   "cell_type": "code",
   "execution_count": 25,
   "metadata": {
    "collapsed": false
   },
   "outputs": [
    {
     "name": "stdout",
     "output_type": "stream",
     "text": [
      "fc_1 (32, 1024)\n"
     ]
    }
   ],
   "source": [
    "model = relu(full_connect_with_bn(model, 1024, 'fc_1'), leakiness=leakiness)"
   ]
  },
  {
   "cell_type": "code",
   "execution_count": 26,
   "metadata": {
    "collapsed": false
   },
   "outputs": [
    {
     "name": "stdout",
     "output_type": "stream",
     "text": [
      "fc_2 (32, 2)\n"
     ]
    }
   ],
   "source": [
    "model = full_connect(model, target_size, 'fc_2')"
   ]
  },
  {
   "cell_type": "code",
   "execution_count": 27,
   "metadata": {
    "collapsed": true
   },
   "outputs": [],
   "source": [
    "pred = model"
   ]
  },
  {
   "cell_type": "code",
   "execution_count": 28,
   "metadata": {
    "collapsed": true
   },
   "outputs": [],
   "source": [
    "cost = tf.reduce_mean(\n",
    "    tf.nn.softmax_cross_entropy_with_logits(\n",
    "        pred, y\n",
    "    )\n",
    ")"
   ]
  },
  {
   "cell_type": "code",
   "execution_count": 29,
   "metadata": {
    "collapsed": true
   },
   "outputs": [],
   "source": [
    "params = tf.trainable_variables()"
   ]
  },
  {
   "cell_type": "code",
   "execution_count": 30,
   "metadata": {
    "collapsed": true
   },
   "outputs": [],
   "source": [
    "gradients = tf.gradients(cost, params)"
   ]
  },
  {
   "cell_type": "code",
   "execution_count": 31,
   "metadata": {
    "collapsed": true
   },
   "outputs": [],
   "source": [
    "clipped_gradients, norm = tf.clip_by_global_norm(\n",
    "    gradients,\n",
    "    5.0\n",
    ")"
   ]
  },
  {
   "cell_type": "code",
   "execution_count": 32,
   "metadata": {
    "collapsed": false
   },
   "outputs": [],
   "source": [
    "opt = tf.train.AdamOptimizer(learning_rate=learning_rate)"
   ]
  },
  {
   "cell_type": "code",
   "execution_count": 33,
   "metadata": {
    "collapsed": true
   },
   "outputs": [],
   "source": [
    "train_step = opt.apply_gradients(zip(clipped_gradients, params))"
   ]
  },
  {
   "cell_type": "code",
   "execution_count": 34,
   "metadata": {
    "collapsed": true
   },
   "outputs": [],
   "source": [
    "correct_pred = tf.equal(tf.argmax(pred, 1), tf.argmax(y, 1))\n",
    "accuracy = tf.reduce_mean(tf.cast(correct_pred, tf.float32))"
   ]
  },
  {
   "cell_type": "code",
   "execution_count": 35,
   "metadata": {
    "collapsed": false
   },
   "outputs": [],
   "source": [
    "init = tf.global_variables_initializer()"
   ]
  },
  {
   "cell_type": "code",
   "execution_count": 36,
   "metadata": {
    "collapsed": true
   },
   "outputs": [],
   "source": [
    "def batch_flow(inputs, targets, batch_size):\n",
    "    \"\"\"流动数据流\"\"\"\n",
    "    flowed = 0\n",
    "    total = len(inputs)\n",
    "    while True:\n",
    "        X_ret = []\n",
    "        y_ret = []\n",
    "        for i in range(total):\n",
    "            X_ret.append(inputs[i])\n",
    "            y_ret.append([targets[i]])\n",
    "            if len(X_ret) == batch_size:\n",
    "                flowed += batch_size\n",
    "                X, y = np.array(X_ret), np.array(y_ret)\n",
    "                y = y.reshape([batch_size, -1])\n",
    "                yield X, y\n",
    "                X_ret = []\n",
    "                y_ret = []\n",
    "            if flowed >= total:\n",
    "                break\n",
    "        if flowed >= total:\n",
    "            break"
   ]
  },
  {
   "cell_type": "code",
   "execution_count": 37,
   "metadata": {
    "collapsed": false
   },
   "outputs": [
    {
     "name": "stdout",
     "output_type": "stream",
     "text": [
      "(32, 128, 128, 3) (32, 2)\n"
     ]
    }
   ],
   "source": [
    "for batch_x, batch_y in batch_flow(X_train, y_train, batch_size):\n",
    "    print(batch_x.shape, batch_y.shape)\n",
    "    break"
   ]
  },
  {
   "cell_type": "code",
   "execution_count": 38,
   "metadata": {
    "collapsed": false,
    "scrolled": false
   },
   "outputs": [
    {
     "name": "stderr",
     "output_type": "stream",
     "text": [
      "625it [00:12, 48.43it/s]0:00,  2.86it/s]\n",
      "  1%|          | 5/625 [00:00<00:12, 48.79it/s]"
     ]
    },
    {
     "name": "stdout",
     "output_type": "stream",
     "text": [
      "epoch: 0, loss: 0.5597, acc: 0.7091\n"
     ]
    },
    {
     "name": "stderr",
     "output_type": "stream",
     "text": [
      "100%|██████████| 625/625 [00:12<00:00, 50.09it/s] 3%|▎         | 16/625 [00:00<00:12, 49.20it/s]\n",
      "  1%|          | 5/625 [00:00<00:12, 48.16it/s]"
     ]
    },
    {
     "name": "stdout",
     "output_type": "stream",
     "text": [
      "epoch: 1, loss: 0.4260, acc: 0.8004\n"
     ]
    },
    {
     "name": "stderr",
     "output_type": "stream",
     "text": [
      "100%|██████████| 625/625 [00:12<00:00, 50.37it/s] 3%|▎         | 17/625 [00:00<00:12, 49.00it/s]\n",
      "  1%|          | 5/625 [00:00<00:12, 48.53it/s]"
     ]
    },
    {
     "name": "stdout",
     "output_type": "stream",
     "text": [
      "epoch: 2, loss: 0.3335, acc: 0.8544\n"
     ]
    },
    {
     "name": "stderr",
     "output_type": "stream",
     "text": [
      "100%|██████████| 625/625 [00:12<00:00, 50.74it/s] 3%|▎         | 16/625 [00:00<00:12, 48.89it/s]\n",
      "  1%|          | 5/625 [00:00<00:12, 47.83it/s]"
     ]
    },
    {
     "name": "stdout",
     "output_type": "stream",
     "text": [
      "epoch: 3, loss: 0.2445, acc: 0.8967\n"
     ]
    },
    {
     "name": "stderr",
     "output_type": "stream",
     "text": [
      "100%|██████████| 625/625 [00:12<00:00, 51.02it/s] 2%|▏         | 15/625 [00:00<00:12, 47.49it/s]\n",
      "  1%|          | 5/625 [00:00<00:12, 48.74it/s]"
     ]
    },
    {
     "name": "stdout",
     "output_type": "stream",
     "text": [
      "epoch: 4, loss: 0.1856, acc: 0.9219\n"
     ]
    },
    {
     "name": "stderr",
     "output_type": "stream",
     "text": [
      "100%|██████████| 625/625 [00:12<00:00, 51.36it/s] 3%|▎         | 16/625 [00:00<00:12, 49.21it/s]\n",
      "  1%|          | 5/625 [00:00<00:12, 49.39it/s]"
     ]
    },
    {
     "name": "stdout",
     "output_type": "stream",
     "text": [
      "epoch: 5, loss: 0.1406, acc: 0.9423\n"
     ]
    },
    {
     "name": "stderr",
     "output_type": "stream",
     "text": [
      "100%|██████████| 625/625 [00:12<00:00, 51.30it/s] 3%|▎         | 17/625 [00:00<00:12, 49.55it/s]\n",
      "  1%|          | 6/625 [00:00<00:12, 50.92it/s]"
     ]
    },
    {
     "name": "stdout",
     "output_type": "stream",
     "text": [
      "epoch: 6, loss: 0.1050, acc: 0.9595\n"
     ]
    },
    {
     "name": "stderr",
     "output_type": "stream",
     "text": [
      "100%|██████████| 625/625 [00:12<00:00, 50.77it/s] 3%|▎         | 17/625 [00:00<00:12, 50.32it/s]\n",
      "  1%|          | 5/625 [00:00<00:13, 47.47it/s]"
     ]
    },
    {
     "name": "stdout",
     "output_type": "stream",
     "text": [
      "epoch: 7, loss: 0.0806, acc: 0.9700\n"
     ]
    },
    {
     "name": "stderr",
     "output_type": "stream",
     "text": [
      "100%|██████████| 625/625 [00:12<00:00, 51.23it/s] 3%|▎         | 17/625 [00:00<00:12, 48.89it/s]\n",
      "  1%|          | 5/625 [00:00<00:12, 49.32it/s]"
     ]
    },
    {
     "name": "stdout",
     "output_type": "stream",
     "text": [
      "epoch: 8, loss: 0.0673, acc: 0.9739\n"
     ]
    },
    {
     "name": "stderr",
     "output_type": "stream",
     "text": [
      "100%|██████████| 625/625 [00:12<00:00, 51.40it/s] 3%|▎         | 16/625 [00:00<00:12, 49.48it/s]\n",
      "9it [00:00, 88.63it/s]"
     ]
    },
    {
     "name": "stdout",
     "output_type": "stream",
     "text": [
      "epoch: 9, loss: 0.0541, acc: 0.9796\n",
      "calculate test accuracy\n"
     ]
    },
    {
     "name": "stderr",
     "output_type": "stream",
     "text": [
      "157it [00:01, 96.74it/s]9it [00:00, 91.21it/s]"
     ]
    },
    {
     "name": "stdout",
     "output_type": "stream",
     "text": [
      "test loss: 0.9241, acc: 0.8014\n",
      "Done\n"
     ]
    },
    {
     "name": "stderr",
     "output_type": "stream",
     "text": [
      "\n"
     ]
    }
   ],
   "source": [
    "with tf.Session() as sess:\n",
    "    sess.run(init)\n",
    "    total = None\n",
    "    for epoch in range(n_epoch):\n",
    "        costs = []\n",
    "        accs = []\n",
    "        for batch_x, batch_y in tqdm(batch_flow(X_train, y_train, batch_size), total=total):\n",
    "            _, c, acc = sess.run([train_step, cost, accuracy], feed_dict={X: batch_x, y: batch_y})\n",
    "            costs.append(c)\n",
    "            accs.append(acc)\n",
    "        print('epoch: {}, loss: {:.4f}, acc: {:.4f}'.format(epoch, np.mean(costs), np.mean(accs)))\n",
    "        if total is None:\n",
    "            total = len(costs)\n",
    "    print('calculate test accuracy')\n",
    "    costs = []\n",
    "    accs = []\n",
    "    for batch_x, batch_y in tqdm(batch_flow(X_test, y_test, batch_size)):\n",
    "        c, acc = sess.run([cost, accuracy], feed_dict={X: batch_x, y: batch_y})\n",
    "        costs.append(c)\n",
    "        accs.append(acc)\n",
    "    print('test loss: {:.4f}, acc: {:.4f}'.format(np.mean(costs), np.mean(accs)))\n",
    "    print('Done')"
   ]
  },
  {
   "cell_type": "markdown",
   "metadata": {},
   "source": [
    "train:\n",
    "loss: 0.0541, acc: 0.9796\n",
    "\n",
    "test:\n",
    "loss: 0.9241, acc: 0.8014"
   ]
  },
  {
   "cell_type": "code",
   "execution_count": null,
   "metadata": {
    "collapsed": true
   },
   "outputs": [],
   "source": []
  }
 ],
 "metadata": {
  "kernelspec": {
   "display_name": "Python 3",
   "language": "python",
   "name": "python3"
  },
  "language_info": {
   "codemirror_mode": {
    "name": "ipython",
    "version": 3
   },
   "file_extension": ".py",
   "mimetype": "text/x-python",
   "name": "python",
   "nbconvert_exporter": "python",
   "pygments_lexer": "ipython3",
   "version": "3.5.2"
  }
 },
 "nbformat": 4,
 "nbformat_minor": 0
}
