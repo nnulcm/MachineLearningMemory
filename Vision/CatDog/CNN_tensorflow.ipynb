{
 "cells": [
  {
   "cell_type": "code",
   "execution_count": 1,
   "metadata": {
    "collapsed": true
   },
   "outputs": [],
   "source": [
    "import numpy as np\n",
    "from sklearn.metrics import accuracy_score, recall_score, f1_score\n",
    "from sklearn.preprocessing import Normalizer\n",
    "import tensorflow as tf\n",
    "from tqdm import tqdm"
   ]
  },
  {
   "cell_type": "code",
   "execution_count": 2,
   "metadata": {
    "collapsed": false
   },
   "outputs": [
    {
     "name": "stdout",
     "output_type": "stream",
     "text": [
      "0.12.0\n"
     ]
    }
   ],
   "source": [
    "print(tf.__version__)"
   ]
  },
  {
   "cell_type": "code",
   "execution_count": 3,
   "metadata": {
    "collapsed": true
   },
   "outputs": [],
   "source": [
    "tf.set_random_seed(0)"
   ]
  },
  {
   "cell_type": "code",
   "execution_count": 4,
   "metadata": {
    "collapsed": true
   },
   "outputs": [],
   "source": [
    "from data import get_data"
   ]
  },
  {
   "cell_type": "code",
   "execution_count": 5,
   "metadata": {
    "collapsed": true
   },
   "outputs": [],
   "source": [
    "X_train, y_train, X_test, y_test = get_data(one_hot=True)"
   ]
  },
  {
   "cell_type": "code",
   "execution_count": 6,
   "metadata": {
    "collapsed": false
   },
   "outputs": [
    {
     "name": "stdout",
     "output_type": "stream",
     "text": [
      "115.481949803 65.2925375088\n"
     ]
    }
   ],
   "source": [
    "mean_of_train = np.mean(X_train)\n",
    "std_of_train = np.std(X_train)\n",
    "print(mean_of_train, std_of_train)"
   ]
  },
  {
   "cell_type": "code",
   "execution_count": 7,
   "metadata": {
    "collapsed": true
   },
   "outputs": [],
   "source": [
    "X_train = (X_train - mean_of_train) / std_of_train\n",
    "X_test = (X_test - mean_of_train) / std_of_train"
   ]
  },
  {
   "cell_type": "code",
   "execution_count": 8,
   "metadata": {
    "collapsed": false
   },
   "outputs": [
    {
     "name": "stdout",
     "output_type": "stream",
     "text": [
      "(20000, 128, 128, 3) (20000, 2) (5000, 128, 128, 3) (5000, 2)\n"
     ]
    }
   ],
   "source": [
    "print(X_train.shape, y_train.shape, X_test.shape, y_test.shape)"
   ]
  },
  {
   "cell_type": "code",
   "execution_count": 9,
   "metadata": {
    "collapsed": false
   },
   "outputs": [
    {
     "name": "stdout",
     "output_type": "stream",
     "text": [
      "20000 128 128 3 5000\n"
     ]
    }
   ],
   "source": [
    "train_len, width, height, channel = X_train.shape\n",
    "test_len = X_test.shape[0]\n",
    "print(train_len, width, height, channel, test_len)"
   ]
  },
  {
   "cell_type": "code",
   "execution_count": 28,
   "metadata": {
    "collapsed": true
   },
   "outputs": [],
   "source": [
    "# 学习率\n",
    "learning_rate = 0.001\n",
    "# 迭代次数（批次）\n",
    "n_epoch = 10\n",
    "# 批次大小\n",
    "# 可能需要调小\n",
    "batch_size = 32"
   ]
  },
  {
   "cell_type": "code",
   "execution_count": 11,
   "metadata": {
    "collapsed": true
   },
   "outputs": [],
   "source": [
    "# 输入大小\n",
    "input_size = (width, height, channel)\n",
    "# 输出大小\n",
    "target_size = 2"
   ]
  },
  {
   "cell_type": "code",
   "execution_count": 12,
   "metadata": {
    "collapsed": true
   },
   "outputs": [],
   "source": [
    "# 输入占位符\n",
    "X = tf.placeholder(tf.float32, [batch_size, width, height, channel])\n",
    "# 输出占位符\n",
    "y = tf.placeholder(tf.float32, [batch_size, target_size])"
   ]
  },
  {
   "cell_type": "code",
   "execution_count": 13,
   "metadata": {
    "collapsed": true
   },
   "outputs": [],
   "source": [
    "def conv(input_layer, output_size, pitch_shape, name, strides=[1, 1, 1, 1], padding='VALID'):\n",
    "    with tf.variable_scope(name):\n",
    "        shape = [\n",
    "            pitch_shape[0],\n",
    "            pitch_shape[1],\n",
    "            int(input_layer.get_shape()[-1]),\n",
    "            output_size\n",
    "        ]\n",
    "        pitch = tf.Variable(tf.random_normal(shape))\n",
    "        bias = tf.Variable(tf.zeros([output_size]))\n",
    "        conv = tf.nn.bias_add(\n",
    "            tf.nn.conv2d(\n",
    "                input_layer, pitch, strides=strides, padding=padding\n",
    "            ),\n",
    "            bias\n",
    "        )\n",
    "        print(name, conv.get_shape())\n",
    "        return conv"
   ]
  },
  {
   "cell_type": "code",
   "execution_count": 14,
   "metadata": {
    "collapsed": true
   },
   "outputs": [],
   "source": [
    "def max_pool(input_layer, name, ksize=[1, 2, 2, 1], strides=[1, 2, 2, 1], padding='VALID'):\n",
    "    mp = tf.nn.max_pool(input_layer, ksize=ksize, strides=strides, padding=padding)\n",
    "    print(name, mp.get_shape())\n",
    "    return mp"
   ]
  },
  {
   "cell_type": "code",
   "execution_count": 15,
   "metadata": {
    "collapsed": true
   },
   "outputs": [],
   "source": [
    "model = X"
   ]
  },
  {
   "cell_type": "code",
   "execution_count": 16,
   "metadata": {
    "collapsed": false
   },
   "outputs": [
    {
     "name": "stdout",
     "output_type": "stream",
     "text": [
      "conv_1 (32, 63, 63, 64)\n"
     ]
    }
   ],
   "source": [
    "model = tf.nn.relu(conv(model, 64, (3, 3), 'conv_1', strides=(1, 2, 2, 1)))"
   ]
  },
  {
   "cell_type": "code",
   "execution_count": 17,
   "metadata": {
    "collapsed": false
   },
   "outputs": [
    {
     "name": "stdout",
     "output_type": "stream",
     "text": [
      "conv_2 (32, 61, 61, 64)\n"
     ]
    }
   ],
   "source": [
    "model = tf.nn.relu(conv(model, 64, (3, 3), 'conv_2'))"
   ]
  },
  {
   "cell_type": "code",
   "execution_count": 18,
   "metadata": {
    "collapsed": false
   },
   "outputs": [
    {
     "name": "stdout",
     "output_type": "stream",
     "text": [
      "max_pool_1 (32, 30, 30, 64)\n"
     ]
    }
   ],
   "source": [
    "model = max_pool(model, 'max_pool_1')"
   ]
  },
  {
   "cell_type": "code",
   "execution_count": 19,
   "metadata": {
    "collapsed": false
   },
   "outputs": [
    {
     "name": "stdout",
     "output_type": "stream",
     "text": [
      "conv_3 (32, 14, 14, 128)\n"
     ]
    }
   ],
   "source": [
    "model = tf.nn.relu(conv(model, 128, (3, 3), 'conv_3', strides=(1, 2, 2, 1)))"
   ]
  },
  {
   "cell_type": "code",
   "execution_count": 20,
   "metadata": {
    "collapsed": false
   },
   "outputs": [
    {
     "name": "stdout",
     "output_type": "stream",
     "text": [
      "conv_4 (32, 12, 12, 128)\n"
     ]
    }
   ],
   "source": [
    "model = tf.nn.relu(conv(model, 128, (3, 3), 'conv_4'))"
   ]
  },
  {
   "cell_type": "code",
   "execution_count": 21,
   "metadata": {
    "collapsed": false
   },
   "outputs": [
    {
     "name": "stdout",
     "output_type": "stream",
     "text": [
      "max_pool_2 (32, 6, 6, 128)\n"
     ]
    }
   ],
   "source": [
    "model = max_pool(model, 'max_pool_2')"
   ]
  },
  {
   "cell_type": "code",
   "execution_count": 22,
   "metadata": {
    "collapsed": false
   },
   "outputs": [
    {
     "name": "stdout",
     "output_type": "stream",
     "text": [
      "conv_5 (32, 4, 4, 256)\n"
     ]
    }
   ],
   "source": [
    "model = tf.nn.relu(conv(model, 256, (3, 3), 'conv_5'))"
   ]
  },
  {
   "cell_type": "code",
   "execution_count": 23,
   "metadata": {
    "collapsed": false
   },
   "outputs": [
    {
     "name": "stdout",
     "output_type": "stream",
     "text": [
      "conv_6 (32, 2, 2, 256)\n"
     ]
    }
   ],
   "source": [
    "model = tf.nn.relu(conv(model, 256, (3, 3), 'conv_6'))"
   ]
  },
  {
   "cell_type": "code",
   "execution_count": 24,
   "metadata": {
    "collapsed": false
   },
   "outputs": [
    {
     "name": "stdout",
     "output_type": "stream",
     "text": [
      "max_pool_3 (32, 1, 1, 256)\n"
     ]
    }
   ],
   "source": [
    "model = max_pool(model, 'max_pool_3')"
   ]
  },
  {
   "cell_type": "code",
   "execution_count": 25,
   "metadata": {
    "collapsed": false
   },
   "outputs": [],
   "source": [
    "model = tf.reshape(model, [batch_size, -1])"
   ]
  },
  {
   "cell_type": "code",
   "execution_count": 26,
   "metadata": {
    "collapsed": false
   },
   "outputs": [
    {
     "name": "stdout",
     "output_type": "stream",
     "text": [
      "(32, 256)\n",
      "dim is 256\n"
     ]
    }
   ],
   "source": [
    "print(model.get_shape())\n",
    "dim = int(model.get_shape()[1])\n",
    "print('dim is {}'.format(dim))"
   ]
  },
  {
   "cell_type": "code",
   "execution_count": 27,
   "metadata": {
    "collapsed": true
   },
   "outputs": [],
   "source": [
    "def full_connect(input_layer, output_size, name):\n",
    "    with tf.variable_scope(name):\n",
    "        weight = tf.Variable(tf.random_normal([int(input_layer.get_shape()[1]), output_size]))\n",
    "        bias = tf.Variable(tf.random_normal([output_size]))\n",
    "        fc = tf.add(\n",
    "            tf.matmul(input_layer, weight),\n",
    "            bias\n",
    "        )\n",
    "        print(name, fc.get_shape())\n",
    "        return fc"
   ]
  },
  {
   "cell_type": "code",
   "execution_count": 29,
   "metadata": {
    "collapsed": false
   },
   "outputs": [
    {
     "name": "stdout",
     "output_type": "stream",
     "text": [
      "fc_1 (32, 128)\n"
     ]
    }
   ],
   "source": [
    "model = full_connect(model, 128, 'fc_1')"
   ]
  },
  {
   "cell_type": "code",
   "execution_count": 30,
   "metadata": {
    "collapsed": false
   },
   "outputs": [
    {
     "name": "stdout",
     "output_type": "stream",
     "text": [
      "fc_2 (32, 2)\n"
     ]
    }
   ],
   "source": [
    "model = full_connect(model, target_size, 'fc_2')"
   ]
  },
  {
   "cell_type": "code",
   "execution_count": 31,
   "metadata": {
    "collapsed": true
   },
   "outputs": [],
   "source": [
    "pred = model"
   ]
  },
  {
   "cell_type": "code",
   "execution_count": 32,
   "metadata": {
    "collapsed": true
   },
   "outputs": [],
   "source": [
    "cost = tf.reduce_mean(\n",
    "    tf.nn.softmax_cross_entropy_with_logits(\n",
    "        pred, y\n",
    "    )\n",
    ")"
   ]
  },
  {
   "cell_type": "code",
   "execution_count": 33,
   "metadata": {
    "collapsed": false
   },
   "outputs": [],
   "source": [
    "opt = tf.train.AdamOptimizer(learning_rate=learning_rate).minimize(cost)"
   ]
  },
  {
   "cell_type": "code",
   "execution_count": 34,
   "metadata": {
    "collapsed": true
   },
   "outputs": [],
   "source": [
    "correct_pred = tf.equal(tf.argmax(pred, 1), tf.argmax(y, 1))\n",
    "accuracy = tf.reduce_mean(tf.cast(correct_pred, tf.float32))"
   ]
  },
  {
   "cell_type": "code",
   "execution_count": 35,
   "metadata": {
    "collapsed": false
   },
   "outputs": [],
   "source": [
    "init = tf.global_variables_initializer()"
   ]
  },
  {
   "cell_type": "code",
   "execution_count": 36,
   "metadata": {
    "collapsed": true
   },
   "outputs": [],
   "source": [
    "def batch_flow(inputs, targets, batch_size):\n",
    "    \"\"\"流动数据流\"\"\"\n",
    "    flowed = 0\n",
    "    total = len(inputs)\n",
    "    while True:\n",
    "        X_ret = []\n",
    "        y_ret = []\n",
    "        for i in range(total):\n",
    "            X_ret.append(inputs[i])\n",
    "            y_ret.append([targets[i]])\n",
    "            if len(X_ret) == batch_size:\n",
    "                flowed += batch_size\n",
    "                X, y = np.array(X_ret), np.array(y_ret)\n",
    "                y = y.reshape([batch_size, -1])\n",
    "                yield X, y\n",
    "                X_ret = []\n",
    "                y_ret = []\n",
    "            if flowed >= total:\n",
    "                break\n",
    "        if flowed >= total:\n",
    "            break"
   ]
  },
  {
   "cell_type": "code",
   "execution_count": 37,
   "metadata": {
    "collapsed": false
   },
   "outputs": [
    {
     "name": "stdout",
     "output_type": "stream",
     "text": [
      "(32, 128, 128, 3) (32, 2)\n"
     ]
    }
   ],
   "source": [
    "for batch_x, batch_y in batch_flow(X_train, y_train, batch_size):\n",
    "    print(batch_x.shape, batch_y.shape)\n",
    "    break"
   ]
  },
  {
   "cell_type": "code",
   "execution_count": 38,
   "metadata": {
    "collapsed": false,
    "scrolled": false
   },
   "outputs": [
    {
     "name": "stderr",
     "output_type": "stream",
     "text": [
      "625it [00:24, 25.66it/s]0:00,  1.35it/s]\n",
      "  0%|          | 3/625 [00:00<00:28, 21.63it/s]"
     ]
    },
    {
     "name": "stdout",
     "output_type": "stream",
     "text": [
      "epoch: 0, loss: 293604192.0000, acc: 0.5859\n"
     ]
    },
    {
     "name": "stderr",
     "output_type": "stream",
     "text": [
      "100%|██████████| 625/625 [00:23<00:00, 26.31it/s]1%|▏         | 9/625 [00:00<00:25, 24.24it/s]\n",
      "  0%|          | 3/625 [00:00<00:22, 27.71it/s]"
     ]
    },
    {
     "name": "stdout",
     "output_type": "stream",
     "text": [
      "epoch: 1, loss: 82572320.0000, acc: 0.6215\n"
     ]
    },
    {
     "name": "stderr",
     "output_type": "stream",
     "text": [
      "100%|██████████| 625/625 [00:22<00:00, 27.73it/s]1%|▏         | 9/625 [00:00<00:22, 27.75it/s]\n",
      "  0%|          | 3/625 [00:00<00:21, 28.49it/s]"
     ]
    },
    {
     "name": "stdout",
     "output_type": "stream",
     "text": [
      "epoch: 2, loss: 42740796.0000, acc: 0.6388\n"
     ]
    },
    {
     "name": "stderr",
     "output_type": "stream",
     "text": [
      "100%|██████████| 625/625 [00:22<00:00, 27.64it/s]1%|▏         | 9/625 [00:00<00:21, 28.23it/s]\n",
      "  0%|          | 3/625 [00:00<00:22, 27.98it/s]"
     ]
    },
    {
     "name": "stdout",
     "output_type": "stream",
     "text": [
      "epoch: 3, loss: 25839502.0000, acc: 0.6574\n"
     ]
    },
    {
     "name": "stderr",
     "output_type": "stream",
     "text": [
      "100%|██████████| 625/625 [00:23<00:00, 26.82it/s]1%|▏         | 9/625 [00:00<00:23, 26.50it/s]\n",
      "  0%|          | 3/625 [00:00<00:21, 28.60it/s]"
     ]
    },
    {
     "name": "stdout",
     "output_type": "stream",
     "text": [
      "epoch: 4, loss: 16491381.0000, acc: 0.6786\n"
     ]
    },
    {
     "name": "stderr",
     "output_type": "stream",
     "text": [
      "100%|██████████| 625/625 [00:22<00:00, 27.23it/s]1%|▏         | 9/625 [00:00<00:21, 28.35it/s]\n",
      "  0%|          | 3/625 [00:00<00:22, 27.40it/s]"
     ]
    },
    {
     "name": "stdout",
     "output_type": "stream",
     "text": [
      "epoch: 5, loss: 10757380.0000, acc: 0.7050\n"
     ]
    },
    {
     "name": "stderr",
     "output_type": "stream",
     "text": [
      "100%|██████████| 625/625 [00:22<00:00, 27.41it/s]1%|▏         | 9/625 [00:00<00:22, 27.76it/s]\n",
      "  0%|          | 3/625 [00:00<00:22, 28.26it/s]"
     ]
    },
    {
     "name": "stdout",
     "output_type": "stream",
     "text": [
      "epoch: 6, loss: 7047607.0000, acc: 0.7310\n"
     ]
    },
    {
     "name": "stderr",
     "output_type": "stream",
     "text": [
      "100%|██████████| 625/625 [00:23<00:00, 26.69it/s]1%|▏         | 9/625 [00:00<00:21, 28.09it/s]\n",
      "  0%|          | 3/625 [00:00<00:24, 25.54it/s]"
     ]
    },
    {
     "name": "stdout",
     "output_type": "stream",
     "text": [
      "epoch: 7, loss: 4740296.5000, acc: 0.7473\n"
     ]
    },
    {
     "name": "stderr",
     "output_type": "stream",
     "text": [
      "100%|██████████| 625/625 [00:23<00:00, 26.46it/s]1%|▏         | 9/625 [00:00<00:24, 25.49it/s]\n",
      "  0%|          | 3/625 [00:00<00:22, 28.22it/s]"
     ]
    },
    {
     "name": "stdout",
     "output_type": "stream",
     "text": [
      "epoch: 8, loss: 3198275.0000, acc: 0.7648\n"
     ]
    },
    {
     "name": "stderr",
     "output_type": "stream",
     "text": [
      "100%|██████████| 625/625 [00:22<00:00, 27.52it/s]1%|▏         | 9/625 [00:00<00:22, 27.89it/s]\n",
      "3it [00:00, 28.24it/s]"
     ]
    },
    {
     "name": "stdout",
     "output_type": "stream",
     "text": [
      "epoch: 9, loss: 2099150.7500, acc: 0.7854\n",
      "calculate test accuracy\n"
     ]
    },
    {
     "name": "stderr",
     "output_type": "stream",
     "text": [
      "157it [00:05, 27.63it/s]t [00:00, 27.89it/s]"
     ]
    },
    {
     "name": "stdout",
     "output_type": "stream",
     "text": [
      "test loss: 4672728.5000, acc: 0.6242\n",
      "Done\n"
     ]
    },
    {
     "name": "stderr",
     "output_type": "stream",
     "text": [
      "\n"
     ]
    }
   ],
   "source": [
    "with tf.Session() as sess:\n",
    "    sess.run(init)\n",
    "    total = None\n",
    "    for epoch in range(n_epoch):\n",
    "        costs = []\n",
    "        accs = []\n",
    "        for batch_x, batch_y in tqdm(batch_flow(X_train, y_train, batch_size), total=total):\n",
    "            sess.run(opt, feed_dict={X: batch_x, y: batch_y})\n",
    "            c, acc = sess.run([cost, accuracy], feed_dict={X: batch_x, y: batch_y})\n",
    "            costs.append(c)\n",
    "            accs.append(acc)\n",
    "        print('epoch: {}, loss: {:.4f}, acc: {:.4f}'.format(epoch, np.mean(costs), np.mean(accs)))\n",
    "        if total is None:\n",
    "            total = len(costs)\n",
    "    print('calculate test accuracy')\n",
    "    costs = []\n",
    "    accs = []\n",
    "    for batch_x, batch_y in tqdm(batch_flow(X_test, y_test, batch_size)):\n",
    "        sess.run(opt, feed_dict={X: batch_x, y: batch_y})\n",
    "        c, acc = sess.run([cost, accuracy], feed_dict={X: batch_x, y: batch_y})\n",
    "        costs.append(c)\n",
    "        accs.append(acc)\n",
    "    print('test loss: {:.4f}, acc: {:.4f}'.format(np.mean(costs), np.mean(accs)))\n",
    "    print('Done')"
   ]
  },
  {
   "cell_type": "markdown",
   "metadata": {},
   "source": [
    "懒得调……"
   ]
  }
 ],
 "metadata": {
  "kernelspec": {
   "display_name": "Python 3",
   "language": "python",
   "name": "python3"
  },
  "language_info": {
   "codemirror_mode": {
    "name": "ipython",
    "version": 3
   },
   "file_extension": ".py",
   "mimetype": "text/x-python",
   "name": "python",
   "nbconvert_exporter": "python",
   "pygments_lexer": "ipython3",
   "version": "3.5.2"
  }
 },
 "nbformat": 4,
 "nbformat_minor": 0
}
